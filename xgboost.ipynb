{
 "cells": [
  {
   "cell_type": "code",
   "execution_count": 61,
   "metadata": {
    "collapsed": false
   },
   "outputs": [],
   "source": [
    "import numpy as np\n",
    "import pandas as pd\n",
    "from sklearn.externals import joblib\n",
    "from sklearn.preprocessing import LabelEncoder\n",
    "from xgboost import XGBClassifier\n",
    "import xgboost as xgb\n",
    "from sklearn.preprocessing import OneHotEncoder\n",
    "from sklearn.preprocessing import Normalizer\n",
    "from sklearn.cross_validation import train_test_split\n",
    "import time"
   ]
  },
  {
   "cell_type": "code",
   "execution_count": 62,
   "metadata": {
    "collapsed": true
   },
   "outputs": [],
   "source": [
    "# Path to the pickle files\n",
    "PKL_DIR = 'Data/pickle'\n",
    "CSV_DIR = 'Data'\n",
    "\n",
    "# File names\n",
    "train_f = '/train_merged2_without17304.pkl'\n",
    "test_f = '/test_merged2_without17304.pkl'"
   ]
  },
  {
   "cell_type": "code",
   "execution_count": 63,
   "metadata": {
    "collapsed": true
   },
   "outputs": [],
   "source": [
    "# Non feature\n",
    "NON_FEATURE=['activity_id','people_id','date','people_date','char_10','outcome', 'outcome_leak','outcome_filled']\n",
    "\n",
    "# Categorical data that is only label encoded\n",
    "CATEGORICAL_DATA = ['people_char_1', 'people_char_2','people_group_1',\n",
    "                    'people_char_3', 'people_char_4', 'people_char_5',\n",
    "                    'people_char_6', 'people_char_7', 'people_char_8',\n",
    "                    'people_char_9', 'activity_category',\n",
    "                    'char_1', 'char_2', 'char_3', 'char_4', 'char_5', 'char_6',\n",
    "                    'char_7', 'char_8', 'char_9']\n",
    "\n",
    "# Already in a one-hot encoded form\n",
    "CATEGORICAL_BINARY = ['people_char_10', 'people_char_11', 'people_char_12',\n",
    "                      'people_char_13', 'people_char_14', 'people_char_15',\n",
    "                      'people_char_16', 'people_char_17', 'people_char_18',\n",
    "                      'people_char_19', 'people_char_20', 'people_char_21',\n",
    "                      'people_char_22', 'people_char_23', 'people_char_24',\n",
    "                      'people_char_25', 'people_char_26', 'people_char_27',\n",
    "                      'people_char_28', 'people_char_29', 'people_char_30',\n",
    "                      'people_char_31', 'people_char_32', 'people_char_33',\n",
    "                      'people_char_34', 'people_char_35', 'people_char_36',\n",
    "                      'people_char_37','weekend','people_weekend' ]\n",
    "\n",
    "# Continuous categories\n",
    "CONT = ['people_days', 'days',\n",
    "      'people_month',  'month', \n",
    "      'people_quarter', 'quarter',\n",
    "      'people_week', 'week',\n",
    "      'people_dayOfMonth', 'dayOfMonth',\n",
    "      'people_year', 'year',\n",
    "      'people_char_38','activities_per_group_date',\n",
    "      'adays_till_activity',\n",
    "      'diff_date',\n",
    "      'next_outcome',\n",
    "      'outcome_filled_nona',\n",
    "      'pdays_till_activity',\n",
    "      'people_per_group',\n",
    "      'people_per_group_date',\n",
    "      'prev_outcome',\n",
    "       'worked_for_day','gp_all0', 'gp_all1', 'gp_mixed']"
   ]
  },
  {
   "cell_type": "code",
   "execution_count": 64,
   "metadata": {
    "collapsed": true
   },
   "outputs": [],
   "source": [
    "def category_to_one_hot(dataset, non_feature, continuous_feature):\n",
    "    # Function to change labels of categories to one-hot encoding using scikit's OneHot Encoding sparse matrix\n",
    "    # pd.get_dummies(df) does the same, provides sweet header's as well but it kill's memory\n",
    "    ds = dataset.drop(non_feature, axis=1)\n",
    "    boolean_column = []\n",
    "    counter = 0\n",
    "    for column in ds.columns:\n",
    "        if column not in continuous_feature:\n",
    "            boolean_column.append(counter)\n",
    "        counter += 1\n",
    "    # boolean_column is not the column name but index\n",
    "    print(\"Done filtering columns...\")\n",
    "    grd_enc = OneHotEncoder(categorical_features=boolean_column)\n",
    "    encoded_arr = grd_enc.fit_transform(ds)\n",
    "    return encoded_arr"
   ]
  },
  {
   "cell_type": "code",
   "execution_count": 65,
   "metadata": {
    "collapsed": false
   },
   "outputs": [],
   "source": [
    "# Read all\n",
    "train = pd.read_pickle(PKL_DIR+train_f)\n",
    "test = pd.read_pickle(PKL_DIR+test_f)"
   ]
  },
  {
   "cell_type": "code",
   "execution_count": 66,
   "metadata": {
    "collapsed": false
   },
   "outputs": [],
   "source": [
    "v_out=train['outcome']"
   ]
  },
  {
   "cell_type": "code",
   "execution_count": 67,
   "metadata": {
    "collapsed": true
   },
   "outputs": [],
   "source": [
    "# test = test.fillna(0)"
   ]
  },
  {
   "cell_type": "code",
   "execution_count": 68,
   "metadata": {
    "collapsed": false
   },
   "outputs": [
    {
     "name": "stdout",
     "output_type": "stream",
     "text": [
      "Done filtering columns...\n",
      "21.8013358116\n"
     ]
    }
   ],
   "source": [
    "# Function to one hot encode all values ~ 120 secs\n",
    "start=time.time()\n",
    "arr=category_to_one_hot(train,NON_FEATURE,CONT+CATEGORICAL_BINARY)\n",
    "end=time.time()\n",
    "print(end-start)"
   ]
  },
  {
   "cell_type": "code",
   "execution_count": 69,
   "metadata": {
    "collapsed": false
   },
   "outputs": [
    {
     "name": "stdout",
     "output_type": "stream",
     "text": [
      "Done filtering columns...\n",
      "4.40784406662\n"
     ]
    }
   ],
   "source": [
    "start=time.time()\n",
    "arr_b=category_to_one_hot(test,NON_FEATURE,CONT+CATEGORICAL_BINARY)\n",
    "end=time.time()\n",
    "print(end-start)"
   ]
  },
  {
   "cell_type": "code",
   "execution_count": 70,
   "metadata": {
    "collapsed": false
   },
   "outputs": [
    {
     "name": "stdout",
     "output_type": "stream",
     "text": [
      "(1398166, 7664)\n",
      "(333084, 7664)\n",
      "(1398166,)\n"
     ]
    }
   ],
   "source": [
    "print (arr.shape)\n",
    "print (arr_b.shape)\n",
    "print (v_out.shape)"
   ]
  },
  {
   "cell_type": "code",
   "execution_count": 71,
   "metadata": {
    "collapsed": true
   },
   "outputs": [],
   "source": [
    "train_arr = arr.shape\n",
    "test_arr = arr_b.shape"
   ]
  },
  {
   "cell_type": "code",
   "execution_count": 72,
   "metadata": {
    "collapsed": true
   },
   "outputs": [],
   "source": [
    "dtrain = xgb.DMatrix(arr,label=v_out)\n",
    "dtest = xgb.DMatrix(arr_b)"
   ]
  },
  {
   "cell_type": "code",
   "execution_count": 13,
   "metadata": {
    "collapsed": false,
    "scrolled": true
   },
   "outputs": [
    {
     "name": "stdout",
     "output_type": "stream",
     "text": [
      "[0]\ttrain-auc:0.999856\n",
      "Will train until train-auc hasn't improved in 10 rounds.\n",
      "[1]\ttrain-auc:0.999863\n",
      "[2]\ttrain-auc:0.999864\n",
      "[3]\ttrain-auc:0.999866\n",
      "[4]\ttrain-auc:0.999867\n",
      "[5]\ttrain-auc:0.999867\n",
      "[6]\ttrain-auc:0.999867\n",
      "[7]\ttrain-auc:0.999939\n",
      "[8]\ttrain-auc:0.99994\n",
      "[9]\ttrain-auc:0.999941\n",
      "[10]\ttrain-auc:0.999942\n",
      "[11]\ttrain-auc:0.999943\n",
      "[12]\ttrain-auc:0.999928\n",
      "[13]\ttrain-auc:0.99993\n",
      "[14]\ttrain-auc:0.999932\n",
      "[15]\ttrain-auc:0.999924\n",
      "[16]\ttrain-auc:0.999925\n",
      "[17]\ttrain-auc:0.999934\n",
      "[18]\ttrain-auc:0.999935\n",
      "[19]\ttrain-auc:0.999937\n",
      "[20]\ttrain-auc:0.999939\n",
      "[21]\ttrain-auc:0.99994\n",
      "Stopping. Best iteration:\n",
      "[11]\ttrain-auc:0.999943\n",
      "\n"
     ]
    }
   ],
   "source": [
    "# Trial. Run instead of above three \n",
    "param = {'max_depth':18, 'eta':0.02, 'silent':1, 'objective':'binary:logistic' }\n",
    "param['nthread'] = 4\n",
    "param['eval_metric'] = 'auc'\n",
    "param['subsample'] = 0.6\n",
    "param['colsample_bytree']= 0.7\n",
    "param['min_child_weight'] = 2\n",
    "param['booster'] = \"gbtree\"\n",
    "\n",
    "# param = {'max_depth':18, 'eta':0.02, 'silent':1, 'objective':'binary:logistic' }\n",
    "# param['nthread'] = 4\n",
    "# param['eval_metric'] = 'auc'\n",
    "# param['subsample'] = 0.7\n",
    "# param['colsample_bytree']= 0.7\n",
    "# param['min_child_weight'] = 2\n",
    "# param['booster'] = \"gbtree\"\n",
    "# param['reg_alpha'] = 0.001\n",
    "\n",
    "watchlist  = [(dtrain,'train')]\n",
    "num_round = 300\n",
    "early_stopping_rounds=10\n",
    "\n",
    "bst = xgb.train(param, dtrain, num_round, watchlist,early_stopping_rounds=early_stopping_rounds)\n"
   ]
  },
  {
   "cell_type": "code",
   "execution_count": 14,
   "metadata": {
    "collapsed": false
   },
   "outputs": [],
   "source": [
    "ypred = bst.predict(dtest)"
   ]
  },
  {
   "cell_type": "code",
   "execution_count": 73,
   "metadata": {
    "collapsed": false
   },
   "outputs": [
    {
     "name": "stdout",
     "output_type": "stream",
     "text": [
      "[0]\ttrain-auc:0.99438\n",
      "Will train until train-auc hasn't improved in 10 rounds.\n",
      "[1]\ttrain-auc:0.994491\n",
      "[2]\ttrain-auc:0.996374\n",
      "[3]\ttrain-auc:0.995363\n",
      "[4]\ttrain-auc:0.992824\n",
      "[5]\ttrain-auc:0.998119\n",
      "[6]\ttrain-auc:0.999126\n",
      "[7]\ttrain-auc:0.998624\n",
      "[8]\ttrain-auc:0.99905\n",
      "[9]\ttrain-auc:0.999621\n",
      "[10]\ttrain-auc:0.999783\n",
      "[11]\ttrain-auc:0.999835\n",
      "[12]\ttrain-auc:0.99982\n",
      "[13]\ttrain-auc:0.999786\n",
      "[14]\ttrain-auc:0.999743\n",
      "[15]\ttrain-auc:0.999721\n",
      "[16]\ttrain-auc:0.999778\n",
      "[17]\ttrain-auc:0.999793\n",
      "[18]\ttrain-auc:0.9998\n",
      "[19]\ttrain-auc:0.999822\n",
      "[20]\ttrain-auc:0.999804\n",
      "[21]\ttrain-auc:0.999788\n",
      "Stopping. Best iteration:\n",
      "[11]\ttrain-auc:0.999835\n",
      "\n"
     ]
    }
   ],
   "source": [
    "#Trial. Run instead of above three \n",
    "param = {'max_depth':6, 'eta':0.02, 'silent':1, 'objective':'binary:logistic' }\n",
    "param['nthread'] = 4\n",
    "param['eval_metric'] = 'auc'\n",
    "param['subsample'] = 0.5\n",
    "param['colsample_bytree']= 0.3\n",
    "param['min_child_weight'] = 2\n",
    "param['booster'] = \"gbtree\"\n",
    "\n",
    "watchlist  = [(dtrain,'train')]\n",
    "num_round = 300\n",
    "early_stopping_rounds=10\n",
    "\n",
    "bst = xgb.train(param, dtrain, num_round, watchlist,early_stopping_rounds=early_stopping_rounds)"
   ]
  },
  {
   "cell_type": "code",
   "execution_count": 74,
   "metadata": {
    "collapsed": true
   },
   "outputs": [],
   "source": [
    "ypred2=bst.predict(dtest)"
   ]
  },
  {
   "cell_type": "code",
   "execution_count": 42,
   "metadata": {
    "collapsed": false
   },
   "outputs": [
    {
     "name": "stdout",
     "output_type": "stream",
     "text": [
      "[0]\ttrain-auc:0.999838\n",
      "Will train until train-auc hasn't improved in 10 rounds.\n",
      "[1]\ttrain-auc:0.999418\n",
      "[2]\ttrain-auc:0.999745\n",
      "[3]\ttrain-auc:0.999615\n",
      "[4]\ttrain-auc:0.999774\n",
      "[5]\ttrain-auc:0.999747\n",
      "[6]\ttrain-auc:0.999705\n",
      "[7]\ttrain-auc:0.999795\n",
      "[8]\ttrain-auc:0.999827\n",
      "[9]\ttrain-auc:0.999899\n",
      "[10]\ttrain-auc:0.999872\n",
      "[11]\ttrain-auc:0.999863\n",
      "[12]\ttrain-auc:0.999875\n",
      "[13]\ttrain-auc:0.999879\n",
      "[14]\ttrain-auc:0.99987\n",
      "[15]\ttrain-auc:0.999893\n",
      "[16]\ttrain-auc:0.999887\n",
      "[17]\ttrain-auc:0.999895\n",
      "[18]\ttrain-auc:0.999899\n",
      "[19]\ttrain-auc:0.999903\n",
      "[20]\ttrain-auc:0.9999\n",
      "[21]\ttrain-auc:0.999889\n",
      "[22]\ttrain-auc:0.99988\n",
      "[23]\ttrain-auc:0.999881\n",
      "[24]\ttrain-auc:0.999886\n",
      "[25]\ttrain-auc:0.999873\n",
      "[26]\ttrain-auc:0.999877\n",
      "[27]\ttrain-auc:0.999879\n",
      "[28]\ttrain-auc:0.999883\n",
      "[29]\ttrain-auc:0.999872\n",
      "Stopping. Best iteration:\n",
      "[19]\ttrain-auc:0.999903\n",
      "\n"
     ]
    }
   ],
   "source": [
    "#Trial. Run instead of above three \n",
    "param = {'max_depth':5, 'eta':0.02, 'silent':1, 'objective':'binary:logistic' }\n",
    "param['nthread'] = 4\n",
    "param['eval_metric'] = 'auc'\n",
    "param['subsample'] = 0.6\n",
    "param['colsample_bytree']= 0.3\n",
    "param['min_child_weight'] = 2\n",
    "param['booster'] = \"gbtree\"\n",
    "\n",
    "watchlist  = [(dtrain,'train')]\n",
    "num_round = 300\n",
    "early_stopping_rounds=10\n",
    "\n",
    "bst = xgb.train(param, dtrain, num_round, watchlist,early_stopping_rounds=early_stopping_rounds)"
   ]
  },
  {
   "cell_type": "code",
   "execution_count": 43,
   "metadata": {
    "collapsed": true
   },
   "outputs": [],
   "source": [
    "ypred3=bst.predict(dtest)"
   ]
  },
  {
   "cell_type": "code",
   "execution_count": 48,
   "metadata": {
    "collapsed": false
   },
   "outputs": [
    {
     "name": "stdout",
     "output_type": "stream",
     "text": [
      "[0]\ttrain-auc:0.999853\n",
      "Will train until train-auc hasn't improved in 10 rounds.\n",
      "[1]\ttrain-auc:0.99986\n",
      "[2]\ttrain-auc:0.999924\n",
      "[3]\ttrain-auc:0.999931\n",
      "[4]\ttrain-auc:0.999935\n",
      "[5]\ttrain-auc:0.999938\n",
      "[6]\ttrain-auc:0.999942\n",
      "[7]\ttrain-auc:0.999943\n",
      "[8]\ttrain-auc:0.999945\n",
      "[9]\ttrain-auc:0.999944\n",
      "[10]\ttrain-auc:0.999946\n",
      "[11]\ttrain-auc:0.999942\n",
      "[12]\ttrain-auc:0.999944\n",
      "[13]\ttrain-auc:0.999943\n",
      "[14]\ttrain-auc:0.999944\n",
      "[15]\ttrain-auc:0.999944\n",
      "[16]\ttrain-auc:0.999942\n",
      "[17]\ttrain-auc:0.999942\n",
      "[18]\ttrain-auc:0.999943\n",
      "[19]\ttrain-auc:0.999944\n",
      "[20]\ttrain-auc:0.999945\n",
      "Stopping. Best iteration:\n",
      "[10]\ttrain-auc:0.999946\n",
      "\n"
     ]
    }
   ],
   "source": [
    "#Trial. Run instead of above three \n",
    "param = {'max_depth':7, 'eta':0.02, 'silent':1, 'objective':'binary:logistic' }\n",
    "param['nthread'] = 4\n",
    "param['eval_metric'] = 'auc'\n",
    "param['subsample'] = 0.7\n",
    "param['colsample_bytree']= 0.7\n",
    "param['min_child_weight'] = 2\n",
    "param['booster'] = \"gbtree\"\n",
    "\n",
    "watchlist  = [(dtrain,'train')]\n",
    "num_round = 300\n",
    "early_stopping_rounds=10\n",
    "\n",
    "bst = xgb.train(param, dtrain, num_round, watchlist,early_stopping_rounds=early_stopping_rounds)"
   ]
  },
  {
   "cell_type": "code",
   "execution_count": 49,
   "metadata": {
    "collapsed": true
   },
   "outputs": [],
   "source": [
    "ypred4=bst.predict(dtest)"
   ]
  },
  {
   "cell_type": "code",
   "execution_count": 93,
   "metadata": {
    "collapsed": false
   },
   "outputs": [
    {
     "name": "stdout",
     "output_type": "stream",
     "text": [
      "[0]\ttrain-auc:0.99984\n",
      "Will train until train-auc hasn't improved in 10 rounds.\n",
      "[1]\ttrain-auc:0.999913\n",
      "[2]\ttrain-auc:0.999903\n",
      "[3]\ttrain-auc:0.999856\n",
      "[4]\ttrain-auc:0.99991\n",
      "[5]\ttrain-auc:0.999846\n",
      "[6]\ttrain-auc:0.999869\n",
      "[7]\ttrain-auc:0.999888\n",
      "[8]\ttrain-auc:0.999898\n",
      "[9]\ttrain-auc:0.999932\n",
      "[10]\ttrain-auc:0.999912\n",
      "[11]\ttrain-auc:0.999912\n",
      "[12]\ttrain-auc:0.999918\n",
      "[13]\ttrain-auc:0.999919\n",
      "[14]\ttrain-auc:0.999921\n",
      "[15]\ttrain-auc:0.999922\n",
      "[16]\ttrain-auc:0.99993\n",
      "[17]\ttrain-auc:0.999932\n",
      "[18]\ttrain-auc:0.999934\n",
      "[19]\ttrain-auc:0.999936\n",
      "[20]\ttrain-auc:0.999936\n",
      "[21]\ttrain-auc:0.999937\n",
      "[22]\ttrain-auc:0.999934\n",
      "[23]\ttrain-auc:0.999934\n",
      "[24]\ttrain-auc:0.999936\n",
      "[25]\ttrain-auc:0.999928\n",
      "[26]\ttrain-auc:0.99993\n",
      "[27]\ttrain-auc:0.999933\n",
      "[28]\ttrain-auc:0.999936\n",
      "[29]\ttrain-auc:0.999929\n",
      "[30]\ttrain-auc:0.999931\n",
      "[31]\ttrain-auc:0.999933\n",
      "Stopping. Best iteration:\n",
      "[21]\ttrain-auc:0.999937\n",
      "\n"
     ]
    }
   ],
   "source": [
    "#Trial. Run instead of above three \n",
    "param = {'max_depth':12, 'eta':0.02, 'silent':1, 'objective':'binary:logistic' }\n",
    "param['nthread'] = 4\n",
    "param['eval_metric'] = 'auc'\n",
    "param['subsample'] = 0.4\n",
    "param['colsample_bytree']= 0.5\n",
    "param['min_child_weight'] = 2\n",
    "param['booster'] = \"gbtree\"\n",
    "\n",
    "watchlist  = [(dtrain,'train')]\n",
    "num_round = 300\n",
    "early_stopping_rounds=10\n",
    "\n",
    "bst = xgb.train(param, dtrain, num_round, watchlist,early_stopping_rounds=early_stopping_rounds)"
   ]
  },
  {
   "cell_type": "code",
   "execution_count": 94,
   "metadata": {
    "collapsed": true
   },
   "outputs": [],
   "source": [
    "ypred5=bst.predict(dtest)"
   ]
  },
  {
   "cell_type": "code",
   "execution_count": 56,
   "metadata": {
    "collapsed": false
   },
   "outputs": [
    {
     "name": "stdout",
     "output_type": "stream",
     "text": [
      "[0]\ttrain-auc:0.999853\n",
      "Will train until train-auc hasn't improved in 10 rounds.\n",
      "[1]\ttrain-auc:0.999861\n",
      "[2]\ttrain-auc:0.999925\n",
      "[3]\ttrain-auc:0.999933\n",
      "[4]\ttrain-auc:0.999937\n",
      "[5]\ttrain-auc:0.99994\n",
      "[6]\ttrain-auc:0.999944\n",
      "[7]\ttrain-auc:0.999946\n",
      "[8]\ttrain-auc:0.999947\n",
      "[9]\ttrain-auc:0.999946\n",
      "[10]\ttrain-auc:0.999948\n",
      "[11]\ttrain-auc:0.999945\n",
      "[12]\ttrain-auc:0.999946\n",
      "[13]\ttrain-auc:0.999946\n",
      "[14]\ttrain-auc:0.999947\n",
      "[15]\ttrain-auc:0.999946\n",
      "[16]\ttrain-auc:0.999945\n",
      "[17]\ttrain-auc:0.999944\n",
      "[18]\ttrain-auc:0.999946\n",
      "[19]\ttrain-auc:0.999947\n",
      "[20]\ttrain-auc:0.999948\n",
      "Stopping. Best iteration:\n",
      "[10]\ttrain-auc:0.999948\n",
      "\n"
     ]
    }
   ],
   "source": [
    "#Trial. Run instead of above three \n",
    "param = {'max_depth':8, 'eta':0.02, 'silent':1, 'objective':'binary:logistic' }\n",
    "param['nthread'] = 4\n",
    "param['eval_metric'] = 'auc'\n",
    "param['subsample'] = 0.6\n",
    "param['colsample_bytree']= 0.7\n",
    "param['min_child_weight'] = 2\n",
    "param['booster'] = \"gbtree\"\n",
    "\n",
    "watchlist  = [(dtrain,'train')]\n",
    "num_round = 300\n",
    "early_stopping_rounds=10\n",
    "\n",
    "bst = xgb.train(param, dtrain, num_round, watchlist,early_stopping_rounds=early_stopping_rounds)"
   ]
  },
  {
   "cell_type": "code",
   "execution_count": 57,
   "metadata": {
    "collapsed": true
   },
   "outputs": [],
   "source": [
    "ypred6=bst.predict(dtest)"
   ]
  },
  {
   "cell_type": "code",
   "execution_count": 61,
   "metadata": {
    "collapsed": false
   },
   "outputs": [
    {
     "name": "stdout",
     "output_type": "stream",
     "text": [
      "[0]\ttrain-auc:0.999853\n",
      "Will train until train-auc hasn't improved in 10 rounds.\n",
      "[1]\ttrain-auc:0.999861\n",
      "[2]\ttrain-auc:0.999926\n",
      "[3]\ttrain-auc:0.999935\n",
      "[4]\ttrain-auc:0.999938\n",
      "[5]\ttrain-auc:0.999941\n",
      "[6]\ttrain-auc:0.999944\n",
      "[7]\ttrain-auc:0.999946\n",
      "[8]\ttrain-auc:0.999947\n",
      "[9]\ttrain-auc:0.999947\n",
      "[10]\ttrain-auc:0.999949\n",
      "[11]\ttrain-auc:0.999945\n",
      "[12]\ttrain-auc:0.999947\n",
      "[13]\ttrain-auc:0.999946\n",
      "[14]\ttrain-auc:0.999948\n",
      "[15]\ttrain-auc:0.999947\n",
      "[16]\ttrain-auc:0.999947\n",
      "[17]\ttrain-auc:0.999946\n",
      "[18]\ttrain-auc:0.999947\n",
      "[19]\ttrain-auc:0.999948\n",
      "[20]\ttrain-auc:0.999949\n",
      "Stopping. Best iteration:\n",
      "[10]\ttrain-auc:0.999949\n",
      "\n"
     ]
    }
   ],
   "source": [
    "#Trial. Run instead of above three \n",
    "#Trial. Run instead of above three \n",
    "param = {'max_depth':9, 'eta':0.02, 'silent':1, 'objective':'binary:logistic' }\n",
    "param['nthread'] = 4\n",
    "param['eval_metric'] = 'auc'\n",
    "param['subsample'] = 0.5\n",
    "param['colsample_bytree']= 0.7\n",
    "param['min_child_weight'] = 2\n",
    "param['booster'] = \"gbtree\"\n",
    "\n",
    "watchlist  = [(dtrain,'train')]\n",
    "num_round = 300\n",
    "early_stopping_rounds=10\n",
    "watchlist  = [(dtrain,'train')]\n",
    "num_round = 300\n",
    "early_stopping_rounds=10\n",
    "\n",
    "bst = xgb.train(param, dtrain, num_round, watchlist,early_stopping_rounds=early_stopping_rounds)"
   ]
  },
  {
   "cell_type": "code",
   "execution_count": 62,
   "metadata": {
    "collapsed": true
   },
   "outputs": [],
   "source": [
    "ypred7=bst.predict(dtest)"
   ]
  },
  {
   "cell_type": "code",
   "execution_count": 66,
   "metadata": {
    "collapsed": false
   },
   "outputs": [
    {
     "name": "stdout",
     "output_type": "stream",
     "text": [
      "[0]\ttrain-auc:0.999854\n",
      "Will train until train-auc hasn't improved in 10 rounds.\n",
      "[1]\ttrain-auc:0.999861\n",
      "[2]\ttrain-auc:0.999927\n",
      "[3]\ttrain-auc:0.999936\n",
      "[4]\ttrain-auc:0.99994\n",
      "[5]\ttrain-auc:0.999942\n",
      "[6]\ttrain-auc:0.999946\n",
      "[7]\ttrain-auc:0.999947\n",
      "[8]\ttrain-auc:0.999949\n",
      "[9]\ttrain-auc:0.999948\n",
      "[10]\ttrain-auc:0.99995\n",
      "[11]\ttrain-auc:0.999947\n",
      "[12]\ttrain-auc:0.999949\n",
      "[13]\ttrain-auc:0.999948\n",
      "[14]\ttrain-auc:0.99995\n",
      "[15]\ttrain-auc:0.999949\n",
      "[16]\ttrain-auc:0.999948\n",
      "[17]\ttrain-auc:0.999948\n",
      "[18]\ttrain-auc:0.999949\n",
      "[19]\ttrain-auc:0.99995\n",
      "[20]\ttrain-auc:0.999951\n",
      "[21]\ttrain-auc:0.999952\n",
      "[22]\ttrain-auc:0.999948\n",
      "[23]\ttrain-auc:0.999948\n",
      "[24]\ttrain-auc:0.999949\n",
      "[25]\ttrain-auc:0.999948\n",
      "[26]\ttrain-auc:0.99995\n",
      "[27]\ttrain-auc:0.999949\n",
      "[28]\ttrain-auc:0.999951\n",
      "[29]\ttrain-auc:0.999951\n",
      "[30]\ttrain-auc:0.999952\n",
      "[31]\ttrain-auc:0.999953\n",
      "[32]\ttrain-auc:0.999954\n",
      "[33]\ttrain-auc:0.999951\n",
      "[34]\ttrain-auc:0.999952\n",
      "[35]\ttrain-auc:0.999944\n",
      "[36]\ttrain-auc:0.999946\n",
      "[37]\ttrain-auc:0.999947\n",
      "[38]\ttrain-auc:0.999947\n",
      "[39]\ttrain-auc:0.999949\n",
      "[40]\ttrain-auc:0.99995\n",
      "[41]\ttrain-auc:0.999951\n",
      "[42]\ttrain-auc:0.999952\n",
      "Stopping. Best iteration:\n",
      "[32]\ttrain-auc:0.999954\n",
      "\n"
     ]
    }
   ],
   "source": [
    "#Trial. Run instead of above three \n",
    "param = {'max_depth':10, 'eta':0.02, 'silent':1, 'objective':'binary:logistic' }\n",
    "param['nthread'] = 4\n",
    "param['eval_metric'] = 'auc'\n",
    "param['subsample'] = 0.5\n",
    "param['colsample_bytree']= 0.7\n",
    "param['min_child_weight'] = 2\n",
    "param['booster'] = \"gbtree\"\n",
    "\n",
    "watchlist  = [(dtrain,'train')]\n",
    "num_round = 300\n",
    "early_stopping_rounds=10\n",
    "\n",
    "bst = xgb.train(param, dtrain, num_round, watchlist,early_stopping_rounds=early_stopping_rounds)"
   ]
  },
  {
   "cell_type": "code",
   "execution_count": 67,
   "metadata": {
    "collapsed": true
   },
   "outputs": [],
   "source": [
    "ypred8=bst.predict(dtest)"
   ]
  },
  {
   "cell_type": "code",
   "execution_count": 71,
   "metadata": {
    "collapsed": false
   },
   "outputs": [
    {
     "name": "stdout",
     "output_type": "stream",
     "text": [
      "[0]\ttrain-auc:0.999844\n",
      "Will train until train-auc hasn't improved in 10 rounds.\n",
      "[1]\ttrain-auc:0.99985\n",
      "[2]\ttrain-auc:0.99991\n",
      "[3]\ttrain-auc:0.999917\n",
      "[4]\ttrain-auc:0.999922\n",
      "[5]\ttrain-auc:0.99993\n",
      "[6]\ttrain-auc:0.999933\n",
      "[7]\ttrain-auc:0.999935\n",
      "[8]\ttrain-auc:0.999937\n",
      "[9]\ttrain-auc:0.999936\n",
      "[10]\ttrain-auc:0.999938\n",
      "[11]\ttrain-auc:0.999933\n",
      "[12]\ttrain-auc:0.999935\n",
      "[13]\ttrain-auc:0.999934\n",
      "[14]\ttrain-auc:0.999935\n",
      "[15]\ttrain-auc:0.999934\n",
      "[16]\ttrain-auc:0.999935\n",
      "[17]\ttrain-auc:0.999934\n",
      "[18]\ttrain-auc:0.999936\n",
      "[19]\ttrain-auc:0.999937\n",
      "[20]\ttrain-auc:0.999938\n",
      "Stopping. Best iteration:\n",
      "[10]\ttrain-auc:0.999938\n",
      "\n"
     ]
    }
   ],
   "source": [
    "#Trial. Run instead of above three \n",
    "param = {'max_depth':4, 'eta':0.02, 'silent':1, 'objective':'binary:logistic' }\n",
    "param['nthread'] = 4\n",
    "param['eval_metric'] = 'auc'\n",
    "param['subsample'] = 0.5\n",
    "param['colsample_bytree']= 0.7\n",
    "param['min_child_weight'] = 2\n",
    "param['booster'] = \"gbtree\"\n",
    "\n",
    "watchlist  = [(dtrain,'train')]\n",
    "num_round = 300\n",
    "early_stopping_rounds=10\n",
    "\n",
    "bst = xgb.train(param, dtrain, num_round, watchlist,early_stopping_rounds=early_stopping_rounds)"
   ]
  },
  {
   "cell_type": "code",
   "execution_count": 72,
   "metadata": {
    "collapsed": true
   },
   "outputs": [],
   "source": [
    "ypred9=bst.predict(dtest)"
   ]
  },
  {
   "cell_type": "code",
   "execution_count": 77,
   "metadata": {
    "collapsed": false
   },
   "outputs": [
    {
     "name": "stdout",
     "output_type": "stream",
     "text": [
      "[0]\ttrain-auc:0.999837\n",
      "Will train until train-auc hasn't improved in 10 rounds.\n",
      "[1]\ttrain-auc:0.999838\n",
      "[2]\ttrain-auc:0.999905\n",
      "[3]\ttrain-auc:0.999904\n",
      "[4]\ttrain-auc:0.999907\n",
      "[5]\ttrain-auc:0.999923\n",
      "[6]\ttrain-auc:0.999926\n",
      "[7]\ttrain-auc:0.999927\n",
      "[8]\ttrain-auc:0.999927\n",
      "[9]\ttrain-auc:0.999925\n",
      "[10]\ttrain-auc:0.999926\n",
      "[11]\ttrain-auc:0.999919\n",
      "[12]\ttrain-auc:0.99992\n",
      "[13]\ttrain-auc:0.999918\n",
      "[14]\ttrain-auc:0.999919\n",
      "[15]\ttrain-auc:0.999918\n",
      "[16]\ttrain-auc:0.999931\n",
      "[17]\ttrain-auc:0.99993\n",
      "[18]\ttrain-auc:0.999932\n",
      "[19]\ttrain-auc:0.999932\n",
      "[20]\ttrain-auc:0.999933\n",
      "[21]\ttrain-auc:0.999934\n",
      "[22]\ttrain-auc:0.999932\n",
      "[23]\ttrain-auc:0.999931\n",
      "[24]\ttrain-auc:0.999931\n",
      "[25]\ttrain-auc:0.99993\n",
      "[26]\ttrain-auc:0.999931\n",
      "[27]\ttrain-auc:0.999929\n",
      "[28]\ttrain-auc:0.999931\n",
      "[29]\ttrain-auc:0.999931\n",
      "[30]\ttrain-auc:0.999932\n",
      "[31]\ttrain-auc:0.999933\n",
      "Stopping. Best iteration:\n",
      "[21]\ttrain-auc:0.999934\n",
      "\n"
     ]
    }
   ],
   "source": [
    "#Trial. Run instead of above three \n",
    "param = {'max_depth':3, 'eta':0.02, 'silent':1, 'objective':'binary:logistic' }\n",
    "param['nthread'] = 4\n",
    "param['eval_metric'] = 'auc'\n",
    "param['subsample'] = 0.5\n",
    "param['colsample_bytree']= 0.7\n",
    "param['min_child_weight'] = 2\n",
    "param['booster'] = \"gbtree\"\n",
    "\n",
    "watchlist  = [(dtrain,'train')]\n",
    "num_round = 300\n",
    "early_stopping_rounds=10\n",
    "\n",
    "bst = xgb.train(param, dtrain, num_round, watchlist,early_stopping_rounds=early_stopping_rounds)"
   ]
  },
  {
   "cell_type": "code",
   "execution_count": 78,
   "metadata": {
    "collapsed": true
   },
   "outputs": [],
   "source": [
    "ypred10=bst.predict(dtest)"
   ]
  },
  {
   "cell_type": "code",
   "execution_count": 57,
   "metadata": {
    "collapsed": false
   },
   "outputs": [],
   "source": [
    "ypredf = np.mean([ypred2,ypred2,ypred3,ypred4,ypred5,ypred6,ypred7,ypred8,ypred9,ypred10],axis=0)"
   ]
  },
  {
   "cell_type": "code",
   "execution_count": 20,
   "metadata": {
    "collapsed": false,
    "scrolled": false
   },
   "outputs": [
    {
     "data": {
      "text/plain": [
       "Index([u'activity_id', u'people_char_1', u'people_char_2', u'people_date',\n",
       "       u'people_char_3', u'people_char_4', u'people_char_5', u'people_char_6',\n",
       "       u'people_char_7', u'people_char_8', u'people_char_9', u'people_char_10',\n",
       "       u'people_char_11', u'people_char_12', u'people_char_13',\n",
       "       u'people_char_14', u'people_char_15', u'people_char_16',\n",
       "       u'people_char_17', u'people_char_18', u'people_char_19',\n",
       "       u'people_char_20', u'people_char_21', u'people_char_22',\n",
       "       u'people_char_23', u'people_char_24', u'people_char_25',\n",
       "       u'people_char_26', u'people_char_27', u'people_char_28',\n",
       "       u'people_char_29', u'people_char_30', u'people_char_31',\n",
       "       u'people_char_32', u'people_char_33', u'people_char_34',\n",
       "       u'people_char_35', u'people_char_36', u'people_char_37',\n",
       "       u'people_char_38', u'people_days', u'people_month', u'people_quarter',\n",
       "       u'people_year', u'people_week', u'people_dayOfMonth', u'people_weekend',\n",
       "       u'people_id', u'date', u'activity_category', u'char_1', u'char_2',\n",
       "       u'char_3', u'char_4', u'char_5', u'char_6', u'char_7', u'char_8',\n",
       "       u'char_9', u'char_10', u'days', u'month', u'quarter', u'year', u'week',\n",
       "       u'dayOfMonth', u'weekend', u'outcome'],\n",
       "      dtype='object')"
      ]
     },
     "execution_count": 20,
     "metadata": {},
     "output_type": "execute_result"
    }
   ],
   "source": [
    "(jj_outcome.columns)"
   ]
  },
  {
   "cell_type": "code",
   "execution_count": 75,
   "metadata": {
    "collapsed": false
   },
   "outputs": [],
   "source": [
    "test['outcome']=ypredf\n",
    "jj_outcome = pd.read_csv('Data/manipulated_results.csv')\n",
    "# thegroup = jj_outcome[jj_outcome['people_group_1']==17304][['activity_id','outcome']]\n",
    "jj_outcome['outcome'] = 0\n",
    "test_n = test[['activity_id','outcome']]"
   ]
  },
  {
   "cell_type": "code",
   "execution_count": 76,
   "metadata": {
    "collapsed": false
   },
   "outputs": [],
   "source": [
    "test_n = pd.concat([jj_outcome,test_n])\n",
    "test_n[['outcome','activity_id']].set_index('activity_id').drop('act_0').to_csv(\"FinalSubmission.csv\")"
   ]
  },
  {
   "cell_type": "code",
   "execution_count": 77,
   "metadata": {
    "collapsed": false
   },
   "outputs": [
    {
     "data": {
      "text/plain": [
       "(498687, 1)"
      ]
     },
     "execution_count": 77,
     "metadata": {},
     "output_type": "execute_result"
    }
   ],
   "source": [
    "test_n[['outcome','activity_id']].set_index('activity_id').drop('act_0').shape"
   ]
  },
  {
   "cell_type": "code",
   "execution_count": 40,
   "metadata": {
    "collapsed": false
   },
   "outputs": [
    {
     "data": {
      "text/plain": [
       "(165604, 68)"
      ]
     },
     "execution_count": 40,
     "metadata": {},
     "output_type": "execute_result"
    }
   ],
   "source": [
    "jj_outcome.shape"
   ]
  },
  {
   "cell_type": "code",
   "execution_count": 42,
   "metadata": {
    "collapsed": false
   },
   "outputs": [
    {
     "data": {
      "text/plain": [
       "(333083, 84)"
      ]
     },
     "execution_count": 42,
     "metadata": {},
     "output_type": "execute_result"
    }
   ],
   "source": [
    "test.shape"
   ]
  },
  {
   "cell_type": "code",
   "execution_count": null,
   "metadata": {
    "collapsed": true
   },
   "outputs": [],
   "source": []
  }
 ],
 "metadata": {
  "anaconda-cloud": {},
  "kernelspec": {
   "display_name": "Python [conda root]",
   "language": "python",
   "name": "conda-root-py"
  },
  "language_info": {
   "codemirror_mode": {
    "name": "ipython",
    "version": 2
   },
   "file_extension": ".py",
   "mimetype": "text/x-python",
   "name": "python",
   "nbconvert_exporter": "python",
   "pygments_lexer": "ipython2",
   "version": "2.7.12"
  }
 },
 "nbformat": 4,
 "nbformat_minor": 1
}
