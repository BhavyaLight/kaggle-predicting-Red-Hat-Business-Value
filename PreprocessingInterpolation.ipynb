{
 "cells": [
  {
   "cell_type": "code",
   "execution_count": 1,
   "metadata": {
    "collapsed": true
   },
   "outputs": [],
   "source": [
    "# Interpolation stuff\n",
    "import numpy as np\n",
    "import pandas as pd\n",
    "import pickle\n",
    "import time\n",
    "import datetime\n",
    "import pickle\n",
    "from itertools import product\n",
    "from scipy import interpolate ## For other interpolation functions."
   ]
  },
  {
   "cell_type": "code",
   "execution_count": 2,
   "metadata": {
    "collapsed": true
   },
   "outputs": [],
   "source": [
    "# Path to people.csv from ReadHatKaggle data set\n",
    "FEATURE_FILE ='Data/act_train_features.csv'\n",
    "# Path to act_train.csv from RedHatKaggle data set\n",
    "OUTPUT ='Data/act_train_output.csv'\n",
    "# Path to the test file\n",
    "TEST_FILE = 'Data/act_test_features.csv'\n",
    "\n",
    "# Path to the pickle files\n",
    "SAVE_AS_DIR = 'Data/pickle'"
   ]
  },
  {
   "cell_type": "code",
   "execution_count": 3,
   "metadata": {
    "collapsed": true
   },
   "outputs": [],
   "source": [
    "# Read the train data set\n",
    "train_data_df = pd.read_csv(FEATURE_FILE, parse_dates = [\"date\",\"people_date\"])\n",
    "train_data_df.sort_values(by = ['activity_id'], ascending = True, inplace = True)"
   ]
  },
  {
   "cell_type": "code",
   "execution_count": 4,
   "metadata": {
    "collapsed": true
   },
   "outputs": [],
   "source": [
    "# Read the train data output\n",
    "train_output = pd.read_csv(OUTPUT)\n",
    "train_output.sort_values(by = 'activity_id',ascending = True, inplace = True)"
   ]
  },
  {
   "cell_type": "code",
   "execution_count": 5,
   "metadata": {
    "collapsed": false
   },
   "outputs": [
    {
     "name": "stderr",
     "output_type": "stream",
     "text": [
      "/Users/aakash.gupta/anaconda/lib/python2.7/site-packages/ipykernel/__main__.py:4: SettingWithCopyWarning: \n",
      "A value is trying to be set on a copy of a slice from a DataFrame.\n",
      "Try using .loc[row_indexer,col_indexer] = value instead\n",
      "\n",
      "See the caveats in the documentation: http://pandas.pydata.org/pandas-docs/stable/indexing.html#indexing-view-versus-copy\n"
     ]
    }
   ],
   "source": [
    "# Read the test data set\n",
    "test_data_df = pd.read_csv(TEST_FILE, parse_dates = [\"date\",\"people_date\"])\n",
    "\n",
    "# Setting the outcome of group 17304 to 0\n",
    "test = test_data_df[test_data_df['people_group_1'] == 17304]\n",
    "test['outcome'] = 0"
   ]
  },
  {
   "cell_type": "code",
   "execution_count": 6,
   "metadata": {
    "collapsed": true
   },
   "outputs": [],
   "source": [
    "train_data_df.set_index('people_group_1', inplace = True)\n",
    "train_data_df.drop(17304, axis = 0, inplace = True)\n",
    "train_data_df.reset_index(inplace = True)"
   ]
  },
  {
   "cell_type": "code",
   "execution_count": 7,
   "metadata": {
    "collapsed": false
   },
   "outputs": [],
   "source": [
    "test_data_df.set_index('people_group_1',inplace = True)\n",
    "test_data_df.drop(17304,axis = 0,inplace = True)\n",
    "test_data_df.reset_index(inplace = True)"
   ]
  },
  {
   "cell_type": "code",
   "execution_count": 8,
   "metadata": {
    "collapsed": true
   },
   "outputs": [],
   "source": [
    "# Merge train and outcome\n",
    "train_data = pd.merge(train_data_df, train_output, on='activity_id')"
   ]
  },
  {
   "cell_type": "code",
   "execution_count": 9,
   "metadata": {
    "collapsed": true
   },
   "outputs": [],
   "source": [
    "# drop duplicates\n",
    "duplicate_train = train_data.drop('activity_id',axis=1).duplicated()"
   ]
  },
  {
   "cell_type": "code",
   "execution_count": 10,
   "metadata": {
    "collapsed": true
   },
   "outputs": [],
   "source": [
    "## Dataframe and their contents\n",
    "# train_data: contains all train data, 17304 dropped\n",
    "# test_data: contains all test data, 17304 dropped\n",
    "# test: contains 17304 test data, with outcome set to 0\n",
    "# df: merged data frame of train and test, with duplicates dropped from train"
   ]
  },
  {
   "cell_type": "code",
   "execution_count": 11,
   "metadata": {
    "collapsed": true
   },
   "outputs": [],
   "source": [
    "def interpolateFun0(x):\n",
    "    \n",
    "    x = x.reset_index(drop=True)\n",
    "    g = x['outcome'].copy()\n",
    "    \n",
    "    # This will never run for us\n",
    "    if (g.shape[0] < 3): ## If we have at most two rows.\n",
    "        x['outcome_filled'] = g \n",
    "        return x\n",
    "\n",
    "    # If all items already present\n",
    "    if np.sum(g.isnull()) == 0:\n",
    "        x['outcome_filled'] = g\n",
    "        return x\n",
    "    \n",
    "    # All outcomes\n",
    "    out = g.values.copy()\n",
    "    # indices where outcome is not null\n",
    "    value_locs = np.where(~g.isnull())[0]\n",
    "    \n",
    "    # if everything is null (group is only from test)\n",
    "    if len(value_locs) == 0:\n",
    "        x['outcome_filled'] = np.full_like(out, np.nan)\n",
    "        return x\n",
    "    \n",
    "    # If group has only 1 value\n",
    "    # So here if group==date==0 or 1 can be reset\n",
    "    if len(value_locs) == 1:\n",
    "        fillval = .89 if (g[value_locs[0]] == 1) else .13\n",
    "        g[g.isnull()] = fillval\n",
    "        x['outcome_filled'] = g\n",
    "        return x        \n",
    "    \n",
    "    # If the first non-null item is not at location '0' in the group\n",
    "    # Meaning that if the outcome on the min_date is null\n",
    "    # Fill everything until there with 0.89 or 0.13\n",
    "    if value_locs[0]:\n",
    "        fillval = .89 if (g[value_locs[0]] == 1) else .13\n",
    "        out[0:value_locs[0]] = fillval\n",
    "\n",
    "    # Interpolate holes in the middle\n",
    "    for i in range(0, len(value_locs) - 1):\n",
    "        beg = value_locs[i]\n",
    "        end = value_locs[i + 1]\n",
    "        \n",
    "        if g[beg] != g[end]:\n",
    "            out[beg+1:end] = np.interp(range(beg+1, end), [beg, end], [g[beg], g[end]])\n",
    "        else:\n",
    "            out[beg+1:end] = g[beg]\n",
    "\n",
    "    # If the last value is a null, fill all values after it with either 0.89 or 0.13\n",
    "    if end < (len(g) - 1):\n",
    "        beg = value_locs[-1]\n",
    "        fillval = .89 if (g[beg] == 1) else .13\n",
    "\n",
    "        out[beg+1:] = fillval\n",
    "\n",
    "    x['outcome_filled'] = out    \n",
    "    return x"
   ]
  },
  {
   "cell_type": "code",
   "execution_count": 12,
   "metadata": {
    "collapsed": false
   },
   "outputs": [],
   "source": [
    "minactivdate = pd.Timestamp('2022-07-17 00:00:00')\n",
    "maxactivdate = pd.Timestamp('2023-08-31 00:00:00')\n",
    "\n",
    "day_range = [maxactivdate - datetime.timedelta(days=x) for x in range(0, (maxactivdate - minactivdate).days+1)][::-1]"
   ]
  },
  {
   "cell_type": "code",
   "execution_count": 13,
   "metadata": {
    "collapsed": false
   },
   "outputs": [],
   "source": [
    "train = train_data[~duplicate_train]\n",
    "groups = train.people_group_1.unique()\n",
    "\n",
    "allGroupsAndDays = pd.DataFrame.from_records(product(groups, day_range))\n",
    "allGroupsAndDays.columns = ['people_group_1', 'actdate_leak']\n",
    "\n",
    "group_date_outcome_mean = train.groupby(['people_group_1', 'date'])['outcome'].agg('mean')\n",
    "\n",
    "## Convert the calculation into a proper DataFrame.\n",
    "group_date_outcome_mean = group_date_outcome_mean.to_frame().reset_index()\n",
    "group_date_outcome_mean.rename(columns={'date': 'adate_mean'}, inplace=True)\n",
    "\n",
    "allGroupsAndDays = pd.merge(allGroupsAndDays, group_date_outcome_mean, left_on=['people_group_1', 'actdate_leak'], right_on=['people_group_1', 'adate_mean'], how='left')\n",
    "interpolated_values = allGroupsAndDays.groupby('people_group_1').apply(interpolateFun0)\n",
    "interpolated_values = interpolated_values.rename(columns={'outcome': 'outcome_leak'})\n",
    "interpolated_values = interpolated_values.drop(['adate_mean'], axis=1)"
   ]
  },
  {
   "cell_type": "code",
   "execution_count": 14,
   "metadata": {
    "collapsed": false
   },
   "outputs": [],
   "source": [
    "test_interpolated = pd.merge(test_data_df, interpolated_values, left_on=['people_group_1', 'date'], right_on=['people_group_1', 'actdate_leak'], how='left')\n",
    "test_interpolated.drop('actdate_leak', axis=1, inplace=True)"
   ]
  },
  {
   "cell_type": "code",
   "execution_count": 15,
   "metadata": {
    "collapsed": false
   },
   "outputs": [],
   "source": [
    "test_interpolated['outcome_filled_nona'] = test_interpolated['outcome_filled'].fillna(train['outcome'].mean())"
   ]
  },
  {
   "cell_type": "code",
   "execution_count": 16,
   "metadata": {
    "collapsed": true
   },
   "outputs": [],
   "source": [
    "########## Uncomment the lines below to obtain pure interpolation methods ###################"
   ]
  },
  {
   "cell_type": "code",
   "execution_count": 17,
   "metadata": {
    "collapsed": true
   },
   "outputs": [],
   "source": [
    "# test_out =  test_interpolated[['activity_id', 'outcome_filled_nona']].copy()\n",
    "# test_out.rename(columns={'outcome_filled_nona':'outcome'}, inplace=True)"
   ]
  },
  {
   "cell_type": "code",
   "execution_count": 18,
   "metadata": {
    "collapsed": false
   },
   "outputs": [],
   "source": [
    "# # test set contains the 17304 group and it was created earlier\n",
    "# test_out = pd.concat([test_out,test])"
   ]
  },
  {
   "cell_type": "code",
   "execution_count": 19,
   "metadata": {
    "collapsed": false
   },
   "outputs": [],
   "source": [
    "# test_out[['outcome','activity_id']].set_index('activity_id').to_csv(\"InterpolationPure.csv\")"
   ]
  },
  {
   "cell_type": "code",
   "execution_count": 21,
   "metadata": {
    "collapsed": false
   },
   "outputs": [],
   "source": [
    "test_interpolated = pd.concat([test_interpolated,test])"
   ]
  },
  {
   "cell_type": "code",
   "execution_count": 22,
   "metadata": {
    "collapsed": false
   },
   "outputs": [],
   "source": [
    "test_interpolated.to_pickle(SAVE_AS_DIR+'/test_withleak.pkl')"
   ]
  },
  {
   "cell_type": "code",
   "execution_count": 24,
   "metadata": {
    "collapsed": false
   },
   "outputs": [
    {
     "name": "stderr",
     "output_type": "stream",
     "text": [
      "/Users/aakash.gupta/anaconda/lib/python2.7/site-packages/ipykernel/__main__.py:2: SettingWithCopyWarning: \n",
      "A value is trying to be set on a copy of a slice from a DataFrame.\n",
      "Try using .loc[row_indexer,col_indexer] = value instead\n",
      "\n",
      "See the caveats in the documentation: http://pandas.pydata.org/pandas-docs/stable/indexing.html#indexing-view-versus-copy\n",
      "  from ipykernel import kernelapp as app\n"
     ]
    }
   ],
   "source": [
    "# This is not float, correct it\n",
    "train['people_id'] = train['people_id'].astype('int32')"
   ]
  },
  {
   "cell_type": "code",
   "execution_count": 25,
   "metadata": {
    "collapsed": true
   },
   "outputs": [],
   "source": [
    "######### Saving state of code here ##############\n",
    "train_data.to_pickle(SAVE_AS_DIR+'/train_without17304.pkl')\n",
    "train.to_pickle(SAVE_AS_DIR+'/traindedup_without17304.pkl')"
   ]
  },
  {
   "cell_type": "code",
   "execution_count": 23,
   "metadata": {
    "collapsed": false
   },
   "outputs": [],
   "source": [
    "train_data = pd.read_pickle(SAVE_AS_DIR+'/train_without17304.pkl')\n",
    "train = pd.read_pickle(SAVE_AS_DIR+'/traindedup_without17304.pkl')"
   ]
  },
  {
   "cell_type": "code",
   "execution_count": 26,
   "metadata": {
    "collapsed": false
   },
   "outputs": [
    {
     "name": "stdout",
     "output_type": "stream",
     "text": [
      "('TRAIN:', array([      0,       1,       2, ..., 1398162, 1398164, 1398165]), 'TEST:', array([      6,       7,      19, ..., 1398151, 1398156, 1398163]))\n",
      "('TRAIN:', array([      0,       1,       2, ..., 1398160, 1398163, 1398165]), 'TEST:', array([     10,      22,      28, ..., 1398161, 1398162, 1398164]))\n",
      "('TRAIN:', array([      0,       2,       3, ..., 1398163, 1398164, 1398165]), 'TEST:', array([      1,       8,      11, ..., 1398142, 1398149, 1398158]))\n",
      "('TRAIN:', array([      0,       1,       2, ..., 1398162, 1398163, 1398164]), 'TEST:', array([      5,      12,      15, ..., 1398153, 1398160, 1398165]))\n",
      "('TRAIN:', array([      1,       5,       6, ..., 1398163, 1398164, 1398165]), 'TEST:', array([      0,       2,       3, ..., 1398154, 1398157, 1398159]))\n"
     ]
    }
   ],
   "source": [
    "## Gives better distribution ##\n",
    "from sklearn.model_selection import StratifiedKFold\n",
    "\n",
    "KfoldOnPId=train_data\n",
    "\n",
    "y = KfoldOnPId['outcome'].values\n",
    "X = KfoldOnPId\n",
    "\n",
    "\n",
    "X_train, X_test = {}, {}\n",
    "y_train, y_test = {}, {}\n",
    "\n",
    "skf = StratifiedKFold(5, shuffle=True, random_state=12345)\n",
    "i=0\n",
    "for train_index, test_index in skf.split(X,y):\n",
    "    print(\"TRAIN:\", train_index, \"TEST:\", test_index)\n",
    "    X_train[i], X_test[i] = X.iloc[train_index], X.iloc[test_index]\n",
    "#     X_train[i], X_test[i] = train_data[train_data.people_id.isin(people_ids_train)], \\\n",
    "#                             train_data[train_data.people_id.isin(people_ids_test)]\n",
    "    y_train[i], y_test[i] = y[train_index], y[test_index]\n",
    "    i +=1"
   ]
  },
  {
   "cell_type": "code",
   "execution_count": 27,
   "metadata": {
    "collapsed": false
   },
   "outputs": [
    {
     "name": "stdout",
     "output_type": "stream",
     "text": [
      "(0, 279634, 0.6976977048570632)\n",
      "(1, 279634, 0.6976977048570632)\n",
      "(2, 279633, 0.6976966237890377)\n",
      "(3, 279633, 0.6976966237890377)\n",
      "(4, 279632, 0.6976991188419065)\n"
     ]
    }
   ],
   "source": [
    "# The mean should be nearly equal across all folds, something is messing up one of the groups :/\n",
    "for k in range(len(X_train)):\n",
    "    print(k, len(X_test[k]), X_test[k].outcome.mean())"
   ]
  },
  {
   "cell_type": "code",
   "execution_count": 28,
   "metadata": {
    "collapsed": false
   },
   "outputs": [],
   "source": [
    "for k in range(len(X_train)):\n",
    "    # Get unique groups and expand date range\n",
    "    groups = X_train[k].people_group_1.unique()\n",
    "    allGroupsAndDays = pd.DataFrame.from_records(product(groups, day_range))\n",
    "    allGroupsAndDays.columns = ['people_group_1', 'actdate_leak']\n",
    "\n",
    "    group_date_outcome_mean = X_train[k].groupby(['people_group_1', 'date'])['outcome'].agg('mean')\n",
    "\n",
    "## Convert the calculation into a proper DataFrame.\n",
    "    group_date_outcome_mean = group_date_outcome_mean.to_frame().reset_index()\n",
    "    group_date_outcome_mean.rename(columns={'date': 'adate_mean'}, inplace=True)\n",
    "\n",
    "    allGroupsAndDays = pd.merge(allGroupsAndDays, group_date_outcome_mean, left_on=['people_group_1', 'actdate_leak'], right_on=['people_group_1', 'adate_mean'], how='left')\n",
    "    interpolated_values = allGroupsAndDays.groupby('people_group_1').apply(interpolateFun0)\n",
    "    interpolated_values = interpolated_values.rename(columns={'outcome': 'outcome_leak'})\n",
    "    interpolated_values = interpolated_values.drop(['adate_mean'], axis=1)\n",
    "    X_test[k] = pd.merge( X_test[k], interpolated_values, left_on=['people_group_1', 'date'], right_on=['people_group_1', 'actdate_leak'], how='left')\n",
    "    X_test[k].drop('actdate_leak', axis=1, inplace=True)"
   ]
  },
  {
   "cell_type": "code",
   "execution_count": 29,
   "metadata": {
    "collapsed": false
   },
   "outputs": [
    {
     "name": "stdout",
     "output_type": "stream",
     "text": [
      "0.999863077697\n",
      "0.999842562658\n",
      "0.999807603352\n",
      "0.99980856197\n",
      "0.999848951121\n",
      "('cv:', 0.9998338593764815)\n"
     ]
    }
   ],
   "source": [
    "import sklearn\n",
    "total_features = []\n",
    "\n",
    "for k in range(len(X_test)):\n",
    "        \n",
    "    X_test[k]['outcome_filled_nona'] = X_test[k].outcome_filled.fillna(X_train[k].outcome.mean())\n",
    "\n",
    "    total_features.append(X_test[k])\n",
    "    \n",
    "    print(sklearn.metrics.roc_auc_score(X_test[k].outcome.values, X_test[k].outcome_filled_nona.values))\n",
    "\n",
    "final_trained_new_features = pd.concat(total_features)\n",
    "print('cv:', sklearn.metrics.roc_auc_score(final_trained_new_features.outcome.values, final_trained_new_features.outcome_filled_nona.values))"
   ]
  },
  {
   "cell_type": "code",
   "execution_count": 30,
   "metadata": {
    "collapsed": true
   },
   "outputs": [],
   "source": [
    "train_interpolated_features = pd.merge(train_data,\\\n",
    "                                       final_trained_new_features[['activity_id', 'outcome_filled', 'outcome_filled_nona', 'outcome_leak']],\\\n",
    "                                       on='activity_id', how='left')"
   ]
  },
  {
   "cell_type": "code",
   "execution_count": 31,
   "metadata": {
    "collapsed": false
   },
   "outputs": [
    {
     "data": {
      "text/plain": [
       "(1398166, 72)"
      ]
     },
     "execution_count": 31,
     "metadata": {},
     "output_type": "execute_result"
    }
   ],
   "source": [
    "train_interpolated_features.shape"
   ]
  },
  {
   "cell_type": "code",
   "execution_count": 32,
   "metadata": {
    "collapsed": false
   },
   "outputs": [
    {
     "data": {
      "text/plain": [
       "(818977, 69)"
      ]
     },
     "execution_count": 32,
     "metadata": {},
     "output_type": "execute_result"
    }
   ],
   "source": [
    "train.shape # with duplicates dropped"
   ]
  },
  {
   "cell_type": "code",
   "execution_count": 33,
   "metadata": {
    "collapsed": false
   },
   "outputs": [
    {
     "data": {
      "text/plain": [
       "(1398166, 69)"
      ]
     },
     "execution_count": 33,
     "metadata": {},
     "output_type": "execute_result"
    }
   ],
   "source": [
    "train_data.shape #original df"
   ]
  },
  {
   "cell_type": "code",
   "execution_count": 34,
   "metadata": {
    "collapsed": true
   },
   "outputs": [],
   "source": [
    "train_interpolated_features.to_pickle(SAVE_AS_DIR + '/train_withInterpolations.pkl')"
   ]
  },
  {
   "cell_type": "code",
   "execution_count": 35,
   "metadata": {
    "collapsed": true
   },
   "outputs": [],
   "source": [
    "################### END OF CODE - Discarded analysis can be found below #################################"
   ]
  }
 ],
 "metadata": {
  "anaconda-cloud": {},
  "kernelspec": {
   "display_name": "Python [conda root]",
   "language": "python",
   "name": "conda-root-py"
  },
  "language_info": {
   "codemirror_mode": {
    "name": "ipython",
    "version": 2
   },
   "file_extension": ".py",
   "mimetype": "text/x-python",
   "name": "python",
   "nbconvert_exporter": "python",
   "pygments_lexer": "ipython2",
   "version": "2.7.12"
  }
 },
 "nbformat": 4,
 "nbformat_minor": 1
}
