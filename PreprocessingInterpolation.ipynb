{
 "cells": [
  {
   "cell_type": "code",
   "execution_count": 1,
   "metadata": {
    "collapsed": true
   },
   "outputs": [],
   "source": [
    "# Interpolation stuff\n",
    "import numpy as np\n",
    "import pandas as pd\n",
    "import pickle\n",
    "import time\n",
    "import datetime\n",
    "import pickle\n",
    "from itertools import product\n",
    "from scipy import interpolate ## For other interpolation functions."
   ]
  },
  {
   "cell_type": "code",
   "execution_count": 5,
   "metadata": {
    "collapsed": true
   },
   "outputs": [],
   "source": [
    "# Path to people.csv from ReadHatKaggle data set\n",
    "FEATURE_FILE ='Data/act_train_features.csv'\n",
    "# Path to act_train.csv from RedHatKaggle data set\n",
    "OUTPUT ='Data/act_train_output.csv'\n",
    "# Path to the test file\n",
    "TEST_FILE = 'Data/act_test_features.csv'\n",
    "\n",
    "# Path to the pickle files\n",
    "SAVE_AS_DIR = 'Data/pickle'"
   ]
  },
  {
   "cell_type": "code",
   "execution_count": 48,
   "metadata": {
    "collapsed": true
   },
   "outputs": [],
   "source": [
    "# Read the train data set\n",
    "train_data_df=pd.read_csv(FEATURE_FILE,parse_dates=[\"date\",\"people_date\"])\n",
    "train_data_df.sort_values(by=['activity_id'],ascending=True, inplace=True)"
   ]
  },
  {
   "cell_type": "code",
   "execution_count": 49,
   "metadata": {
    "collapsed": true
   },
   "outputs": [],
   "source": [
    "# Read the train data output\n",
    "train_output = pd.read_csv(OUTPUT)\n",
    "train_output.sort_values(by='activity_id',ascending=True, inplace=True)"
   ]
  },
  {
   "cell_type": "code",
   "execution_count": 76,
   "metadata": {
    "collapsed": false
   },
   "outputs": [
    {
     "name": "stderr",
     "output_type": "stream",
     "text": [
      "/Users/bhavyachandra/anaconda/lib/python2.7/site-packages/ipykernel/__main__.py:4: SettingWithCopyWarning: \n",
      "A value is trying to be set on a copy of a slice from a DataFrame.\n",
      "Try using .loc[row_indexer,col_indexer] = value instead\n",
      "\n",
      "See the caveats in the documentation: http://pandas.pydata.org/pandas-docs/stable/indexing.html#indexing-view-versus-copy\n"
     ]
    }
   ],
   "source": [
    "# Read the test data set\n",
    "test_data_df=pd.read_csv(TEST_FILE,parse_dates=[\"date\",\"people_date\"])\n",
    "test = test_data_df[test_data_df['people_group_1']==17304]\n",
    "test['outcome'] = 0"
   ]
  },
  {
   "cell_type": "code",
   "execution_count": 7,
   "metadata": {
    "collapsed": true
   },
   "outputs": [],
   "source": [
    "train_data_df.set_index('people_group_1',inplace=True)\n",
    "train_data_df.drop(17304,axis=0,inplace=True)\n",
    "train_data_df.reset_index(inplace=True)"
   ]
  },
  {
   "cell_type": "code",
   "execution_count": 81,
   "metadata": {
    "collapsed": false
   },
   "outputs": [],
   "source": [
    "test_data_df.set_index('people_group_1',inplace=True)\n",
    "test_data_df.drop(17304,axis=0,inplace=True)\n",
    "test_data_df.reset_index(inplace=True)"
   ]
  },
  {
   "cell_type": "code",
   "execution_count": 50,
   "metadata": {
    "collapsed": true
   },
   "outputs": [],
   "source": [
    "# Merge test and outcome\n",
    "train_data = pd.merge(train_data_df,train_output,on='activity_id')"
   ]
  },
  {
   "cell_type": "code",
   "execution_count": 10,
   "metadata": {
    "collapsed": true
   },
   "outputs": [],
   "source": [
    "# drop duplicates\n",
    "is_dup = train_data.drop('activity_id',axis=1).duplicated()\n",
    "df = train_data[~is_dup]\n",
    "df = pd.concat([df,test_data_df])"
   ]
  },
  {
   "cell_type": "code",
   "execution_count": 134,
   "metadata": {
    "collapsed": true
   },
   "outputs": [],
   "source": [
    "## Dataframe and their contents\n",
    "# train_data: contains all train data, 17304 dropped\n",
    "# test_data: contains all test data, 17304 dropped\n",
    "# test: contains 17304 test data, with outcome set to 0\n",
    "# df: merged data frame of train and test, with duplicates dropped from train"
   ]
  },
  {
   "cell_type": "code",
   "execution_count": 2,
   "metadata": {
    "collapsed": true
   },
   "outputs": [],
   "source": [
    "fv = []\n",
    "\n",
    "def interpolateFun0(x):\n",
    "    \"\"\"Modified the original script from Kaggle - author's function rewritten in Python.\n",
    "    The author interpolates between two known val nues by averaging them. We\n",
    "    can think of this as 0th order interpolation. \"\"\"\n",
    "\n",
    "\n",
    "    x = x.reset_index(drop=True)\n",
    "    g = x['outcome'].copy()\n",
    "    \n",
    "    global fv\n",
    "\n",
    "    # This will never run for us\n",
    "    if (g.shape[0] < 3): ## If we have at most two rows.\n",
    "        x['outcome_filled'] = g \n",
    "        return x\n",
    "\n",
    "    # If all items already present\n",
    "    if np.sum(g.isnull()) == 0:\n",
    "        x['outcome_filled'] = g\n",
    "        return x\n",
    "    \n",
    "    # All outcomes\n",
    "    out = g.values.copy()\n",
    "    # location where outcome is not null\n",
    "    value_locs = np.where(~g.isnull())[0]\n",
    "    \n",
    "    # if everything is null (group is only from test)\n",
    "    if len(value_locs) == 0:\n",
    "        x['outcome_filled'] = np.full_like(out, np.nan)\n",
    "        return x\n",
    "    \n",
    "    # If group has only 1 value\n",
    "    # So here if group==date==0 or 1 can be reset\n",
    "    if len(value_locs) == 1:\n",
    "        fillval = .89 if (g[value_locs[0]] == 1) else .13\n",
    "        fv.append((g[value_locs[0]], fillval))\n",
    "        g[g.isnull()] = fillval\n",
    "        x['outcome_filled'] = g\n",
    "        return x        \n",
    "    \n",
    "    # If the first non-null item is not at location '0' in the group\n",
    "    # Meaning that if the outcome on the min_date is null\n",
    "    # Fill everything until there with 0.89 or 0.13\n",
    "    if value_locs[0]:\n",
    "        fillval = .89 if (g[value_locs[0]] == 1) else .13\n",
    "        fv.append((g[value_locs[0]], fillval))\n",
    "        out[0:value_locs[0]] = fillval\n",
    "\n",
    "    # Interpolate holes in the middle\n",
    "    for i in range(0, len(value_locs) - 1):\n",
    "        beg = value_locs[i]\n",
    "        end = value_locs[i + 1]\n",
    "        \n",
    "        if g[beg] != g[end]:\n",
    "            out[beg+1:end] = np.interp(range(beg+1, end), [beg, end], [g[beg], g[end]])\n",
    "        else:\n",
    "            out[beg+1:end] = g[beg]\n",
    "\n",
    "    # If the last value is a null basicall, fill upto it\n",
    "    if end < (len(g) - 1):\n",
    "        beg = value_locs[-1]\n",
    "        fillval = .89 if (g[beg] == 1) else .13\n",
    "        fv.append((g[beg], fillval))\n",
    "\n",
    "        out[beg+1:] = fillval\n",
    "\n",
    "    x['outcome_filled'] = out    \n",
    "    return x"
   ]
  },
  {
   "cell_type": "code",
   "execution_count": 3,
   "metadata": {
    "collapsed": false
   },
   "outputs": [],
   "source": [
    "minactivdate = pd.Timestamp('2022-07-17 00:00:00')\n",
    "maxactivdate = pd.Timestamp('2023-08-31 00:00:00')\n",
    "\n",
    "alldays = [maxactivdate - datetime.timedelta(days=x) for x in range(0, (maxactivdate - minactivdate).days+1)][::-1]"
   ]
  },
  {
   "cell_type": "code",
   "execution_count": 20,
   "metadata": {
    "collapsed": false
   },
   "outputs": [],
   "source": [
    "train = train_data[~is_dup]\n",
    "groups = train.people_group_1.unique()\n",
    "\n",
    "allGroupsAndDays = pd.DataFrame.from_records(product(groups, alldays))\n",
    "allGroupsAndDays.columns = ['people_group_1', 'actdate_leak']\n",
    "\n",
    "meanbycomdate = train.groupby(['people_group_1', 'date'])['outcome'].agg('mean')\n",
    "\n",
    "## Convert the calculation into a proper DataFrame.\n",
    "meanbycomdate = meanbycomdate.to_frame().reset_index()\n",
    "meanbycomdate.rename(columns={'date': 'adate_mean'}, inplace=True)\n",
    "\n",
    "allGroupsAndDays = pd.merge(allGroupsAndDays, meanbycomdate, left_on=['people_group_1', 'actdate_leak'], right_on=['people_group_1', 'adate_mean'], how='left')\n",
    "agad2 = allGroupsAndDays.groupby('people_group_1').apply(interpolateFun0)\n",
    "agad2 = agad2.rename(columns={'outcome': 'outcome_leak'})\n",
    "agad2 = agad2.drop(['adate_mean'], axis=1)"
   ]
  },
  {
   "cell_type": "code",
   "execution_count": 49,
   "metadata": {
    "collapsed": false
   },
   "outputs": [],
   "source": [
    "test_interpolated = pd.merge(test_data_df, agad2, left_on=['people_group_1', 'date'], right_on=['people_group_1', 'actdate_leak'], how='left')\n",
    "test_interpolated.drop('actdate_leak', axis=1, inplace=True)"
   ]
  },
  {
   "cell_type": "code",
   "execution_count": 53,
   "metadata": {
    "collapsed": false
   },
   "outputs": [],
   "source": [
    "test_interpolated['outcome_filled_nona'] = test_interpolated['outcome_filled'].fillna(train['outcome'].mean())"
   ]
  },
  {
   "cell_type": "code",
   "execution_count": null,
   "metadata": {
    "collapsed": true
   },
   "outputs": [],
   "source": [
    "########## Uncomment the lines below to obtain pure interpolation methods ###################"
   ]
  },
  {
   "cell_type": "code",
   "execution_count": 56,
   "metadata": {
    "collapsed": true
   },
   "outputs": [],
   "source": [
    "# test_out =  test_interpolated[['activity_id', 'outcome_filled_nona']].copy()\n",
    "# test_out.rename(columns={'outcome_filled_nona':'outcome'}, inplace=True)"
   ]
  },
  {
   "cell_type": "code",
   "execution_count": 72,
   "metadata": {
    "collapsed": false
   },
   "outputs": [],
   "source": [
    "# # test set contains the 17304 group and it was created earlier\n",
    "# test_out = pd.concat([test_out,test])"
   ]
  },
  {
   "cell_type": "code",
   "execution_count": 73,
   "metadata": {
    "collapsed": false
   },
   "outputs": [],
   "source": [
    "# test_out[['outcome','activity_id']].set_index('activity_id').to_csv(\"InterpolationPure.csv\")"
   ]
  },
  {
   "cell_type": "code",
   "execution_count": 78,
   "metadata": {
    "collapsed": false
   },
   "outputs": [],
   "source": [
    "test_interpolated = pd.concat([test_withleak,test])"
   ]
  },
  {
   "cell_type": "code",
   "execution_count": 80,
   "metadata": {
    "collapsed": false
   },
   "outputs": [],
   "source": [
    "test_interpolated.to_pickle(SAVE_AS_DIR+'/test_withleak.pkl')"
   ]
  },
  {
   "cell_type": "code",
   "execution_count": 102,
   "metadata": {
    "collapsed": false
   },
   "outputs": [
    {
     "name": "stderr",
     "output_type": "stream",
     "text": [
      "/Users/bhavyachandra/anaconda/lib/python2.7/site-packages/ipykernel/__main__.py:1: SettingWithCopyWarning: \n",
      "A value is trying to be set on a copy of a slice from a DataFrame.\n",
      "Try using .loc[row_indexer,col_indexer] = value instead\n",
      "\n",
      "See the caveats in the documentation: http://pandas.pydata.org/pandas-docs/stable/indexing.html#indexing-view-versus-copy\n",
      "  if __name__ == '__main__':\n"
     ]
    }
   ],
   "source": [
    "# This is not float, correct it\n",
    "train['people_id'] = train['people_id'].astype('int32')"
   ]
  },
  {
   "cell_type": "code",
   "execution_count": 154,
   "metadata": {
    "collapsed": true
   },
   "outputs": [],
   "source": [
    "######### Saving state of code here ##############\n",
    "train_data.to_pickle(SAVE_AS_DIR+'/train_without17304.pkl')\n",
    "train.to_pickle(SAVE_AS_DIR+'/traindedup_without17304.pkl')"
   ]
  },
  {
   "cell_type": "code",
   "execution_count": 23,
   "metadata": {
    "collapsed": false
   },
   "outputs": [],
   "source": [
    "train_data = pd.read_pickle(SAVE_AS_DIR+'/train_without17304.pkl')\n",
    "train = pd.read_pickle(SAVE_AS_DIR+'/traindedup_without17304.pkl')"
   ]
  },
  {
   "cell_type": "code",
   "execution_count": 28,
   "metadata": {
    "collapsed": false
   },
   "outputs": [
    {
     "name": "stderr",
     "output_type": "stream",
     "text": [
      "/Users/bhavyachandra/anaconda/lib/python2.7/site-packages/sklearn/cross_validation.py:44: DeprecationWarning: This module was deprecated in version 0.18 in favor of the model_selection module into which all the refactored classes and functions are moved. Also note that the interface of the new CV iterators are different from that of this module. This module will be removed in 0.20.\n",
      "  \"This module will be removed in 0.20.\", DeprecationWarning)\n"
     ]
    },
    {
     "name": "stdout",
     "output_type": "stream",
     "text": [
      "('TRAIN:', array([    0,     1,     2, ..., 89480, 89481, 89482]), 'TEST:', array([    3,     8,    10, ..., 89458, 89468, 89479]))\n",
      "('TRAIN:', array([    0,     2,     3, ..., 89479, 89480, 89481]), 'TEST:', array([    1,    12,    14, ..., 89472, 89476, 89482]))\n",
      "('TRAIN:', array([    0,     1,     2, ..., 89479, 89481, 89482]), 'TEST:', array([    5,     6,    15, ..., 89473, 89475, 89480]))\n",
      "('TRAIN:', array([    1,     3,     4, ..., 89479, 89480, 89482]), 'TEST:', array([    0,     2,    11, ..., 89470, 89478, 89481]))\n",
      "('TRAIN:', array([    0,     1,     2, ..., 89480, 89481, 89482]), 'TEST:', array([    4,     7,     9, ..., 89471, 89474, 89477]))\n"
     ]
    }
   ],
   "source": [
    "############# Predicting the extra feature on train set with help of CV on people_id #######################\n",
    "\n",
    "## Attempt A: Kfold -> on peopleID ##\n",
    "## Use either this or stratified K-fold ########\n",
    "from sklearn.cross_validation import KFold\n",
    "\n",
    "# Split on people_id instead\n",
    "KfoldOnPId=train_data.sort_values('people_id').groupby('people_id').mean()['outcome'].reset_index()\n",
    "\n",
    "X = KfoldOnPId['people_id']\n",
    "y = KfoldOnPId['outcome']\n",
    "\n",
    "X_train, X_test = {}, {}\n",
    "y_train, y_test = {}, {}\n",
    "\n",
    "kf = KFold(len(KfoldOnPId),5, shuffle=True, random_state=12345)\n",
    "i=0\n",
    "for train_index, test_index in kf:\n",
    "    print(\"TRAIN:\", train_index, \"TEST:\", test_index)\n",
    "    people_ids_train, people_ids_test = X.iloc[train_index], X.iloc[test_index]\n",
    "    X_train[i], X_test[i] = train_data[train_data.people_id.isin(people_ids_train)], \\\n",
    "                            train_data[train_data.people_id.isin(people_ids_test)]\n",
    "    y_train[i], y_test[i] = y[train_index], y[test_index]\n",
    "    i +=1"
   ]
  },
  {
   "cell_type": "code",
   "execution_count": 29,
   "metadata": {
    "collapsed": false
   },
   "outputs": [
    {
     "name": "stdout",
     "output_type": "stream",
     "text": [
      "(0, 270326, 0.7223315552333109)\n",
      "(1, 270812, 0.732138900787262)\n",
      "(2, 318855, 0.6041304041021781)\n",
      "(3, 268374, 0.7281703890838904)\n",
      "(4, 269799, 0.7187128195434379)\n"
     ]
    }
   ],
   "source": [
    "# The mean should be nearly equal across all folds, something is messing up one of the groups :/\n",
    "for k in range(len(X_train)):\n",
    "    print(k, len(X_test[k]), X_test[k].outcome.mean())"
   ]
  },
  {
   "cell_type": "code",
   "execution_count": 44,
   "metadata": {
    "collapsed": false
   },
   "outputs": [
    {
     "name": "stdout",
     "output_type": "stream",
     "text": [
      "('TRAIN:', array([      0,       1,       2, ..., 1398162, 1398164, 1398165]), 'TEST:', array([      6,       7,      19, ..., 1398151, 1398156, 1398163]))\n",
      "('TRAIN:', array([      0,       1,       2, ..., 1398160, 1398163, 1398165]), 'TEST:', array([     10,      22,      28, ..., 1398161, 1398162, 1398164]))\n",
      "('TRAIN:', array([      0,       2,       3, ..., 1398163, 1398164, 1398165]), 'TEST:', array([      1,       8,      11, ..., 1398142, 1398149, 1398158]))\n",
      "('TRAIN:', array([      0,       1,       2, ..., 1398162, 1398163, 1398164]), 'TEST:', array([      5,      12,      15, ..., 1398153, 1398160, 1398165]))\n",
      "('TRAIN:', array([      1,       5,       6, ..., 1398163, 1398164, 1398165]), 'TEST:', array([      0,       2,       3, ..., 1398154, 1398157, 1398159]))\n"
     ]
    }
   ],
   "source": [
    "## Gives better distribution ##\n",
    "from sklearn.model_selection import StratifiedKFold\n",
    "\n",
    "KfoldOnPId=train_data\n",
    "\n",
    "y = KfoldOnPId['outcome'].values\n",
    "X = KfoldOnPId\n",
    "\n",
    "\n",
    "X_train, X_test = {}, {}\n",
    "y_train, y_test = {}, {}\n",
    "\n",
    "skf = StratifiedKFold(5, shuffle=True, random_state=12345)\n",
    "i=0\n",
    "for train_index, test_index in skf.split(X,y):\n",
    "    print(\"TRAIN:\", train_index, \"TEST:\", test_index)\n",
    "    X_train[i], X_test[i] = X.iloc[train_index], X.iloc[test_index]\n",
    "#     X_train[i], X_test[i] = train_data[train_data.people_id.isin(people_ids_train)], \\\n",
    "#                             train_data[train_data.people_id.isin(people_ids_test)]\n",
    "    y_train[i], y_test[i] = y[train_index], y[test_index]\n",
    "    i +=1"
   ]
  },
  {
   "cell_type": "code",
   "execution_count": 45,
   "metadata": {
    "collapsed": false
   },
   "outputs": [
    {
     "name": "stdout",
     "output_type": "stream",
     "text": [
      "(0, 279634, 0.6976977048570632)\n",
      "(1, 279634, 0.6976977048570632)\n",
      "(2, 279633, 0.6976966237890377)\n",
      "(3, 279633, 0.6976966237890377)\n",
      "(4, 279632, 0.6976991188419065)\n"
     ]
    }
   ],
   "source": [
    "# The mean should be nearly equal across all folds, something is messing up one of the groups :/\n",
    "for k in range(len(X_train)):\n",
    "    print(k, len(X_test[k]), X_test[k].outcome.mean())"
   ]
  },
  {
   "cell_type": "code",
   "execution_count": 46,
   "metadata": {
    "collapsed": false
   },
   "outputs": [],
   "source": [
    "for k in range(len(X_train)):\n",
    "    # Get unique groups and expand date raneg\n",
    "    groups = X_train[k].people_group_1.unique()\n",
    "    allGroupsAndDays = pd.DataFrame.from_records(product(groups, alldays))\n",
    "    allGroupsAndDays.columns = ['people_group_1', 'actdate_leak']\n",
    "\n",
    "    meanbycomdate = X_train[k].groupby(['people_group_1', 'date'])['outcome'].agg('mean')\n",
    "\n",
    "## Convert the calculation into a proper DataFrame.\n",
    "    meanbycomdate = meanbycomdate.to_frame().reset_index()\n",
    "    meanbycomdate.rename(columns={'date': 'adate_mean'}, inplace=True)\n",
    "\n",
    "    allGroupsAndDays = pd.merge(allGroupsAndDays, meanbycomdate, left_on=['people_group_1', 'actdate_leak'], right_on=['people_group_1', 'adate_mean'], how='left')\n",
    "    agad2 = allGroupsAndDays.groupby('people_group_1').apply(interpolateFun0)\n",
    "    agad2 = agad2.rename(columns={'outcome': 'outcome_leak'})\n",
    "    agad2 = agad2.drop(['adate_mean'], axis=1)\n",
    "    X_test[k] = pd.merge( X_test[k], agad2, left_on=['people_group_1', 'date'], right_on=['people_group_1', 'actdate_leak'], how='left')\n",
    "    X_test[k].drop('actdate_leak', axis=1, inplace=True)"
   ]
  },
  {
   "cell_type": "code",
   "execution_count": 47,
   "metadata": {
    "collapsed": false
   },
   "outputs": [
    {
     "name": "stdout",
     "output_type": "stream",
     "text": [
      "0.999863077697\n",
      "0.999842562658\n",
      "0.999807603352\n",
      "0.99980856197\n",
      "0.999848951121\n",
      "('cv:', 0.9998338593764815)\n"
     ]
    }
   ],
   "source": [
    "import sklearn\n",
    "total_features = []\n",
    "\n",
    "for k in range(len(X_test)):\n",
    "        \n",
    "    X_test[k]['outcome_filled_nona'] = X_test[k].outcome_filled.fillna(X_train[k].outcome.mean())\n",
    "\n",
    "    total_features.append(X_test[k])\n",
    "    \n",
    "    print(sklearn.metrics.roc_auc_score(X_test[k].outcome.values, X_test[k].outcome_filled_nona.values))\n",
    "\n",
    "final_trained_new_features = pd.concat(total_features)\n",
    "print('cv:', sklearn.metrics.roc_auc_score(final_trained_new_features.outcome.values, final_trained_new_features.outcome_filled_nona.values))"
   ]
  },
  {
   "cell_type": "code",
   "execution_count": 52,
   "metadata": {
    "collapsed": true
   },
   "outputs": [],
   "source": [
    "train_interpolated_features = pd.merge(train_data,\\\n",
    "                                       final_trained_new_features[['activity_id', 'outcome_filled', 'outcome_filled_nona', 'outcome_leak']],\\\n",
    "                                       on='activity_id', how='left')"
   ]
  },
  {
   "cell_type": "code",
   "execution_count": 53,
   "metadata": {
    "collapsed": false
   },
   "outputs": [
    {
     "data": {
      "text/plain": [
       "(1398166, 72)"
      ]
     },
     "execution_count": 53,
     "metadata": {},
     "output_type": "execute_result"
    }
   ],
   "source": [
    "train_interpolated_features.shape"
   ]
  },
  {
   "cell_type": "code",
   "execution_count": 54,
   "metadata": {
    "collapsed": false
   },
   "outputs": [
    {
     "data": {
      "text/plain": [
       "(818977, 69)"
      ]
     },
     "execution_count": 54,
     "metadata": {},
     "output_type": "execute_result"
    }
   ],
   "source": [
    "train.shape # with duplicates dropped"
   ]
  },
  {
   "cell_type": "code",
   "execution_count": 55,
   "metadata": {
    "collapsed": false
   },
   "outputs": [
    {
     "data": {
      "text/plain": [
       "(1398166, 69)"
      ]
     },
     "execution_count": 55,
     "metadata": {},
     "output_type": "execute_result"
    }
   ],
   "source": [
    "train_data.shape #original df"
   ]
  },
  {
   "cell_type": "code",
   "execution_count": 56,
   "metadata": {
    "collapsed": true
   },
   "outputs": [],
   "source": [
    "train_interpolated_features.to_pickle(SAVE_AS_DIR+'/train_withInterpolations.pkl')"
   ]
  },
  {
   "cell_type": "code",
   "execution_count": null,
   "metadata": {
    "collapsed": true
   },
   "outputs": [],
   "source": [
    "################### END OF CODE - Discarded analysis can be found below #################################"
   ]
  },
  {
   "cell_type": "code",
   "execution_count": null,
   "metadata": {
    "collapsed": true
   },
   "outputs": [],
   "source": [
    "### SUMAARY ###\n",
    "### without 17304, with duplicates ###\n",
    "Kfold on peopleId = 0.94 AUC overall\n",
    "Stratified on activityId = 0.99 AUC overall <- using this \n",
    "## without 17304, without duplicates ##\n",
    "\n",
    "## with 17304, with duplicates ##\n",
    "Kfold on peopleId = 0.94 AUC overall\n",
    "Stratified on activityId = 0.9998338593764815 AUC overall <- using this \n",
    "\n",
    "## with 17304, without duplicates ##\n",
    "SKf = 0.99993755377355209"
   ]
  },
  {
   "cell_type": "code",
   "execution_count": null,
   "metadata": {
    "collapsed": true
   },
   "outputs": [],
   "source": [
    "############### DELETE STUFF BELOW HERE ################"
   ]
  },
  {
   "cell_type": "code",
   "execution_count": 62,
   "metadata": {
    "collapsed": false
   },
   "outputs": [
    {
     "name": "stdout",
     "output_type": "stream",
     "text": [
      "('TRAIN:', array([     0,      1,      2, ..., 818971, 818972, 818976]), 'TEST:', array([    11,     27,     34, ..., 818973, 818974, 818975]))\n",
      "('TRAIN:', array([     0,      1,      2, ..., 818973, 818974, 818975]), 'TEST:', array([     5,      6,     10, ..., 818958, 818972, 818976]))\n",
      "('TRAIN:', array([     0,      1,      2, ..., 818974, 818975, 818976]), 'TEST:', array([     3,     12,     13, ..., 818960, 818962, 818971]))\n",
      "('TRAIN:', array([     1,      3,      5, ..., 818974, 818975, 818976]), 'TEST:', array([     0,      2,      4, ..., 818965, 818969, 818970]))\n",
      "('TRAIN:', array([     0,      2,      3, ..., 818974, 818975, 818976]), 'TEST:', array([     1,      8,      9, ..., 818964, 818967, 818968]))\n",
      "(0, 163796, 0.720420523089697)\n",
      "(1, 163796, 0.720420523089697)\n",
      "(2, 163795, 0.720424921395647)\n",
      "(3, 163795, 0.720424921395647)\n",
      "(4, 163795, 0.720424921395647)\n",
      "0.999497641152\n",
      "0.999440363969\n",
      "0.999562401399\n",
      "0.999618962542\n",
      "0.999287302954\n",
      "('cv:', 0.99948174654159239)\n"
     ]
    }
   ],
   "source": [
    "## without 17304, without dups ##\n",
    "## with 17304, with duplicates ##\n",
    "### SKFOLD ###\n",
    "KfoldOnPId=train\n",
    "\n",
    "y = KfoldOnPId['outcome'].values\n",
    "X = KfoldOnPId\n",
    "\n",
    "\n",
    "X_train, X_test = {}, {}\n",
    "y_train, y_test = {}, {}\n",
    "\n",
    "skf = StratifiedKFold(5, shuffle=True, random_state=12345)\n",
    "i=0\n",
    "for train_index, test_index in skf.split(X,y):\n",
    "    print(\"TRAIN:\", train_index, \"TEST:\", test_index)\n",
    "    X_train[i], X_test[i] = X.iloc[train_index], X.iloc[test_index]\n",
    "#     X_train[i], X_test[i] = train_data[train_data.people_id.isin(people_ids_train)], \\\n",
    "#                             train_data[train_data.people_id.isin(people_ids_test)]\n",
    "    y_train[i], y_test[i] = y[train_index], y[test_index]\n",
    "    i +=1\n",
    "\n",
    "# The mean should be nearly equal across all folds, something is messing up one of the groups :/\n",
    "for k in range(len(X_train)):\n",
    "    print(k, len(X_test[k]), X_test[k].outcome.mean())\n",
    "\n",
    "for k in range(len(X_train)):\n",
    "    # Get unique groups and expand date raneg\n",
    "    groups = X_train[k].people_group_1.unique()\n",
    "    allGroupsAndDays = pd.DataFrame.from_records(product(groups, alldays))\n",
    "    allGroupsAndDays.columns = ['people_group_1', 'actdate_leak']\n",
    "\n",
    "    meanbycomdate = X_train[k].groupby(['people_group_1', 'date'])['outcome'].agg('mean')\n",
    "\n",
    "## Convert the calculation into a proper DataFrame.\n",
    "    meanbycomdate = meanbycomdate.to_frame().reset_index()\n",
    "    meanbycomdate.rename(columns={'date': 'adate_mean'}, inplace=True)\n",
    "\n",
    "    allGroupsAndDays = pd.merge(allGroupsAndDays, meanbycomdate, left_on=['people_group_1', 'actdate_leak'], right_on=['people_group_1', 'adate_mean'], how='left')\n",
    "    agad2 = allGroupsAndDays.groupby('people_group_1').apply(interpolateFun0)\n",
    "    agad2 = agad2.rename(columns={'outcome': 'outcome_leak'})\n",
    "    agad2 = agad2.drop(['adate_mean'], axis=1)\n",
    "    X_test[k] = pd.merge( X_test[k], agad2, left_on=['people_group_1', 'date'], right_on=['people_group_1', 'actdate_leak'], how='left')\n",
    "    X_test[k].drop('actdate_leak', axis=1, inplace=True)\n",
    "\n",
    "total_features = []\n",
    "\n",
    "for k in range(len(X_test)):\n",
    "        \n",
    "    X_test[k]['outcome_filled_nona'] = X_test[k].outcome_filled.fillna(X_train[k].outcome.mean())\n",
    "\n",
    "    total_features.append(X_test[k])\n",
    "    \n",
    "    print(sklearn.metrics.roc_auc_score(X_test[k].outcome.values, X_test[k].outcome_filled_nona.values))\n",
    "\n",
    "final_trained_new_features = pd.concat(total_features)\n",
    "print('cv:', sklearn.metrics.roc_auc_score(final_trained_new_features.outcome.values, final_trained_new_features.outcome_filled_nona.values))"
   ]
  },
  {
   "cell_type": "code",
   "execution_count": 63,
   "metadata": {
    "collapsed": false
   },
   "outputs": [
    {
     "name": "stdout",
     "output_type": "stream",
     "text": [
      "('TRAIN:', array([    0,     1,     2, ..., 89480, 89481, 89482]), 'TEST:', array([    3,     8,    10, ..., 89458, 89468, 89479]))\n",
      "('TRAIN:', array([    0,     2,     3, ..., 89479, 89480, 89481]), 'TEST:', array([    1,    12,    14, ..., 89472, 89476, 89482]))\n",
      "('TRAIN:', array([    0,     1,     2, ..., 89479, 89481, 89482]), 'TEST:', array([    5,     6,    15, ..., 89473, 89475, 89480]))\n",
      "('TRAIN:', array([    1,     3,     4, ..., 89479, 89480, 89482]), 'TEST:', array([    0,     2,    11, ..., 89470, 89478, 89481]))\n",
      "('TRAIN:', array([    0,     1,     2, ..., 89480, 89481, 89482]), 'TEST:', array([    4,     7,     9, ..., 89471, 89474, 89477]))\n",
      "(0, 270326, 0.7223315552333109)\n",
      "(1, 270812, 0.732138900787262)\n",
      "(2, 318855, 0.6041304041021781)\n",
      "(3, 268374, 0.7281703890838904)\n",
      "(4, 269799, 0.7187128195434379)\n",
      "0.958096801912\n",
      "0.958024364282\n",
      "0.938319764321\n",
      "0.958038189498\n",
      "0.956913363592\n",
      "('cv:', 0.9454443780956242)\n"
     ]
    }
   ],
   "source": [
    "### KFOLD ###\n",
    "## without 17304, without dups ##\n",
    "# Split on people_id instead\n",
    "KfoldOnPId=train.sort_values('people_id').groupby('people_id').mean()['outcome'].reset_index()\n",
    "\n",
    "X = KfoldOnPId['people_id']\n",
    "y = KfoldOnPId['outcome']\n",
    "\n",
    "X_train, X_test = {}, {}\n",
    "y_train, y_test = {}, {}\n",
    "\n",
    "kf = KFold(len(KfoldOnPId),5, shuffle=True, random_state=12345)\n",
    "i=0\n",
    "for train_index, test_index in kf:\n",
    "    print(\"TRAIN:\", train_index, \"TEST:\", test_index)\n",
    "    people_ids_train, people_ids_test = X.iloc[train_index], X.iloc[test_index]\n",
    "    X_train[i], X_test[i] = train_data[train_data.people_id.isin(people_ids_train)], \\\n",
    "                            train_data[train_data.people_id.isin(people_ids_test)]\n",
    "    y_train[i], y_test[i] = y[train_index], y[test_index]\n",
    "    i +=1\n",
    "    \n",
    "# The mean should be nearly equal across all folds, something is messing up one of the groups :/\n",
    "for k in range(len(X_train)):\n",
    "    print(k, len(X_test[k]), X_test[k].outcome.mean())\n",
    "\n",
    "for k in range(len(X_train)):\n",
    "    # Get unique groups and expand date raneg\n",
    "    groups = X_train[k].people_group_1.unique()\n",
    "    allGroupsAndDays = pd.DataFrame.from_records(product(groups, alldays))\n",
    "    allGroupsAndDays.columns = ['people_group_1', 'actdate_leak']\n",
    "\n",
    "    meanbycomdate = X_train[k].groupby(['people_group_1', 'date'])['outcome'].agg('mean')\n",
    "\n",
    "## Convert the calculation into a proper DataFrame.\n",
    "    meanbycomdate = meanbycomdate.to_frame().reset_index()\n",
    "    meanbycomdate.rename(columns={'date': 'adate_mean'}, inplace=True)\n",
    "\n",
    "    allGroupsAndDays = pd.merge(allGroupsAndDays, meanbycomdate, left_on=['people_group_1', 'actdate_leak'], right_on=['people_group_1', 'adate_mean'], how='left')\n",
    "    agad2 = allGroupsAndDays.groupby('people_group_1').apply(interpolateFun0)\n",
    "    agad2 = agad2.rename(columns={'outcome': 'outcome_leak'})\n",
    "    agad2 = agad2.drop(['adate_mean'], axis=1)\n",
    "    X_test[k] = pd.merge( X_test[k], agad2, left_on=['people_group_1', 'date'], right_on=['people_group_1', 'actdate_leak'], how='left')\n",
    "    X_test[k].drop('actdate_leak', axis=1, inplace=True)\n",
    "\n",
    "total_features = []\n",
    "\n",
    "for k in range(len(X_test)):\n",
    "        \n",
    "    X_test[k]['outcome_filled_nona'] = X_test[k].outcome_filled.fillna(X_train[k].outcome.mean())\n",
    "\n",
    "    total_features.append(X_test[k])\n",
    "    \n",
    "    print(sklearn.metrics.roc_auc_score(X_test[k].outcome.values, X_test[k].outcome_filled_nona.values))\n",
    "\n",
    "final_trained_new_features = pd.concat(total_features)\n",
    "print('cv:', sklearn.metrics.roc_auc_score(final_trained_new_features.outcome.values, final_trained_new_features.outcome_filled_nona.values))"
   ]
  },
  {
   "cell_type": "code",
   "execution_count": 57,
   "metadata": {
    "collapsed": false
   },
   "outputs": [
    {
     "name": "stdout",
     "output_type": "stream",
     "text": [
      "('TRAIN:', array([      0,       1,       2, ..., 2197286, 2197287, 2197288]), 'TEST:', array([     14,      31,      34, ..., 2197281, 2197289, 2197290]))\n",
      "('TRAIN:', array([      0,       2,       3, ..., 2197288, 2197289, 2197290]), 'TEST:', array([      1,       4,      15, ..., 2197278, 2197283, 2197286]))\n",
      "('TRAIN:', array([      0,       1,       3, ..., 2197288, 2197289, 2197290]), 'TEST:', array([      2,       5,       6, ..., 2197279, 2197280, 2197282]))\n",
      "('TRAIN:', array([      0,       1,       2, ..., 2197286, 2197289, 2197290]), 'TEST:', array([      8,       9,      11, ..., 2197285, 2197287, 2197288]))\n",
      "('TRAIN:', array([      1,       2,       4, ..., 2197288, 2197289, 2197290]), 'TEST:', array([      0,       3,       7, ..., 2197261, 2197273, 2197284]))\n",
      "(0, 439459, 0.44395495370444116)\n",
      "(1, 439459, 0.44395495370444116)\n",
      "(2, 439458, 0.44395368840708327)\n",
      "(3, 439458, 0.44395368840708327)\n",
      "(4, 439457, 0.44395469863945736)\n",
      "0.999931390082\n",
      "0.999944062406\n",
      "0.999929486143\n",
      "0.99993760006\n",
      "0.999945376968\n",
      "('cv:', 0.99993755377355209)\n"
     ]
    }
   ],
   "source": [
    "## with 17304, with duplicates ##\n",
    "### SKFOLD ###\n",
    "KfoldOnPId=train_data_i\n",
    "\n",
    "y = KfoldOnPId['outcome'].values\n",
    "X = KfoldOnPId\n",
    "\n",
    "\n",
    "X_train, X_test = {}, {}\n",
    "y_train, y_test = {}, {}\n",
    "\n",
    "skf = StratifiedKFold(5, shuffle=True, random_state=12345)\n",
    "i=0\n",
    "for train_index, test_index in skf.split(X,y):\n",
    "    print(\"TRAIN:\", train_index, \"TEST:\", test_index)\n",
    "    X_train[i], X_test[i] = X.iloc[train_index], X.iloc[test_index]\n",
    "#     X_train[i], X_test[i] = train_data[train_data.people_id.isin(people_ids_train)], \\\n",
    "#                             train_data[train_data.people_id.isin(people_ids_test)]\n",
    "    y_train[i], y_test[i] = y[train_index], y[test_index]\n",
    "    i +=1\n",
    "\n",
    "# The mean should be nearly equal across all folds, something is messing up one of the groups :/\n",
    "for k in range(len(X_train)):\n",
    "    print(k, len(X_test[k]), X_test[k].outcome.mean())\n",
    "\n",
    "for k in range(len(X_train)):\n",
    "    # Get unique groups and expand date raneg\n",
    "    groups = X_train[k].people_group_1.unique()\n",
    "    allGroupsAndDays = pd.DataFrame.from_records(product(groups, alldays))\n",
    "    allGroupsAndDays.columns = ['people_group_1', 'actdate_leak']\n",
    "\n",
    "    meanbycomdate = X_train[k].groupby(['people_group_1', 'date'])['outcome'].agg('mean')\n",
    "\n",
    "## Convert the calculation into a proper DataFrame.\n",
    "    meanbycomdate = meanbycomdate.to_frame().reset_index()\n",
    "    meanbycomdate.rename(columns={'date': 'adate_mean'}, inplace=True)\n",
    "\n",
    "    allGroupsAndDays = pd.merge(allGroupsAndDays, meanbycomdate, left_on=['people_group_1', 'actdate_leak'], right_on=['people_group_1', 'adate_mean'], how='left')\n",
    "    agad2 = allGroupsAndDays.groupby('people_group_1').apply(interpolateFun0)\n",
    "    agad2 = agad2.rename(columns={'outcome': 'outcome_leak'})\n",
    "    agad2 = agad2.drop(['adate_mean'], axis=1)\n",
    "    X_test[k] = pd.merge( X_test[k], agad2, left_on=['people_group_1', 'date'], right_on=['people_group_1', 'actdate_leak'], how='left')\n",
    "    X_test[k].drop('actdate_leak', axis=1, inplace=True)\n",
    "\n",
    "total_features = []\n",
    "\n",
    "for k in range(len(X_test)):\n",
    "        \n",
    "    X_test[k]['outcome_filled_nona'] = X_test[k].outcome_filled.fillna(X_train[k].outcome.mean())\n",
    "\n",
    "    total_features.append(X_test[k])\n",
    "    \n",
    "    print(sklearn.metrics.roc_auc_score(X_test[k].outcome.values, X_test[k].outcome_filled_nona.values))\n",
    "\n",
    "final_trained_new_features = pd.concat(total_features)\n",
    "print('cv:', sklearn.metrics.roc_auc_score(final_trained_new_features.outcome.values, final_trained_new_features.outcome_filled_nona.values))"
   ]
  },
  {
   "cell_type": "code",
   "execution_count": 58,
   "metadata": {
    "collapsed": false
   },
   "outputs": [
    {
     "name": "stdout",
     "output_type": "stream",
     "text": [
      "('TRAIN:', array([     0,      2,      3, ..., 151290, 151292, 151293]), 'TEST:', array([     1,      7,      8, ..., 151289, 151291, 151294]))\n",
      "('TRAIN:', array([     0,      1,      2, ..., 151292, 151293, 151294]), 'TEST:', array([    13,     29,     31, ..., 151262, 151269, 151285]))\n",
      "('TRAIN:', array([     0,      1,      4, ..., 151292, 151293, 151294]), 'TEST:', array([     2,      3,     12, ..., 151275, 151277, 151280]))\n",
      "('TRAIN:', array([     1,      2,      3, ..., 151291, 151293, 151294]), 'TEST:', array([     0,      4,      5, ..., 151286, 151290, 151292]))\n",
      "('TRAIN:', array([     0,      1,      2, ..., 151291, 151292, 151294]), 'TEST:', array([     9,     16,     19, ..., 151274, 151278, 151293]))\n",
      "(0, 263162, 0.7322485769222)\n",
      "(1, 322258, 0.5961031223429675)\n",
      "(2, 274696, 0.7361228412499636)\n",
      "(3, 269626, 0.7251118215602352)\n",
      "(4, 268424, 0.7189334783774923)\n",
      "0.95535559915\n",
      "0.94038966679\n",
      "0.947760633414\n",
      "0.957864609794\n",
      "0.960203048365\n",
      "('cv:', 0.94204630996618932)\n"
     ]
    }
   ],
   "source": [
    "## with 17304, with duplicates ##\n",
    "### KFOLD ###\n",
    "# Split on people_id instead\n",
    "KfoldOnPId=train_data_i.sort_values('people_id').groupby('people_id').mean()['outcome'].reset_index()\n",
    "\n",
    "X = KfoldOnPId['people_id']\n",
    "y = KfoldOnPId['outcome']\n",
    "\n",
    "X_train, X_test = {}, {}\n",
    "y_train, y_test = {}, {}\n",
    "\n",
    "kf = KFold(len(KfoldOnPId),5, shuffle=True, random_state=12345)\n",
    "i=0\n",
    "for train_index, test_index in kf:\n",
    "    print(\"TRAIN:\", train_index, \"TEST:\", test_index)\n",
    "    people_ids_train, people_ids_test = X.iloc[train_index], X.iloc[test_index]\n",
    "    X_train[i], X_test[i] = train_data[train_data.people_id.isin(people_ids_train)], \\\n",
    "                            train_data[train_data.people_id.isin(people_ids_test)]\n",
    "    y_train[i], y_test[i] = y[train_index], y[test_index]\n",
    "    i +=1\n",
    "    \n",
    "# The mean should be nearly equal across all folds, something is messing up one of the groups :/\n",
    "for k in range(len(X_train)):\n",
    "    print(k, len(X_test[k]), X_test[k].outcome.mean())\n",
    "\n",
    "for k in range(len(X_train)):\n",
    "    # Get unique groups and expand date raneg\n",
    "    groups = X_train[k].people_group_1.unique()\n",
    "    allGroupsAndDays = pd.DataFrame.from_records(product(groups, alldays))\n",
    "    allGroupsAndDays.columns = ['people_group_1', 'actdate_leak']\n",
    "\n",
    "    meanbycomdate = X_train[k].groupby(['people_group_1', 'date'])['outcome'].agg('mean')\n",
    "\n",
    "## Convert the calculation into a proper DataFrame.\n",
    "    meanbycomdate = meanbycomdate.to_frame().reset_index()\n",
    "    meanbycomdate.rename(columns={'date': 'adate_mean'}, inplace=True)\n",
    "\n",
    "    allGroupsAndDays = pd.merge(allGroupsAndDays, meanbycomdate, left_on=['people_group_1', 'actdate_leak'], right_on=['people_group_1', 'adate_mean'], how='left')\n",
    "    agad2 = allGroupsAndDays.groupby('people_group_1').apply(interpolateFun0)\n",
    "    agad2 = agad2.rename(columns={'outcome': 'outcome_leak'})\n",
    "    agad2 = agad2.drop(['adate_mean'], axis=1)\n",
    "    X_test[k] = pd.merge( X_test[k], agad2, left_on=['people_group_1', 'date'], right_on=['people_group_1', 'actdate_leak'], how='left')\n",
    "    X_test[k].drop('actdate_leak', axis=1, inplace=True)\n",
    "\n",
    "total_features = []\n",
    "\n",
    "for k in range(len(X_test)):\n",
    "        \n",
    "    X_test[k]['outcome_filled_nona'] = X_test[k].outcome_filled.fillna(X_train[k].outcome.mean())\n",
    "\n",
    "    total_features.append(X_test[k])\n",
    "    \n",
    "    print(sklearn.metrics.roc_auc_score(X_test[k].outcome.values, X_test[k].outcome_filled_nona.values))\n",
    "\n",
    "final_trained_new_features = pd.concat(total_features)\n",
    "print('cv:', sklearn.metrics.roc_auc_score(final_trained_new_features.outcome.values, final_trained_new_features.outcome_filled_nona.values))"
   ]
  },
  {
   "cell_type": "code",
   "execution_count": 59,
   "metadata": {
    "collapsed": false
   },
   "outputs": [
    {
     "data": {
      "text/plain": [
       "(2197291, 69)"
      ]
     },
     "execution_count": 59,
     "metadata": {},
     "output_type": "execute_result"
    }
   ],
   "source": [
    "# drop duplicates\n",
    "is_dup = train_data_i.drop('activity_id',axis=1).duplicated()\n",
    "train_data_i = train_data_i[~is_dup]"
   ]
  },
  {
   "cell_type": "code",
   "execution_count": 61,
   "metadata": {
    "collapsed": false
   },
   "outputs": [
    {
     "name": "stdout",
     "output_type": "stream",
     "text": [
      "('TRAIN:', array([      0,       1,       2, ..., 2197286, 2197287, 2197288]), 'TEST:', array([     14,      31,      34, ..., 2197281, 2197289, 2197290]))\n",
      "('TRAIN:', array([      0,       2,       3, ..., 2197288, 2197289, 2197290]), 'TEST:', array([      1,       4,      15, ..., 2197278, 2197283, 2197286]))\n",
      "('TRAIN:', array([      0,       1,       3, ..., 2197288, 2197289, 2197290]), 'TEST:', array([      2,       5,       6, ..., 2197279, 2197280, 2197282]))\n",
      "('TRAIN:', array([      0,       1,       2, ..., 2197286, 2197289, 2197290]), 'TEST:', array([      8,       9,      11, ..., 2197285, 2197287, 2197288]))\n",
      "('TRAIN:', array([      1,       2,       4, ..., 2197288, 2197289, 2197290]), 'TEST:', array([      0,       3,       7, ..., 2197261, 2197273, 2197284]))\n",
      "(0, 439459, 0.44395495370444116)\n",
      "(1, 439459, 0.44395495370444116)\n",
      "(2, 439458, 0.44395368840708327)\n",
      "(3, 439458, 0.44395368840708327)\n",
      "(4, 439457, 0.44395469863945736)\n",
      "0.999931390082\n",
      "0.999944062406\n",
      "0.999929486143\n",
      "0.99993760006\n",
      "0.999945376968\n",
      "('cv:', 0.99993755377355209)\n"
     ]
    }
   ],
   "source": [
    "## with 17304, without duplicates ##\n",
    "### SKFOLD ###\n",
    "KfoldOnPId=train_data_i\n",
    "\n",
    "y = KfoldOnPId['outcome'].values\n",
    "X = KfoldOnPId\n",
    "\n",
    "\n",
    "X_train, X_test = {}, {}\n",
    "y_train, y_test = {}, {}\n",
    "\n",
    "skf = StratifiedKFold(5, shuffle=True, random_state=12345)\n",
    "i=0\n",
    "for train_index, test_index in skf.split(X,y):\n",
    "    print(\"TRAIN:\", train_index, \"TEST:\", test_index)\n",
    "    X_train[i], X_test[i] = X.iloc[train_index], X.iloc[test_index]\n",
    "#     X_train[i], X_test[i] = train_data[train_data.people_id.isin(people_ids_train)], \\\n",
    "#                             train_data[train_data.people_id.isin(people_ids_test)]\n",
    "    y_train[i], y_test[i] = y[train_index], y[test_index]\n",
    "    i +=1\n",
    "\n",
    "# The mean should be nearly equal across all folds, something is messing up one of the groups :/\n",
    "for k in range(len(X_train)):\n",
    "    print(k, len(X_test[k]), X_test[k].outcome.mean())\n",
    "\n",
    "for k in range(len(X_train)):\n",
    "    # Get unique groups and expand date raneg\n",
    "    groups = X_train[k].people_group_1.unique()\n",
    "    allGroupsAndDays = pd.DataFrame.from_records(product(groups, alldays))\n",
    "    allGroupsAndDays.columns = ['people_group_1', 'actdate_leak']\n",
    "\n",
    "    meanbycomdate = X_train[k].groupby(['people_group_1', 'date'])['outcome'].agg('mean')\n",
    "\n",
    "## Convert the calculation into a proper DataFrame.\n",
    "    meanbycomdate = meanbycomdate.to_frame().reset_index()\n",
    "    meanbycomdate.rename(columns={'date': 'adate_mean'}, inplace=True)\n",
    "\n",
    "    allGroupsAndDays = pd.merge(allGroupsAndDays, meanbycomdate, left_on=['people_group_1', 'actdate_leak'], right_on=['people_group_1', 'adate_mean'], how='left')\n",
    "    agad2 = allGroupsAndDays.groupby('people_group_1').apply(interpolateFun0)\n",
    "    agad2 = agad2.rename(columns={'outcome': 'outcome_leak'})\n",
    "    agad2 = agad2.drop(['adate_mean'], axis=1)\n",
    "    X_test[k] = pd.merge( X_test[k], agad2, left_on=['people_group_1', 'date'], right_on=['people_group_1', 'actdate_leak'], how='left')\n",
    "    X_test[k].drop('actdate_leak', axis=1, inplace=True)\n",
    "\n",
    "total_features = []\n",
    "\n",
    "for k in range(len(X_test)):\n",
    "        \n",
    "    X_test[k]['outcome_filled_nona'] = X_test[k].outcome_filled.fillna(X_train[k].outcome.mean())\n",
    "\n",
    "    total_features.append(X_test[k])\n",
    "    \n",
    "    print(sklearn.metrics.roc_auc_score(X_test[k].outcome.values, X_test[k].outcome_filled_nona.values))\n",
    "\n",
    "final_trained_new_features = pd.concat(total_features)\n",
    "print('cv:', sklearn.metrics.roc_auc_score(final_trained_new_features.outcome.values, final_trained_new_features.outcome_filled_nona.values))"
   ]
  },
  {
   "cell_type": "code",
   "execution_count": 60,
   "metadata": {
    "collapsed": false
   },
   "outputs": [
    {
     "name": "stdout",
     "output_type": "stream",
     "text": [
      "('TRAIN:', array([     0,      2,      3, ..., 151290, 151292, 151293]), 'TEST:', array([     1,      7,      8, ..., 151289, 151291, 151294]))\n",
      "('TRAIN:', array([     0,      1,      2, ..., 151292, 151293, 151294]), 'TEST:', array([    13,     29,     31, ..., 151262, 151269, 151285]))\n",
      "('TRAIN:', array([     0,      1,      4, ..., 151292, 151293, 151294]), 'TEST:', array([     2,      3,     12, ..., 151275, 151277, 151280]))\n",
      "('TRAIN:', array([     1,      2,      3, ..., 151291, 151293, 151294]), 'TEST:', array([     0,      4,      5, ..., 151286, 151290, 151292]))\n",
      "('TRAIN:', array([     0,      1,      2, ..., 151291, 151292, 151294]), 'TEST:', array([     9,     16,     19, ..., 151274, 151278, 151293]))\n",
      "(0, 263162, 0.7322485769222)\n",
      "(1, 322258, 0.5961031223429675)\n",
      "(2, 274696, 0.7361228412499636)\n",
      "(3, 269626, 0.7251118215602352)\n",
      "(4, 268424, 0.7189334783774923)\n",
      "0.95535559915\n",
      "0.94038966679\n",
      "0.947760633414\n",
      "0.957864609794\n",
      "0.960203048365\n",
      "('cv:', 0.94204630996618932)\n"
     ]
    }
   ],
   "source": [
    "## with 17304, without duplicates ##\n",
    "### KFOLD ###\n",
    "# Split on people_id instead\n",
    "KfoldOnPId=train_data_i.sort_values('people_id').groupby('people_id').mean()['outcome'].reset_index()\n",
    "\n",
    "X = KfoldOnPId['people_id']\n",
    "y = KfoldOnPId['outcome']\n",
    "\n",
    "X_train, X_test = {}, {}\n",
    "y_train, y_test = {}, {}\n",
    "\n",
    "kf = KFold(len(KfoldOnPId),5, shuffle=True, random_state=12345)\n",
    "i=0\n",
    "for train_index, test_index in kf:\n",
    "    print(\"TRAIN:\", train_index, \"TEST:\", test_index)\n",
    "    people_ids_train, people_ids_test = X.iloc[train_index], X.iloc[test_index]\n",
    "    X_train[i], X_test[i] = train_data[train_data.people_id.isin(people_ids_train)], \\\n",
    "                            train_data[train_data.people_id.isin(people_ids_test)]\n",
    "    y_train[i], y_test[i] = y[train_index], y[test_index]\n",
    "    i +=1\n",
    "    \n",
    "# The mean should be nearly equal across all folds, something is messing up one of the groups :/\n",
    "for k in range(len(X_train)):\n",
    "    print(k, len(X_test[k]), X_test[k].outcome.mean())\n",
    "\n",
    "for k in range(len(X_train)):\n",
    "    # Get unique groups and expand date raneg\n",
    "    groups = X_train[k].people_group_1.unique()\n",
    "    allGroupsAndDays = pd.DataFrame.from_records(product(groups, alldays))\n",
    "    allGroupsAndDays.columns = ['people_group_1', 'actdate_leak']\n",
    "\n",
    "    meanbycomdate = X_train[k].groupby(['people_group_1', 'date'])['outcome'].agg('mean')\n",
    "\n",
    "## Convert the calculation into a proper DataFrame.\n",
    "    meanbycomdate = meanbycomdate.to_frame().reset_index()\n",
    "    meanbycomdate.rename(columns={'date': 'adate_mean'}, inplace=True)\n",
    "\n",
    "    allGroupsAndDays = pd.merge(allGroupsAndDays, meanbycomdate, left_on=['people_group_1', 'actdate_leak'], right_on=['people_group_1', 'adate_mean'], how='left')\n",
    "    agad2 = allGroupsAndDays.groupby('people_group_1').apply(interpolateFun0)\n",
    "    agad2 = agad2.rename(columns={'outcome': 'outcome_leak'})\n",
    "    agad2 = agad2.drop(['adate_mean'], axis=1)\n",
    "    X_test[k] = pd.merge( X_test[k], agad2, left_on=['people_group_1', 'date'], right_on=['people_group_1', 'actdate_leak'], how='left')\n",
    "    X_test[k].drop('actdate_leak', axis=1, inplace=True)\n",
    "\n",
    "total_features = []\n",
    "\n",
    "for k in range(len(X_test)):\n",
    "        \n",
    "    X_test[k]['outcome_filled_nona'] = X_test[k].outcome_filled.fillna(X_train[k].outcome.mean())\n",
    "\n",
    "    total_features.append(X_test[k])\n",
    "    \n",
    "    print(sklearn.metrics.roc_auc_score(X_test[k].outcome.values, X_test[k].outcome_filled_nona.values))\n",
    "\n",
    "final_trained_new_features = pd.concat(total_features)\n",
    "print('cv:', sklearn.metrics.roc_auc_score(final_trained_new_features.outcome.values, final_trained_new_features.outcome_filled_nona.values))"
   ]
  }
 ],
 "metadata": {
  "anaconda-cloud": {},
  "kernelspec": {
   "display_name": "Python [conda root]",
   "language": "python",
   "name": "conda-root-py"
  },
  "language_info": {
   "codemirror_mode": {
    "name": "ipython",
    "version": 2
   },
   "file_extension": ".py",
   "mimetype": "text/x-python",
   "name": "python",
   "nbconvert_exporter": "python",
   "pygments_lexer": "ipython2",
   "version": "2.7.12"
  }
 },
 "nbformat": 4,
 "nbformat_minor": 1
}
