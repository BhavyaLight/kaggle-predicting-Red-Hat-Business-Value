{
 "cells": [
  {
   "cell_type": "code",
   "execution_count": 71,
   "metadata": {
    "collapsed": true
   },
   "outputs": [],
   "source": [
    "import numpy as np\n",
    "import pandas as pd\n",
    "import pickle\n",
    "import time"
   ]
  },
  {
   "cell_type": "code",
   "execution_count": 72,
   "metadata": {
    "collapsed": true
   },
   "outputs": [],
   "source": [
    "# Path to the pickle files\n",
    "PKL_DIR = 'Data/pickle'\n",
    "CSV_DIR = 'Data'\n",
    "\n",
    "# File names\n",
    "train_interpolated = '/train_withInterpolations.pkl'\n",
    "test_interpolated = '/test_withleak.pkl'\n",
    "train_with_dates ='/train_withDateFeatures_without17304.pkl'\n",
    "test_with_dates ='/test_withDateFeatures_without17304.pkl'\n",
    "train_with_o ='/train2_otype.pkl'\n",
    "test_with_o ='/test2_otype.pkl'\n",
    "train_reduced = '/train_features_reduced_17304_non_cont.csv'\n",
    "train_red_output = '/act_train_output.csv'\n",
    "test_reduced = '/test_features_reduced_17304_non_cont.csv'"
   ]
  },
  {
   "cell_type": "code",
   "execution_count": 73,
   "metadata": {
    "collapsed": false
   },
   "outputs": [],
   "source": [
    "# Read all\n",
    "train_data_i = pd.read_pickle(PKL_DIR+train_interpolated)\n",
    "test_data_i = pd.read_pickle(PKL_DIR+test_interpolated)"
   ]
  },
  {
   "cell_type": "code",
   "execution_count": 74,
   "metadata": {
    "collapsed": false
   },
   "outputs": [],
   "source": [
    "train_data_d = pd.read_pickle(PKL_DIR+train_with_dates)\n",
    "test_data_d = pd.read_pickle(PKL_DIR+test_with_dates)"
   ]
  },
  {
   "cell_type": "code",
   "execution_count": 75,
   "metadata": {
    "collapsed": true
   },
   "outputs": [],
   "source": [
    "train_data_o = pd.read_pickle(PKL_DIR+train_with_o)\n",
    "test_data_o = pd.read_pickle(PKL_DIR+test_with_o)"
   ]
  },
  {
   "cell_type": "code",
   "execution_count": 76,
   "metadata": {
    "collapsed": false,
    "scrolled": true
   },
   "outputs": [],
   "source": [
    "# Read the train data set\n",
    "train_data=pd.read_csv(CSV_DIR+train_reduced,parse_dates=[\"date\",\"people_date\"])"
   ]
  },
  {
   "cell_type": "code",
   "execution_count": 77,
   "metadata": {
    "collapsed": true
   },
   "outputs": [],
   "source": [
    "test_data=pd.read_csv(CSV_DIR+test_reduced,parse_dates=[\"date\",\"people_date\"])"
   ]
  },
  {
   "cell_type": "code",
   "execution_count": 78,
   "metadata": {
    "collapsed": false
   },
   "outputs": [
    {
     "data": {
      "text/plain": [
       "Index([u'activity_category', u'activity_id', u'char_1', u'char_10', u'char_2',\n",
       "       u'char_3', u'char_4', u'char_5', u'char_6', u'char_7', u'char_8',\n",
       "       u'char_9', u'date', u'dayOfMonth', u'days', u'month', u'outcome',\n",
       "       u'outcome_filled', u'outcome_filled_nona', u'outcome_leak',\n",
       "       u'people_char_1', u'people_char_10', u'people_char_11',\n",
       "       u'people_char_12', u'people_char_13', u'people_char_14',\n",
       "       u'people_char_15', u'people_char_16', u'people_char_17',\n",
       "       u'people_char_18', u'people_char_19', u'people_char_2',\n",
       "       u'people_char_20', u'people_char_21', u'people_char_22',\n",
       "       u'people_char_23', u'people_char_24', u'people_char_25',\n",
       "       u'people_char_26', u'people_char_27', u'people_char_28',\n",
       "       u'people_char_29', u'people_char_3', u'people_char_30',\n",
       "       u'people_char_31', u'people_char_32', u'people_char_33',\n",
       "       u'people_char_34', u'people_char_35', u'people_char_36',\n",
       "       u'people_char_37', u'people_char_38', u'people_char_4',\n",
       "       u'people_char_5', u'people_char_6', u'people_char_7', u'people_char_8',\n",
       "       u'people_char_9', u'people_date', u'people_dayOfMonth', u'people_days',\n",
       "       u'people_group_1', u'people_id', u'people_month', u'people_quarter',\n",
       "       u'people_week', u'people_weekend', u'people_year', u'quarter', u'week',\n",
       "       u'weekend', u'year', u'adays_till_activity', u'pdays_till_activity',\n",
       "       u'worked_for_day', u'next_outcome', u'prev_outcome', u'diff_date',\n",
       "       u'people_per_group', u'people_per_group_date',\n",
       "       u'activities_per_group_date'],\n",
       "      dtype='object')"
      ]
     },
     "execution_count": 78,
     "metadata": {},
     "output_type": "execute_result"
    }
   ],
   "source": [
    "train_data_d.columns"
   ]
  },
  {
   "cell_type": "code",
   "execution_count": 79,
   "metadata": {
    "collapsed": false
   },
   "outputs": [],
   "source": [
    "Extra_date_columns = list(set(train_data_d.columns).difference(set(train_data.columns)))"
   ]
  },
  {
   "cell_type": "code",
   "execution_count": 80,
   "metadata": {
    "collapsed": true
   },
   "outputs": [],
   "source": [
    "Extra_outcome_columns = list(set(train_data_i.columns).difference(set(train_data.columns)))"
   ]
  },
  {
   "cell_type": "code",
   "execution_count": 81,
   "metadata": {
    "collapsed": true
   },
   "outputs": [],
   "source": [
    "Extra_o_columns = list(set(train_data_o.columns).difference(set(train_data.columns)))"
   ]
  },
  {
   "cell_type": "code",
   "execution_count": 82,
   "metadata": {
    "collapsed": false
   },
   "outputs": [
    {
     "data": {
      "text/plain": [
       "['gp_all0', 'gp_mixed', 'gp_all1']"
      ]
     },
     "execution_count": 82,
     "metadata": {},
     "output_type": "execute_result"
    }
   ],
   "source": [
    "list(set(train_data_o.columns).difference(set(train_data_d.columns)))"
   ]
  },
  {
   "cell_type": "code",
   "execution_count": 83,
   "metadata": {
    "collapsed": false
   },
   "outputs": [
    {
     "data": {
      "text/plain": [
       "(1563770, 84)"
      ]
     },
     "execution_count": 83,
     "metadata": {},
     "output_type": "execute_result"
    }
   ],
   "source": [
    "train_data_o.shape"
   ]
  },
  {
   "cell_type": "code",
   "execution_count": 84,
   "metadata": {
    "collapsed": false
   },
   "outputs": [
    {
     "data": {
      "text/plain": [
       "(1563770, 81)"
      ]
     },
     "execution_count": 84,
     "metadata": {},
     "output_type": "execute_result"
    }
   ],
   "source": [
    "train_data_d.shape"
   ]
  },
  {
   "cell_type": "code",
   "execution_count": 85,
   "metadata": {
    "collapsed": false
   },
   "outputs": [
    {
     "data": {
      "text/plain": [
       "(1398166, 68)"
      ]
     },
     "execution_count": 85,
     "metadata": {},
     "output_type": "execute_result"
    }
   ],
   "source": [
    "train_data.shape"
   ]
  },
  {
   "cell_type": "code",
   "execution_count": 86,
   "metadata": {
    "collapsed": false
   },
   "outputs": [
    {
     "data": {
      "text/plain": [
       "(1398166, 72)"
      ]
     },
     "execution_count": 86,
     "metadata": {},
     "output_type": "execute_result"
    }
   ],
   "source": [
    "train_data_i.shape"
   ]
  },
  {
   "cell_type": "code",
   "execution_count": 87,
   "metadata": {
    "collapsed": false
   },
   "outputs": [
    {
     "data": {
      "text/plain": [
       "(333083, 68)"
      ]
     },
     "execution_count": 87,
     "metadata": {},
     "output_type": "execute_result"
    }
   ],
   "source": [
    "test_data.shape"
   ]
  },
  {
   "cell_type": "code",
   "execution_count": 88,
   "metadata": {
    "collapsed": false
   },
   "outputs": [],
   "source": [
    "# Extra_o_columns"
   ]
  },
  {
   "cell_type": "code",
   "execution_count": 89,
   "metadata": {
    "collapsed": false
   },
   "outputs": [],
   "source": [
    "merged_all_features = pd.merge(train_data,train_data_o[['activity_id']+Extra_o_columns],on='activity_id',how='left')"
   ]
  },
  {
   "cell_type": "code",
   "execution_count": 90,
   "metadata": {
    "collapsed": false
   },
   "outputs": [],
   "source": [
    "train = merged_all_features"
   ]
  },
  {
   "cell_type": "code",
   "execution_count": 91,
   "metadata": {
    "collapsed": true
   },
   "outputs": [],
   "source": [
    "test = pd.merge(test_data,test_data_o[['activity_id']+Extra_o_columns],on='activity_id',how='left')"
   ]
  },
  {
   "cell_type": "code",
   "execution_count": 92,
   "metadata": {
    "collapsed": false
   },
   "outputs": [
    {
     "name": "stdout",
     "output_type": "stream",
     "text": [
      "(1398166, 84) (333083, 84)\n"
     ]
    }
   ],
   "source": [
    "print train.shape,test.shape"
   ]
  },
  {
   "cell_type": "code",
   "execution_count": 93,
   "metadata": {
    "collapsed": true
   },
   "outputs": [],
   "source": [
    "from sklearn.preprocessing import OneHotEncoder"
   ]
  },
  {
   "cell_type": "code",
   "execution_count": 94,
   "metadata": {
    "collapsed": true
   },
   "outputs": [],
   "source": [
    "# Function to change labels of categories to one-hot encoding using scikit's OneHot Encoding\n",
    "# pd.get_dummies(df) does the same, provides sweet header's as well but it it not fast enough, kill's memory\n",
    "def category_to_one_hot(dataset,non_feature,continuous_feature):\n",
    "    ds = dataset.drop(non_feature,axis=1)\n",
    "    boolean_column = []\n",
    "    counter=0\n",
    "    for column in ds.columns:\n",
    "        if column not in continuous_feature:\n",
    "            boolean_column.append(counter)\n",
    "        counter += 1\n",
    "    # boolean_colum is not the column name but index\n",
    "    print (\"Done filtering columns...\")\n",
    "    grd_enc = OneHotEncoder(categorical_features=boolean_column)\n",
    "    encoded_arr=grd_enc.fit_transform(ds)\n",
    "    return encoded_arr"
   ]
  },
  {
   "cell_type": "code",
   "execution_count": 95,
   "metadata": {
    "collapsed": false
   },
   "outputs": [
    {
     "data": {
      "text/plain": [
       "{'activities_per_group_date',\n",
       " 'adays_till_activity',\n",
       " 'diff_date',\n",
       " 'gp_all0',\n",
       " 'gp_all1',\n",
       " 'gp_mixed',\n",
       " 'next_outcome',\n",
       " 'outcome',\n",
       " 'outcome_filled',\n",
       " 'outcome_filled_nona',\n",
       " 'outcome_leak',\n",
       " 'pdays_till_activity',\n",
       " 'people_per_group',\n",
       " 'people_per_group_date',\n",
       " 'prev_outcome',\n",
       " 'worked_for_day'}"
      ]
     },
     "execution_count": 95,
     "metadata": {},
     "output_type": "execute_result"
    }
   ],
   "source": [
    "set(train.columns).difference(set(train_data.columns))"
   ]
  },
  {
   "cell_type": "code",
   "execution_count": 96,
   "metadata": {
    "collapsed": true
   },
   "outputs": [],
   "source": [
    "# Non feature\n",
    "NON_FEATURE=['activity_id','people_id','date','people_date','char_10','outcome', 'outcome_leak','outcome_filled']\n",
    "\n",
    "# Categorical data that is only label encoded\n",
    "CATEGORICAL_DATA = ['people_char_1', 'people_char_2','people_group_1',\n",
    "                    'people_char_3', 'people_char_4', 'people_char_5',\n",
    "                    'people_char_6', 'people_char_7', 'people_char_8',\n",
    "                    'people_char_9', 'activity_category',\n",
    "                    'char_1', 'char_2', 'char_3', 'char_4', 'char_5', 'char_6',\n",
    "                    'char_7', 'char_8', 'char_9']\n",
    "\n",
    "# Already in a one-hot encoded form\n",
    "CATEGORICAL_BINARY = ['people_char_10', 'people_char_11', 'people_char_12',\n",
    "                      'people_char_13', 'people_char_14', 'people_char_15',\n",
    "                      'people_char_16', 'people_char_17', 'people_char_18',\n",
    "                      'people_char_19', 'people_char_20', 'people_char_21',\n",
    "                      'people_char_22', 'people_char_23', 'people_char_24',\n",
    "                      'people_char_25', 'people_char_26', 'people_char_27',\n",
    "                      'people_char_28', 'people_char_29', 'people_char_30',\n",
    "                      'people_char_31', 'people_char_32', 'people_char_33',\n",
    "                      'people_char_34', 'people_char_35', 'people_char_36',\n",
    "                      'people_char_37','weekend' ]\n",
    "\n",
    "# Continuous categories\n",
    "CONT = ['people_days', 'days',\n",
    "      'people_month',  'month', \n",
    "      'people_quarter', 'quarter',\n",
    "      'people_week', 'week',\n",
    "      'people_dayOfMonth', 'dayOfMonth',\n",
    "      'people_year', 'year',\n",
    "      'people_char_38','activities_per_group_date',\n",
    "      'adays_till_activity',\n",
    "      'diff_date',\n",
    "      'next_outcome',\n",
    "      'outcome_filled_nona',\n",
    "      'pdays_till_activity',\n",
    "      'people_per_group',\n",
    "      'people_per_group_date',\n",
    "      'prev_outcome',\n",
    "       'worked_for_day',\n",
    "       'gp_all0',\n",
    "      'gp_all1',\n",
    "      'gp_mixed']"
   ]
  },
  {
   "cell_type": "code",
   "execution_count": 97,
   "metadata": {
    "collapsed": true
   },
   "outputs": [],
   "source": [
    "## Replacing NaN's ##\n",
    "test['next_outcome'] = test['next_outcome'].fillna(-1)\n",
    "test ['prev_outcome'] = test ['prev_outcome'].fillna(-1)"
   ]
  },
  {
   "cell_type": "code",
   "execution_count": 98,
   "metadata": {
    "collapsed": true
   },
   "outputs": [],
   "source": [
    "train['next_outcome'] = train['next_outcome'].fillna(-1)\n",
    "train ['prev_outcome'] = train['prev_outcome'].fillna(-1)"
   ]
  },
  {
   "cell_type": "code",
   "execution_count": 99,
   "metadata": {
    "collapsed": false,
    "scrolled": false
   },
   "outputs": [],
   "source": [
    "for column in CONT:\n",
    "    if train[column].isnull().sum() > 0:\n",
    "        print (column)"
   ]
  },
  {
   "cell_type": "code",
   "execution_count": 100,
   "metadata": {
    "collapsed": false
   },
   "outputs": [],
   "source": [
    "for column in CONT:\n",
    "    if test[column].isnull().sum() > 0:\n",
    "        print (column)"
   ]
  },
  {
   "cell_type": "code",
   "execution_count": 101,
   "metadata": {
    "collapsed": false
   },
   "outputs": [
    {
     "data": {
      "text/plain": [
       "{99999}"
      ]
     },
     "execution_count": 101,
     "metadata": {},
     "output_type": "execute_result"
    }
   ],
   "source": [
    "# people_char_3, char_5\n",
    "set(train['people_char_3'].unique()).difference(set(test['people_char_3'].unique()))"
   ]
  },
  {
   "cell_type": "code",
   "execution_count": 102,
   "metadata": {
    "collapsed": false
   },
   "outputs": [
    {
     "data": {
      "text/plain": [
       "{99999}"
      ]
     },
     "execution_count": 102,
     "metadata": {},
     "output_type": "execute_result"
    }
   ],
   "source": [
    "set(train['char_5'].unique()).difference(set(test['char_5'].unique()))"
   ]
  },
  {
   "cell_type": "code",
   "execution_count": 103,
   "metadata": {
    "collapsed": false
   },
   "outputs": [],
   "source": [
    "# Introducing a dummy row in test to ensure consistent ohe, not relevant to logic\n",
    "a_row = test.iloc[0]"
   ]
  },
  {
   "cell_type": "code",
   "execution_count": 104,
   "metadata": {
    "collapsed": false
   },
   "outputs": [
    {
     "name": "stderr",
     "output_type": "stream",
     "text": [
      "/Users/aakash.gupta/anaconda/lib/python2.7/site-packages/ipykernel/__main__.py:1: SettingWithCopyWarning: \n",
      "A value is trying to be set on a copy of a slice from a DataFrame\n",
      "\n",
      "See the caveats in the documentation: http://pandas.pydata.org/pandas-docs/stable/indexing.html#indexing-view-versus-copy\n",
      "  if __name__ == '__main__':\n",
      "/Users/aakash.gupta/anaconda/lib/python2.7/site-packages/ipykernel/__main__.py:2: SettingWithCopyWarning: \n",
      "A value is trying to be set on a copy of a slice from a DataFrame\n",
      "\n",
      "See the caveats in the documentation: http://pandas.pydata.org/pandas-docs/stable/indexing.html#indexing-view-versus-copy\n",
      "  from ipykernel import kernelapp as app\n",
      "/Users/aakash.gupta/anaconda/lib/python2.7/site-packages/ipykernel/__main__.py:3: SettingWithCopyWarning: \n",
      "A value is trying to be set on a copy of a slice from a DataFrame\n",
      "\n",
      "See the caveats in the documentation: http://pandas.pydata.org/pandas-docs/stable/indexing.html#indexing-view-versus-copy\n",
      "  app.launch_new_instance()\n"
     ]
    }
   ],
   "source": [
    "a_row['activity_id']='act_0'\n",
    "a_row['char_5']=99999\n",
    "a_row['people_char_3']=99999"
   ]
  },
  {
   "cell_type": "code",
   "execution_count": 105,
   "metadata": {
    "collapsed": false
   },
   "outputs": [],
   "source": [
    "test = test.append(a_row)"
   ]
  },
  {
   "cell_type": "code",
   "execution_count": 106,
   "metadata": {
    "collapsed": false
   },
   "outputs": [],
   "source": [
    "# # UNCOMMENT AND CHECK THIS ONCE, the total number of columns should match for each print statement\n",
    "# # Function to one hot encode all values \n",
    "# for col in CATEGORICAL_DATA:\n",
    "#     start=time.time()\n",
    "#     arr=category_to_one_hot(train[CONT+CATEGORICAL_BINARY+NON_FEATURE+[col]],NON_FEATURE,CONT+CATEGORICAL_BINARY)\n",
    "# #     test_data_df.drop('outcome',inplace=True,errors='ignore')\n",
    "    \n",
    "#     arr_b=category_to_one_hot(test[CONT+CATEGORICAL_BINARY+NON_FEATURE+[col]],NON_FEATURE,CONT+CATEGORICAL_BINARY)\n",
    "#     end=time.time()\n",
    "#     print(end-start)\n",
    "#     print (arr.shape)\n",
    "#     print (arr_b.shape)\n",
    "#     print (\"-----\"+str(col)+\"-----\")"
   ]
  },
  {
   "cell_type": "code",
   "execution_count": 107,
   "metadata": {
    "collapsed": false
   },
   "outputs": [],
   "source": [
    "train.to_pickle(PKL_DIR+'/train_merged2_without17304.pkl')\n",
    "test.to_pickle(PKL_DIR+'/test_merged2_without17304.pkl')"
   ]
  },
  {
   "cell_type": "code",
   "execution_count": null,
   "metadata": {
    "collapsed": true
   },
   "outputs": [],
   "source": []
  }
 ],
 "metadata": {
  "anaconda-cloud": {},
  "kernelspec": {
   "display_name": "Python [conda root]",
   "language": "python",
   "name": "conda-root-py"
  },
  "language_info": {
   "codemirror_mode": {
    "name": "ipython",
    "version": 2
   },
   "file_extension": ".py",
   "mimetype": "text/x-python",
   "name": "python",
   "nbconvert_exporter": "python",
   "pygments_lexer": "ipython2",
   "version": "2.7.12"
  }
 },
 "nbformat": 4,
 "nbformat_minor": 1
}
