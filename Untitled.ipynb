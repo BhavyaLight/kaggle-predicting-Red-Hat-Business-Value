{
 "cells": [
  {
   "cell_type": "code",
   "execution_count": 21,
   "metadata": {
    "collapsed": true
   },
   "outputs": [],
   "source": [
    "import numpy as np\n",
    "import pandas as pd\n",
    "from sklearn.preprocessing import OneHotEncoder\n",
    "from sklearn.preprocessing import Normalizer\n",
    "import time"
   ]
  },
  {
   "cell_type": "code",
   "execution_count": 23,
   "metadata": {
    "collapsed": true
   },
   "outputs": [],
   "source": [
    "# Path to people.csv from ReadHatKaggle data set\n",
    "FEATURE_FILE='kaggle-predicting-Red-Hat-Business-Value/Data/act_train_features.csv'\n",
    "# Path to act_train.csv from RedHatKaggle data set\n",
    "OUTPUT='kaggle-predicting-Red-Hat-Business-Value/Data/act_train_output.csv'\n",
    "\n",
    "# For enabling one hot key encoding\n",
    "ONE_HOT_KEY = True\n",
    "\n",
    "# Columns that do not represent features\n",
    "SELECTED_FEATURES = ['char_3', 'char_4', 'char_5', 'char_6',\n",
    "                     'char_8', 'char_9', 'days', 'month', \n",
    "                     'people_char_1', 'people_char_10', 'people_char_11', \n",
    "                     'people_char_12', 'people_char_13', 'people_char_14', \n",
    "                     'people_char_15', 'people_char_16', 'people_char_17', \n",
    "                     'people_char_18', 'people_char_19', 'people_char_2', \n",
    "                     'people_char_20', 'people_char_21', 'people_char_22', \n",
    "                     'people_char_23', 'people_char_24', 'people_char_25',\n",
    "                     'people_char_26', 'people_char_27', 'people_char_28', \n",
    "                     'people_char_29', 'people_char_3', 'people_char_30', \n",
    "                     'people_char_31', 'people_char_32', 'people_char_33', \n",
    "                     'people_char_34', 'people_char_35', 'people_char_36',\n",
    "                     'people_char_37', 'people_char_38', 'people_char_4', \n",
    "                     'people_char_5', 'people_char_6', 'people_char_7', \n",
    "                     'people_char_8', 'people_char_9', 'people_dayOfMonth', \n",
    "                     'people_month', 'people_quarter', 'people_week', \n",
    "                     'people_year', 'quarter', 'week', 'year']\n",
    "# CONT COLUMN\n",
    "CONT=['people_char_38']"
   ]
  },
  {
   "cell_type": "code",
   "execution_count": 24,
   "metadata": {
    "collapsed": false
   },
   "outputs": [],
   "source": [
    "# Function to change labels of categories to one-hot encoding using scikit's OneHot Encoding\n",
    "# pd.get_dummies(df) does the same, provides sweet header's as well but it it not fast enough, kill's memory\n",
    "def category_to_one_hot(dataset,non_feature):\n",
    "    ds = dataset.drop(non_feature,axis=1)\n",
    "    boolean_column = []\n",
    "    counter=0\n",
    "    for column in ds.columns:\n",
    "        if column not in CONT:\n",
    "            boolean_column.append(counter)\n",
    "        counter += 1\n",
    "    # boolean_colum is not the column name but index\n",
    "    print (\"Done filtering columns...\")\n",
    "    grd_enc = OneHotEncoder(categorical_features=boolean_column)\n",
    "    encoded_arr=grd_enc.fit_transform(ds).toarray()\n",
    "    return encoded_arr,grd_enc"
   ]
  },
  {
   "cell_type": "code",
   "execution_count": 9,
   "metadata": {
    "collapsed": false
   },
   "outputs": [],
   "source": [
    "# Read the data set's\n",
    "data_df=pd.read_csv(FEATURE_FILE,parse_dates=[\"date\"])\n",
    "data_df.sort_values(by=['activity_id'],ascending=True, inplace=True)"
   ]
  },
  {
   "cell_type": "code",
   "execution_count": 10,
   "metadata": {
    "collapsed": true,
    "scrolled": true
   },
   "outputs": [],
   "source": [
    "NON_FEATURES=[]\n",
    "for column in data_df.columns:\n",
    "    if column not in SELECTED_FEATURES:\n",
    "        NON_FEATURES.append(column)"
   ]
  },
  {
   "cell_type": "code",
   "execution_count": 17,
   "metadata": {
    "collapsed": true
   },
   "outputs": [],
   "source": [
    "def normalize(df,non_features):\n",
    "    df=df.drop(non_features,axis=1)\n",
    "    features=df.columns\n",
    "    # Normalize categorical values to range betwwen 0-1, time usually : 3secs\n",
    "    start=time.time()\n",
    "    scaler = Normalizer()\n",
    "    df[features] = scaler.fit_transform(df[features])\n",
    "    end = time.time()\n",
    "    print (end-start)\n",
    "    return df"
   ]
  },
  {
   "cell_type": "code",
   "execution_count": 26,
   "metadata": {
    "collapsed": false
   },
   "outputs": [
    {
     "name": "stdout",
     "output_type": "stream",
     "text": [
      "Done filtering columns...\n",
      "90.0143918991\n"
     ]
    }
   ],
   "source": [
    "start=time.time()\n",
    "# Time taken: 120 sec average\n",
    "arr,enc = category_to_one_hot(data_df,NON_FEATURES)\n",
    "end = time.time()\n",
    "print (end-start)"
   ]
  },
  {
   "cell_type": "code",
   "execution_count": 30,
   "metadata": {
    "collapsed": false
   },
   "outputs": [],
   "source": [
    "scal=Normalizer()\n",
    "arr2=scal.fit_transform(arr)"
   ]
  },
  {
   "cell_type": "code",
   "execution_count": 34,
   "metadata": {
    "collapsed": false
   },
   "outputs": [],
   "source": [
    "# load output\n",
    "output = pd.read_csv(OUTPUT)\n",
    "output.sort_values(by='activity_id',ascending=True, inplace=True)\n",
    "v_out=output['outcome'].as_matrix()"
   ]
  },
  {
   "cell_type": "code",
   "execution_count": 35,
   "metadata": {
    "collapsed": true
   },
   "outputs": [],
   "source": [
    "from sklearn.cross_validation import train_test_split\n",
    "X_train, X_test, y_train, y_test = train_test_split(arr2,v_out, test_size=0.4, random_state=4)"
   ]
  },
  {
   "cell_type": "code",
   "execution_count": 36,
   "metadata": {
    "collapsed": true
   },
   "outputs": [],
   "source": [
    "k_values = list(range(1,30))\n",
    "k_score=[]"
   ]
  },
  {
   "cell_type": "code",
   "execution_count": null,
   "metadata": {
    "collapsed": false
   },
   "outputs": [],
   "source": [
    "from sklearn.neighbors import KNeighborsClassifier\n",
    "knn=KNeighborsClassifier(n_neighbors=5)\n",
    "knn.fit(X_train, y_train)"
   ]
  },
  {
   "cell_type": "code",
   "execution_count": null,
   "metadata": {
    "collapsed": true
   },
   "outputs": [],
   "source": [
    "print (\"KNN\")\n",
    "for k in k_values:\n",
    "    print (\"Start\")\n",
    "    start=time.time()\n",
    "    knn = KNeighborsClassifier(n_neighbors=k)\n",
    "    knn.fit(X_train, y_train)\n",
    "    y_pred = knn.predict(X_test)\n",
    "    end = time.time()\n",
    "    print (end-start)\n",
    "    score = metrics.accuracy_score(y_test, y_pred)\n",
    "    print(score)\n",
    "    k_score.append(score)"
   ]
  },
  {
   "cell_type": "code",
   "execution_count": null,
   "metadata": {
    "collapsed": true
   },
   "outputs": [],
   "source": [
    "# import Matplotlib (scientific plotting library)\n",
    "import matplotlib.pyplot as plt\n",
    "\n",
    "# allow plots to appear within the notebook\n",
    "%matplotlib inline\n",
    "\n",
    "# plot the relationship between K and testing accuracy\n",
    "plt.plot(k_range, scores)\n",
    "plt.xlabel('Value of K for KNN')\n",
    "plt.ylabel('Testing Accuracy')"
   ]
  },
  {
   "cell_type": "code",
   "execution_count": null,
   "metadata": {
    "collapsed": true
   },
   "outputs": [],
   "source": []
  },
  {
   "cell_type": "code",
   "execution_count": null,
   "metadata": {
    "collapsed": true
   },
   "outputs": [],
   "source": [
    "## Try random forest + linear regression\n",
    "forest_data=data_df[[ 'people_group_1']].as_matrix()\n",
    "X_train, X_test, y_train, y_test = train_test_split(forest_data,v_out, test_size=0.4, random_state=4)\n",
    "\n",
    "from sklearn.ensemble import RandomForestClassifier\n",
    "rf=RandomForestClassifier()\n",
    "rf.fit(X_train,y_train)\n",
    "x2_feature=rf.transform(X_test)\n",
    "red=x2_feature.concatenate(X_train)\n",
    "\n",
    "from sklearn."
   ]
  }
 ],
 "metadata": {
  "anaconda-cloud": {},
  "kernelspec": {
   "display_name": "Python [conda root]",
   "language": "python",
   "name": "conda-root-py"
  },
  "language_info": {
   "codemirror_mode": {
    "name": "ipython",
    "version": 2
   },
   "file_extension": ".py",
   "mimetype": "text/x-python",
   "name": "python",
   "nbconvert_exporter": "python",
   "pygments_lexer": "ipython2",
   "version": "2.7.12"
  }
 },
 "nbformat": 4,
 "nbformat_minor": 1
}
