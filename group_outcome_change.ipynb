{
 "cells": [
  {
   "cell_type": "code",
   "execution_count": 1,
   "metadata": {
    "collapsed": false
   },
   "outputs": [
    {
     "name": "stderr",
     "output_type": "stream",
     "text": [
      "/Users/aakash.gupta/anaconda/lib/python2.7/site-packages/sklearn/cross_validation.py:44: DeprecationWarning: This module was deprecated in version 0.18 in favor of the model_selection module into which all the refactored classes and functions are moved. Also note that the interface of the new CV iterators are different from that of this module. This module will be removed in 0.20.\n",
      "  \"This module will be removed in 0.20.\", DeprecationWarning)\n"
     ]
    }
   ],
   "source": [
    "import gzip\n",
    "import pickle\n",
    "import time\n",
    "\n",
    "import pandas as pd\n",
    "import numpy as np\n",
    "\n",
    "import sklearn.metrics\n",
    "import sklearn.utils\n",
    "import sklearn.linear_model\n",
    "\n",
    "from sklearn.cross_validation import LabelKFold\n",
    "from sklearn.metrics import roc_auc_score\n",
    "from sklearn.preprocessing import OneHotEncoder\n",
    "\n",
    "import xgboost as xgb"
   ]
  },
  {
   "cell_type": "code",
   "execution_count": 2,
   "metadata": {
    "collapsed": true
   },
   "outputs": [],
   "source": [
    "# Path to people.csv from ReadHatKaggle data set\n",
    "FEATURE_FILE ='Data/act_train_features.csv'\n",
    "# Path to act_train.csv from RedHatKaggle data set\n",
    "OUTPUT ='Data/act_train_output.csv'\n",
    "# Path to the test file\n",
    "TEST_FILE = 'Data/act_test_features.csv'\n",
    "\n",
    "# Path to the pickle files\n",
    "SAVE_AS_DIR = 'Data/pickle'\n",
    "\n",
    "TEST_PREPROCESSED_FILE='Data/pickle/test_merged_without17304.pkl'\n",
    "TRAIN_PREPROCESSED_FILE='Data/pickle/train_merged_without17304.pkl'\n",
    "train_with_dates ='Data/pickle/train_withDateFeatures_without17304.pkl'\n",
    "test_with_dates ='Data/pickle/test_withDateFeatures_without17304.pkl'\n",
    "train_interpolated = 'Data/pickle/train_withInterpolations.pkl'\n",
    "test_interpolated = 'Data/pickle/test_withleak.pkl'"
   ]
  },
  {
   "cell_type": "code",
   "execution_count": 3,
   "metadata": {
    "collapsed": false
   },
   "outputs": [
    {
     "ename": "IOError",
     "evalue": "[Errno 2] No such file or directory: 'Data/pickle/test_withleak.pkl'",
     "output_type": "error",
     "traceback": [
      "\u001b[0;31m---------------------------------------------------------------------------\u001b[0m",
      "\u001b[0;31mIOError\u001b[0m                                   Traceback (most recent call last)",
      "\u001b[0;32m<ipython-input-3-1a6c3e91db65>\u001b[0m in \u001b[0;36m<module>\u001b[0;34m()\u001b[0m\n\u001b[0;32m----> 1\u001b[0;31m \u001b[0mtest_data_df\u001b[0m \u001b[0;34m=\u001b[0m \u001b[0mpd\u001b[0m\u001b[0;34m.\u001b[0m\u001b[0mread_pickle\u001b[0m\u001b[0;34m(\u001b[0m\u001b[0mtest_interpolated\u001b[0m\u001b[0;34m)\u001b[0m\u001b[0;34m\u001b[0m\u001b[0m\n\u001b[0m\u001b[1;32m      2\u001b[0m \u001b[0mtrain_data_df\u001b[0m \u001b[0;34m=\u001b[0m \u001b[0mpd\u001b[0m\u001b[0;34m.\u001b[0m\u001b[0mread_pickle\u001b[0m\u001b[0;34m(\u001b[0m\u001b[0mtrain_interpolated\u001b[0m\u001b[0;34m)\u001b[0m\u001b[0;34m\u001b[0m\u001b[0m\n",
      "\u001b[0;32m/Users/aakash.gupta/anaconda/lib/python2.7/site-packages/pandas/io/pickle.pyc\u001b[0m in \u001b[0;36mread_pickle\u001b[0;34m(path)\u001b[0m\n\u001b[1;32m     63\u001b[0m \u001b[0;34m\u001b[0m\u001b[0m\n\u001b[1;32m     64\u001b[0m     \u001b[0;32mtry\u001b[0m\u001b[0;34m:\u001b[0m\u001b[0;34m\u001b[0m\u001b[0m\n\u001b[0;32m---> 65\u001b[0;31m         \u001b[0;32mreturn\u001b[0m \u001b[0mtry_read\u001b[0m\u001b[0;34m(\u001b[0m\u001b[0mpath\u001b[0m\u001b[0;34m)\u001b[0m\u001b[0;34m\u001b[0m\u001b[0m\n\u001b[0m\u001b[1;32m     66\u001b[0m     \u001b[0;32mexcept\u001b[0m\u001b[0;34m:\u001b[0m\u001b[0;34m\u001b[0m\u001b[0m\n\u001b[1;32m     67\u001b[0m         \u001b[0;32mif\u001b[0m \u001b[0mPY3\u001b[0m\u001b[0;34m:\u001b[0m\u001b[0;34m\u001b[0m\u001b[0m\n",
      "\u001b[0;32m/Users/aakash.gupta/anaconda/lib/python2.7/site-packages/pandas/io/pickle.pyc\u001b[0m in \u001b[0;36mtry_read\u001b[0;34m(path, encoding)\u001b[0m\n\u001b[1;32m     59\u001b[0m             \u001b[0;31m# compat pickle\u001b[0m\u001b[0;34m\u001b[0m\u001b[0;34m\u001b[0m\u001b[0m\n\u001b[1;32m     60\u001b[0m             \u001b[0;32mexcept\u001b[0m\u001b[0;34m:\u001b[0m\u001b[0;34m\u001b[0m\u001b[0m\n\u001b[0;32m---> 61\u001b[0;31m                 \u001b[0;32mwith\u001b[0m \u001b[0mopen\u001b[0m\u001b[0;34m(\u001b[0m\u001b[0mpath\u001b[0m\u001b[0;34m,\u001b[0m \u001b[0;34m'rb'\u001b[0m\u001b[0;34m)\u001b[0m \u001b[0;32mas\u001b[0m \u001b[0mfh\u001b[0m\u001b[0;34m:\u001b[0m\u001b[0;34m\u001b[0m\u001b[0m\n\u001b[0m\u001b[1;32m     62\u001b[0m                     \u001b[0;32mreturn\u001b[0m \u001b[0mpc\u001b[0m\u001b[0;34m.\u001b[0m\u001b[0mload\u001b[0m\u001b[0;34m(\u001b[0m\u001b[0mfh\u001b[0m\u001b[0;34m,\u001b[0m \u001b[0mencoding\u001b[0m\u001b[0;34m=\u001b[0m\u001b[0mencoding\u001b[0m\u001b[0;34m,\u001b[0m \u001b[0mcompat\u001b[0m\u001b[0;34m=\u001b[0m\u001b[0mTrue\u001b[0m\u001b[0;34m)\u001b[0m\u001b[0;34m\u001b[0m\u001b[0m\n\u001b[1;32m     63\u001b[0m \u001b[0;34m\u001b[0m\u001b[0m\n",
      "\u001b[0;31mIOError\u001b[0m: [Errno 2] No such file or directory: 'Data/pickle/test_withleak.pkl'"
     ]
    }
   ],
   "source": [
    "test_data_df = pd.read_pickle(test_interpolated)\n",
    "train_data_df = pd.read_pickle(train_interpolated)"
   ]
  },
  {
   "cell_type": "code",
   "execution_count": 4,
   "metadata": {
    "collapsed": false
   },
   "outputs": [],
   "source": [
    "test_data_d = pd.read_pickle(test_with_dates)"
   ]
  },
  {
   "cell_type": "code",
   "execution_count": 5,
   "metadata": {
    "collapsed": false
   },
   "outputs": [],
   "source": [
    "train_data_d = pd.read_pickle(train_with_dates)"
   ]
  },
  {
   "cell_type": "code",
   "execution_count": 6,
   "metadata": {
    "collapsed": true
   },
   "outputs": [],
   "source": [
    "Extra_columns = list(set(train_data_d.columns).difference(set(train_data_df.columns)))"
   ]
  },
  {
   "cell_type": "code",
   "execution_count": 7,
   "metadata": {
    "collapsed": false
   },
   "outputs": [
    {
     "data": {
      "text/plain": [
       "['pdays_till_activity',\n",
       " 'adays_till_activity',\n",
       " 'people_per_group',\n",
       " 'next_outcome',\n",
       " 'people_per_group_date',\n",
       " 'prev_outcome',\n",
       " 'diff_date',\n",
       " 'activities_per_group_date',\n",
       " 'worked_for_day']"
      ]
     },
     "execution_count": 7,
     "metadata": {},
     "output_type": "execute_result"
    }
   ],
   "source": [
    "Extra_columns"
   ]
  },
  {
   "cell_type": "code",
   "execution_count": 8,
   "metadata": {
    "collapsed": false
   },
   "outputs": [
    {
     "name": "stdout",
     "output_type": "stream",
     "text": [
      "(1563770, 81) (333083, 81)\n"
     ]
    }
   ],
   "source": [
    "print train_data_d.shape, test_data_d.shape\n",
    "train_data_df = pd.merge(train_data_df,train_data_d[['activity_id']+Extra_columns],on='activity_id',how='left')\n",
    "test_data_df = pd.merge(test_data_df,test_data_d[['activity_id']+Extra_columns],on='activity_id',how='left')"
   ]
  },
  {
   "cell_type": "code",
   "execution_count": 9,
   "metadata": {
    "collapsed": false
   },
   "outputs": [
    {
     "name": "stdout",
     "output_type": "stream",
     "text": [
      "(1398166, 81) (498687, 81)\n"
     ]
    }
   ],
   "source": [
    "# print df.shape\n",
    "print train_data_df.shape, test_data_df.shape\n",
    "# print df.columns.values"
   ]
  },
  {
   "cell_type": "code",
   "execution_count": 10,
   "metadata": {
    "collapsed": false
   },
   "outputs": [],
   "source": [
    "is_dup = train_data_df.drop('activity_id',axis=1).duplicated()\n",
    "df = train_data_df[~is_dup]"
   ]
  },
  {
   "cell_type": "code",
   "execution_count": 11,
   "metadata": {
    "collapsed": true
   },
   "outputs": [],
   "source": [
    "df = pd.concat([df,test_data_df])"
   ]
  },
  {
   "cell_type": "code",
   "execution_count": 12,
   "metadata": {
    "collapsed": false
   },
   "outputs": [
    {
     "name": "stdout",
     "output_type": "stream",
     "text": [
      "(1317664, 81)\n"
     ]
    }
   ],
   "source": [
    "print df.shape"
   ]
  },
  {
   "cell_type": "code",
   "execution_count": 13,
   "metadata": {
    "collapsed": false
   },
   "outputs": [],
   "source": [
    "# #People per group\n",
    "# ppp = df.groupby('people_group_1')['people_id'].apply(lambda x: len(x))\n",
    "# ppp = ppp.reset_index()\n",
    "# ppp.columns = ['people_group_1', 'people_per_group']\n",
    "# df = pd.merge(df, ppp, on='people_group_1', how='left')"
   ]
  },
  {
   "cell_type": "code",
   "execution_count": 14,
   "metadata": {
    "collapsed": false
   },
   "outputs": [],
   "source": [
    "#Activities per group\n",
    "app = df.groupby('people_group_1')['activity_id'].apply(lambda x: len(x))\n",
    "app = app.reset_index()\n",
    "app.columns = ['people_group_1', 'activities_per_group']\n",
    "df = pd.merge(df, app, on='people_group_1', how='left')"
   ]
  },
  {
   "cell_type": "code",
   "execution_count": 15,
   "metadata": {
    "collapsed": false
   },
   "outputs": [],
   "source": [
    "# df.rename(columns={'activities_per_group_y':'activities_per_group'},inplace=True)"
   ]
  },
  {
   "cell_type": "code",
   "execution_count": 16,
   "metadata": {
    "collapsed": true
   },
   "outputs": [],
   "source": [
    "mindate = pd.Timestamp('2022-07-17 00:00:00')\n",
    "maxdate = pd.Timestamp('2023-08-31 00:00:00')\n",
    "minpdate = pd.Timestamp('2020-05-18 00:00:00')\n",
    "\n",
    "# mindate = min(data['date'])\n",
    "# maxdate = max(data['date'])\n",
    "# minpdate = min(data['pdate'])"
   ]
  },
  {
   "cell_type": "code",
   "execution_count": 17,
   "metadata": {
    "collapsed": false
   },
   "outputs": [],
   "source": [
    "# people_date_mean \n",
    "pdm = df.groupby('people_group_1')['pdays_till_activity'].apply(lambda x: x.mean())\n",
    "pdm = pdm.reset_index()\n",
    "pdm.columns = ['people_group_1', 'people_date_mean']\n",
    "df = pd.merge(df, pdm, on = 'people_group_1', how='left')"
   ]
  },
  {
   "cell_type": "code",
   "execution_count": 18,
   "metadata": {
    "collapsed": false
   },
   "outputs": [],
   "source": [
    "# df.rename(columns={'people_date_mean_y':'people_date_mean'},inplace=True)"
   ]
  },
  {
   "cell_type": "code",
   "execution_count": 19,
   "metadata": {
    "collapsed": false
   },
   "outputs": [],
   "source": [
    "# people_date_first\n",
    "pdf = df.groupby('people_group_1')['pdays_till_activity'].apply(lambda x: x.min())\n",
    "pdf = pdf.reset_index()\n",
    "pdf.columns = ['people_group_1', 'people_date_first']\n",
    "df = pd.merge(df, pdf, on = 'people_group_1', how='left')\n",
    "# df.rename(columns={'people_date_first_y':'people_date_first'},inplace=True)"
   ]
  },
  {
   "cell_type": "code",
   "execution_count": 20,
   "metadata": {
    "collapsed": true
   },
   "outputs": [],
   "source": [
    "# activity_date_first\n",
    "adf = df.groupby('people_group_1')['adays_till_activity'].apply(lambda x: x.min())\n",
    "adf = adf.reset_index()\n",
    "adf.columns = ['people_group_1', 'activity_date_first']\n",
    "df = pd.merge(df, adf, on = 'people_group_1')\n",
    "# df.rename(columns={'activity_date_first_y':'activity_date_first'},inplace=True)"
   ]
  },
  {
   "cell_type": "code",
   "execution_count": 21,
   "metadata": {
    "collapsed": true
   },
   "outputs": [],
   "source": [
    "# activity_date_last\n",
    "adl = df.groupby('people_group_1')['adays_till_activity'].apply(lambda x: x.max())\n",
    "adl = adl.reset_index()\n",
    "adl.columns = ['people_group_1', 'activity_date_last']\n",
    "df = pd.merge(df, adl, on = 'people_group_1')\n",
    "# df.rename(columns={'activity_date_last_y':'activity_date_last'},inplace=True)"
   ]
  },
  {
   "cell_type": "code",
   "execution_count": 22,
   "metadata": {
    "collapsed": false
   },
   "outputs": [],
   "source": [
    "# people_date_last\n",
    "pdl = df.groupby('people_group_1')['pdays_till_activity'].apply(lambda x: x.max())\n",
    "pdl = pdl.reset_index()\n",
    "pdl.columns = ['people_group_1', 'people_date_last']\n",
    "df = pd.merge(df, pdl, on = 'people_group_1')\n",
    "# df.rename(columns={'people_date_last_y':'people_date_last'},inplace=True)"
   ]
  },
  {
   "cell_type": "code",
   "execution_count": 23,
   "metadata": {
    "collapsed": true
   },
   "outputs": [],
   "source": [
    "# pchar_38_mean\n",
    "p38m = df.groupby('people_group_1')['people_char_38'].apply(lambda x: x.mean())\n",
    "p38m = p38m.reset_index()\n",
    "p38m.columns = ['people_group_1', 'pchar_38_mean']\n",
    "df = pd.merge(df, p38m, on = 'people_group_1', how='left')\n",
    "# df.rename(columns={'pchar_38_mean_y':'pchar_38_mean'},inplace=True)"
   ]
  },
  {
   "cell_type": "code",
   "execution_count": 24,
   "metadata": {
    "collapsed": false
   },
   "outputs": [],
   "source": [
    "#pchar_38_median\n",
    "p38med = df.groupby('people_group_1')['people_char_38'].apply(lambda x: x.median())\n",
    "p38med = p38med.reset_index()\n",
    "p38med.columns = ['people_group_1', 'pchar_38_median']\n",
    "df = pd.merge(df, p38med, on = 'people_group_1',how='left')\n",
    "# df.rename(columns={'pchar_38_median_y':'pchar_38_median'},inplace=True)"
   ]
  },
  {
   "cell_type": "code",
   "execution_count": 25,
   "metadata": {
    "collapsed": true
   },
   "outputs": [],
   "source": [
    "# num of activity dates\n",
    "nad = df.groupby('people_group_1')['adays_till_activity'].apply(lambda x: len(x.unique()))\n",
    "nad  = nad.reset_index()\n",
    "nad.columns = ['people_group_1', 'num_activity_dates']\n",
    "df = pd.merge(df, nad, on = 'people_group_1',how='left')\n",
    "# df.rename(columns={'pchar_38_median_y':'pchar_38_median'},inplace=True)"
   ]
  },
  {
   "cell_type": "code",
   "execution_count": 26,
   "metadata": {
    "collapsed": false
   },
   "outputs": [
    {
     "data": {
      "text/plain": [
       "{'activities_per_group',\n",
       " 'activity_date_first',\n",
       " 'activity_date_last',\n",
       " 'num_activity_dates',\n",
       " 'pchar_38_mean',\n",
       " 'pchar_38_median',\n",
       " 'people_date_first',\n",
       " 'people_date_last',\n",
       " 'people_date_mean'}"
      ]
     },
     "execution_count": 26,
     "metadata": {},
     "output_type": "execute_result"
    }
   ],
   "source": [
    "set(df.columns.values).difference(set(train_data_df.columns.values))"
   ]
  },
  {
   "cell_type": "code",
   "execution_count": 27,
   "metadata": {
    "collapsed": false
   },
   "outputs": [],
   "source": [
    "# for column in df.columns:\n",
    "#     print (column+\": \" +str(len(df[column].unique())))"
   ]
  },
  {
   "cell_type": "code",
   "execution_count": 28,
   "metadata": {
    "collapsed": true
   },
   "outputs": [],
   "source": [
    "FEATURES = [\n",
    "'people_group_1',\n",
    "'people_per_group',\n",
    "'activities_per_group',\n",
    "'people_date_mean',\n",
    "'people_date_first',\n",
    "'activity_date_first',\n",
    "'activity_date_last',\n",
    "'people_date_last',\n",
    "'pchar_38_mean',\n",
    "'pchar_38_median',\n",
    "'num_activity_dates',\n",
    "'outcome']"
   ]
  },
  {
   "cell_type": "code",
   "execution_count": 29,
   "metadata": {
    "collapsed": false
   },
   "outputs": [
    {
     "data": {
      "text/plain": [
       "(1317664, 12)"
      ]
     },
     "execution_count": 29,
     "metadata": {},
     "output_type": "execute_result"
    }
   ],
   "source": [
    "# Tryi only with group related features first\n",
    "df2 = df[FEATURES]\n",
    "df2.shape"
   ]
  },
  {
   "cell_type": "code",
   "execution_count": 30,
   "metadata": {
    "collapsed": true
   },
   "outputs": [],
   "source": [
    "df.to_pickle(SAVE_AS_DIR+'/train_test_group_columns.pkl')"
   ]
  },
  {
   "cell_type": "code",
   "execution_count": 31,
   "metadata": {
    "collapsed": false
   },
   "outputs": [
    {
     "name": "stdout",
     "output_type": "stream",
     "text": [
      "(1317664, 90) (1317664, 12)\n"
     ]
    }
   ],
   "source": [
    "# Keeping a copy for future use\n",
    "tr = df\n",
    "df = df2\n",
    "print tr.shape,df.shape"
   ]
  },
  {
   "cell_type": "code",
   "execution_count": 32,
   "metadata": {
    "collapsed": true
   },
   "outputs": [],
   "source": [
    "def group_ohe(df, key):\n",
    "\n",
    "    val_unique = df[key].unique().astype(int).tolist()\n",
    "    #create dataframe here\n",
    "\n",
    "    df_encoded = pd.DataFrame(index = range(group_count), columns = ['people_group_1'] + val_unique)\n",
    "    df_encoded = df_encoded.fillna(0.0)\n",
    "\n",
    "    i=0\n",
    "    for g in df.groupby('people_group_1'):\n",
    "        df_encoded['people_group_1'][i] = g[0]\n",
    "        \n",
    "        group_size = len(g[1]) * 1.0\n",
    "        \n",
    "        vc = g[1][key].value_counts()\n",
    "\n",
    "        for z in zip(vc.index.values, vc.values):\n",
    "            df_encoded[z[0]][i] = z[1]/group_size\n",
    "        i+=1\n",
    "    \n",
    "    \n",
    "    wo_cols = ['people_group_1']\n",
    "    for x in val_unique:\n",
    "        wo_cols.append('{0}_group_onehotavg_{1}'.format(key, x))\n",
    "    \n",
    "    df_encoded.columns = wo_cols\n",
    "\n",
    "\n",
    "    droplist = []\n",
    "    for col in df_encoded.keys():\n",
    "        if df_encoded[col].mean() < .001:\n",
    "            droplist.append(col)\n",
    "\n",
    "\n",
    "    for d in droplist:\n",
    "        df_encoded.drop(d, axis=1, inplace=True)\n",
    "    \n",
    "\n",
    "    return df_encoded"
   ]
  },
  {
   "cell_type": "code",
   "execution_count": 33,
   "metadata": {
    "collapsed": true
   },
   "outputs": [],
   "source": [
    "lr = tr.copy()"
   ]
  },
  {
   "cell_type": "code",
   "execution_count": 34,
   "metadata": {
    "collapsed": true
   },
   "outputs": [],
   "source": [
    "oh_keys = []\n",
    "alsouse = ['activity_category']\n",
    "for k in tr.keys():\n",
    "    if 'char_10' in k:\n",
    "        continue\n",
    "        \n",
    "    if 'char_38' in k:\n",
    "        continue\n",
    "        \n",
    "    if k in alsouse or 'char' in k:\n",
    "        oh_keys.append(k)"
   ]
  },
  {
   "cell_type": "code",
   "execution_count": 36,
   "metadata": {
    "collapsed": false,
    "scrolled": true
   },
   "outputs": [
    {
     "name": "stdout",
     "output_type": "stream",
     "text": [
      "activity_category\n",
      "char_1\n",
      "char_2\n",
      "char_3\n",
      "char_4\n",
      "char_5\n",
      "char_6\n",
      "char_7\n",
      "char_8\n",
      "char_9\n",
      "people_char_1\n",
      "people_char_11\n",
      "people_char_12\n",
      "people_char_13\n",
      "people_char_14\n",
      "people_char_15\n",
      "people_char_16\n",
      "people_char_17\n",
      "people_char_18\n",
      "people_char_19\n",
      "people_char_2\n",
      "people_char_20\n",
      "people_char_21\n",
      "people_char_22\n",
      "people_char_23\n",
      "people_char_24\n",
      "people_char_25\n",
      "people_char_26\n",
      "people_char_27\n",
      "people_char_28\n",
      "people_char_29\n",
      "people_char_3\n",
      "people_char_30\n",
      "people_char_31\n",
      "people_char_32\n",
      "people_char_33\n",
      "people_char_34\n",
      "people_char_35\n",
      "people_char_36\n",
      "people_char_37\n",
      "people_char_4\n",
      "people_char_5\n",
      "people_char_6\n",
      "people_char_7\n",
      "people_char_8\n",
      "people_char_9\n"
     ]
    }
   ],
   "source": [
    "group_count = len(tr['people_group_1'].unique())\n",
    "for k in oh_keys:\n",
    "    print(k)\n",
    "    df_oh = group_ohe(tr, k)\n",
    "    df = pd.merge(df, df_oh, on='people_group_1', how='left')"
   ]
  },
  {
   "cell_type": "code",
   "execution_count": 37,
   "metadata": {
    "collapsed": false
   },
   "outputs": [
    {
     "name": "stdout",
     "output_type": "stream",
     "text": [
      "people_group_1\n",
      "people_per_group\n",
      "activities_per_group\n",
      "people_date_mean\n",
      "people_date_first\n",
      "activity_date_first\n",
      "activity_date_last\n",
      "people_date_last\n",
      "pchar_38_mean\n",
      "pchar_38_median\n",
      "num_activity_dates\n",
      "outcome\n",
      "activity_category_group_onehotavg_1\n",
      "activity_category_group_onehotavg_2\n",
      "activity_category_group_onehotavg_3\n",
      "activity_category_group_onehotavg_4\n",
      "activity_category_group_onehotavg_5\n",
      "activity_category_group_onehotavg_6\n",
      "activity_category_group_onehotavg_7\n",
      "char_1_group_onehotavg_0\n",
      "char_1_group_onehotavg_1\n",
      "char_1_group_onehotavg_2\n",
      "char_1_group_onehotavg_3\n",
      "char_1_group_onehotavg_4\n",
      "char_1_group_onehotavg_5\n",
      "char_1_group_onehotavg_6\n",
      "char_1_group_onehotavg_7\n",
      "char_1_group_onehotavg_8\n",
      "char_1_group_onehotavg_10\n",
      "char_1_group_onehotavg_11\n",
      "char_1_group_onehotavg_12\n",
      "char_1_group_onehotavg_13\n",
      "char_1_group_onehotavg_15\n",
      "char_1_group_onehotavg_17\n",
      "char_1_group_onehotavg_23\n",
      "char_1_group_onehotavg_25\n",
      "char_1_group_onehotavg_26\n",
      "char_1_group_onehotavg_29\n",
      "char_2_group_onehotavg_0\n",
      "char_2_group_onehotavg_1\n",
      "char_2_group_onehotavg_2\n",
      "char_2_group_onehotavg_3\n",
      "char_2_group_onehotavg_5\n",
      "char_2_group_onehotavg_6\n",
      "char_2_group_onehotavg_7\n",
      "char_2_group_onehotavg_8\n",
      "char_2_group_onehotavg_9\n",
      "char_2_group_onehotavg_10\n",
      "char_2_group_onehotavg_12\n",
      "char_2_group_onehotavg_13\n",
      "char_2_group_onehotavg_14\n",
      "char_2_group_onehotavg_16\n",
      "char_2_group_onehotavg_19\n",
      "char_3_group_onehotavg_0\n",
      "char_3_group_onehotavg_1\n",
      "char_3_group_onehotavg_2\n",
      "char_3_group_onehotavg_3\n",
      "char_3_group_onehotavg_4\n",
      "char_3_group_onehotavg_5\n",
      "char_3_group_onehotavg_6\n",
      "char_3_group_onehotavg_7\n",
      "char_3_group_onehotavg_8\n",
      "char_3_group_onehotavg_9\n",
      "char_4_group_onehotavg_0\n",
      "char_4_group_onehotavg_1\n",
      "char_4_group_onehotavg_2\n",
      "char_4_group_onehotavg_3\n",
      "char_4_group_onehotavg_4\n",
      "char_4_group_onehotavg_5\n",
      "char_4_group_onehotavg_6\n",
      "char_5_group_onehotavg_0\n",
      "char_5_group_onehotavg_1\n",
      "char_5_group_onehotavg_2\n",
      "char_5_group_onehotavg_3\n",
      "char_5_group_onehotavg_4\n",
      "char_5_group_onehotavg_5\n",
      "char_5_group_onehotavg_6\n",
      "char_6_group_onehotavg_0\n",
      "char_6_group_onehotavg_1\n",
      "char_6_group_onehotavg_2\n",
      "char_6_group_onehotavg_3\n",
      "char_6_group_onehotavg_4\n",
      "char_7_group_onehotavg_0\n",
      "char_7_group_onehotavg_1\n",
      "char_7_group_onehotavg_2\n",
      "char_7_group_onehotavg_3\n",
      "char_7_group_onehotavg_4\n",
      "char_7_group_onehotavg_5\n",
      "char_7_group_onehotavg_6\n",
      "char_7_group_onehotavg_7\n",
      "char_8_group_onehotavg_0\n",
      "char_8_group_onehotavg_1\n",
      "char_8_group_onehotavg_2\n",
      "char_8_group_onehotavg_3\n",
      "char_8_group_onehotavg_4\n",
      "char_8_group_onehotavg_5\n",
      "char_8_group_onehotavg_6\n",
      "char_8_group_onehotavg_7\n",
      "char_8_group_onehotavg_8\n",
      "char_8_group_onehotavg_9\n",
      "char_8_group_onehotavg_10\n",
      "char_8_group_onehotavg_11\n",
      "char_8_group_onehotavg_12\n",
      "char_8_group_onehotavg_13\n",
      "char_8_group_onehotavg_14\n",
      "char_8_group_onehotavg_15\n",
      "char_8_group_onehotavg_16\n",
      "char_9_group_onehotavg_0\n",
      "char_9_group_onehotavg_1\n",
      "char_9_group_onehotavg_2\n",
      "char_9_group_onehotavg_3\n",
      "char_9_group_onehotavg_4\n",
      "char_9_group_onehotavg_5\n",
      "char_9_group_onehotavg_6\n",
      "char_9_group_onehotavg_7\n",
      "char_9_group_onehotavg_8\n",
      "char_9_group_onehotavg_10\n",
      "char_9_group_onehotavg_12\n",
      "char_9_group_onehotavg_13\n",
      "char_9_group_onehotavg_14\n",
      "char_9_group_onehotavg_15\n",
      "char_9_group_onehotavg_16\n",
      "char_9_group_onehotavg_17\n",
      "char_9_group_onehotavg_18\n",
      "people_char_1_group_onehotavg_1\n",
      "people_char_1_group_onehotavg_2\n",
      "people_char_11_group_onehotavg_0\n",
      "people_char_11_group_onehotavg_1\n",
      "people_char_12_group_onehotavg_0\n",
      "people_char_12_group_onehotavg_1\n",
      "people_char_13_group_onehotavg_0\n",
      "people_char_13_group_onehotavg_1\n",
      "people_char_14_group_onehotavg_0\n",
      "people_char_14_group_onehotavg_1\n",
      "people_char_15_group_onehotavg_0\n",
      "people_char_15_group_onehotavg_1\n",
      "people_char_16_group_onehotavg_0\n",
      "people_char_16_group_onehotavg_1\n",
      "people_char_17_group_onehotavg_0\n",
      "people_char_17_group_onehotavg_1\n",
      "people_char_18_group_onehotavg_0\n",
      "people_char_18_group_onehotavg_1\n",
      "people_char_19_group_onehotavg_0\n",
      "people_char_19_group_onehotavg_1\n",
      "people_char_2_group_onehotavg_1\n",
      "people_char_2_group_onehotavg_3\n",
      "people_char_20_group_onehotavg_0\n",
      "people_char_20_group_onehotavg_1\n",
      "people_char_21_group_onehotavg_0\n",
      "people_char_21_group_onehotavg_1\n",
      "people_char_22_group_onehotavg_0\n",
      "people_char_22_group_onehotavg_1\n",
      "people_char_23_group_onehotavg_0\n",
      "people_char_23_group_onehotavg_1\n",
      "people_char_24_group_onehotavg_0\n",
      "people_char_24_group_onehotavg_1\n",
      "people_char_25_group_onehotavg_0\n",
      "people_char_25_group_onehotavg_1\n",
      "people_char_26_group_onehotavg_0\n",
      "people_char_26_group_onehotavg_1\n",
      "people_char_27_group_onehotavg_0\n",
      "people_char_27_group_onehotavg_1\n",
      "people_char_28_group_onehotavg_0\n",
      "people_char_28_group_onehotavg_1\n",
      "people_char_29_group_onehotavg_0\n",
      "people_char_29_group_onehotavg_1\n",
      "people_char_3_group_onehotavg_1\n",
      "people_char_3_group_onehotavg_2\n",
      "people_char_3_group_onehotavg_3\n",
      "people_char_3_group_onehotavg_4\n",
      "people_char_3_group_onehotavg_5\n",
      "people_char_3_group_onehotavg_6\n",
      "people_char_3_group_onehotavg_7\n",
      "people_char_3_group_onehotavg_8\n",
      "people_char_3_group_onehotavg_9\n",
      "people_char_3_group_onehotavg_10\n",
      "people_char_3_group_onehotavg_11\n",
      "people_char_3_group_onehotavg_12\n",
      "people_char_3_group_onehotavg_13\n",
      "people_char_3_group_onehotavg_14\n",
      "people_char_3_group_onehotavg_15\n",
      "people_char_3_group_onehotavg_16\n",
      "people_char_3_group_onehotavg_17\n",
      "people_char_3_group_onehotavg_18\n",
      "people_char_3_group_onehotavg_19\n",
      "people_char_3_group_onehotavg_20\n",
      "people_char_3_group_onehotavg_21\n",
      "people_char_3_group_onehotavg_24\n",
      "people_char_3_group_onehotavg_26\n",
      "people_char_3_group_onehotavg_28\n",
      "people_char_3_group_onehotavg_29\n",
      "people_char_3_group_onehotavg_30\n",
      "people_char_3_group_onehotavg_31\n",
      "people_char_3_group_onehotavg_40\n",
      "people_char_30_group_onehotavg_0\n",
      "people_char_30_group_onehotavg_1\n",
      "people_char_31_group_onehotavg_0\n",
      "people_char_31_group_onehotavg_1\n",
      "people_char_32_group_onehotavg_0\n",
      "people_char_32_group_onehotavg_1\n",
      "people_char_33_group_onehotavg_0\n",
      "people_char_33_group_onehotavg_1\n",
      "people_char_34_group_onehotavg_0\n",
      "people_char_34_group_onehotavg_1\n",
      "people_char_35_group_onehotavg_0\n",
      "people_char_35_group_onehotavg_1\n",
      "people_char_36_group_onehotavg_0\n",
      "people_char_36_group_onehotavg_1\n",
      "people_char_37_group_onehotavg_0\n",
      "people_char_37_group_onehotavg_1\n",
      "people_char_4_group_onehotavg_1\n",
      "people_char_4_group_onehotavg_2\n",
      "people_char_4_group_onehotavg_3\n",
      "people_char_4_group_onehotavg_4\n",
      "people_char_4_group_onehotavg_5\n",
      "people_char_4_group_onehotavg_6\n",
      "people_char_4_group_onehotavg_7\n",
      "people_char_4_group_onehotavg_8\n",
      "people_char_4_group_onehotavg_9\n",
      "people_char_4_group_onehotavg_10\n",
      "people_char_4_group_onehotavg_11\n",
      "people_char_4_group_onehotavg_12\n",
      "people_char_4_group_onehotavg_13\n",
      "people_char_4_group_onehotavg_14\n",
      "people_char_4_group_onehotavg_15\n",
      "people_char_4_group_onehotavg_16\n",
      "people_char_4_group_onehotavg_18\n",
      "people_char_4_group_onehotavg_19\n",
      "people_char_4_group_onehotavg_21\n",
      "people_char_4_group_onehotavg_22\n",
      "people_char_4_group_onehotavg_23\n",
      "people_char_4_group_onehotavg_25\n",
      "people_char_5_group_onehotavg_1\n",
      "people_char_5_group_onehotavg_2\n",
      "people_char_5_group_onehotavg_3\n",
      "people_char_5_group_onehotavg_4\n",
      "people_char_5_group_onehotavg_5\n",
      "people_char_5_group_onehotavg_6\n",
      "people_char_5_group_onehotavg_7\n",
      "people_char_5_group_onehotavg_8\n",
      "people_char_5_group_onehotavg_9\n",
      "people_char_6_group_onehotavg_1\n",
      "people_char_6_group_onehotavg_2\n",
      "people_char_6_group_onehotavg_3\n",
      "people_char_6_group_onehotavg_4\n",
      "people_char_6_group_onehotavg_5\n",
      "people_char_6_group_onehotavg_6\n",
      "people_char_7_group_onehotavg_1\n",
      "people_char_7_group_onehotavg_2\n",
      "people_char_7_group_onehotavg_3\n",
      "people_char_7_group_onehotavg_4\n",
      "people_char_7_group_onehotavg_5\n",
      "people_char_7_group_onehotavg_6\n",
      "people_char_7_group_onehotavg_7\n",
      "people_char_7_group_onehotavg_8\n",
      "people_char_7_group_onehotavg_9\n",
      "people_char_7_group_onehotavg_10\n",
      "people_char_7_group_onehotavg_11\n",
      "people_char_7_group_onehotavg_12\n",
      "people_char_7_group_onehotavg_13\n",
      "people_char_7_group_onehotavg_14\n",
      "people_char_7_group_onehotavg_15\n",
      "people_char_7_group_onehotavg_16\n",
      "people_char_7_group_onehotavg_17\n",
      "people_char_7_group_onehotavg_18\n",
      "people_char_7_group_onehotavg_19\n",
      "people_char_7_group_onehotavg_20\n",
      "people_char_7_group_onehotavg_21\n",
      "people_char_7_group_onehotavg_22\n",
      "people_char_7_group_onehotavg_23\n",
      "people_char_7_group_onehotavg_24\n",
      "people_char_7_group_onehotavg_25\n",
      "people_char_8_group_onehotavg_1\n",
      "people_char_8_group_onehotavg_2\n",
      "people_char_8_group_onehotavg_3\n",
      "people_char_8_group_onehotavg_4\n",
      "people_char_8_group_onehotavg_5\n",
      "people_char_8_group_onehotavg_6\n",
      "people_char_8_group_onehotavg_7\n",
      "people_char_8_group_onehotavg_8\n",
      "people_char_9_group_onehotavg_1\n",
      "people_char_9_group_onehotavg_2\n",
      "people_char_9_group_onehotavg_3\n",
      "people_char_9_group_onehotavg_4\n",
      "people_char_9_group_onehotavg_5\n",
      "people_char_9_group_onehotavg_6\n",
      "people_char_9_group_onehotavg_7\n",
      "people_char_9_group_onehotavg_8\n",
      "people_char_9_group_onehotavg_9\n"
     ]
    }
   ],
   "source": [
    "for k in df.keys():\n",
    "    print(k)"
   ]
  },
  {
   "cell_type": "code",
   "execution_count": 38,
   "metadata": {
    "collapsed": false
   },
   "outputs": [
    {
     "data": {
      "text/plain": [
       "289"
      ]
     },
     "execution_count": 38,
     "metadata": {},
     "output_type": "execute_result"
    }
   ],
   "source": [
    "len(df.keys())"
   ]
  },
  {
   "cell_type": "code",
   "execution_count": 39,
   "metadata": {
    "collapsed": true
   },
   "outputs": [],
   "source": [
    "df.to_pickle(SAVE_AS_DIR+'/train_test_group_columns_adv.pkl')"
   ]
  },
  {
   "cell_type": "code",
   "execution_count": 40,
   "metadata": {
    "collapsed": false
   },
   "outputs": [],
   "source": [
    "train_unique_groups = df[~df['outcome'].isnull()]['people_group_1'].unique()\n",
    "test_unique_groups = df[df['outcome'].isnull()]['people_group_1'].unique()\n",
    "\n",
    "\n",
    "test_only_groups = []\n",
    "for group in test_unique_groups:\n",
    "    if group not in train_unique_groups:\n",
    "        test_only_groups.append(group)"
   ]
  },
  {
   "cell_type": "code",
   "execution_count": 41,
   "metadata": {
    "collapsed": false
   },
   "outputs": [
    {
     "name": "stdout",
     "output_type": "stream",
     "text": [
      "29899 11639 4325\n"
     ]
    }
   ],
   "source": [
    "print len(train_unique_groups),len(test_unique_groups),len(test_only_groups)"
   ]
  },
  {
   "cell_type": "code",
   "execution_count": 42,
   "metadata": {
    "collapsed": false
   },
   "outputs": [
    {
     "name": "stdout",
     "output_type": "stream",
     "text": [
      "(984581, 289) (333083, 289)\n"
     ]
    }
   ],
   "source": [
    "final_train_data_df = df[~df['outcome'].isnull()]\n",
    "final_test_data_df = df[df['outcome'].isnull()]\n",
    "\n",
    "print final_train_data_df.shape, final_test_data_df.shape"
   ]
  },
  {
   "cell_type": "code",
   "execution_count": 46,
   "metadata": {
    "collapsed": false
   },
   "outputs": [],
   "source": [
    "train_data = df[~df['people_group_1'].isin(test_only_groups)]\n",
    "test_data = df[df['people_group_1'].isin(test_only_groups)]"
   ]
  },
  {
   "cell_type": "code",
   "execution_count": 49,
   "metadata": {
    "collapsed": true
   },
   "outputs": [],
   "source": [
    "def getGroupOutputType(x):\n",
    "    outcome = x.mean()\n",
    "    if outcome == 1.0 :\n",
    "        return 1\n",
    "    if outcome == 0.0:\n",
    "        return 0\n",
    "    return 2"
   ]
  },
  {
   "cell_type": "code",
   "execution_count": 50,
   "metadata": {
    "collapsed": false
   },
   "outputs": [
    {
     "data": {
      "text/plain": [
       "(1248591, 290)"
      ]
     },
     "execution_count": 50,
     "metadata": {},
     "output_type": "execute_result"
    }
   ],
   "source": [
    "train_otype = train_data.groupby('people_group_1')['outcome'].apply(getGroupOutputType)\n",
    "train_otype = train_otype.to_frame().reset_index()\n",
    "train_data = pd.merge(train_data,train_otype,on='people_group_1',how='left')\n",
    "train_data.shape"
   ]
  },
  {
   "cell_type": "code",
   "execution_count": 51,
   "metadata": {
    "collapsed": false
   },
   "outputs": [],
   "source": [
    "train_data.rename(columns={'outcome_x':'outcome','outcome_y':'otype'},inplace=True)"
   ]
  },
  {
   "cell_type": "code",
   "execution_count": 52,
   "metadata": {
    "collapsed": false
   },
   "outputs": [
    {
     "data": {
      "text/plain": [
       "(29899, 290)"
      ]
     },
     "execution_count": 52,
     "metadata": {},
     "output_type": "execute_result"
    }
   ],
   "source": [
    "is_dup = train_data.drop('outcome',axis=1).duplicated()\n",
    "train_data = train_data[~is_dup]\n",
    "train_data.shape"
   ]
  },
  {
   "cell_type": "code",
   "execution_count": 53,
   "metadata": {
    "collapsed": false
   },
   "outputs": [
    {
     "data": {
      "text/plain": [
       "(4325, 289)"
      ]
     },
     "execution_count": 53,
     "metadata": {},
     "output_type": "execute_result"
    }
   ],
   "source": [
    "is_dup = test_data.duplicated()\n",
    "test_data = test_data[~is_dup]\n",
    "test_data.shape"
   ]
  },
  {
   "cell_type": "code",
   "execution_count": 54,
   "metadata": {
    "collapsed": true
   },
   "outputs": [],
   "source": [
    "def category_to_one_hot(dataset, non_feature, continuous_feature):\n",
    "    # Function to change labels of categories to one-hot encoding using scikit's OneHot Encoding sparse matrix\n",
    "    # pd.get_dummies(df) does the same, provides sweet header's as well but it kill's memory\n",
    "    ds = dataset.drop(non_feature, axis=1)\n",
    "    boolean_column = []\n",
    "    counter = 0\n",
    "    for column in ds.columns:\n",
    "        if column not in continuous_feature:\n",
    "            boolean_column.append(counter)\n",
    "        counter += 1\n",
    "    # boolean_column is not the column name but index\n",
    "    print(\"Done filtering columns...\")\n",
    "    grd_enc = OneHotEncoder(categorical_features=boolean_column)\n",
    "    encoded_arr = grd_enc.fit_transform(ds)\n",
    "    return encoded_arr"
   ]
  },
  {
   "cell_type": "code",
   "execution_count": 55,
   "metadata": {
    "collapsed": true
   },
   "outputs": [],
   "source": [
    "train_data.to_pickle('group3d_train.pkl')"
   ]
  },
  {
   "cell_type": "code",
   "execution_count": 56,
   "metadata": {
    "collapsed": true
   },
   "outputs": [],
   "source": [
    "test_data.to_pickle('group3d_test.pkl')"
   ]
  },
  {
   "cell_type": "code",
   "execution_count": 54,
   "metadata": {
    "collapsed": false
   },
   "outputs": [],
   "source": [
    "# # Function to one hot encode all values ~ 120 secs\n",
    "# start=time.time()\n",
    "# trainarr=category_to_one_hot(train_data,NON_FEATURE+['otype'],CONT+CATEGORICAL_BINARY)\n",
    "# end=time.time()\n",
    "# print(end-start)"
   ]
  },
  {
   "cell_type": "code",
   "execution_count": 55,
   "metadata": {
    "collapsed": false
   },
   "outputs": [],
   "source": [
    "# start=time.time()\n",
    "# testarr=category_to_one_hot(final_test_data_df,NON_FEATURE,CONT+CATEGORICAL_BINARY)\n",
    "# end=time.time()\n",
    "# print(end-start)"
   ]
  },
  {
   "cell_type": "code",
   "execution_count": 56,
   "metadata": {
    "collapsed": false
   },
   "outputs": [],
   "source": [
    "# print trainarr.shape\n",
    "# print testarr.shape"
   ]
  },
  {
   "cell_type": "code",
   "execution_count": 144,
   "metadata": {
    "collapsed": false
   },
   "outputs": [],
   "source": [
    "# test_data['outcome']"
   ]
  },
  {
   "cell_type": "code",
   "execution_count": 57,
   "metadata": {
    "collapsed": true
   },
   "outputs": [],
   "source": [
    "from sklearn.cross_validation import KFold\n",
    "from sklearn.metrics import log_loss\n",
    "import xgboost as xgb"
   ]
  },
  {
   "cell_type": "code",
   "execution_count": 254,
   "metadata": {
    "collapsed": false
   },
   "outputs": [],
   "source": [
    "# trainarr = trainarr.tocsr()"
   ]
  },
  {
   "cell_type": "code",
   "execution_count": 157,
   "metadata": {
    "collapsed": false
   },
   "outputs": [],
   "source": [
    "# train_data[:6]"
   ]
  },
  {
   "cell_type": "code",
   "execution_count": 156,
   "metadata": {
    "collapsed": false
   },
   "outputs": [],
   "source": [
    "# train_data.iloc[5]"
   ]
  },
  {
   "cell_type": "code",
   "execution_count": 58,
   "metadata": {
    "collapsed": false
   },
   "outputs": [
    {
     "name": "stdout",
     "output_type": "stream",
     "text": [
      "('TRAIN:', array([    0,     1,     2, ..., 29895, 29896, 29898]), 'TEST:', array([    3,     7,    11, ..., 29888, 29891, 29897]))\n",
      "('TRAIN:', array([    0,     1,     2, ..., 29896, 29897, 29898]), 'TEST:', array([    4,    10,    19, ..., 29878, 29889, 29894]))\n",
      "('TRAIN:', array([    0,     1,     2, ..., 29895, 29897, 29898]), 'TEST:', array([    5,    20,    28, ..., 29890, 29893, 29896]))\n",
      "('TRAIN:', array([    0,     1,     3, ..., 29895, 29896, 29897]), 'TEST:', array([    2,    12,    14, ..., 29887, 29892, 29898]))\n",
      "('TRAIN:', array([    2,     3,     4, ..., 29896, 29897, 29898]), 'TEST:', array([    0,     1,     6, ..., 29876, 29883, 29895]))\n"
     ]
    }
   ],
   "source": [
    "## Gives better distribution ##\n",
    "from sklearn.model_selection import StratifiedKFold\n",
    "\n",
    "KfoldOnPId=train_data\n",
    "\n",
    "trainarr=KfoldOnPId.drop(['otype','outcome'],axis=1)\n",
    "y = KfoldOnPId['otype'].values\n",
    "\n",
    "\n",
    "X_train, X_test = {}, {}\n",
    "y_train, y_test = {}, {}\n",
    "\n",
    "test_indexes = []\n",
    "\n",
    "skf = StratifiedKFold(5, shuffle=True, random_state=12345)\n",
    "i=0\n",
    "for train_index, test_index in skf.split(trainarr,y):\n",
    "    print(\"TRAIN:\", train_index, \"TEST:\", test_index)\n",
    "    test_indexes.append(test_index)\n",
    "    X_train[i], X_test[i] = trainarr.iloc[train_index], trainarr.iloc[test_index]\n",
    "    y_train[i], y_test[i] = y[train_index], y[test_index]\n",
    "    i +=1"
   ]
  },
  {
   "cell_type": "code",
   "execution_count": 59,
   "metadata": {
    "collapsed": false
   },
   "outputs": [
    {
     "name": "stdout",
     "output_type": "stream",
     "text": [
      "(0, 5981, 0.72094967396756393, 23918, 0.72092148172924153)\n",
      "(1, 5981, 0.72094967396756393, 23918, 0.72092148172924153)\n",
      "(2, 5980, 0.7210702341137124, 23919, 0.72089134161127133)\n",
      "(3, 5979, 0.72085633049004849, 23920, 0.72094481605351168)\n",
      "(4, 5978, 0.72080963532954168, 23921, 0.7209564817524351)\n"
     ]
    }
   ],
   "source": [
    "for k in range(len(X_train)):\n",
    "    print(k, len(X_test[k]), y_test[k].mean(),len(X_train[k]), y_train[k].mean())"
   ]
  },
  {
   "cell_type": "code",
   "execution_count": 60,
   "metadata": {
    "collapsed": false
   },
   "outputs": [
    {
     "name": "stdout",
     "output_type": "stream",
     "text": [
      "(23918,) (5981,)\n",
      "(23918,) (5981,)\n",
      "(23919,) (5980,)\n",
      "(23920,) (5979,)\n",
      "(23921,) (5978,)\n"
     ]
    }
   ],
   "source": [
    "xg_train = {}\n",
    "xg_test = {}\n",
    "\n",
    "for f in range(5):\n",
    "    print y_train[f].shape, y_test[f].shape\n",
    "    xg_train[f] = xgb.DMatrix( X_train[f], label=y_train[f])\n",
    "    xg_test[f] = xgb.DMatrix(X_test[f], label=y_test[f])"
   ]
  },
  {
   "cell_type": "code",
   "execution_count": 61,
   "metadata": {
    "collapsed": false
   },
   "outputs": [
    {
     "name": "stdout",
     "output_type": "stream",
     "text": [
      "[0]\ttrain-mlogloss:1.09499\ttest-mlogloss:1.09521\n",
      "Multiple eval metrics have been passed: 'test-mlogloss' will be used for early stopping.\n",
      "\n",
      "Will train until test-mlogloss hasn't improved in 30 rounds.\n",
      "[10]\ttrain-mlogloss:1.06107\ttest-mlogloss:1.06368\n",
      "[20]\ttrain-mlogloss:1.03024\ttest-mlogloss:1.03534\n",
      "[30]\ttrain-mlogloss:1.00362\ttest-mlogloss:1.0109\n",
      "[40]\ttrain-mlogloss:0.9799\ttest-mlogloss:0.989373\n",
      "[50]\ttrain-mlogloss:0.958724\ttest-mlogloss:0.970189\n",
      "[60]\ttrain-mlogloss:0.939327\ttest-mlogloss:0.952801\n",
      "[70]\ttrain-mlogloss:0.922449\ttest-mlogloss:0.937826\n",
      "[80]\ttrain-mlogloss:0.906329\ttest-mlogloss:0.923652\n",
      "[90]\ttrain-mlogloss:0.892233\ttest-mlogloss:0.9115\n",
      "[100]\ttrain-mlogloss:0.87913\ttest-mlogloss:0.900292\n",
      "[110]\ttrain-mlogloss:0.867563\ttest-mlogloss:0.89049\n",
      "[120]\ttrain-mlogloss:0.856685\ttest-mlogloss:0.881456\n",
      "[130]\ttrain-mlogloss:0.846616\ttest-mlogloss:0.873237\n",
      "[140]\ttrain-mlogloss:0.837206\ttest-mlogloss:0.865583\n",
      "[150]\ttrain-mlogloss:0.828419\ttest-mlogloss:0.85858\n",
      "[160]\ttrain-mlogloss:0.820572\ttest-mlogloss:0.852367\n",
      "[170]\ttrain-mlogloss:0.812962\ttest-mlogloss:0.846622\n",
      "[180]\ttrain-mlogloss:0.805827\ttest-mlogloss:0.841097\n",
      "[190]\ttrain-mlogloss:0.799121\ttest-mlogloss:0.836042\n",
      "[200]\ttrain-mlogloss:0.79305\ttest-mlogloss:0.831648\n",
      "[210]\ttrain-mlogloss:0.787226\ttest-mlogloss:0.827393\n",
      "[220]\ttrain-mlogloss:0.781631\ttest-mlogloss:0.823485\n",
      "[230]\ttrain-mlogloss:0.776326\ttest-mlogloss:0.819838\n",
      "[240]\ttrain-mlogloss:0.771237\ttest-mlogloss:0.816353\n",
      "[250]\ttrain-mlogloss:0.766565\ttest-mlogloss:0.813268\n",
      "[260]\ttrain-mlogloss:0.762055\ttest-mlogloss:0.810385\n",
      "[270]\ttrain-mlogloss:0.757891\ttest-mlogloss:0.807696\n",
      "[280]\ttrain-mlogloss:0.753941\ttest-mlogloss:0.805197\n",
      "[290]\ttrain-mlogloss:0.749959\ttest-mlogloss:0.802712\n",
      "[300]\ttrain-mlogloss:0.746198\ttest-mlogloss:0.800397\n",
      "[310]\ttrain-mlogloss:0.742602\ttest-mlogloss:0.798351\n",
      "[320]\ttrain-mlogloss:0.739108\ttest-mlogloss:0.796485\n",
      "[330]\ttrain-mlogloss:0.735749\ttest-mlogloss:0.794653\n",
      "[340]\ttrain-mlogloss:0.732535\ttest-mlogloss:0.792859\n",
      "[350]\ttrain-mlogloss:0.72935\ttest-mlogloss:0.791045\n",
      "[360]\ttrain-mlogloss:0.72638\ttest-mlogloss:0.789481\n",
      "[370]\ttrain-mlogloss:0.723436\ttest-mlogloss:0.788064\n",
      "[380]\ttrain-mlogloss:0.720845\ttest-mlogloss:0.786708\n",
      "[390]\ttrain-mlogloss:0.71822\ttest-mlogloss:0.785368\n",
      "[400]\ttrain-mlogloss:0.715781\ttest-mlogloss:0.784127\n",
      "[410]\ttrain-mlogloss:0.713323\ttest-mlogloss:0.782897\n",
      "[420]\ttrain-mlogloss:0.710894\ttest-mlogloss:0.781736\n",
      "[430]\ttrain-mlogloss:0.708521\ttest-mlogloss:0.780656\n",
      "[440]\ttrain-mlogloss:0.706279\ttest-mlogloss:0.779732\n",
      "[450]\ttrain-mlogloss:0.703983\ttest-mlogloss:0.778757\n",
      "[460]\ttrain-mlogloss:0.701871\ttest-mlogloss:0.778054\n",
      "[470]\ttrain-mlogloss:0.699696\ttest-mlogloss:0.777235\n",
      "[480]\ttrain-mlogloss:0.697581\ttest-mlogloss:0.776439\n",
      "[490]\ttrain-mlogloss:0.695657\ttest-mlogloss:0.775601\n",
      "[500]\ttrain-mlogloss:0.693609\ttest-mlogloss:0.774905\n",
      "[510]\ttrain-mlogloss:0.691636\ttest-mlogloss:0.774263\n",
      "[520]\ttrain-mlogloss:0.689724\ttest-mlogloss:0.773588\n",
      "[530]\ttrain-mlogloss:0.687969\ttest-mlogloss:0.773011\n",
      "[540]\ttrain-mlogloss:0.686099\ttest-mlogloss:0.772313\n",
      "[550]\ttrain-mlogloss:0.684321\ttest-mlogloss:0.77182\n",
      "[560]\ttrain-mlogloss:0.682592\ttest-mlogloss:0.771371\n",
      "[570]\ttrain-mlogloss:0.680856\ttest-mlogloss:0.770929\n",
      "[580]\ttrain-mlogloss:0.67919\ttest-mlogloss:0.770458\n",
      "[590]\ttrain-mlogloss:0.677556\ttest-mlogloss:0.770027\n",
      "[600]\ttrain-mlogloss:0.676001\ttest-mlogloss:0.769618\n",
      "[610]\ttrain-mlogloss:0.674393\ttest-mlogloss:0.769145\n",
      "[620]\ttrain-mlogloss:0.672701\ttest-mlogloss:0.768742\n",
      "[630]\ttrain-mlogloss:0.671172\ttest-mlogloss:0.768431\n",
      "[640]\ttrain-mlogloss:0.66975\ttest-mlogloss:0.768077\n",
      "[650]\ttrain-mlogloss:0.668191\ttest-mlogloss:0.767629\n",
      "[660]\ttrain-mlogloss:0.666703\ttest-mlogloss:0.767362\n",
      "[670]\ttrain-mlogloss:0.665154\ttest-mlogloss:0.76697\n",
      "[680]\ttrain-mlogloss:0.663717\ttest-mlogloss:0.766635\n",
      "[690]\ttrain-mlogloss:0.662423\ttest-mlogloss:0.76639\n",
      "[700]\ttrain-mlogloss:0.661018\ttest-mlogloss:0.766141\n",
      "[710]\ttrain-mlogloss:0.659651\ttest-mlogloss:0.765895\n",
      "[720]\ttrain-mlogloss:0.658432\ttest-mlogloss:0.765608\n",
      "[730]\ttrain-mlogloss:0.657176\ttest-mlogloss:0.765363\n",
      "[740]\ttrain-mlogloss:0.655856\ttest-mlogloss:0.765085\n",
      "[750]\ttrain-mlogloss:0.654598\ttest-mlogloss:0.764914\n",
      "[760]\ttrain-mlogloss:0.65327\ttest-mlogloss:0.764702\n",
      "[770]\ttrain-mlogloss:0.651945\ttest-mlogloss:0.764502\n",
      "[780]\ttrain-mlogloss:0.65074\ttest-mlogloss:0.764302\n",
      "[790]\ttrain-mlogloss:0.649598\ttest-mlogloss:0.764145\n",
      "[800]\ttrain-mlogloss:0.648316\ttest-mlogloss:0.764005\n",
      "[810]\ttrain-mlogloss:0.647088\ttest-mlogloss:0.763874\n",
      "[820]\ttrain-mlogloss:0.6458\ttest-mlogloss:0.763639\n",
      "[830]\ttrain-mlogloss:0.64476\ttest-mlogloss:0.763529\n",
      "[840]\ttrain-mlogloss:0.643666\ttest-mlogloss:0.763424\n",
      "[850]\ttrain-mlogloss:0.642463\ttest-mlogloss:0.763291\n",
      "[860]\ttrain-mlogloss:0.641226\ttest-mlogloss:0.763192\n",
      "[870]\ttrain-mlogloss:0.640082\ttest-mlogloss:0.763093\n",
      "[880]\ttrain-mlogloss:0.638933\ttest-mlogloss:0.762929\n",
      "[890]\ttrain-mlogloss:0.637802\ttest-mlogloss:0.762813\n",
      "[900]\ttrain-mlogloss:0.636696\ttest-mlogloss:0.762722\n",
      "[910]\ttrain-mlogloss:0.635505\ttest-mlogloss:0.762641\n",
      "[920]\ttrain-mlogloss:0.634355\ttest-mlogloss:0.762507\n",
      "[930]\ttrain-mlogloss:0.633221\ttest-mlogloss:0.762326\n",
      "[940]\ttrain-mlogloss:0.632216\ttest-mlogloss:0.762239\n",
      "[950]\ttrain-mlogloss:0.631005\ttest-mlogloss:0.76221\n",
      "[960]\ttrain-mlogloss:0.630013\ttest-mlogloss:0.762156\n",
      "[970]\ttrain-mlogloss:0.628877\ttest-mlogloss:0.761933\n",
      "[980]\ttrain-mlogloss:0.627844\ttest-mlogloss:0.761841\n",
      "[990]\ttrain-mlogloss:0.626693\ttest-mlogloss:0.761845\n",
      "[1000]\ttrain-mlogloss:0.625677\ttest-mlogloss:0.761775\n",
      "[1010]\ttrain-mlogloss:0.624729\ttest-mlogloss:0.761698\n",
      "[1020]\ttrain-mlogloss:0.623753\ttest-mlogloss:0.761658\n",
      "[1030]\ttrain-mlogloss:0.622652\ttest-mlogloss:0.761603\n",
      "[1040]\ttrain-mlogloss:0.621636\ttest-mlogloss:0.761535\n",
      "[1050]\ttrain-mlogloss:0.620615\ttest-mlogloss:0.761472\n",
      "[1060]\ttrain-mlogloss:0.619489\ttest-mlogloss:0.761404\n",
      "[1070]\ttrain-mlogloss:0.618401\ttest-mlogloss:0.761316\n",
      "[1080]\ttrain-mlogloss:0.617397\ttest-mlogloss:0.761281\n",
      "[1090]\ttrain-mlogloss:0.616419\ttest-mlogloss:0.76118\n",
      "[1100]\ttrain-mlogloss:0.615308\ttest-mlogloss:0.761079\n",
      "[1110]\ttrain-mlogloss:0.614272\ttest-mlogloss:0.761044\n",
      "[1120]\ttrain-mlogloss:0.613255\ttest-mlogloss:0.760978\n",
      "[1130]\ttrain-mlogloss:0.612203\ttest-mlogloss:0.760955\n",
      "[1140]\ttrain-mlogloss:0.611257\ttest-mlogloss:0.76095\n",
      "[1150]\ttrain-mlogloss:0.610261\ttest-mlogloss:0.760947\n",
      "[1160]\ttrain-mlogloss:0.609347\ttest-mlogloss:0.760963\n",
      "[1170]\ttrain-mlogloss:0.608337\ttest-mlogloss:0.760881\n",
      "[1180]\ttrain-mlogloss:0.607251\ttest-mlogloss:0.760862\n",
      "[1190]\ttrain-mlogloss:0.606263\ttest-mlogloss:0.76081\n",
      "[1200]\ttrain-mlogloss:0.605281\ttest-mlogloss:0.760791\n",
      "[1210]\ttrain-mlogloss:0.604292\ttest-mlogloss:0.760823\n",
      "[1220]\ttrain-mlogloss:0.603402\ttest-mlogloss:0.760852\n",
      "[1230]\ttrain-mlogloss:0.602399\ttest-mlogloss:0.76083\n",
      "Stopping. Best iteration:\n",
      "[1202]\ttrain-mlogloss:0.605097\ttest-mlogloss:0.76079\n",
      "\n",
      "[0]\ttrain-mlogloss:1.09499\ttest-mlogloss:1.09514\n",
      "Multiple eval metrics have been passed: 'test-mlogloss' will be used for early stopping.\n",
      "\n",
      "Will train until test-mlogloss hasn't improved in 30 rounds.\n",
      "[10]\ttrain-mlogloss:1.06148\ttest-mlogloss:1.06268\n",
      "[20]\ttrain-mlogloss:1.03145\ttest-mlogloss:1.03374\n",
      "[30]\ttrain-mlogloss:1.00505\ttest-mlogloss:1.00853\n",
      "[40]\ttrain-mlogloss:0.981829\ttest-mlogloss:0.986452\n",
      "[50]\ttrain-mlogloss:0.960839\ttest-mlogloss:0.966551\n",
      "[60]\ttrain-mlogloss:0.941812\ttest-mlogloss:0.948673\n",
      "[70]\ttrain-mlogloss:0.925028\ttest-mlogloss:0.933155\n",
      "[80]\ttrain-mlogloss:0.909057\ttest-mlogloss:0.918307\n",
      "[90]\ttrain-mlogloss:0.894936\ttest-mlogloss:0.905478\n",
      "[100]\ttrain-mlogloss:0.881874\ttest-mlogloss:0.893609\n",
      "[110]\ttrain-mlogloss:0.870229\ttest-mlogloss:0.883118\n",
      "[120]\ttrain-mlogloss:0.859268\ttest-mlogloss:0.873432\n",
      "[130]\ttrain-mlogloss:0.849159\ttest-mlogloss:0.86464\n",
      "[140]\ttrain-mlogloss:0.839615\ttest-mlogloss:0.856376\n",
      "[150]\ttrain-mlogloss:0.83103\ttest-mlogloss:0.848937\n",
      "[160]\ttrain-mlogloss:0.823128\ttest-mlogloss:0.842236\n",
      "[170]\ttrain-mlogloss:0.81566\ttest-mlogloss:0.835994\n",
      "[180]\ttrain-mlogloss:0.808614\ttest-mlogloss:0.830218\n",
      "[190]\ttrain-mlogloss:0.801821\ttest-mlogloss:0.824766\n",
      "[200]\ttrain-mlogloss:0.795594\ttest-mlogloss:0.819985\n",
      "[210]\ttrain-mlogloss:0.789776\ttest-mlogloss:0.815545\n",
      "[220]\ttrain-mlogloss:0.784304\ttest-mlogloss:0.81139\n",
      "[230]\ttrain-mlogloss:0.779207\ttest-mlogloss:0.807586\n",
      "[240]\ttrain-mlogloss:0.774294\ttest-mlogloss:0.804088\n",
      "[250]\ttrain-mlogloss:0.769667\ttest-mlogloss:0.800797\n",
      "[260]\ttrain-mlogloss:0.765239\ttest-mlogloss:0.797749\n",
      "[270]\ttrain-mlogloss:0.761192\ttest-mlogloss:0.794909\n",
      "[280]\ttrain-mlogloss:0.757113\ttest-mlogloss:0.792188\n",
      "[290]\ttrain-mlogloss:0.753357\ttest-mlogloss:0.78979\n",
      "[300]\ttrain-mlogloss:0.749642\ttest-mlogloss:0.787338\n",
      "[310]\ttrain-mlogloss:0.746115\ttest-mlogloss:0.785153\n",
      "[320]\ttrain-mlogloss:0.742664\ttest-mlogloss:0.783119\n",
      "[330]\ttrain-mlogloss:0.739225\ttest-mlogloss:0.780989\n",
      "[340]\ttrain-mlogloss:0.736108\ttest-mlogloss:0.779167\n",
      "[350]\ttrain-mlogloss:0.733005\ttest-mlogloss:0.777325\n",
      "[360]\ttrain-mlogloss:0.730111\ttest-mlogloss:0.775675\n",
      "[370]\ttrain-mlogloss:0.727209\ttest-mlogloss:0.774004\n",
      "[380]\ttrain-mlogloss:0.724478\ttest-mlogloss:0.772539\n",
      "[390]\ttrain-mlogloss:0.721677\ttest-mlogloss:0.771056\n",
      "[400]\ttrain-mlogloss:0.719211\ttest-mlogloss:0.769766\n",
      "[410]\ttrain-mlogloss:0.716795\ttest-mlogloss:0.768589\n",
      "[420]\ttrain-mlogloss:0.714317\ttest-mlogloss:0.767362\n",
      "[430]\ttrain-mlogloss:0.711909\ttest-mlogloss:0.766153\n",
      "[440]\ttrain-mlogloss:0.709763\ttest-mlogloss:0.765244\n",
      "[450]\ttrain-mlogloss:0.707652\ttest-mlogloss:0.764322\n",
      "[460]\ttrain-mlogloss:0.705505\ttest-mlogloss:0.76334\n",
      "[470]\ttrain-mlogloss:0.703389\ttest-mlogloss:0.762361\n",
      "[480]\ttrain-mlogloss:0.701358\ttest-mlogloss:0.761527\n",
      "[490]\ttrain-mlogloss:0.699371\ttest-mlogloss:0.76075\n",
      "[500]\ttrain-mlogloss:0.697398\ttest-mlogloss:0.75997\n",
      "[510]\ttrain-mlogloss:0.695476\ttest-mlogloss:0.75923\n",
      "[520]\ttrain-mlogloss:0.693586\ttest-mlogloss:0.758606\n",
      "[530]\ttrain-mlogloss:0.69177\ttest-mlogloss:0.758033\n",
      "[540]\ttrain-mlogloss:0.689876\ttest-mlogloss:0.757254\n",
      "[550]\ttrain-mlogloss:0.688176\ttest-mlogloss:0.756633\n",
      "[560]\ttrain-mlogloss:0.686437\ttest-mlogloss:0.756087\n",
      "[570]\ttrain-mlogloss:0.684643\ttest-mlogloss:0.755485\n",
      "[580]\ttrain-mlogloss:0.682924\ttest-mlogloss:0.755016\n",
      "[590]\ttrain-mlogloss:0.681133\ttest-mlogloss:0.754365\n",
      "[600]\ttrain-mlogloss:0.679569\ttest-mlogloss:0.753906\n",
      "[610]\ttrain-mlogloss:0.678028\ttest-mlogloss:0.753458\n",
      "[620]\ttrain-mlogloss:0.676444\ttest-mlogloss:0.753057\n",
      "[630]\ttrain-mlogloss:0.674901\ttest-mlogloss:0.752623\n",
      "[640]\ttrain-mlogloss:0.673243\ttest-mlogloss:0.752248\n",
      "[650]\ttrain-mlogloss:0.671803\ttest-mlogloss:0.751863\n",
      "[660]\ttrain-mlogloss:0.67041\ttest-mlogloss:0.751545\n",
      "[670]\ttrain-mlogloss:0.668961\ttest-mlogloss:0.751113\n",
      "[680]\ttrain-mlogloss:0.667506\ttest-mlogloss:0.750744\n",
      "[690]\ttrain-mlogloss:0.66607\ttest-mlogloss:0.750399\n",
      "[700]\ttrain-mlogloss:0.664595\ttest-mlogloss:0.749989\n",
      "[710]\ttrain-mlogloss:0.663175\ttest-mlogloss:0.749676\n",
      "[720]\ttrain-mlogloss:0.661821\ttest-mlogloss:0.749357\n",
      "[730]\ttrain-mlogloss:0.660474\ttest-mlogloss:0.749078\n",
      "[740]\ttrain-mlogloss:0.659083\ttest-mlogloss:0.748839\n",
      "[750]\ttrain-mlogloss:0.657778\ttest-mlogloss:0.748575\n",
      "[760]\ttrain-mlogloss:0.656486\ttest-mlogloss:0.748342\n",
      "[770]\ttrain-mlogloss:0.655111\ttest-mlogloss:0.748113\n",
      "[780]\ttrain-mlogloss:0.653748\ttest-mlogloss:0.747848\n",
      "[790]\ttrain-mlogloss:0.652484\ttest-mlogloss:0.74756\n",
      "[800]\ttrain-mlogloss:0.6512\ttest-mlogloss:0.74734\n",
      "[810]\ttrain-mlogloss:0.649958\ttest-mlogloss:0.747126\n",
      "[820]\ttrain-mlogloss:0.648788\ttest-mlogloss:0.74694\n",
      "[830]\ttrain-mlogloss:0.647479\ttest-mlogloss:0.74676\n",
      "[840]\ttrain-mlogloss:0.646326\ttest-mlogloss:0.746584\n",
      "[850]\ttrain-mlogloss:0.645185\ttest-mlogloss:0.746359\n",
      "[860]\ttrain-mlogloss:0.644053\ttest-mlogloss:0.746221\n",
      "[870]\ttrain-mlogloss:0.642898\ttest-mlogloss:0.746008\n",
      "[880]\ttrain-mlogloss:0.641629\ttest-mlogloss:0.745799\n",
      "[890]\ttrain-mlogloss:0.640502\ttest-mlogloss:0.745596\n",
      "[900]\ttrain-mlogloss:0.639418\ttest-mlogloss:0.745415\n",
      "[910]\ttrain-mlogloss:0.638217\ttest-mlogloss:0.745229\n",
      "[920]\ttrain-mlogloss:0.637036\ttest-mlogloss:0.745096\n",
      "[930]\ttrain-mlogloss:0.635878\ttest-mlogloss:0.744966\n",
      "[940]\ttrain-mlogloss:0.634828\ttest-mlogloss:0.744808\n",
      "[950]\ttrain-mlogloss:0.633709\ttest-mlogloss:0.744681\n",
      "[960]\ttrain-mlogloss:0.63266\ttest-mlogloss:0.744484\n",
      "[970]\ttrain-mlogloss:0.631536\ttest-mlogloss:0.744336\n",
      "[980]\ttrain-mlogloss:0.630516\ttest-mlogloss:0.744225\n",
      "[990]\ttrain-mlogloss:0.629418\ttest-mlogloss:0.744083\n",
      "[1000]\ttrain-mlogloss:0.628267\ttest-mlogloss:0.743906\n",
      "[1010]\ttrain-mlogloss:0.627127\ttest-mlogloss:0.743764\n",
      "[1020]\ttrain-mlogloss:0.626045\ttest-mlogloss:0.743733\n",
      "[1030]\ttrain-mlogloss:0.624939\ttest-mlogloss:0.743638\n",
      "[1040]\ttrain-mlogloss:0.623855\ttest-mlogloss:0.743553\n",
      "[1050]\ttrain-mlogloss:0.622867\ttest-mlogloss:0.743431\n",
      "[1060]\ttrain-mlogloss:0.621752\ttest-mlogloss:0.743341\n",
      "[1070]\ttrain-mlogloss:0.620663\ttest-mlogloss:0.743247\n",
      "[1080]\ttrain-mlogloss:0.619615\ttest-mlogloss:0.743183\n",
      "[1090]\ttrain-mlogloss:0.61857\ttest-mlogloss:0.743069\n",
      "[1100]\ttrain-mlogloss:0.617542\ttest-mlogloss:0.742943\n",
      "[1110]\ttrain-mlogloss:0.616543\ttest-mlogloss:0.7429\n",
      "[1120]\ttrain-mlogloss:0.615412\ttest-mlogloss:0.74286\n",
      "[1130]\ttrain-mlogloss:0.614366\ttest-mlogloss:0.742846\n",
      "[1140]\ttrain-mlogloss:0.613407\ttest-mlogloss:0.742814\n",
      "[1150]\ttrain-mlogloss:0.612396\ttest-mlogloss:0.742766\n",
      "[1160]\ttrain-mlogloss:0.611448\ttest-mlogloss:0.742727\n",
      "[1170]\ttrain-mlogloss:0.610448\ttest-mlogloss:0.742655\n",
      "[1180]\ttrain-mlogloss:0.609397\ttest-mlogloss:0.742626\n",
      "[1190]\ttrain-mlogloss:0.608424\ttest-mlogloss:0.742567\n",
      "[1200]\ttrain-mlogloss:0.60748\ttest-mlogloss:0.742502\n",
      "[1210]\ttrain-mlogloss:0.606445\ttest-mlogloss:0.742461\n",
      "[1220]\ttrain-mlogloss:0.605538\ttest-mlogloss:0.742452\n",
      "[1230]\ttrain-mlogloss:0.604573\ttest-mlogloss:0.742438\n",
      "[1240]\ttrain-mlogloss:0.60355\ttest-mlogloss:0.742482\n",
      "[1250]\ttrain-mlogloss:0.60254\ttest-mlogloss:0.742446\n",
      "[1260]\ttrain-mlogloss:0.601535\ttest-mlogloss:0.742354\n",
      "[1270]\ttrain-mlogloss:0.60058\ttest-mlogloss:0.742303\n",
      "[1280]\ttrain-mlogloss:0.5997\ttest-mlogloss:0.742255\n",
      "[1290]\ttrain-mlogloss:0.598745\ttest-mlogloss:0.742257\n",
      "[1300]\ttrain-mlogloss:0.597811\ttest-mlogloss:0.742231\n",
      "[1310]\ttrain-mlogloss:0.596858\ttest-mlogloss:0.742197\n",
      "[1320]\ttrain-mlogloss:0.595878\ttest-mlogloss:0.742153\n",
      "[1330]\ttrain-mlogloss:0.594982\ttest-mlogloss:0.742117\n",
      "[1340]\ttrain-mlogloss:0.594039\ttest-mlogloss:0.742119\n",
      "[1350]\ttrain-mlogloss:0.593105\ttest-mlogloss:0.742157\n",
      "Stopping. Best iteration:\n",
      "[1328]\ttrain-mlogloss:0.595157\ttest-mlogloss:0.742089\n",
      "\n",
      "[0]\ttrain-mlogloss:1.09488\ttest-mlogloss:1.09505\n",
      "Multiple eval metrics have been passed: 'test-mlogloss' will be used for early stopping.\n",
      "\n",
      "Will train until test-mlogloss hasn't improved in 30 rounds.\n",
      "[10]\ttrain-mlogloss:1.06088\ttest-mlogloss:1.06264\n",
      "[20]\ttrain-mlogloss:1.03126\ttest-mlogloss:1.03454\n",
      "[30]\ttrain-mlogloss:1.00496\ttest-mlogloss:1.00978\n",
      "[40]\ttrain-mlogloss:0.981558\ttest-mlogloss:0.987808\n",
      "[50]\ttrain-mlogloss:0.960963\ttest-mlogloss:0.968709\n",
      "[60]\ttrain-mlogloss:0.94149\ttest-mlogloss:0.95064\n",
      "[70]\ttrain-mlogloss:0.924608\ttest-mlogloss:0.935129\n",
      "[80]\ttrain-mlogloss:0.908975\ttest-mlogloss:0.920866\n",
      "[90]\ttrain-mlogloss:0.895213\ttest-mlogloss:0.908459\n",
      "[100]\ttrain-mlogloss:0.8822\ttest-mlogloss:0.896756\n",
      "[110]\ttrain-mlogloss:0.870466\ttest-mlogloss:0.886314\n",
      "[120]\ttrain-mlogloss:0.859713\ttest-mlogloss:0.876878\n",
      "[130]\ttrain-mlogloss:0.849653\ttest-mlogloss:0.868127\n",
      "[140]\ttrain-mlogloss:0.84023\ttest-mlogloss:0.85992\n",
      "[150]\ttrain-mlogloss:0.831756\ttest-mlogloss:0.852735\n",
      "[160]\ttrain-mlogloss:0.823414\ttest-mlogloss:0.845782\n",
      "[170]\ttrain-mlogloss:0.816182\ttest-mlogloss:0.839801\n",
      "[180]\ttrain-mlogloss:0.809397\ttest-mlogloss:0.8342\n",
      "[190]\ttrain-mlogloss:0.802967\ttest-mlogloss:0.829018\n",
      "[200]\ttrain-mlogloss:0.79685\ttest-mlogloss:0.82414\n",
      "[210]\ttrain-mlogloss:0.791033\ttest-mlogloss:0.819618\n",
      "[220]\ttrain-mlogloss:0.785583\ttest-mlogloss:0.815556\n",
      "[230]\ttrain-mlogloss:0.780301\ttest-mlogloss:0.81166\n",
      "[240]\ttrain-mlogloss:0.775375\ttest-mlogloss:0.808086\n",
      "[250]\ttrain-mlogloss:0.770879\ttest-mlogloss:0.804748\n",
      "[260]\ttrain-mlogloss:0.76629\ttest-mlogloss:0.801566\n",
      "[270]\ttrain-mlogloss:0.76219\ttest-mlogloss:0.798714\n",
      "[280]\ttrain-mlogloss:0.758131\ttest-mlogloss:0.795966\n",
      "[290]\ttrain-mlogloss:0.754146\ttest-mlogloss:0.793349\n",
      "[300]\ttrain-mlogloss:0.750553\ttest-mlogloss:0.790987\n",
      "[310]\ttrain-mlogloss:0.746852\ttest-mlogloss:0.788763\n",
      "[320]\ttrain-mlogloss:0.74333\ttest-mlogloss:0.786574\n",
      "[330]\ttrain-mlogloss:0.740232\ttest-mlogloss:0.784626\n",
      "[340]\ttrain-mlogloss:0.737004\ttest-mlogloss:0.782714\n",
      "[350]\ttrain-mlogloss:0.734067\ttest-mlogloss:0.780918\n",
      "[360]\ttrain-mlogloss:0.731153\ttest-mlogloss:0.779297\n",
      "[370]\ttrain-mlogloss:0.728352\ttest-mlogloss:0.777713\n",
      "[380]\ttrain-mlogloss:0.725494\ttest-mlogloss:0.776151\n",
      "[390]\ttrain-mlogloss:0.722937\ttest-mlogloss:0.77476\n",
      "[400]\ttrain-mlogloss:0.720399\ttest-mlogloss:0.773433\n",
      "[410]\ttrain-mlogloss:0.718038\ttest-mlogloss:0.772288\n",
      "[420]\ttrain-mlogloss:0.715539\ttest-mlogloss:0.771035\n",
      "[430]\ttrain-mlogloss:0.71317\ttest-mlogloss:0.76987\n",
      "[440]\ttrain-mlogloss:0.710901\ttest-mlogloss:0.76878\n",
      "[450]\ttrain-mlogloss:0.708783\ttest-mlogloss:0.767789\n",
      "[460]\ttrain-mlogloss:0.706614\ttest-mlogloss:0.766813\n",
      "[470]\ttrain-mlogloss:0.704519\ttest-mlogloss:0.765949\n",
      "[480]\ttrain-mlogloss:0.702488\ttest-mlogloss:0.764994\n",
      "[490]\ttrain-mlogloss:0.700432\ttest-mlogloss:0.764021\n",
      "[500]\ttrain-mlogloss:0.698538\ttest-mlogloss:0.763246\n",
      "[510]\ttrain-mlogloss:0.696678\ttest-mlogloss:0.76257\n",
      "[520]\ttrain-mlogloss:0.69469\ttest-mlogloss:0.761846\n",
      "[530]\ttrain-mlogloss:0.692876\ttest-mlogloss:0.761209\n",
      "[540]\ttrain-mlogloss:0.691089\ttest-mlogloss:0.760501\n",
      "[550]\ttrain-mlogloss:0.689261\ttest-mlogloss:0.759846\n",
      "[560]\ttrain-mlogloss:0.68744\ttest-mlogloss:0.759199\n",
      "[570]\ttrain-mlogloss:0.685686\ttest-mlogloss:0.758618\n",
      "[580]\ttrain-mlogloss:0.684012\ttest-mlogloss:0.758078\n",
      "[590]\ttrain-mlogloss:0.682337\ttest-mlogloss:0.757595\n",
      "[600]\ttrain-mlogloss:0.680766\ttest-mlogloss:0.757019\n",
      "[610]\ttrain-mlogloss:0.67914\ttest-mlogloss:0.75646\n",
      "[620]\ttrain-mlogloss:0.677503\ttest-mlogloss:0.755977\n",
      "[630]\ttrain-mlogloss:0.675995\ttest-mlogloss:0.755528\n",
      "[640]\ttrain-mlogloss:0.674546\ttest-mlogloss:0.755141\n",
      "[650]\ttrain-mlogloss:0.672962\ttest-mlogloss:0.75473\n",
      "[660]\ttrain-mlogloss:0.671441\ttest-mlogloss:0.754354\n",
      "[670]\ttrain-mlogloss:0.669839\ttest-mlogloss:0.753959\n",
      "[680]\ttrain-mlogloss:0.668469\ttest-mlogloss:0.753527\n",
      "[690]\ttrain-mlogloss:0.667062\ttest-mlogloss:0.753188\n",
      "[700]\ttrain-mlogloss:0.665718\ttest-mlogloss:0.752882\n",
      "[710]\ttrain-mlogloss:0.664377\ttest-mlogloss:0.752561\n",
      "[720]\ttrain-mlogloss:0.663075\ttest-mlogloss:0.75223\n",
      "[730]\ttrain-mlogloss:0.661779\ttest-mlogloss:0.751954\n",
      "[740]\ttrain-mlogloss:0.660383\ttest-mlogloss:0.751608\n",
      "[750]\ttrain-mlogloss:0.659048\ttest-mlogloss:0.751242\n",
      "[760]\ttrain-mlogloss:0.657775\ttest-mlogloss:0.750978\n",
      "[770]\ttrain-mlogloss:0.65647\ttest-mlogloss:0.750717\n",
      "[780]\ttrain-mlogloss:0.655339\ttest-mlogloss:0.750586\n",
      "[790]\ttrain-mlogloss:0.654123\ttest-mlogloss:0.750326\n",
      "[800]\ttrain-mlogloss:0.652904\ttest-mlogloss:0.750082\n",
      "[810]\ttrain-mlogloss:0.651652\ttest-mlogloss:0.749868\n",
      "[820]\ttrain-mlogloss:0.650513\ttest-mlogloss:0.749672\n",
      "[830]\ttrain-mlogloss:0.649436\ttest-mlogloss:0.749465\n",
      "[840]\ttrain-mlogloss:0.648186\ttest-mlogloss:0.749269\n",
      "[850]\ttrain-mlogloss:0.646938\ttest-mlogloss:0.749065\n",
      "[860]\ttrain-mlogloss:0.645766\ttest-mlogloss:0.748866\n",
      "[870]\ttrain-mlogloss:0.644476\ttest-mlogloss:0.748653\n",
      "[880]\ttrain-mlogloss:0.643283\ttest-mlogloss:0.748551\n",
      "[890]\ttrain-mlogloss:0.642002\ttest-mlogloss:0.748387\n",
      "[900]\ttrain-mlogloss:0.640779\ttest-mlogloss:0.748252\n",
      "[910]\ttrain-mlogloss:0.63967\ttest-mlogloss:0.748114\n",
      "[920]\ttrain-mlogloss:0.638588\ttest-mlogloss:0.747971\n",
      "[930]\ttrain-mlogloss:0.637551\ttest-mlogloss:0.747845\n",
      "[940]\ttrain-mlogloss:0.63638\ttest-mlogloss:0.747719\n",
      "[950]\ttrain-mlogloss:0.635275\ttest-mlogloss:0.747608\n",
      "[960]\ttrain-mlogloss:0.634235\ttest-mlogloss:0.747472\n",
      "[970]\ttrain-mlogloss:0.633065\ttest-mlogloss:0.74739\n",
      "[980]\ttrain-mlogloss:0.632021\ttest-mlogloss:0.747255\n",
      "[990]\ttrain-mlogloss:0.630994\ttest-mlogloss:0.747129\n",
      "[1000]\ttrain-mlogloss:0.629933\ttest-mlogloss:0.747028\n",
      "[1010]\ttrain-mlogloss:0.628908\ttest-mlogloss:0.746948\n",
      "[1020]\ttrain-mlogloss:0.62789\ttest-mlogloss:0.746849\n",
      "[1030]\ttrain-mlogloss:0.62676\ttest-mlogloss:0.746737\n",
      "[1040]\ttrain-mlogloss:0.625807\ttest-mlogloss:0.746636\n",
      "[1050]\ttrain-mlogloss:0.624672\ttest-mlogloss:0.746563\n",
      "[1060]\ttrain-mlogloss:0.623623\ttest-mlogloss:0.746379\n",
      "[1070]\ttrain-mlogloss:0.622632\ttest-mlogloss:0.746297\n",
      "[1080]\ttrain-mlogloss:0.62159\ttest-mlogloss:0.746249\n",
      "[1090]\ttrain-mlogloss:0.620626\ttest-mlogloss:0.746067\n",
      "[1100]\ttrain-mlogloss:0.619568\ttest-mlogloss:0.746003\n",
      "[1110]\ttrain-mlogloss:0.618555\ttest-mlogloss:0.745911\n",
      "[1120]\ttrain-mlogloss:0.61748\ttest-mlogloss:0.745798\n",
      "[1130]\ttrain-mlogloss:0.616452\ttest-mlogloss:0.745704\n",
      "[1140]\ttrain-mlogloss:0.615474\ttest-mlogloss:0.745632\n",
      "[1150]\ttrain-mlogloss:0.614406\ttest-mlogloss:0.745534\n",
      "[1160]\ttrain-mlogloss:0.61341\ttest-mlogloss:0.745477\n",
      "[1170]\ttrain-mlogloss:0.612296\ttest-mlogloss:0.745373\n",
      "[1180]\ttrain-mlogloss:0.611312\ttest-mlogloss:0.745363\n",
      "[1190]\ttrain-mlogloss:0.610307\ttest-mlogloss:0.745281\n",
      "[1200]\ttrain-mlogloss:0.609272\ttest-mlogloss:0.745243\n",
      "[1210]\ttrain-mlogloss:0.608171\ttest-mlogloss:0.745198\n",
      "[1220]\ttrain-mlogloss:0.607256\ttest-mlogloss:0.745125\n",
      "[1230]\ttrain-mlogloss:0.606239\ttest-mlogloss:0.745015\n",
      "[1240]\ttrain-mlogloss:0.605335\ttest-mlogloss:0.744977\n",
      "[1250]\ttrain-mlogloss:0.604367\ttest-mlogloss:0.744904\n",
      "[1260]\ttrain-mlogloss:0.603375\ttest-mlogloss:0.744839\n",
      "[1270]\ttrain-mlogloss:0.602365\ttest-mlogloss:0.744802\n",
      "[1280]\ttrain-mlogloss:0.601451\ttest-mlogloss:0.744707\n",
      "[1290]\ttrain-mlogloss:0.600386\ttest-mlogloss:0.744672\n",
      "[1300]\ttrain-mlogloss:0.599243\ttest-mlogloss:0.744596\n",
      "[1310]\ttrain-mlogloss:0.598314\ttest-mlogloss:0.744581\n",
      "[1320]\ttrain-mlogloss:0.597391\ttest-mlogloss:0.744651\n",
      "[1330]\ttrain-mlogloss:0.596499\ttest-mlogloss:0.744662\n",
      "Stopping. Best iteration:\n",
      "[1307]\ttrain-mlogloss:0.598629\ttest-mlogloss:0.744568\n",
      "\n",
      "[0]\ttrain-mlogloss:1.09493\ttest-mlogloss:1.09497\n",
      "Multiple eval metrics have been passed: 'test-mlogloss' will be used for early stopping.\n",
      "\n",
      "Will train until test-mlogloss hasn't improved in 30 rounds.\n",
      "[10]\ttrain-mlogloss:1.06154\ttest-mlogloss:1.06224\n",
      "[20]\ttrain-mlogloss:1.03172\ttest-mlogloss:1.033\n",
      "[30]\ttrain-mlogloss:1.00519\ttest-mlogloss:1.0071\n",
      "[40]\ttrain-mlogloss:0.981903\ttest-mlogloss:0.984508\n",
      "[50]\ttrain-mlogloss:0.961338\ttest-mlogloss:0.964724\n",
      "[60]\ttrain-mlogloss:0.9426\ttest-mlogloss:0.946786\n",
      "[70]\ttrain-mlogloss:0.925414\ttest-mlogloss:0.930415\n",
      "[80]\ttrain-mlogloss:0.909769\ttest-mlogloss:0.915708\n",
      "[90]\ttrain-mlogloss:0.895878\ttest-mlogloss:0.902823\n",
      "[100]\ttrain-mlogloss:0.883167\ttest-mlogloss:0.890966\n",
      "[110]\ttrain-mlogloss:0.871559\ttest-mlogloss:0.88016\n",
      "[120]\ttrain-mlogloss:0.8609\ttest-mlogloss:0.870429\n",
      "[130]\ttrain-mlogloss:0.850919\ttest-mlogloss:0.861355\n",
      "[140]\ttrain-mlogloss:0.841685\ttest-mlogloss:0.853105\n",
      "[150]\ttrain-mlogloss:0.83297\ttest-mlogloss:0.845396\n",
      "[160]\ttrain-mlogloss:0.82508\ttest-mlogloss:0.838636\n",
      "[170]\ttrain-mlogloss:0.817587\ttest-mlogloss:0.832181\n",
      "[180]\ttrain-mlogloss:0.810541\ttest-mlogloss:0.826385\n",
      "[190]\ttrain-mlogloss:0.80409\ttest-mlogloss:0.821077\n",
      "[200]\ttrain-mlogloss:0.79811\ttest-mlogloss:0.816294\n",
      "[210]\ttrain-mlogloss:0.792348\ttest-mlogloss:0.81175\n",
      "[220]\ttrain-mlogloss:0.78693\ttest-mlogloss:0.807576\n",
      "[230]\ttrain-mlogloss:0.781688\ttest-mlogloss:0.803608\n",
      "[240]\ttrain-mlogloss:0.776911\ttest-mlogloss:0.799964\n",
      "[250]\ttrain-mlogloss:0.772136\ttest-mlogloss:0.796405\n",
      "[260]\ttrain-mlogloss:0.767824\ttest-mlogloss:0.793247\n",
      "[270]\ttrain-mlogloss:0.763532\ttest-mlogloss:0.790118\n",
      "[280]\ttrain-mlogloss:0.759653\ttest-mlogloss:0.787347\n",
      "[290]\ttrain-mlogloss:0.75592\ttest-mlogloss:0.784786\n",
      "[300]\ttrain-mlogloss:0.752303\ttest-mlogloss:0.782282\n",
      "[310]\ttrain-mlogloss:0.748596\ttest-mlogloss:0.779896\n",
      "[320]\ttrain-mlogloss:0.745291\ttest-mlogloss:0.777764\n",
      "[330]\ttrain-mlogloss:0.742048\ttest-mlogloss:0.775744\n",
      "[340]\ttrain-mlogloss:0.738937\ttest-mlogloss:0.773817\n",
      "[350]\ttrain-mlogloss:0.736009\ttest-mlogloss:0.77209\n",
      "[360]\ttrain-mlogloss:0.733311\ttest-mlogloss:0.770552\n",
      "[370]\ttrain-mlogloss:0.730551\ttest-mlogloss:0.768909\n",
      "[380]\ttrain-mlogloss:0.727872\ttest-mlogloss:0.767453\n",
      "[390]\ttrain-mlogloss:0.725327\ttest-mlogloss:0.765989\n",
      "[400]\ttrain-mlogloss:0.722711\ttest-mlogloss:0.764626\n",
      "[410]\ttrain-mlogloss:0.72031\ttest-mlogloss:0.763324\n",
      "[420]\ttrain-mlogloss:0.717836\ttest-mlogloss:0.762062\n",
      "[430]\ttrain-mlogloss:0.715523\ttest-mlogloss:0.761003\n",
      "[440]\ttrain-mlogloss:0.713372\ttest-mlogloss:0.760043\n",
      "[450]\ttrain-mlogloss:0.711152\ttest-mlogloss:0.758954\n",
      "[460]\ttrain-mlogloss:0.709047\ttest-mlogloss:0.757915\n",
      "[470]\ttrain-mlogloss:0.706942\ttest-mlogloss:0.75694\n",
      "[480]\ttrain-mlogloss:0.704952\ttest-mlogloss:0.756075\n",
      "[490]\ttrain-mlogloss:0.702986\ttest-mlogloss:0.755188\n",
      "[500]\ttrain-mlogloss:0.701085\ttest-mlogloss:0.754468\n",
      "[510]\ttrain-mlogloss:0.699248\ttest-mlogloss:0.753595\n",
      "[520]\ttrain-mlogloss:0.69739\ttest-mlogloss:0.752887\n",
      "[530]\ttrain-mlogloss:0.695443\ttest-mlogloss:0.75213\n",
      "[540]\ttrain-mlogloss:0.693609\ttest-mlogloss:0.751458\n",
      "[550]\ttrain-mlogloss:0.691802\ttest-mlogloss:0.750735\n",
      "[560]\ttrain-mlogloss:0.690026\ttest-mlogloss:0.750101\n",
      "[570]\ttrain-mlogloss:0.68835\ttest-mlogloss:0.749493\n",
      "[580]\ttrain-mlogloss:0.686702\ttest-mlogloss:0.748923\n",
      "[590]\ttrain-mlogloss:0.685002\ttest-mlogloss:0.748385\n",
      "[600]\ttrain-mlogloss:0.683369\ttest-mlogloss:0.747895\n",
      "[610]\ttrain-mlogloss:0.681705\ttest-mlogloss:0.747308\n",
      "[620]\ttrain-mlogloss:0.680097\ttest-mlogloss:0.74678\n",
      "[630]\ttrain-mlogloss:0.67853\ttest-mlogloss:0.746326\n",
      "[640]\ttrain-mlogloss:0.677049\ttest-mlogloss:0.745901\n",
      "[650]\ttrain-mlogloss:0.675649\ttest-mlogloss:0.745459\n",
      "[660]\ttrain-mlogloss:0.674124\ttest-mlogloss:0.745077\n",
      "[670]\ttrain-mlogloss:0.672643\ttest-mlogloss:0.74474\n",
      "[680]\ttrain-mlogloss:0.671254\ttest-mlogloss:0.744314\n",
      "[690]\ttrain-mlogloss:0.669784\ttest-mlogloss:0.743885\n",
      "[700]\ttrain-mlogloss:0.668276\ttest-mlogloss:0.743465\n",
      "[710]\ttrain-mlogloss:0.666873\ttest-mlogloss:0.743139\n",
      "[720]\ttrain-mlogloss:0.665456\ttest-mlogloss:0.742811\n",
      "[730]\ttrain-mlogloss:0.664055\ttest-mlogloss:0.742528\n",
      "[740]\ttrain-mlogloss:0.66274\ttest-mlogloss:0.742263\n",
      "[750]\ttrain-mlogloss:0.661389\ttest-mlogloss:0.741964\n",
      "[760]\ttrain-mlogloss:0.660069\ttest-mlogloss:0.741636\n",
      "[770]\ttrain-mlogloss:0.658764\ttest-mlogloss:0.741416\n",
      "[780]\ttrain-mlogloss:0.65743\ttest-mlogloss:0.741209\n",
      "[790]\ttrain-mlogloss:0.656087\ttest-mlogloss:0.740987\n",
      "[800]\ttrain-mlogloss:0.654796\ttest-mlogloss:0.740802\n",
      "[810]\ttrain-mlogloss:0.653586\ttest-mlogloss:0.740469\n",
      "[820]\ttrain-mlogloss:0.652326\ttest-mlogloss:0.740267\n",
      "[830]\ttrain-mlogloss:0.651123\ttest-mlogloss:0.74005\n",
      "[840]\ttrain-mlogloss:0.649883\ttest-mlogloss:0.739762\n",
      "[850]\ttrain-mlogloss:0.648717\ttest-mlogloss:0.739561\n",
      "[860]\ttrain-mlogloss:0.647511\ttest-mlogloss:0.739333\n",
      "[870]\ttrain-mlogloss:0.646325\ttest-mlogloss:0.739177\n",
      "[880]\ttrain-mlogloss:0.645212\ttest-mlogloss:0.738984\n",
      "[890]\ttrain-mlogloss:0.644043\ttest-mlogloss:0.738889\n",
      "[900]\ttrain-mlogloss:0.642894\ttest-mlogloss:0.738723\n",
      "[910]\ttrain-mlogloss:0.641737\ttest-mlogloss:0.738558\n",
      "[920]\ttrain-mlogloss:0.640541\ttest-mlogloss:0.738353\n",
      "[930]\ttrain-mlogloss:0.639383\ttest-mlogloss:0.738172\n",
      "[940]\ttrain-mlogloss:0.63835\ttest-mlogloss:0.738072\n",
      "[950]\ttrain-mlogloss:0.637279\ttest-mlogloss:0.737964\n",
      "[960]\ttrain-mlogloss:0.636232\ttest-mlogloss:0.737809\n",
      "[970]\ttrain-mlogloss:0.635012\ttest-mlogloss:0.737812\n",
      "[980]\ttrain-mlogloss:0.633851\ttest-mlogloss:0.737654\n",
      "[990]\ttrain-mlogloss:0.632709\ttest-mlogloss:0.737406\n",
      "[1000]\ttrain-mlogloss:0.631585\ttest-mlogloss:0.737248\n",
      "[1010]\ttrain-mlogloss:0.630472\ttest-mlogloss:0.737038\n",
      "[1020]\ttrain-mlogloss:0.629354\ttest-mlogloss:0.736822\n",
      "[1030]\ttrain-mlogloss:0.628267\ttest-mlogloss:0.736713\n",
      "[1040]\ttrain-mlogloss:0.627241\ttest-mlogloss:0.736645\n",
      "[1050]\ttrain-mlogloss:0.626195\ttest-mlogloss:0.736584\n",
      "[1060]\ttrain-mlogloss:0.625064\ttest-mlogloss:0.736483\n",
      "[1070]\ttrain-mlogloss:0.624021\ttest-mlogloss:0.736436\n",
      "[1080]\ttrain-mlogloss:0.622933\ttest-mlogloss:0.736301\n",
      "[1090]\ttrain-mlogloss:0.621978\ttest-mlogloss:0.736212\n",
      "[1100]\ttrain-mlogloss:0.620986\ttest-mlogloss:0.736146\n",
      "[1110]\ttrain-mlogloss:0.620008\ttest-mlogloss:0.736054\n",
      "[1120]\ttrain-mlogloss:0.618995\ttest-mlogloss:0.736033\n",
      "[1130]\ttrain-mlogloss:0.617955\ttest-mlogloss:0.735995\n",
      "[1140]\ttrain-mlogloss:0.616898\ttest-mlogloss:0.735953\n",
      "[1150]\ttrain-mlogloss:0.615843\ttest-mlogloss:0.735922\n",
      "[1160]\ttrain-mlogloss:0.614824\ttest-mlogloss:0.73588\n",
      "[1170]\ttrain-mlogloss:0.613842\ttest-mlogloss:0.735846\n",
      "[1180]\ttrain-mlogloss:0.612824\ttest-mlogloss:0.735787\n",
      "[1190]\ttrain-mlogloss:0.611799\ttest-mlogloss:0.735781\n",
      "[1200]\ttrain-mlogloss:0.610789\ttest-mlogloss:0.735656\n",
      "[1210]\ttrain-mlogloss:0.609725\ttest-mlogloss:0.735539\n",
      "[1220]\ttrain-mlogloss:0.608792\ttest-mlogloss:0.73548\n",
      "[1230]\ttrain-mlogloss:0.607709\ttest-mlogloss:0.735437\n",
      "[1240]\ttrain-mlogloss:0.606647\ttest-mlogloss:0.735439\n",
      "[1250]\ttrain-mlogloss:0.605673\ttest-mlogloss:0.735398\n",
      "[1260]\ttrain-mlogloss:0.604653\ttest-mlogloss:0.735378\n",
      "[1270]\ttrain-mlogloss:0.603773\ttest-mlogloss:0.735305\n",
      "[1280]\ttrain-mlogloss:0.602862\ttest-mlogloss:0.735254\n",
      "[1290]\ttrain-mlogloss:0.601801\ttest-mlogloss:0.735174\n",
      "[1300]\ttrain-mlogloss:0.600828\ttest-mlogloss:0.735139\n",
      "[1310]\ttrain-mlogloss:0.599882\ttest-mlogloss:0.735143\n",
      "[1320]\ttrain-mlogloss:0.59897\ttest-mlogloss:0.73512\n",
      "[1330]\ttrain-mlogloss:0.597957\ttest-mlogloss:0.735084\n",
      "[1340]\ttrain-mlogloss:0.596966\ttest-mlogloss:0.735045\n",
      "[1350]\ttrain-mlogloss:0.596048\ttest-mlogloss:0.735061\n",
      "[1360]\ttrain-mlogloss:0.595133\ttest-mlogloss:0.735009\n",
      "[1370]\ttrain-mlogloss:0.594143\ttest-mlogloss:0.734956\n",
      "[1380]\ttrain-mlogloss:0.593191\ttest-mlogloss:0.734919\n",
      "[1390]\ttrain-mlogloss:0.592257\ttest-mlogloss:0.734859\n",
      "[1400]\ttrain-mlogloss:0.591361\ttest-mlogloss:0.734802\n",
      "[1410]\ttrain-mlogloss:0.590429\ttest-mlogloss:0.734815\n",
      "[1420]\ttrain-mlogloss:0.589565\ttest-mlogloss:0.73485\n",
      "Stopping. Best iteration:\n",
      "[1398]\ttrain-mlogloss:0.59152\ttest-mlogloss:0.734788\n",
      "\n",
      "[0]\ttrain-mlogloss:1.09512\ttest-mlogloss:1.0952\n",
      "Multiple eval metrics have been passed: 'test-mlogloss' will be used for early stopping.\n",
      "\n",
      "Will train until test-mlogloss hasn't improved in 30 rounds.\n",
      "[10]\ttrain-mlogloss:1.06159\ttest-mlogloss:1.06263\n",
      "[20]\ttrain-mlogloss:1.0326\ttest-mlogloss:1.03473\n",
      "[30]\ttrain-mlogloss:1.00612\ttest-mlogloss:1.0093\n",
      "[40]\ttrain-mlogloss:0.983128\ttest-mlogloss:0.987291\n",
      "[50]\ttrain-mlogloss:0.961945\ttest-mlogloss:0.96724\n",
      "[60]\ttrain-mlogloss:0.943226\ttest-mlogloss:0.949563\n",
      "[70]\ttrain-mlogloss:0.926239\ttest-mlogloss:0.933673\n",
      "[80]\ttrain-mlogloss:0.910401\ttest-mlogloss:0.919098\n",
      "[90]\ttrain-mlogloss:0.896173\ttest-mlogloss:0.906066\n",
      "[100]\ttrain-mlogloss:0.883432\ttest-mlogloss:0.894494\n",
      "[110]\ttrain-mlogloss:0.871724\ttest-mlogloss:0.883999\n",
      "[120]\ttrain-mlogloss:0.860703\ttest-mlogloss:0.874331\n",
      "[130]\ttrain-mlogloss:0.850583\ttest-mlogloss:0.865415\n",
      "[140]\ttrain-mlogloss:0.841398\ttest-mlogloss:0.857449\n",
      "[150]\ttrain-mlogloss:0.83252\ttest-mlogloss:0.849954\n",
      "[160]\ttrain-mlogloss:0.824356\ttest-mlogloss:0.843152\n",
      "[170]\ttrain-mlogloss:0.816695\ttest-mlogloss:0.836837\n",
      "[180]\ttrain-mlogloss:0.809485\ttest-mlogloss:0.830986\n",
      "[190]\ttrain-mlogloss:0.80281\ttest-mlogloss:0.825613\n",
      "[200]\ttrain-mlogloss:0.796687\ttest-mlogloss:0.820733\n",
      "[210]\ttrain-mlogloss:0.790905\ttest-mlogloss:0.816328\n",
      "[220]\ttrain-mlogloss:0.785315\ttest-mlogloss:0.81214\n",
      "[230]\ttrain-mlogloss:0.780107\ttest-mlogloss:0.808259\n",
      "[240]\ttrain-mlogloss:0.775144\ttest-mlogloss:0.804744\n",
      "[250]\ttrain-mlogloss:0.770463\ttest-mlogloss:0.80138\n",
      "[260]\ttrain-mlogloss:0.765982\ttest-mlogloss:0.79833\n",
      "[270]\ttrain-mlogloss:0.761685\ttest-mlogloss:0.795549\n",
      "[280]\ttrain-mlogloss:0.757621\ttest-mlogloss:0.792821\n",
      "[290]\ttrain-mlogloss:0.75361\ttest-mlogloss:0.79028\n",
      "[300]\ttrain-mlogloss:0.749747\ttest-mlogloss:0.787871\n",
      "[310]\ttrain-mlogloss:0.746042\ttest-mlogloss:0.785569\n",
      "[320]\ttrain-mlogloss:0.742701\ttest-mlogloss:0.783545\n",
      "[330]\ttrain-mlogloss:0.739303\ttest-mlogloss:0.781582\n",
      "[340]\ttrain-mlogloss:0.736195\ttest-mlogloss:0.779786\n",
      "[350]\ttrain-mlogloss:0.733036\ttest-mlogloss:0.777981\n",
      "[360]\ttrain-mlogloss:0.730092\ttest-mlogloss:0.776258\n",
      "[370]\ttrain-mlogloss:0.727509\ttest-mlogloss:0.774884\n",
      "[380]\ttrain-mlogloss:0.724705\ttest-mlogloss:0.773259\n",
      "[390]\ttrain-mlogloss:0.722068\ttest-mlogloss:0.771775\n",
      "[400]\ttrain-mlogloss:0.719533\ttest-mlogloss:0.770494\n",
      "[410]\ttrain-mlogloss:0.717002\ttest-mlogloss:0.769225\n",
      "[420]\ttrain-mlogloss:0.714472\ttest-mlogloss:0.768052\n",
      "[430]\ttrain-mlogloss:0.712172\ttest-mlogloss:0.766976\n",
      "[440]\ttrain-mlogloss:0.709961\ttest-mlogloss:0.765943\n",
      "[450]\ttrain-mlogloss:0.707575\ttest-mlogloss:0.764956\n",
      "[460]\ttrain-mlogloss:0.705399\ttest-mlogloss:0.764012\n",
      "[470]\ttrain-mlogloss:0.703383\ttest-mlogloss:0.763213\n",
      "[480]\ttrain-mlogloss:0.701403\ttest-mlogloss:0.762324\n",
      "[490]\ttrain-mlogloss:0.699424\ttest-mlogloss:0.761527\n",
      "[500]\ttrain-mlogloss:0.697597\ttest-mlogloss:0.760742\n",
      "[510]\ttrain-mlogloss:0.695652\ttest-mlogloss:0.759916\n",
      "[520]\ttrain-mlogloss:0.693823\ttest-mlogloss:0.759292\n",
      "[530]\ttrain-mlogloss:0.692007\ttest-mlogloss:0.758581\n",
      "[540]\ttrain-mlogloss:0.690214\ttest-mlogloss:0.757943\n",
      "[550]\ttrain-mlogloss:0.688471\ttest-mlogloss:0.757358\n",
      "[560]\ttrain-mlogloss:0.686735\ttest-mlogloss:0.756812\n",
      "[570]\ttrain-mlogloss:0.685106\ttest-mlogloss:0.756262\n",
      "[580]\ttrain-mlogloss:0.683416\ttest-mlogloss:0.755735\n",
      "[590]\ttrain-mlogloss:0.681819\ttest-mlogloss:0.755172\n",
      "[600]\ttrain-mlogloss:0.680202\ttest-mlogloss:0.754677\n",
      "[610]\ttrain-mlogloss:0.678532\ttest-mlogloss:0.754232\n",
      "[620]\ttrain-mlogloss:0.676893\ttest-mlogloss:0.753808\n",
      "[630]\ttrain-mlogloss:0.675371\ttest-mlogloss:0.753364\n",
      "[640]\ttrain-mlogloss:0.673815\ttest-mlogloss:0.752869\n",
      "[650]\ttrain-mlogloss:0.672198\ttest-mlogloss:0.752468\n",
      "[660]\ttrain-mlogloss:0.670756\ttest-mlogloss:0.751994\n",
      "[670]\ttrain-mlogloss:0.669313\ttest-mlogloss:0.751637\n",
      "[680]\ttrain-mlogloss:0.667856\ttest-mlogloss:0.751273\n",
      "[690]\ttrain-mlogloss:0.666423\ttest-mlogloss:0.750935\n",
      "[700]\ttrain-mlogloss:0.665055\ttest-mlogloss:0.750664\n",
      "[710]\ttrain-mlogloss:0.663604\ttest-mlogloss:0.75031\n",
      "[720]\ttrain-mlogloss:0.662323\ttest-mlogloss:0.750051\n",
      "[730]\ttrain-mlogloss:0.660969\ttest-mlogloss:0.749779\n",
      "[740]\ttrain-mlogloss:0.659642\ttest-mlogloss:0.749527\n",
      "[750]\ttrain-mlogloss:0.658359\ttest-mlogloss:0.749318\n",
      "[760]\ttrain-mlogloss:0.657078\ttest-mlogloss:0.748993\n",
      "[770]\ttrain-mlogloss:0.6558\ttest-mlogloss:0.748713\n",
      "[780]\ttrain-mlogloss:0.654613\ttest-mlogloss:0.748486\n",
      "[790]\ttrain-mlogloss:0.653369\ttest-mlogloss:0.748298\n",
      "[800]\ttrain-mlogloss:0.65206\ttest-mlogloss:0.748086\n",
      "[810]\ttrain-mlogloss:0.650923\ttest-mlogloss:0.747896\n",
      "[820]\ttrain-mlogloss:0.649582\ttest-mlogloss:0.747734\n",
      "[830]\ttrain-mlogloss:0.648297\ttest-mlogloss:0.747549\n",
      "[840]\ttrain-mlogloss:0.647068\ttest-mlogloss:0.747324\n",
      "[850]\ttrain-mlogloss:0.645909\ttest-mlogloss:0.74714\n",
      "[860]\ttrain-mlogloss:0.64472\ttest-mlogloss:0.746928\n",
      "[870]\ttrain-mlogloss:0.643555\ttest-mlogloss:0.746776\n",
      "[880]\ttrain-mlogloss:0.642325\ttest-mlogloss:0.746571\n",
      "[890]\ttrain-mlogloss:0.641077\ttest-mlogloss:0.746445\n",
      "[900]\ttrain-mlogloss:0.639957\ttest-mlogloss:0.746318\n",
      "[910]\ttrain-mlogloss:0.638704\ttest-mlogloss:0.746169\n",
      "[920]\ttrain-mlogloss:0.637518\ttest-mlogloss:0.74606\n",
      "[930]\ttrain-mlogloss:0.636396\ttest-mlogloss:0.745962\n",
      "[940]\ttrain-mlogloss:0.635101\ttest-mlogloss:0.745821\n",
      "[950]\ttrain-mlogloss:0.634015\ttest-mlogloss:0.745738\n",
      "[960]\ttrain-mlogloss:0.632877\ttest-mlogloss:0.745608\n",
      "[970]\ttrain-mlogloss:0.631786\ttest-mlogloss:0.745544\n",
      "[980]\ttrain-mlogloss:0.630676\ttest-mlogloss:0.745375\n",
      "[990]\ttrain-mlogloss:0.629565\ttest-mlogloss:0.745297\n",
      "[1000]\ttrain-mlogloss:0.628526\ttest-mlogloss:0.745221\n",
      "[1010]\ttrain-mlogloss:0.627405\ttest-mlogloss:0.745109\n",
      "[1020]\ttrain-mlogloss:0.626481\ttest-mlogloss:0.744971\n",
      "[1030]\ttrain-mlogloss:0.625483\ttest-mlogloss:0.744833\n",
      "[1040]\ttrain-mlogloss:0.624376\ttest-mlogloss:0.744685\n",
      "[1050]\ttrain-mlogloss:0.623246\ttest-mlogloss:0.744578\n",
      "[1060]\ttrain-mlogloss:0.622129\ttest-mlogloss:0.74453\n",
      "[1070]\ttrain-mlogloss:0.621105\ttest-mlogloss:0.744441\n",
      "[1080]\ttrain-mlogloss:0.620017\ttest-mlogloss:0.744431\n",
      "[1090]\ttrain-mlogloss:0.618954\ttest-mlogloss:0.744329\n",
      "[1100]\ttrain-mlogloss:0.617912\ttest-mlogloss:0.744243\n",
      "[1110]\ttrain-mlogloss:0.616904\ttest-mlogloss:0.744108\n",
      "[1120]\ttrain-mlogloss:0.615872\ttest-mlogloss:0.744034\n",
      "[1130]\ttrain-mlogloss:0.614787\ttest-mlogloss:0.744084\n",
      "[1140]\ttrain-mlogloss:0.61376\ttest-mlogloss:0.744\n",
      "[1150]\ttrain-mlogloss:0.612864\ttest-mlogloss:0.743923\n",
      "[1160]\ttrain-mlogloss:0.611805\ttest-mlogloss:0.743825\n",
      "[1170]\ttrain-mlogloss:0.610842\ttest-mlogloss:0.743844\n",
      "[1180]\ttrain-mlogloss:0.609816\ttest-mlogloss:0.743796\n",
      "[1190]\ttrain-mlogloss:0.608889\ttest-mlogloss:0.74375\n",
      "[1200]\ttrain-mlogloss:0.607871\ttest-mlogloss:0.743651\n",
      "[1210]\ttrain-mlogloss:0.606805\ttest-mlogloss:0.743573\n",
      "[1220]\ttrain-mlogloss:0.605817\ttest-mlogloss:0.743574\n",
      "[1230]\ttrain-mlogloss:0.604877\ttest-mlogloss:0.74349\n",
      "[1240]\ttrain-mlogloss:0.603883\ttest-mlogloss:0.743411\n",
      "[1250]\ttrain-mlogloss:0.602825\ttest-mlogloss:0.743385\n",
      "[1260]\ttrain-mlogloss:0.601834\ttest-mlogloss:0.74341\n",
      "[1270]\ttrain-mlogloss:0.60084\ttest-mlogloss:0.743412\n",
      "[1280]\ttrain-mlogloss:0.599824\ttest-mlogloss:0.743282\n",
      "[1290]\ttrain-mlogloss:0.598888\ttest-mlogloss:0.743321\n",
      "[1300]\ttrain-mlogloss:0.597963\ttest-mlogloss:0.743299\n",
      "[1310]\ttrain-mlogloss:0.596912\ttest-mlogloss:0.743229\n",
      "[1320]\ttrain-mlogloss:0.596014\ttest-mlogloss:0.743117\n",
      "[1330]\ttrain-mlogloss:0.59511\ttest-mlogloss:0.743116\n",
      "[1340]\ttrain-mlogloss:0.594048\ttest-mlogloss:0.743112\n",
      "[1350]\ttrain-mlogloss:0.593127\ttest-mlogloss:0.743095\n",
      "[1360]\ttrain-mlogloss:0.592142\ttest-mlogloss:0.743096\n",
      "[1370]\ttrain-mlogloss:0.591123\ttest-mlogloss:0.743046\n",
      "[1380]\ttrain-mlogloss:0.590087\ttest-mlogloss:0.743046\n",
      "[1390]\ttrain-mlogloss:0.589115\ttest-mlogloss:0.743046\n",
      "[1400]\ttrain-mlogloss:0.588175\ttest-mlogloss:0.743082\n",
      "Stopping. Best iteration:\n",
      "[1375]\ttrain-mlogloss:0.590597\ttest-mlogloss:0.743022\n",
      "\n"
     ]
    }
   ],
   "source": [
    "# setup parameters for xgboost\n",
    "param = {}\n",
    "# use softmax multi-class classification\n",
    "param['objective'] = 'multi:softprob'\n",
    "# scale weight of positive examples\n",
    "param['eta'] = 0.01\n",
    "param['max_depth'] = 6\n",
    "param['silent'] = 1\n",
    "param['nthread'] = 4\n",
    "param['num_class'] = 3\n",
    "param['subsample'] = 0.7\n",
    "param['colsample_bytree'] = 0.7\n",
    "param['eval_metric'] = 'mlogloss'\n",
    "\n",
    "bst = {}\n",
    "pred = {}\n",
    "for f in range(5):\n",
    "    \n",
    "    watchlist = [ (xg_train[f],'train'), (xg_test[f], 'test') ]\n",
    "    num_round = 2500\n",
    "    bst[f] = xgb.train(param, xg_train[f], num_round, watchlist , verbose_eval = 10, early_stopping_rounds=30)\n",
    "    # get prediction\n",
    "#    pred[f] = bst.predict( xg_test[f] )\n",
    "    "
   ]
  },
  {
   "cell_type": "code",
   "execution_count": 62,
   "metadata": {
    "collapsed": false
   },
   "outputs": [],
   "source": [
    "prev_train = train_data.copy()"
   ]
  },
  {
   "cell_type": "code",
   "execution_count": 63,
   "metadata": {
    "collapsed": false
   },
   "outputs": [
    {
     "name": "stdout",
     "output_type": "stream",
     "text": [
      "-----------\n",
      "0.745052387173\n",
      "(29899,)\n",
      "(29899, 3)\n",
      "-----------\n",
      "(29899, 3)\n",
      "(29899, 290)\n"
     ]
    },
    {
     "data": {
      "text/plain": [
       "0.74505238717287336"
      ]
     },
     "execution_count": 63,
     "metadata": {},
     "output_type": "execute_result"
    }
   ],
   "source": [
    "from sklearn.metrics import log_loss\n",
    "import sklearn\n",
    "\n",
    "xgb_cv_pred = {}\n",
    "train_data = prev_train.copy()\n",
    "df_preds = []\n",
    "for f in range(5):\n",
    "    xgb_cv_pred[f] = bst[f].predict(xg_test[f], ntree_limit=bst[f].best_ntree_limit)\n",
    "    # Append all DataFrames\n",
    "    df_preds.append(pd.DataFrame(xgb_cv_pred[f]))\n",
    "    df_preds[-1].columns = ['gp_all0', 'gp_all1', 'gp_mixed']\n",
    "    df_preds[-1]['people_group_1'] = train_data.iloc[test_indexes[f]].people_group_1.values\n",
    "    \n",
    "\n",
    "df_preds_all = pd.concat(df_preds)\n",
    "\n",
    "print (\"-----------\")\n",
    "y_tots = []\n",
    "y_prids = []\n",
    "for l in range(5):\n",
    "    y_tots.append(y_test[l])\n",
    "    y_prids.append(xgb_cv_pred[l])\n",
    "\n",
    "y_tots = np.concatenate(y_tots)\n",
    "y_prids = np.concatenate(y_prids)\n",
    "\n",
    "print (log_loss(y_tots,y_prids))\n",
    "print (y_tots.shape)\n",
    "print (y_prids.shape)\n",
    "print (\"-----------\")\n",
    "train_preds = np.array(df_preds_all.sort_values('people_group_1').drop('people_group_1', axis=1))\n",
    "train_data.sort_values('people_group_1',inplace=True)\n",
    "print (train_preds.shape)\n",
    "print (train_data.shape)\n",
    "\n",
    "log_loss(train_data.otype.values, train_preds)"
   ]
  },
  {
   "cell_type": "code",
   "execution_count": 64,
   "metadata": {
    "collapsed": false
   },
   "outputs": [
    {
     "data": {
      "text/html": [
       "<div>\n",
       "<table border=\"1\" class=\"dataframe\">\n",
       "  <thead>\n",
       "    <tr style=\"text-align: right;\">\n",
       "      <th></th>\n",
       "      <th>gp_all0</th>\n",
       "      <th>gp_all1</th>\n",
       "      <th>gp_mixed</th>\n",
       "      <th>people_group_1</th>\n",
       "    </tr>\n",
       "  </thead>\n",
       "  <tbody>\n",
       "    <tr>\n",
       "      <th>0</th>\n",
       "      <td>0.079944</td>\n",
       "      <td>0.715920</td>\n",
       "      <td>0.204135</td>\n",
       "      <td>20178</td>\n",
       "    </tr>\n",
       "    <tr>\n",
       "      <th>1</th>\n",
       "      <td>0.254505</td>\n",
       "      <td>0.402339</td>\n",
       "      <td>0.343156</td>\n",
       "      <td>38568</td>\n",
       "    </tr>\n",
       "    <tr>\n",
       "      <th>2</th>\n",
       "      <td>0.679744</td>\n",
       "      <td>0.128426</td>\n",
       "      <td>0.191830</td>\n",
       "      <td>17737</td>\n",
       "    </tr>\n",
       "    <tr>\n",
       "      <th>3</th>\n",
       "      <td>0.099004</td>\n",
       "      <td>0.633631</td>\n",
       "      <td>0.267365</td>\n",
       "      <td>4482</td>\n",
       "    </tr>\n",
       "    <tr>\n",
       "      <th>4</th>\n",
       "      <td>0.007132</td>\n",
       "      <td>0.849459</td>\n",
       "      <td>0.143409</td>\n",
       "      <td>1265</td>\n",
       "    </tr>\n",
       "  </tbody>\n",
       "</table>\n",
       "</div>"
      ],
      "text/plain": [
       "    gp_all0   gp_all1  gp_mixed  people_group_1\n",
       "0  0.079944  0.715920  0.204135           20178\n",
       "1  0.254505  0.402339  0.343156           38568\n",
       "2  0.679744  0.128426  0.191830           17737\n",
       "3  0.099004  0.633631  0.267365            4482\n",
       "4  0.007132  0.849459  0.143409            1265"
      ]
     },
     "execution_count": 64,
     "metadata": {},
     "output_type": "execute_result"
    }
   ],
   "source": [
    "df_preds_all[:5]"
   ]
  },
  {
   "cell_type": "code",
   "execution_count": 65,
   "metadata": {
    "collapsed": true
   },
   "outputs": [],
   "source": [
    "xg_test_r = xgb.DMatrix(test_data.drop('outcome',axis=1))"
   ]
  },
  {
   "cell_type": "code",
   "execution_count": 66,
   "metadata": {
    "collapsed": false
   },
   "outputs": [],
   "source": [
    "# Get for test\n",
    "test_preds = []\n",
    "for f in range(5):\n",
    "    test_preds.append(bst[f].predict(xg_test_r, ntree_limit = bst[f].best_ntree_limit))\n",
    "    \n",
    "preds_comb = np.mean([test_preds[j] for j in range(1,5)], axis = 0)\n",
    "\n",
    "df_test_preds = pd.DataFrame(preds_comb)\n",
    "df_test_preds.columns = ['gp_all0', 'gp_all1', 'gp_mixed']"
   ]
  },
  {
   "cell_type": "code",
   "execution_count": 67,
   "metadata": {
    "collapsed": true
   },
   "outputs": [],
   "source": [
    "test_data['gp_all0'] = 0\n",
    "test_data['gp_all1'] = 0\n",
    "test_data['gp_mixed'] = 0"
   ]
  },
  {
   "cell_type": "code",
   "execution_count": 68,
   "metadata": {
    "collapsed": false
   },
   "outputs": [],
   "source": [
    "test_data[['gp_all0', 'gp_all1', 'gp_mixed']] = df_test_preds.as_matrix()"
   ]
  },
  {
   "cell_type": "code",
   "execution_count": 69,
   "metadata": {
    "collapsed": false
   },
   "outputs": [
    {
     "name": "stdout",
     "output_type": "stream",
     "text": [
      "((29899, 290), (29899, 4), (4325, 292))\n"
     ]
    }
   ],
   "source": [
    "print (train_data.shape,df_preds_all.shape, test_data.shape)"
   ]
  },
  {
   "cell_type": "code",
   "execution_count": 70,
   "metadata": {
    "collapsed": false
   },
   "outputs": [],
   "source": [
    "train_data = pd.merge(train_data,df_preds_all,on='people_group_1',how='left')"
   ]
  },
  {
   "cell_type": "code",
   "execution_count": 71,
   "metadata": {
    "collapsed": false
   },
   "outputs": [],
   "source": [
    "final_df = pd.concat([test_data,train_data.drop('otype',axis=1)])"
   ]
  },
  {
   "cell_type": "code",
   "execution_count": 72,
   "metadata": {
    "collapsed": false
   },
   "outputs": [
    {
     "data": {
      "text/plain": [
       "(34224, 292)"
      ]
     },
     "execution_count": 72,
     "metadata": {},
     "output_type": "execute_result"
    }
   ],
   "source": [
    "final_df.shape"
   ]
  },
  {
   "cell_type": "code",
   "execution_count": 73,
   "metadata": {
    "collapsed": false
   },
   "outputs": [],
   "source": [
    "new_df = pd.concat([train_data_df,test_data_df])"
   ]
  },
  {
   "cell_type": "code",
   "execution_count": 74,
   "metadata": {
    "collapsed": false
   },
   "outputs": [
    {
     "data": {
      "text/plain": [
       "(1896853, 81)"
      ]
     },
     "execution_count": 74,
     "metadata": {},
     "output_type": "execute_result"
    }
   ],
   "source": [
    "new_df.shape"
   ]
  },
  {
   "cell_type": "code",
   "execution_count": 75,
   "metadata": {
    "collapsed": false
   },
   "outputs": [],
   "source": [
    "final_df_1 = pd.merge(new_df,final_df[['people_group_1','gp_all0', 'gp_all1', 'gp_mixed']],on='people_group_1',how='left')"
   ]
  },
  {
   "cell_type": "code",
   "execution_count": 76,
   "metadata": {
    "collapsed": false
   },
   "outputs": [
    {
     "name": "stdout",
     "output_type": "stream",
     "text": [
      "(1563770, 84) (333083, 84)\n"
     ]
    }
   ],
   "source": [
    "final_train_data_df = final_df_1[~final_df_1['outcome'].isnull()]\n",
    "final_test_data_df = final_df_1[final_df_1['outcome'].isnull()]\n",
    "\n",
    "print final_train_data_df.shape, final_test_data_df.shape"
   ]
  },
  {
   "cell_type": "code",
   "execution_count": 77,
   "metadata": {
    "collapsed": false
   },
   "outputs": [
    {
     "name": "stdout",
     "output_type": "stream",
     "text": [
      "(1398166, 81) (498687, 81)\n"
     ]
    }
   ],
   "source": [
    "print train_data_df.shape, test_data_df.shape"
   ]
  },
  {
   "cell_type": "code",
   "execution_count": 78,
   "metadata": {
    "collapsed": true
   },
   "outputs": [],
   "source": [
    "final_test_data_df.to_pickle(SAVE_AS_DIR+'/test2_otype.pkl')\n",
    "final_train_data_df.to_pickle(SAVE_AS_DIR+'/train2_otype.pkl')"
   ]
  },
  {
   "cell_type": "code",
   "execution_count": null,
   "metadata": {
    "collapsed": true
   },
   "outputs": [],
   "source": [
    "############################################### END ################################################################################################"
   ]
  },
  {
   "cell_type": "code",
   "execution_count": null,
   "metadata": {
    "collapsed": true
   },
   "outputs": [],
   "source": []
  }
 ],
 "metadata": {
  "anaconda-cloud": {},
  "kernelspec": {
   "display_name": "Python [default]",
   "language": "python",
   "name": "python2"
  },
  "language_info": {
   "codemirror_mode": {
    "name": "ipython",
    "version": 2
   },
   "file_extension": ".py",
   "mimetype": "text/x-python",
   "name": "python",
   "nbconvert_exporter": "python",
   "pygments_lexer": "ipython2",
   "version": "2.7.12"
  }
 },
 "nbformat": 4,
 "nbformat_minor": 2
}
