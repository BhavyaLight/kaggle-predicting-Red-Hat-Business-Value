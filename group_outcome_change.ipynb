{
 "cells": [
  {
   "cell_type": "code",
   "execution_count": 1,
   "metadata": {
    "collapsed": false
   },
   "outputs": [
    {
     "name": "stderr",
     "output_type": "stream",
     "text": [
      "/Users/bhavyachandra/anaconda/lib/python2.7/site-packages/sklearn/cross_validation.py:44: DeprecationWarning: This module was deprecated in version 0.18 in favor of the model_selection module into which all the refactored classes and functions are moved. Also note that the interface of the new CV iterators are different from that of this module. This module will be removed in 0.20.\n",
      "  \"This module will be removed in 0.20.\", DeprecationWarning)\n"
     ]
    }
   ],
   "source": [
    "import gzip\n",
    "import pickle\n",
    "import time\n",
    "\n",
    "import pandas as pd\n",
    "import numpy as np\n",
    "\n",
    "import sklearn.metrics\n",
    "import sklearn.utils\n",
    "import sklearn.linear_model\n",
    "\n",
    "from sklearn.cross_validation import LabelKFold\n",
    "from sklearn.metrics import roc_auc_score\n",
    "from sklearn.preprocessing import OneHotEncoder\n",
    "\n",
    "import xgboost as xgb"
   ]
  },
  {
   "cell_type": "code",
   "execution_count": 2,
   "metadata": {
    "collapsed": true
   },
   "outputs": [],
   "source": [
    "# Path to people.csv from ReadHatKaggle data set\n",
    "FEATURE_FILE ='Data/act_train_features.csv'\n",
    "# Path to act_train.csv from RedHatKaggle data set\n",
    "OUTPUT ='Data/act_train_output.csv'\n",
    "# Path to the test file\n",
    "TEST_FILE = 'Data/act_test_features.csv'\n",
    "\n",
    "# Path to the pickle files\n",
    "SAVE_AS_DIR = 'Data/pickle'\n",
    "\n",
    "TEST_PREPROCESSED_FILE='Data/pickle/test_merged_without17304.pkl'\n",
    "TRAIN_PREPROCESSED_FILE='Data/pickle/train_merged_without17304.pkl'\n",
    "train_with_dates ='Data/pickle/train_withDateFeatures_without17304.pkl'\n",
    "test_with_dates ='Data/pickle/test_withDateFeatures_without17304.pkl'\n",
    "train_interpolated = 'Data/pickle/train_withInterpolations.pkl'\n",
    "test_interpolated = 'Data/pickle/test_withleak.pkl'"
   ]
  },
  {
   "cell_type": "code",
   "execution_count": 3,
   "metadata": {
    "collapsed": false
   },
   "outputs": [],
   "source": [
    "test_data_df = pd.read_pickle(test_interpolated)\n",
    "train_data_df = pd.read_pickle(train_interpolated)"
   ]
  },
  {
   "cell_type": "code",
   "execution_count": 4,
   "metadata": {
    "collapsed": false
   },
   "outputs": [],
   "source": [
    "test_data_d = pd.read_pickle(test_with_dates)"
   ]
  },
  {
   "cell_type": "code",
   "execution_count": 5,
   "metadata": {
    "collapsed": false
   },
   "outputs": [],
   "source": [
    "train_data_d = pd.read_pickle(train_with_dates)"
   ]
  },
  {
   "cell_type": "code",
   "execution_count": 6,
   "metadata": {
    "collapsed": true
   },
   "outputs": [],
   "source": [
    "Extra_columns = list(set(train_data_d.columns).difference(set(train_data_df.columns)))"
   ]
  },
  {
   "cell_type": "code",
   "execution_count": 7,
   "metadata": {
    "collapsed": false
   },
   "outputs": [
    {
     "data": {
      "text/plain": [
       "['pdays_till_activity',\n",
       " 'adays_till_activity',\n",
       " 'people_per_group',\n",
       " 'next_outcome',\n",
       " 'people_per_group_date',\n",
       " 'prev_outcome',\n",
       " 'diff_date',\n",
       " 'activities_per_group_date',\n",
       " 'worked_for_day']"
      ]
     },
     "execution_count": 7,
     "metadata": {},
     "output_type": "execute_result"
    }
   ],
   "source": [
    "Extra_columns"
   ]
  },
  {
   "cell_type": "code",
   "execution_count": 8,
   "metadata": {
    "collapsed": false
   },
   "outputs": [
    {
     "name": "stdout",
     "output_type": "stream",
     "text": [
      "(1563770, 81) (333083, 81)\n"
     ]
    }
   ],
   "source": [
    "print train_data_d.shape, test_data_d.shape\n",
    "train_data_df = pd.merge(train_data_df,train_data_d[['activity_id']+Extra_columns],on='activity_id',how='left')\n",
    "test_data_df = pd.merge(test_data_df,test_data_d[['activity_id']+Extra_columns],on='activity_id',how='left')"
   ]
  },
  {
   "cell_type": "code",
   "execution_count": 9,
   "metadata": {
    "collapsed": false
   },
   "outputs": [
    {
     "name": "stdout",
     "output_type": "stream",
     "text": [
      "(1398166, 81) (498687, 81)\n"
     ]
    }
   ],
   "source": [
    "# print df.shape\n",
    "print train_data_df.shape, test_data_df.shape\n",
    "# print df.columns.values"
   ]
  },
  {
   "cell_type": "code",
   "execution_count": 10,
   "metadata": {
    "collapsed": false
   },
   "outputs": [],
   "source": [
    "is_dup = train_data_df.drop('activity_id',axis=1).duplicated()\n",
    "df = train_data_df[~is_dup]"
   ]
  },
  {
   "cell_type": "code",
   "execution_count": 11,
   "metadata": {
    "collapsed": true
   },
   "outputs": [],
   "source": [
    "df = pd.concat([df,test_data_df])"
   ]
  },
  {
   "cell_type": "code",
   "execution_count": 12,
   "metadata": {
    "collapsed": false
   },
   "outputs": [
    {
     "name": "stdout",
     "output_type": "stream",
     "text": [
      "(1317664, 81)\n"
     ]
    }
   ],
   "source": [
    "print df.shape"
   ]
  },
  {
   "cell_type": "code",
   "execution_count": 13,
   "metadata": {
    "collapsed": false
   },
   "outputs": [],
   "source": [
    "# #People per group\n",
    "# ppp = df.groupby('people_group_1')['people_id'].apply(lambda x: len(x))\n",
    "# ppp = ppp.reset_index()\n",
    "# ppp.columns = ['people_group_1', 'people_per_group']\n",
    "# df = pd.merge(df, ppp, on='people_group_1', how='left')"
   ]
  },
  {
   "cell_type": "code",
   "execution_count": 14,
   "metadata": {
    "collapsed": false
   },
   "outputs": [],
   "source": [
    "#Activities per group\n",
    "app = df.groupby('people_group_1')['activity_id'].apply(lambda x: len(x))\n",
    "app = app.reset_index()\n",
    "app.columns = ['people_group_1', 'activities_per_group']\n",
    "df = pd.merge(df, app, on='people_group_1', how='left')"
   ]
  },
  {
   "cell_type": "code",
   "execution_count": 15,
   "metadata": {
    "collapsed": false
   },
   "outputs": [],
   "source": [
    "# df.rename(columns={'activities_per_group_y':'activities_per_group'},inplace=True)"
   ]
  },
  {
   "cell_type": "code",
   "execution_count": 16,
   "metadata": {
    "collapsed": true
   },
   "outputs": [],
   "source": [
    "mindate = pd.Timestamp('2022-07-17 00:00:00')\n",
    "maxdate = pd.Timestamp('2023-08-31 00:00:00')\n",
    "minpdate = pd.Timestamp('2020-05-18 00:00:00')\n",
    "\n",
    "# mindate = min(data['date'])\n",
    "# maxdate = max(data['date'])\n",
    "# minpdate = min(data['pdate'])"
   ]
  },
  {
   "cell_type": "code",
   "execution_count": 17,
   "metadata": {
    "collapsed": false
   },
   "outputs": [],
   "source": [
    "# people_date_mean \n",
    "pdm = df.groupby('people_group_1')['pdays_till_activity'].apply(lambda x: x.mean())\n",
    "pdm = pdm.reset_index()\n",
    "pdm.columns = ['people_group_1', 'people_date_mean']\n",
    "df = pd.merge(df, pdm, on = 'people_group_1', how='left')"
   ]
  },
  {
   "cell_type": "code",
   "execution_count": 18,
   "metadata": {
    "collapsed": false
   },
   "outputs": [],
   "source": [
    "# df.rename(columns={'people_date_mean_y':'people_date_mean'},inplace=True)"
   ]
  },
  {
   "cell_type": "code",
   "execution_count": 19,
   "metadata": {
    "collapsed": false
   },
   "outputs": [],
   "source": [
    "# people_date_first\n",
    "pdf = df.groupby('people_group_1')['pdays_till_activity'].apply(lambda x: x.min())\n",
    "pdf = pdf.reset_index()\n",
    "pdf.columns = ['people_group_1', 'people_date_first']\n",
    "df = pd.merge(df, pdf, on = 'people_group_1', how='left')\n",
    "# df.rename(columns={'people_date_first_y':'people_date_first'},inplace=True)"
   ]
  },
  {
   "cell_type": "code",
   "execution_count": 20,
   "metadata": {
    "collapsed": true
   },
   "outputs": [],
   "source": [
    "# activity_date_first\n",
    "adf = df.groupby('people_group_1')['adays_till_activity'].apply(lambda x: x.min())\n",
    "adf = adf.reset_index()\n",
    "adf.columns = ['people_group_1', 'activity_date_first']\n",
    "df = pd.merge(df, adf, on = 'people_group_1')\n",
    "# df.rename(columns={'activity_date_first_y':'activity_date_first'},inplace=True)"
   ]
  },
  {
   "cell_type": "code",
   "execution_count": 21,
   "metadata": {
    "collapsed": true
   },
   "outputs": [],
   "source": [
    "# activity_date_last\n",
    "adl = df.groupby('people_group_1')['adays_till_activity'].apply(lambda x: x.max())\n",
    "adl = adl.reset_index()\n",
    "adl.columns = ['people_group_1', 'activity_date_last']\n",
    "df = pd.merge(df, adl, on = 'people_group_1')\n",
    "# df.rename(columns={'activity_date_last_y':'activity_date_last'},inplace=True)"
   ]
  },
  {
   "cell_type": "code",
   "execution_count": 22,
   "metadata": {
    "collapsed": false
   },
   "outputs": [],
   "source": [
    "# people_date_last\n",
    "pdl = df.groupby('people_group_1')['pdays_till_activity'].apply(lambda x: x.max())\n",
    "pdl = pdl.reset_index()\n",
    "pdl.columns = ['people_group_1', 'people_date_last']\n",
    "df = pd.merge(df, pdl, on = 'people_group_1')\n",
    "# df.rename(columns={'people_date_last_y':'people_date_last'},inplace=True)"
   ]
  },
  {
   "cell_type": "code",
   "execution_count": 23,
   "metadata": {
    "collapsed": true
   },
   "outputs": [],
   "source": [
    "# pchar_38_mean\n",
    "p38m = df.groupby('people_group_1')['people_char_38'].apply(lambda x: x.mean())\n",
    "p38m = p38m.reset_index()\n",
    "p38m.columns = ['people_group_1', 'pchar_38_mean']\n",
    "df = pd.merge(df, p38m, on = 'people_group_1', how='left')\n",
    "# df.rename(columns={'pchar_38_mean_y':'pchar_38_mean'},inplace=True)"
   ]
  },
  {
   "cell_type": "code",
   "execution_count": 24,
   "metadata": {
    "collapsed": false
   },
   "outputs": [],
   "source": [
    "#pchar_38_median\n",
    "p38med = df.groupby('people_group_1')['people_char_38'].apply(lambda x: x.median())\n",
    "p38med = p38med.reset_index()\n",
    "p38med.columns = ['people_group_1', 'pchar_38_median']\n",
    "df = pd.merge(df, p38med, on = 'people_group_1',how='left')\n",
    "# df.rename(columns={'pchar_38_median_y':'pchar_38_median'},inplace=True)"
   ]
  },
  {
   "cell_type": "code",
   "execution_count": 25,
   "metadata": {
    "collapsed": true
   },
   "outputs": [],
   "source": [
    "# num of activity dates\n",
    "nad = df.groupby('people_group_1')['adays_till_activity'].apply(lambda x: len(x.unique()))\n",
    "nad  = nad.reset_index()\n",
    "nad.columns = ['people_group_1', 'num_activity_dates']\n",
    "df = pd.merge(df, nad, on = 'people_group_1',how='left')\n",
    "# df.rename(columns={'pchar_38_median_y':'pchar_38_median'},inplace=True)"
   ]
  },
  {
   "cell_type": "code",
   "execution_count": 26,
   "metadata": {
    "collapsed": false
   },
   "outputs": [
    {
     "data": {
      "text/plain": [
       "{'activities_per_group',\n",
       " 'activity_date_first',\n",
       " 'activity_date_last',\n",
       " 'num_activity_dates',\n",
       " 'pchar_38_mean',\n",
       " 'pchar_38_median',\n",
       " 'people_date_first',\n",
       " 'people_date_last',\n",
       " 'people_date_mean'}"
      ]
     },
     "execution_count": 26,
     "metadata": {},
     "output_type": "execute_result"
    }
   ],
   "source": [
    "set(df.columns.values).difference(set(train_data_df.columns.values))"
   ]
  },
  {
   "cell_type": "code",
   "execution_count": 27,
   "metadata": {
    "collapsed": false
   },
   "outputs": [],
   "source": [
    "# for column in df.columns:\n",
    "#     print (column+\": \" +str(len(df[column].unique())))"
   ]
  },
  {
   "cell_type": "code",
   "execution_count": 28,
   "metadata": {
    "collapsed": true
   },
   "outputs": [],
   "source": [
    "FEATURES = [\n",
    "'people_group_1',\n",
    "'people_per_group',\n",
    "'activities_per_group',\n",
    "'people_date_mean',\n",
    "'people_date_first',\n",
    "'activity_date_first',\n",
    "'activity_date_last',\n",
    "'people_date_last',\n",
    "'pchar_38_mean',\n",
    "'pchar_38_median',\n",
    "'num_activity_dates',\n",
    "'outcome']"
   ]
  },
  {
   "cell_type": "code",
   "execution_count": 29,
   "metadata": {
    "collapsed": false
   },
   "outputs": [
    {
     "data": {
      "text/plain": [
       "(1317664, 12)"
      ]
     },
     "execution_count": 29,
     "metadata": {},
     "output_type": "execute_result"
    }
   ],
   "source": [
    "# Tryi only with group related features first\n",
    "df2 = df[FEATURES]\n",
    "df2.shape"
   ]
  },
  {
   "cell_type": "code",
   "execution_count": 30,
   "metadata": {
    "collapsed": true
   },
   "outputs": [],
   "source": [
    "df.to_pickle(SAVE_AS_DIR+'/train_test_group_columns.pkl')"
   ]
  },
  {
   "cell_type": "code",
   "execution_count": 31,
   "metadata": {
    "collapsed": false
   },
   "outputs": [
    {
     "name": "stdout",
     "output_type": "stream",
     "text": [
      "(1317664, 90) (1317664, 12)\n"
     ]
    }
   ],
   "source": [
    "# Keeping a copy for future use\n",
    "tr = df\n",
    "df = df2\n",
    "print tr.shape,df.shape"
   ]
  },
  {
   "cell_type": "code",
   "execution_count": 32,
   "metadata": {
    "collapsed": true
   },
   "outputs": [],
   "source": [
    "def build_weight_oh(df, key):\n",
    "    weighted = []\n",
    "\n",
    "    numv = df[key].max() + 1\n",
    "    \n",
    "    for g in df.groupby('people_group_1'):\n",
    "        oh = np.zeros(numv, dtype=np.float64)\n",
    "\n",
    "        vc = g[1][key].value_counts()\n",
    "\n",
    "        wtot = 0\n",
    "        for z in zip(vc.index.values, vc.values):\n",
    "            oh[z[0]] += z[1]\n",
    "\n",
    "        weighted.append(np.hstack([[g[0]], oh / len(g[1])]))\n",
    "\n",
    "    df_wo = pd.DataFrame(weighted)\n",
    "\n",
    "    wo_cols = ['people_group_1']\n",
    "    for i in range(numv):\n",
    "        wo_cols.append('{0}_group_onehotavg_{1}'.format(key, i))\n",
    "        #print(wo_cols[-1])\n",
    "\n",
    "    df_wo.columns = wo_cols\n",
    "\n",
    "    #data = pd.merge(data, df_w2o, on='group_1', how='left')\n",
    "\n",
    "    droplist = []\n",
    "    for c in df_wo.keys():\n",
    "        #print(c, df_w2o[c].mean())\n",
    "        if df_wo[c].mean() < .001:\n",
    "            droplist.append(c)\n",
    "\n",
    "    for d in droplist:\n",
    "        df_wo.drop(d, axis=1, inplace=True)\n",
    "            \n",
    "    return df_wo"
   ]
  },
  {
   "cell_type": "code",
   "execution_count": 33,
   "metadata": {
    "collapsed": true
   },
   "outputs": [],
   "source": [
    "lr = tr.copy()"
   ]
  },
  {
   "cell_type": "code",
   "execution_count": 34,
   "metadata": {
    "collapsed": true
   },
   "outputs": [],
   "source": [
    "oh_keys = []\n",
    "alsouse = ['activity_category']\n",
    "for k in tr.keys():\n",
    "    if 'char_10' in k:\n",
    "        continue\n",
    "        \n",
    "    if 'char_38' in k:\n",
    "        continue\n",
    "        \n",
    "    if k in alsouse or 'char' in k:\n",
    "        oh_keys.append(k)"
   ]
  },
  {
   "cell_type": "code",
   "execution_count": 35,
   "metadata": {
    "collapsed": false
   },
   "outputs": [
    {
     "data": {
      "text/plain": [
       "['activity_category',\n",
       " 'char_1',\n",
       " 'char_2',\n",
       " 'char_3',\n",
       " 'char_4',\n",
       " 'char_5',\n",
       " 'char_6',\n",
       " 'char_7',\n",
       " 'char_8',\n",
       " 'char_9',\n",
       " 'people_char_1',\n",
       " 'people_char_11',\n",
       " 'people_char_12',\n",
       " 'people_char_13',\n",
       " 'people_char_14',\n",
       " 'people_char_15',\n",
       " 'people_char_16',\n",
       " 'people_char_17',\n",
       " 'people_char_18',\n",
       " 'people_char_19',\n",
       " 'people_char_2',\n",
       " 'people_char_20',\n",
       " 'people_char_21',\n",
       " 'people_char_22',\n",
       " 'people_char_23',\n",
       " 'people_char_24',\n",
       " 'people_char_25',\n",
       " 'people_char_26',\n",
       " 'people_char_27',\n",
       " 'people_char_28',\n",
       " 'people_char_29',\n",
       " 'people_char_3',\n",
       " 'people_char_30',\n",
       " 'people_char_31',\n",
       " 'people_char_32',\n",
       " 'people_char_33',\n",
       " 'people_char_34',\n",
       " 'people_char_35',\n",
       " 'people_char_36',\n",
       " 'people_char_37',\n",
       " 'people_char_4',\n",
       " 'people_char_5',\n",
       " 'people_char_6',\n",
       " 'people_char_7',\n",
       " 'people_char_8',\n",
       " 'people_char_9',\n",
       " 'pchar_38_mean',\n",
       " 'pchar_38_median']"
      ]
     },
     "execution_count": 35,
     "metadata": {},
     "output_type": "execute_result"
    }
   ],
   "source": [
    "oh_keys"
   ]
  },
  {
   "cell_type": "code",
   "execution_count": 36,
   "metadata": {
    "collapsed": false
   },
   "outputs": [
    {
     "name": "stdout",
     "output_type": "stream",
     "text": [
      "activity_category\n",
      "char_1\n",
      "char_2\n",
      "char_3\n",
      "char_4\n",
      "char_5\n",
      "char_6\n",
      "char_7\n",
      "char_8\n",
      "char_9\n",
      "people_char_1\n",
      "people_char_11\n",
      "people_char_12\n",
      "people_char_13\n",
      "people_char_14\n",
      "people_char_15\n",
      "people_char_16\n",
      "people_char_17\n",
      "people_char_18\n",
      "people_char_19\n",
      "people_char_2\n",
      "people_char_20\n",
      "people_char_21\n",
      "people_char_22\n",
      "people_char_23\n",
      "people_char_24\n",
      "people_char_25\n",
      "people_char_26\n",
      "people_char_27\n",
      "people_char_28\n",
      "people_char_29\n",
      "people_char_3\n",
      "people_char_30\n",
      "people_char_31\n",
      "people_char_32\n",
      "people_char_33\n",
      "people_char_34\n",
      "people_char_35\n",
      "people_char_36\n",
      "people_char_37\n",
      "people_char_4\n",
      "people_char_5\n",
      "people_char_6\n",
      "people_char_7\n",
      "people_char_8\n",
      "people_char_9\n",
      "pchar_38_mean\n"
     ]
    },
    {
     "name": "stderr",
     "output_type": "stream",
     "text": [
      "/Users/bhavyachandra/anaconda/lib/python2.7/site-packages/ipykernel/__main__.py:7: VisibleDeprecationWarning: using a non-integer number instead of an integer will result in an error in the future\n",
      "/Users/bhavyachandra/anaconda/lib/python2.7/site-packages/ipykernel/__main__.py:13: VisibleDeprecationWarning: using a non-integer number instead of an integer will result in an error in the future\n"
     ]
    },
    {
     "ename": "TypeError",
     "evalue": "range() integer end argument expected, got numpy.float64.",
     "output_type": "error",
     "traceback": [
      "\u001b[0;31m---------------------------------------------------------------------------\u001b[0m",
      "\u001b[0;31mTypeError\u001b[0m                                 Traceback (most recent call last)",
      "\u001b[0;32m<ipython-input-36-826c08d4630f>\u001b[0m in \u001b[0;36m<module>\u001b[0;34m()\u001b[0m\n\u001b[1;32m      1\u001b[0m \u001b[0;32mfor\u001b[0m \u001b[0mk\u001b[0m \u001b[0;32min\u001b[0m \u001b[0moh_keys\u001b[0m\u001b[0;34m:\u001b[0m\u001b[0;34m\u001b[0m\u001b[0m\n\u001b[1;32m      2\u001b[0m     \u001b[0;32mprint\u001b[0m\u001b[0;34m(\u001b[0m\u001b[0mk\u001b[0m\u001b[0;34m)\u001b[0m\u001b[0;34m\u001b[0m\u001b[0m\n\u001b[0;32m----> 3\u001b[0;31m     \u001b[0mdf_oh\u001b[0m \u001b[0;34m=\u001b[0m \u001b[0mbuild_weight_oh\u001b[0m\u001b[0;34m(\u001b[0m\u001b[0mtr\u001b[0m\u001b[0;34m,\u001b[0m \u001b[0mk\u001b[0m\u001b[0;34m)\u001b[0m\u001b[0;34m\u001b[0m\u001b[0m\n\u001b[0m\u001b[1;32m      4\u001b[0m     \u001b[0mdf\u001b[0m \u001b[0;34m=\u001b[0m \u001b[0mpd\u001b[0m\u001b[0;34m.\u001b[0m\u001b[0mmerge\u001b[0m\u001b[0;34m(\u001b[0m\u001b[0mdf\u001b[0m\u001b[0;34m,\u001b[0m \u001b[0mdf_oh\u001b[0m\u001b[0;34m,\u001b[0m \u001b[0mon\u001b[0m\u001b[0;34m=\u001b[0m\u001b[0;34m'people_group_1'\u001b[0m\u001b[0;34m,\u001b[0m \u001b[0mhow\u001b[0m\u001b[0;34m=\u001b[0m\u001b[0;34m'left'\u001b[0m\u001b[0;34m)\u001b[0m\u001b[0;34m\u001b[0m\u001b[0m\n",
      "\u001b[0;32m<ipython-input-32-8ba91396dac4>\u001b[0m in \u001b[0;36mbuild_weight_oh\u001b[0;34m(df, key)\u001b[0m\n\u001b[1;32m     18\u001b[0m \u001b[0;34m\u001b[0m\u001b[0m\n\u001b[1;32m     19\u001b[0m     \u001b[0mwo_cols\u001b[0m \u001b[0;34m=\u001b[0m \u001b[0;34m[\u001b[0m\u001b[0;34m'people_group_1'\u001b[0m\u001b[0;34m]\u001b[0m\u001b[0;34m\u001b[0m\u001b[0m\n\u001b[0;32m---> 20\u001b[0;31m     \u001b[0;32mfor\u001b[0m \u001b[0mi\u001b[0m \u001b[0;32min\u001b[0m \u001b[0mrange\u001b[0m\u001b[0;34m(\u001b[0m\u001b[0mnumv\u001b[0m\u001b[0;34m)\u001b[0m\u001b[0;34m:\u001b[0m\u001b[0;34m\u001b[0m\u001b[0m\n\u001b[0m\u001b[1;32m     21\u001b[0m         \u001b[0mwo_cols\u001b[0m\u001b[0;34m.\u001b[0m\u001b[0mappend\u001b[0m\u001b[0;34m(\u001b[0m\u001b[0;34m'{0}_group_onehotavg_{1}'\u001b[0m\u001b[0;34m.\u001b[0m\u001b[0mformat\u001b[0m\u001b[0;34m(\u001b[0m\u001b[0mkey\u001b[0m\u001b[0;34m,\u001b[0m \u001b[0mi\u001b[0m\u001b[0;34m)\u001b[0m\u001b[0;34m)\u001b[0m\u001b[0;34m\u001b[0m\u001b[0m\n\u001b[1;32m     22\u001b[0m         \u001b[0;31m#print(wo_cols[-1])\u001b[0m\u001b[0;34m\u001b[0m\u001b[0;34m\u001b[0m\u001b[0m\n",
      "\u001b[0;31mTypeError\u001b[0m: range() integer end argument expected, got numpy.float64."
     ]
    }
   ],
   "source": [
    "for k in oh_keys:\n",
    "    print(k)\n",
    "    df_oh = build_weight_oh(tr, k)\n",
    "    df = pd.merge(df, df_oh, on='people_group_1', how='left')"
   ]
  },
  {
   "cell_type": "code",
   "execution_count": 39,
   "metadata": {
    "collapsed": false
   },
   "outputs": [
    {
     "name": "stdout",
     "output_type": "stream",
     "text": [
      "people_group_1\n",
      "people_per_group\n",
      "activities_per_group\n",
      "people_date_mean\n",
      "people_date_first\n",
      "activity_date_first\n",
      "activity_date_last\n",
      "people_date_last\n",
      "pchar_38_mean\n",
      "pchar_38_median\n",
      "num_activity_dates\n",
      "outcome\n",
      "activity_category_group_onehotavg_1\n",
      "activity_category_group_onehotavg_2\n",
      "activity_category_group_onehotavg_3\n",
      "activity_category_group_onehotavg_4\n",
      "activity_category_group_onehotavg_5\n",
      "activity_category_group_onehotavg_6\n",
      "activity_category_group_onehotavg_7\n",
      "char_1_group_onehotavg_0\n",
      "char_1_group_onehotavg_1\n",
      "char_1_group_onehotavg_2\n",
      "char_1_group_onehotavg_3\n",
      "char_1_group_onehotavg_4\n",
      "char_1_group_onehotavg_5\n",
      "char_1_group_onehotavg_6\n",
      "char_1_group_onehotavg_7\n",
      "char_1_group_onehotavg_8\n",
      "char_1_group_onehotavg_10\n",
      "char_1_group_onehotavg_11\n",
      "char_1_group_onehotavg_12\n",
      "char_1_group_onehotavg_13\n",
      "char_1_group_onehotavg_15\n",
      "char_1_group_onehotavg_17\n",
      "char_1_group_onehotavg_23\n",
      "char_1_group_onehotavg_25\n",
      "char_1_group_onehotavg_26\n",
      "char_1_group_onehotavg_29\n",
      "char_2_group_onehotavg_0\n",
      "char_2_group_onehotavg_1\n",
      "char_2_group_onehotavg_2\n",
      "char_2_group_onehotavg_3\n",
      "char_2_group_onehotavg_5\n",
      "char_2_group_onehotavg_6\n",
      "char_2_group_onehotavg_7\n",
      "char_2_group_onehotavg_8\n",
      "char_2_group_onehotavg_9\n",
      "char_2_group_onehotavg_10\n",
      "char_2_group_onehotavg_12\n",
      "char_2_group_onehotavg_13\n",
      "char_2_group_onehotavg_14\n",
      "char_2_group_onehotavg_16\n",
      "char_2_group_onehotavg_19\n",
      "char_3_group_onehotavg_0\n",
      "char_3_group_onehotavg_1\n",
      "char_3_group_onehotavg_2\n",
      "char_3_group_onehotavg_3\n",
      "char_3_group_onehotavg_4\n",
      "char_3_group_onehotavg_5\n",
      "char_3_group_onehotavg_6\n",
      "char_3_group_onehotavg_7\n",
      "char_3_group_onehotavg_8\n",
      "char_3_group_onehotavg_9\n",
      "char_4_group_onehotavg_0\n",
      "char_4_group_onehotavg_1\n",
      "char_4_group_onehotavg_2\n",
      "char_4_group_onehotavg_3\n",
      "char_4_group_onehotavg_4\n",
      "char_4_group_onehotavg_5\n",
      "char_4_group_onehotavg_6\n",
      "char_5_group_onehotavg_0\n",
      "char_5_group_onehotavg_1\n",
      "char_5_group_onehotavg_2\n",
      "char_5_group_onehotavg_3\n",
      "char_5_group_onehotavg_4\n",
      "char_5_group_onehotavg_5\n",
      "char_5_group_onehotavg_6\n",
      "char_6_group_onehotavg_0\n",
      "char_6_group_onehotavg_1\n",
      "char_6_group_onehotavg_2\n",
      "char_6_group_onehotavg_3\n",
      "char_6_group_onehotavg_4\n",
      "char_7_group_onehotavg_0\n",
      "char_7_group_onehotavg_1\n",
      "char_7_group_onehotavg_2\n",
      "char_7_group_onehotavg_3\n",
      "char_7_group_onehotavg_4\n",
      "char_7_group_onehotavg_5\n",
      "char_7_group_onehotavg_6\n",
      "char_7_group_onehotavg_7\n",
      "char_8_group_onehotavg_0\n",
      "char_8_group_onehotavg_1\n",
      "char_8_group_onehotavg_2\n",
      "char_8_group_onehotavg_3\n",
      "char_8_group_onehotavg_4\n",
      "char_8_group_onehotavg_5\n",
      "char_8_group_onehotavg_6\n",
      "char_8_group_onehotavg_7\n",
      "char_8_group_onehotavg_8\n",
      "char_8_group_onehotavg_9\n",
      "char_8_group_onehotavg_10\n",
      "char_8_group_onehotavg_11\n",
      "char_8_group_onehotavg_12\n",
      "char_8_group_onehotavg_13\n",
      "char_8_group_onehotavg_14\n",
      "char_8_group_onehotavg_15\n",
      "char_8_group_onehotavg_16\n",
      "char_9_group_onehotavg_0\n",
      "char_9_group_onehotavg_1\n",
      "char_9_group_onehotavg_2\n",
      "char_9_group_onehotavg_3\n",
      "char_9_group_onehotavg_4\n",
      "char_9_group_onehotavg_5\n",
      "char_9_group_onehotavg_6\n",
      "char_9_group_onehotavg_7\n",
      "char_9_group_onehotavg_8\n",
      "char_9_group_onehotavg_10\n",
      "char_9_group_onehotavg_12\n",
      "char_9_group_onehotavg_13\n",
      "char_9_group_onehotavg_14\n",
      "char_9_group_onehotavg_15\n",
      "char_9_group_onehotavg_16\n",
      "char_9_group_onehotavg_17\n",
      "char_9_group_onehotavg_18\n",
      "people_char_1_group_onehotavg_1\n",
      "people_char_1_group_onehotavg_2\n",
      "people_char_11_group_onehotavg_0\n",
      "people_char_11_group_onehotavg_1\n",
      "people_char_12_group_onehotavg_0\n",
      "people_char_12_group_onehotavg_1\n",
      "people_char_13_group_onehotavg_0\n",
      "people_char_13_group_onehotavg_1\n",
      "people_char_14_group_onehotavg_0\n",
      "people_char_14_group_onehotavg_1\n",
      "people_char_15_group_onehotavg_0\n",
      "people_char_15_group_onehotavg_1\n",
      "people_char_16_group_onehotavg_0\n",
      "people_char_16_group_onehotavg_1\n",
      "people_char_17_group_onehotavg_0\n",
      "people_char_17_group_onehotavg_1\n",
      "people_char_18_group_onehotavg_0\n",
      "people_char_18_group_onehotavg_1\n",
      "people_char_19_group_onehotavg_0\n",
      "people_char_19_group_onehotavg_1\n",
      "people_char_2_group_onehotavg_1\n",
      "people_char_2_group_onehotavg_3\n",
      "people_char_20_group_onehotavg_0\n",
      "people_char_20_group_onehotavg_1\n",
      "people_char_21_group_onehotavg_0\n",
      "people_char_21_group_onehotavg_1\n",
      "people_char_22_group_onehotavg_0\n",
      "people_char_22_group_onehotavg_1\n",
      "people_char_23_group_onehotavg_0\n",
      "people_char_23_group_onehotavg_1\n",
      "people_char_24_group_onehotavg_0\n",
      "people_char_24_group_onehotavg_1\n",
      "people_char_25_group_onehotavg_0\n",
      "people_char_25_group_onehotavg_1\n",
      "people_char_26_group_onehotavg_0\n",
      "people_char_26_group_onehotavg_1\n",
      "people_char_27_group_onehotavg_0\n",
      "people_char_27_group_onehotavg_1\n",
      "people_char_28_group_onehotavg_0\n",
      "people_char_28_group_onehotavg_1\n",
      "people_char_29_group_onehotavg_0\n",
      "people_char_29_group_onehotavg_1\n",
      "people_char_3_group_onehotavg_1\n",
      "people_char_3_group_onehotavg_2\n",
      "people_char_3_group_onehotavg_3\n",
      "people_char_3_group_onehotavg_4\n",
      "people_char_3_group_onehotavg_5\n",
      "people_char_3_group_onehotavg_6\n",
      "people_char_3_group_onehotavg_7\n",
      "people_char_3_group_onehotavg_8\n",
      "people_char_3_group_onehotavg_9\n",
      "people_char_3_group_onehotavg_10\n",
      "people_char_3_group_onehotavg_11\n",
      "people_char_3_group_onehotavg_12\n",
      "people_char_3_group_onehotavg_13\n",
      "people_char_3_group_onehotavg_14\n",
      "people_char_3_group_onehotavg_15\n",
      "people_char_3_group_onehotavg_16\n",
      "people_char_3_group_onehotavg_17\n",
      "people_char_3_group_onehotavg_18\n",
      "people_char_3_group_onehotavg_19\n",
      "people_char_3_group_onehotavg_20\n",
      "people_char_3_group_onehotavg_21\n",
      "people_char_3_group_onehotavg_24\n",
      "people_char_3_group_onehotavg_26\n",
      "people_char_3_group_onehotavg_28\n",
      "people_char_3_group_onehotavg_29\n",
      "people_char_3_group_onehotavg_30\n",
      "people_char_3_group_onehotavg_31\n",
      "people_char_3_group_onehotavg_40\n",
      "people_char_30_group_onehotavg_0\n",
      "people_char_30_group_onehotavg_1\n",
      "people_char_31_group_onehotavg_0\n",
      "people_char_31_group_onehotavg_1\n",
      "people_char_32_group_onehotavg_0\n",
      "people_char_32_group_onehotavg_1\n",
      "people_char_33_group_onehotavg_0\n",
      "people_char_33_group_onehotavg_1\n",
      "people_char_34_group_onehotavg_0\n",
      "people_char_34_group_onehotavg_1\n",
      "people_char_35_group_onehotavg_0\n",
      "people_char_35_group_onehotavg_1\n",
      "people_char_36_group_onehotavg_0\n",
      "people_char_36_group_onehotavg_1\n",
      "people_char_37_group_onehotavg_0\n",
      "people_char_37_group_onehotavg_1\n",
      "people_char_4_group_onehotavg_1\n",
      "people_char_4_group_onehotavg_2\n",
      "people_char_4_group_onehotavg_3\n",
      "people_char_4_group_onehotavg_4\n",
      "people_char_4_group_onehotavg_5\n",
      "people_char_4_group_onehotavg_6\n",
      "people_char_4_group_onehotavg_7\n",
      "people_char_4_group_onehotavg_8\n",
      "people_char_4_group_onehotavg_9\n",
      "people_char_4_group_onehotavg_10\n",
      "people_char_4_group_onehotavg_11\n",
      "people_char_4_group_onehotavg_12\n",
      "people_char_4_group_onehotavg_13\n",
      "people_char_4_group_onehotavg_14\n",
      "people_char_4_group_onehotavg_15\n",
      "people_char_4_group_onehotavg_16\n",
      "people_char_4_group_onehotavg_18\n",
      "people_char_4_group_onehotavg_19\n",
      "people_char_4_group_onehotavg_21\n",
      "people_char_4_group_onehotavg_22\n",
      "people_char_4_group_onehotavg_23\n",
      "people_char_4_group_onehotavg_25\n",
      "people_char_5_group_onehotavg_1\n",
      "people_char_5_group_onehotavg_2\n",
      "people_char_5_group_onehotavg_3\n",
      "people_char_5_group_onehotavg_4\n",
      "people_char_5_group_onehotavg_5\n",
      "people_char_5_group_onehotavg_6\n",
      "people_char_5_group_onehotavg_7\n",
      "people_char_5_group_onehotavg_8\n",
      "people_char_5_group_onehotavg_9\n",
      "people_char_6_group_onehotavg_1\n",
      "people_char_6_group_onehotavg_2\n",
      "people_char_6_group_onehotavg_3\n",
      "people_char_6_group_onehotavg_4\n",
      "people_char_6_group_onehotavg_5\n",
      "people_char_6_group_onehotavg_6\n",
      "people_char_7_group_onehotavg_1\n",
      "people_char_7_group_onehotavg_2\n",
      "people_char_7_group_onehotavg_3\n",
      "people_char_7_group_onehotavg_4\n",
      "people_char_7_group_onehotavg_5\n",
      "people_char_7_group_onehotavg_6\n",
      "people_char_7_group_onehotavg_7\n",
      "people_char_7_group_onehotavg_8\n",
      "people_char_7_group_onehotavg_9\n",
      "people_char_7_group_onehotavg_10\n",
      "people_char_7_group_onehotavg_11\n",
      "people_char_7_group_onehotavg_12\n",
      "people_char_7_group_onehotavg_13\n",
      "people_char_7_group_onehotavg_14\n",
      "people_char_7_group_onehotavg_15\n",
      "people_char_7_group_onehotavg_16\n",
      "people_char_7_group_onehotavg_17\n",
      "people_char_7_group_onehotavg_18\n",
      "people_char_7_group_onehotavg_19\n",
      "people_char_7_group_onehotavg_20\n",
      "people_char_7_group_onehotavg_21\n",
      "people_char_7_group_onehotavg_22\n",
      "people_char_7_group_onehotavg_23\n",
      "people_char_7_group_onehotavg_24\n",
      "people_char_7_group_onehotavg_25\n",
      "people_char_8_group_onehotavg_1\n",
      "people_char_8_group_onehotavg_2\n",
      "people_char_8_group_onehotavg_3\n",
      "people_char_8_group_onehotavg_4\n",
      "people_char_8_group_onehotavg_5\n",
      "people_char_8_group_onehotavg_6\n",
      "people_char_8_group_onehotavg_7\n",
      "people_char_8_group_onehotavg_8\n",
      "people_char_9_group_onehotavg_1\n",
      "people_char_9_group_onehotavg_2\n",
      "people_char_9_group_onehotavg_3\n",
      "people_char_9_group_onehotavg_4\n",
      "people_char_9_group_onehotavg_5\n",
      "people_char_9_group_onehotavg_6\n",
      "people_char_9_group_onehotavg_7\n",
      "people_char_9_group_onehotavg_8\n",
      "people_char_9_group_onehotavg_9\n"
     ]
    }
   ],
   "source": [
    "for k in df.keys():\n",
    "    print(k)"
   ]
  },
  {
   "cell_type": "code",
   "execution_count": 40,
   "metadata": {
    "collapsed": false
   },
   "outputs": [
    {
     "data": {
      "text/plain": [
       "289"
      ]
     },
     "execution_count": 40,
     "metadata": {},
     "output_type": "execute_result"
    }
   ],
   "source": [
    "len(df.keys())"
   ]
  },
  {
   "cell_type": "code",
   "execution_count": 41,
   "metadata": {
    "collapsed": true
   },
   "outputs": [],
   "source": [
    "df.to_pickle(SAVE_AS_DIR+'/train_test_group_columns_adv.pkl')"
   ]
  },
  {
   "cell_type": "code",
   "execution_count": 42,
   "metadata": {
    "collapsed": false
   },
   "outputs": [],
   "source": [
    "train_unique_groups = df[~df['outcome'].isnull()]['people_group_1'].unique()\n",
    "test_unique_groups = df[df['outcome'].isnull()]['people_group_1'].unique()\n",
    "\n",
    "\n",
    "test_only_groups = []\n",
    "for group in test_unique_groups:\n",
    "    if group not in train_unique_groups:\n",
    "        test_only_groups.append(group)"
   ]
  },
  {
   "cell_type": "code",
   "execution_count": 43,
   "metadata": {
    "collapsed": false
   },
   "outputs": [
    {
     "name": "stdout",
     "output_type": "stream",
     "text": [
      "29899 11639 4325\n"
     ]
    }
   ],
   "source": [
    "print len(train_unique_groups),len(test_unique_groups),len(test_only_groups)"
   ]
  },
  {
   "cell_type": "code",
   "execution_count": 44,
   "metadata": {
    "collapsed": false
   },
   "outputs": [
    {
     "name": "stdout",
     "output_type": "stream",
     "text": [
      "(984581, 289) (333083, 289)\n"
     ]
    }
   ],
   "source": [
    "final_train_data_df = df[~df['outcome'].isnull()]\n",
    "final_test_data_df = df[df['outcome'].isnull()]\n",
    "\n",
    "print final_train_data_df.shape, final_test_data_df.shape"
   ]
  },
  {
   "cell_type": "code",
   "execution_count": 45,
   "metadata": {
    "collapsed": false
   },
   "outputs": [
    {
     "name": "stdout",
     "output_type": "stream",
     "text": [
      "1317664\n"
     ]
    }
   ],
   "source": [
    "test_group_data = df['people_group_1'].apply(lambda x: x in test_only_groups)\n",
    "print (len(test_group_data))"
   ]
  },
  {
   "cell_type": "code",
   "execution_count": 46,
   "metadata": {
    "collapsed": false
   },
   "outputs": [],
   "source": [
    "train_data = df[~test_group_data].copy()\n",
    "test_data = df[test_group_data].copy()"
   ]
  },
  {
   "cell_type": "code",
   "execution_count": 47,
   "metadata": {
    "collapsed": false
   },
   "outputs": [
    {
     "name": "stdout",
     "output_type": "stream",
     "text": [
      "29899 4325\n"
     ]
    }
   ],
   "source": [
    "print len(train_data.people_group_1.unique()), len(test_data.people_group_1.unique())"
   ]
  },
  {
   "cell_type": "code",
   "execution_count": 48,
   "metadata": {
    "collapsed": false
   },
   "outputs": [
    {
     "name": "stdout",
     "output_type": "stream",
     "text": [
      "(1248591, 289) (69073, 289)\n"
     ]
    }
   ],
   "source": [
    "print train_data.shape,test_data.shape"
   ]
  },
  {
   "cell_type": "code",
   "execution_count": 49,
   "metadata": {
    "collapsed": true
   },
   "outputs": [],
   "source": [
    "def getGroupOutputType(x):\n",
    "    outcome = x.mean()\n",
    "    if outcome == 1.0 :\n",
    "        return 1\n",
    "    if outcome == 0.0:\n",
    "        return 0\n",
    "    return 2"
   ]
  },
  {
   "cell_type": "code",
   "execution_count": 50,
   "metadata": {
    "collapsed": false
   },
   "outputs": [
    {
     "data": {
      "text/plain": [
       "(1248591, 290)"
      ]
     },
     "execution_count": 50,
     "metadata": {},
     "output_type": "execute_result"
    }
   ],
   "source": [
    "train_otype = train_data.groupby('people_group_1')['outcome'].apply(getGroupOutputType)\n",
    "train_otype = train_otype.to_frame().reset_index()\n",
    "train_data = pd.merge(train_data,train_otype,on='people_group_1',how='left')\n",
    "train_data.shape"
   ]
  },
  {
   "cell_type": "code",
   "execution_count": 51,
   "metadata": {
    "collapsed": false
   },
   "outputs": [],
   "source": [
    "train_data.rename(columns={'outcome_x':'outcome','outcome_y':'otype'},inplace=True)"
   ]
  },
  {
   "cell_type": "code",
   "execution_count": 52,
   "metadata": {
    "collapsed": false
   },
   "outputs": [
    {
     "data": {
      "text/plain": [
       "(29899, 290)"
      ]
     },
     "execution_count": 52,
     "metadata": {},
     "output_type": "execute_result"
    }
   ],
   "source": [
    "is_dup = train_data.drop('outcome',axis=1).duplicated()\n",
    "train_data = train_data[~is_dup]\n",
    "train_data.shape"
   ]
  },
  {
   "cell_type": "code",
   "execution_count": 53,
   "metadata": {
    "collapsed": false
   },
   "outputs": [
    {
     "data": {
      "text/plain": [
       "(4325, 289)"
      ]
     },
     "execution_count": 53,
     "metadata": {},
     "output_type": "execute_result"
    }
   ],
   "source": [
    "is_dup = test_data.duplicated()\n",
    "test_data = test_data[~is_dup]\n",
    "test_data.shape"
   ]
  },
  {
   "cell_type": "code",
   "execution_count": 54,
   "metadata": {
    "collapsed": true
   },
   "outputs": [],
   "source": [
    "def category_to_one_hot(dataset, non_feature, continuous_feature):\n",
    "    # Function to change labels of categories to one-hot encoding using scikit's OneHot Encoding sparse matrix\n",
    "    # pd.get_dummies(df) does the same, provides sweet header's as well but it kill's memory\n",
    "    ds = dataset.drop(non_feature, axis=1)\n",
    "    boolean_column = []\n",
    "    counter = 0\n",
    "    for column in ds.columns:\n",
    "        if column not in continuous_feature:\n",
    "            boolean_column.append(counter)\n",
    "        counter += 1\n",
    "    # boolean_column is not the column name but index\n",
    "    print(\"Done filtering columns...\")\n",
    "    grd_enc = OneHotEncoder(categorical_features=boolean_column)\n",
    "    encoded_arr = grd_enc.fit_transform(ds)\n",
    "    return encoded_arr"
   ]
  },
  {
   "cell_type": "code",
   "execution_count": 55,
   "metadata": {
    "collapsed": true
   },
   "outputs": [],
   "source": [
    "train_data.to_pickle('group3d_train.pkl')"
   ]
  },
  {
   "cell_type": "code",
   "execution_count": 56,
   "metadata": {
    "collapsed": true
   },
   "outputs": [],
   "source": [
    "test_data.to_pickle('group3d_test.pkl')"
   ]
  },
  {
   "cell_type": "code",
   "execution_count": 54,
   "metadata": {
    "collapsed": false
   },
   "outputs": [],
   "source": [
    "# # Function to one hot encode all values ~ 120 secs\n",
    "# start=time.time()\n",
    "# trainarr=category_to_one_hot(train_data,NON_FEATURE+['otype'],CONT+CATEGORICAL_BINARY)\n",
    "# end=time.time()\n",
    "# print(end-start)"
   ]
  },
  {
   "cell_type": "code",
   "execution_count": 55,
   "metadata": {
    "collapsed": false
   },
   "outputs": [],
   "source": [
    "# start=time.time()\n",
    "# testarr=category_to_one_hot(final_test_data_df,NON_FEATURE,CONT+CATEGORICAL_BINARY)\n",
    "# end=time.time()\n",
    "# print(end-start)"
   ]
  },
  {
   "cell_type": "code",
   "execution_count": 56,
   "metadata": {
    "collapsed": false
   },
   "outputs": [],
   "source": [
    "# print trainarr.shape\n",
    "# print testarr.shape"
   ]
  },
  {
   "cell_type": "code",
   "execution_count": 144,
   "metadata": {
    "collapsed": false
   },
   "outputs": [],
   "source": [
    "# test_data['outcome']"
   ]
  },
  {
   "cell_type": "code",
   "execution_count": 57,
   "metadata": {
    "collapsed": true
   },
   "outputs": [],
   "source": [
    "from sklearn.cross_validation import KFold\n",
    "from sklearn.metrics import log_loss\n",
    "import xgboost as xgb"
   ]
  },
  {
   "cell_type": "code",
   "execution_count": 254,
   "metadata": {
    "collapsed": false
   },
   "outputs": [],
   "source": [
    "# trainarr = trainarr.tocsr()"
   ]
  },
  {
   "cell_type": "code",
   "execution_count": 157,
   "metadata": {
    "collapsed": false
   },
   "outputs": [],
   "source": [
    "# train_data[:6]"
   ]
  },
  {
   "cell_type": "code",
   "execution_count": 156,
   "metadata": {
    "collapsed": false
   },
   "outputs": [],
   "source": [
    "# train_data.iloc[5]"
   ]
  },
  {
   "cell_type": "code",
   "execution_count": 58,
   "metadata": {
    "collapsed": false
   },
   "outputs": [
    {
     "name": "stdout",
     "output_type": "stream",
     "text": [
      "('TRAIN:', array([    0,     1,     2, ..., 29895, 29896, 29898]), 'TEST:', array([    3,     7,    11, ..., 29888, 29891, 29897]))\n",
      "('TRAIN:', array([    0,     1,     2, ..., 29896, 29897, 29898]), 'TEST:', array([    4,    10,    19, ..., 29878, 29889, 29894]))\n",
      "('TRAIN:', array([    0,     1,     2, ..., 29895, 29897, 29898]), 'TEST:', array([    5,    20,    28, ..., 29890, 29893, 29896]))\n",
      "('TRAIN:', array([    0,     1,     3, ..., 29895, 29896, 29897]), 'TEST:', array([    2,    12,    14, ..., 29887, 29892, 29898]))\n",
      "('TRAIN:', array([    2,     3,     4, ..., 29896, 29897, 29898]), 'TEST:', array([    0,     1,     6, ..., 29876, 29883, 29895]))\n"
     ]
    }
   ],
   "source": [
    "## Gives better distribution ##\n",
    "from sklearn.model_selection import StratifiedKFold\n",
    "\n",
    "KfoldOnPId=train_data\n",
    "\n",
    "trainarr=KfoldOnPId.drop(['otype','outcome'],axis=1)\n",
    "y = KfoldOnPId['otype'].values\n",
    "\n",
    "\n",
    "X_train, X_test = {}, {}\n",
    "y_train, y_test = {}, {}\n",
    "\n",
    "test_indexes = []\n",
    "\n",
    "skf = StratifiedKFold(5, shuffle=True, random_state=12345)\n",
    "i=0\n",
    "for train_index, test_index in skf.split(trainarr,y):\n",
    "    print(\"TRAIN:\", train_index, \"TEST:\", test_index)\n",
    "    test_indexes.append(test_index)\n",
    "    X_train[i], X_test[i] = trainarr.iloc[train_index], trainarr.iloc[test_index]\n",
    "    y_train[i], y_test[i] = y[train_index], y[test_index]\n",
    "    i +=1"
   ]
  },
  {
   "cell_type": "code",
   "execution_count": 59,
   "metadata": {
    "collapsed": false
   },
   "outputs": [
    {
     "name": "stdout",
     "output_type": "stream",
     "text": [
      "(0, 5981, 0.72094967396756393, 23918, 0.72092148172924153)\n",
      "(1, 5981, 0.72094967396756393, 23918, 0.72092148172924153)\n",
      "(2, 5980, 0.7210702341137124, 23919, 0.72089134161127133)\n",
      "(3, 5979, 0.72085633049004849, 23920, 0.72094481605351168)\n",
      "(4, 5978, 0.72080963532954168, 23921, 0.7209564817524351)\n"
     ]
    }
   ],
   "source": [
    "for k in range(len(X_train)):\n",
    "    print(k, len(X_test[k]), y_test[k].mean(),len(X_train[k]), y_train[k].mean())"
   ]
  },
  {
   "cell_type": "code",
   "execution_count": 60,
   "metadata": {
    "collapsed": false
   },
   "outputs": [
    {
     "name": "stdout",
     "output_type": "stream",
     "text": [
      "(23918,) (5981,)\n",
      "(23918,) (5981,)\n",
      "(23919,) (5980,)\n",
      "(23920,) (5979,)\n",
      "(23921,) (5978,)\n"
     ]
    }
   ],
   "source": [
    "xg_train = {}\n",
    "xg_test = {}\n",
    "\n",
    "for f in range(5):\n",
    "    print y_train[f].shape, y_test[f].shape\n",
    "    xg_train[f] = xgb.DMatrix( X_train[f], label=y_train[f])\n",
    "    xg_test[f] = xgb.DMatrix(X_test[f], label=y_test[f])"
   ]
  },
  {
   "cell_type": "code",
   "execution_count": 61,
   "metadata": {
    "collapsed": false
   },
   "outputs": [
    {
     "name": "stdout",
     "output_type": "stream",
     "text": [
      "[0]\ttrain-mlogloss:1.09485\ttest-mlogloss:1.09511\n",
      "Multiple eval metrics have been passed: 'test-mlogloss' will be used for early stopping.\n",
      "\n",
      "Will train until test-mlogloss hasn't improved in 30 rounds.\n",
      "[10]\ttrain-mlogloss:1.06071\ttest-mlogloss:1.06347\n",
      "[20]\ttrain-mlogloss:1.03028\ttest-mlogloss:1.03536\n",
      "[30]\ttrain-mlogloss:1.0038\ttest-mlogloss:1.01103\n",
      "[40]\ttrain-mlogloss:0.980587\ttest-mlogloss:0.989883\n",
      "[50]\ttrain-mlogloss:0.959413\ttest-mlogloss:0.970776\n",
      "[60]\ttrain-mlogloss:0.940365\ttest-mlogloss:0.953693\n",
      "[70]\ttrain-mlogloss:0.922832\ttest-mlogloss:0.938155\n",
      "[80]\ttrain-mlogloss:0.90706\ttest-mlogloss:0.924269\n",
      "[90]\ttrain-mlogloss:0.892688\ttest-mlogloss:0.911723\n",
      "[100]\ttrain-mlogloss:0.879504\ttest-mlogloss:0.900403\n",
      "[110]\ttrain-mlogloss:0.867888\ttest-mlogloss:0.890611\n",
      "[120]\ttrain-mlogloss:0.856839\ttest-mlogloss:0.881379\n",
      "[130]\ttrain-mlogloss:0.847024\ttest-mlogloss:0.873208\n",
      "[140]\ttrain-mlogloss:0.837378\ttest-mlogloss:0.865457\n",
      "[150]\ttrain-mlogloss:0.828781\ttest-mlogloss:0.858634\n",
      "[160]\ttrain-mlogloss:0.820628\ttest-mlogloss:0.852161\n",
      "[170]\ttrain-mlogloss:0.813118\ttest-mlogloss:0.846343\n",
      "[180]\ttrain-mlogloss:0.806019\ttest-mlogloss:0.84105\n",
      "[190]\ttrain-mlogloss:0.799372\ttest-mlogloss:0.836114\n",
      "[200]\ttrain-mlogloss:0.792986\ttest-mlogloss:0.831468\n",
      "[210]\ttrain-mlogloss:0.787218\ttest-mlogloss:0.827219\n",
      "[220]\ttrain-mlogloss:0.781679\ttest-mlogloss:0.823282\n",
      "[230]\ttrain-mlogloss:0.776528\ttest-mlogloss:0.819719\n",
      "[240]\ttrain-mlogloss:0.771437\ttest-mlogloss:0.816391\n",
      "[250]\ttrain-mlogloss:0.766718\ttest-mlogloss:0.813282\n",
      "[260]\ttrain-mlogloss:0.762198\ttest-mlogloss:0.810483\n",
      "[270]\ttrain-mlogloss:0.757777\ttest-mlogloss:0.807773\n",
      "[280]\ttrain-mlogloss:0.753607\ttest-mlogloss:0.805225\n",
      "[290]\ttrain-mlogloss:0.749502\ttest-mlogloss:0.802785\n",
      "[300]\ttrain-mlogloss:0.745626\ttest-mlogloss:0.800446\n",
      "[310]\ttrain-mlogloss:0.742004\ttest-mlogloss:0.798281\n",
      "[320]\ttrain-mlogloss:0.738565\ttest-mlogloss:0.796295\n",
      "[330]\ttrain-mlogloss:0.735214\ttest-mlogloss:0.794508\n",
      "[340]\ttrain-mlogloss:0.732128\ttest-mlogloss:0.792946\n",
      "[350]\ttrain-mlogloss:0.729156\ttest-mlogloss:0.791362\n",
      "[360]\ttrain-mlogloss:0.726087\ttest-mlogloss:0.789821\n",
      "[370]\ttrain-mlogloss:0.723242\ttest-mlogloss:0.788376\n",
      "[380]\ttrain-mlogloss:0.720622\ttest-mlogloss:0.786971\n",
      "[390]\ttrain-mlogloss:0.71813\ttest-mlogloss:0.785667\n",
      "[400]\ttrain-mlogloss:0.715632\ttest-mlogloss:0.784422\n",
      "[410]\ttrain-mlogloss:0.713112\ttest-mlogloss:0.783214\n",
      "[420]\ttrain-mlogloss:0.710785\ttest-mlogloss:0.782119\n",
      "[430]\ttrain-mlogloss:0.708403\ttest-mlogloss:0.781054\n",
      "[440]\ttrain-mlogloss:0.706182\ttest-mlogloss:0.780121\n",
      "[450]\ttrain-mlogloss:0.704121\ttest-mlogloss:0.779184\n",
      "[460]\ttrain-mlogloss:0.70198\ttest-mlogloss:0.778358\n",
      "[470]\ttrain-mlogloss:0.699795\ttest-mlogloss:0.777508\n",
      "[480]\ttrain-mlogloss:0.697835\ttest-mlogloss:0.776767\n",
      "[490]\ttrain-mlogloss:0.695832\ttest-mlogloss:0.775964\n",
      "[500]\ttrain-mlogloss:0.693923\ttest-mlogloss:0.775228\n",
      "[510]\ttrain-mlogloss:0.69196\ttest-mlogloss:0.774542\n",
      "[520]\ttrain-mlogloss:0.690158\ttest-mlogloss:0.773932\n",
      "[530]\ttrain-mlogloss:0.688388\ttest-mlogloss:0.773413\n",
      "[540]\ttrain-mlogloss:0.68673\ttest-mlogloss:0.772848\n",
      "[550]\ttrain-mlogloss:0.684986\ttest-mlogloss:0.772299\n",
      "[560]\ttrain-mlogloss:0.683201\ttest-mlogloss:0.771768\n",
      "[570]\ttrain-mlogloss:0.681508\ttest-mlogloss:0.771298\n",
      "[580]\ttrain-mlogloss:0.680017\ttest-mlogloss:0.7709\n",
      "[590]\ttrain-mlogloss:0.678273\ttest-mlogloss:0.770401\n",
      "[600]\ttrain-mlogloss:0.67676\ttest-mlogloss:0.769947\n",
      "[610]\ttrain-mlogloss:0.675061\ttest-mlogloss:0.769429\n",
      "[620]\ttrain-mlogloss:0.673549\ttest-mlogloss:0.769041\n",
      "[630]\ttrain-mlogloss:0.671985\ttest-mlogloss:0.76874\n",
      "[640]\ttrain-mlogloss:0.670567\ttest-mlogloss:0.768429\n",
      "[650]\ttrain-mlogloss:0.668949\ttest-mlogloss:0.768081\n",
      "[660]\ttrain-mlogloss:0.66734\ttest-mlogloss:0.767744\n",
      "[670]\ttrain-mlogloss:0.665962\ttest-mlogloss:0.767482\n",
      "[680]\ttrain-mlogloss:0.664548\ttest-mlogloss:0.767117\n",
      "[690]\ttrain-mlogloss:0.663095\ttest-mlogloss:0.766818\n",
      "[700]\ttrain-mlogloss:0.661658\ttest-mlogloss:0.766509\n",
      "[710]\ttrain-mlogloss:0.660387\ttest-mlogloss:0.766261\n",
      "[720]\ttrain-mlogloss:0.659083\ttest-mlogloss:0.765934\n",
      "[730]\ttrain-mlogloss:0.657747\ttest-mlogloss:0.765711\n",
      "[740]\ttrain-mlogloss:0.65638\ttest-mlogloss:0.765526\n",
      "[750]\ttrain-mlogloss:0.655124\ttest-mlogloss:0.765336\n",
      "[760]\ttrain-mlogloss:0.653842\ttest-mlogloss:0.765046\n",
      "[770]\ttrain-mlogloss:0.652523\ttest-mlogloss:0.764857\n",
      "[780]\ttrain-mlogloss:0.651273\ttest-mlogloss:0.764645\n",
      "[790]\ttrain-mlogloss:0.650025\ttest-mlogloss:0.764452\n",
      "[800]\ttrain-mlogloss:0.648875\ttest-mlogloss:0.764272\n",
      "[810]\ttrain-mlogloss:0.647716\ttest-mlogloss:0.764056\n",
      "[820]\ttrain-mlogloss:0.646604\ttest-mlogloss:0.763915\n",
      "[830]\ttrain-mlogloss:0.645493\ttest-mlogloss:0.763843\n",
      "[840]\ttrain-mlogloss:0.64428\ttest-mlogloss:0.76364\n",
      "[850]\ttrain-mlogloss:0.643183\ttest-mlogloss:0.763465\n",
      "[860]\ttrain-mlogloss:0.641924\ttest-mlogloss:0.763293\n",
      "[870]\ttrain-mlogloss:0.640778\ttest-mlogloss:0.763125\n",
      "[880]\ttrain-mlogloss:0.639573\ttest-mlogloss:0.763005\n",
      "[890]\ttrain-mlogloss:0.638532\ttest-mlogloss:0.762921\n",
      "[900]\ttrain-mlogloss:0.637337\ttest-mlogloss:0.762766\n",
      "[910]\ttrain-mlogloss:0.636187\ttest-mlogloss:0.762669\n",
      "[920]\ttrain-mlogloss:0.635119\ttest-mlogloss:0.762471\n",
      "[930]\ttrain-mlogloss:0.634088\ttest-mlogloss:0.762366\n",
      "[940]\ttrain-mlogloss:0.632971\ttest-mlogloss:0.762218\n",
      "[950]\ttrain-mlogloss:0.631913\ttest-mlogloss:0.762128\n",
      "[960]\ttrain-mlogloss:0.630838\ttest-mlogloss:0.76208\n",
      "[970]\ttrain-mlogloss:0.629703\ttest-mlogloss:0.761925\n",
      "[980]\ttrain-mlogloss:0.628656\ttest-mlogloss:0.761878\n",
      "[990]\ttrain-mlogloss:0.627517\ttest-mlogloss:0.7618\n",
      "[1000]\ttrain-mlogloss:0.62656\ttest-mlogloss:0.761692\n",
      "[1010]\ttrain-mlogloss:0.625591\ttest-mlogloss:0.761627\n",
      "[1020]\ttrain-mlogloss:0.624488\ttest-mlogloss:0.761529\n",
      "[1030]\ttrain-mlogloss:0.623554\ttest-mlogloss:0.761453\n",
      "[1040]\ttrain-mlogloss:0.622494\ttest-mlogloss:0.761406\n",
      "[1050]\ttrain-mlogloss:0.621448\ttest-mlogloss:0.761365\n",
      "[1060]\ttrain-mlogloss:0.620416\ttest-mlogloss:0.761225\n",
      "[1070]\ttrain-mlogloss:0.619394\ttest-mlogloss:0.761138\n",
      "[1080]\ttrain-mlogloss:0.618278\ttest-mlogloss:0.761121\n",
      "[1090]\ttrain-mlogloss:0.617205\ttest-mlogloss:0.761015\n",
      "[1100]\ttrain-mlogloss:0.616222\ttest-mlogloss:0.760986\n",
      "[1110]\ttrain-mlogloss:0.615197\ttest-mlogloss:0.760916\n",
      "[1120]\ttrain-mlogloss:0.614164\ttest-mlogloss:0.760863\n",
      "[1130]\ttrain-mlogloss:0.613212\ttest-mlogloss:0.760818\n",
      "[1140]\ttrain-mlogloss:0.612174\ttest-mlogloss:0.76076\n",
      "[1150]\ttrain-mlogloss:0.611166\ttest-mlogloss:0.760696\n",
      "[1160]\ttrain-mlogloss:0.610134\ttest-mlogloss:0.760658\n",
      "[1170]\ttrain-mlogloss:0.609124\ttest-mlogloss:0.7606\n",
      "[1180]\ttrain-mlogloss:0.60803\ttest-mlogloss:0.760538\n",
      "[1190]\ttrain-mlogloss:0.606993\ttest-mlogloss:0.760519\n",
      "[1200]\ttrain-mlogloss:0.605955\ttest-mlogloss:0.76045\n",
      "[1210]\ttrain-mlogloss:0.604961\ttest-mlogloss:0.760409\n",
      "[1220]\ttrain-mlogloss:0.603969\ttest-mlogloss:0.76035\n",
      "[1230]\ttrain-mlogloss:0.602943\ttest-mlogloss:0.760285\n",
      "[1240]\ttrain-mlogloss:0.601886\ttest-mlogloss:0.760262\n",
      "[1250]\ttrain-mlogloss:0.60082\ttest-mlogloss:0.760291\n",
      "[1260]\ttrain-mlogloss:0.599873\ttest-mlogloss:0.760334\n",
      "[1270]\ttrain-mlogloss:0.598962\ttest-mlogloss:0.760297\n",
      "Stopping. Best iteration:\n",
      "[1242]\ttrain-mlogloss:0.601695\ttest-mlogloss:0.760249\n",
      "\n",
      "[0]\ttrain-mlogloss:1.09485\ttest-mlogloss:1.09498\n",
      "Multiple eval metrics have been passed: 'test-mlogloss' will be used for early stopping.\n",
      "\n",
      "Will train until test-mlogloss hasn't improved in 30 rounds.\n",
      "[10]\ttrain-mlogloss:1.06119\ttest-mlogloss:1.06253\n",
      "[20]\ttrain-mlogloss:1.03108\ttest-mlogloss:1.03364\n",
      "[30]\ttrain-mlogloss:1.00503\ttest-mlogloss:1.00878\n",
      "[40]\ttrain-mlogloss:0.982063\ttest-mlogloss:0.986934\n",
      "[50]\ttrain-mlogloss:0.961038\ttest-mlogloss:0.96721\n",
      "[60]\ttrain-mlogloss:0.942093\ttest-mlogloss:0.949451\n",
      "[70]\ttrain-mlogloss:0.924834\ttest-mlogloss:0.933299\n",
      "[80]\ttrain-mlogloss:0.909338\ttest-mlogloss:0.91879\n",
      "[90]\ttrain-mlogloss:0.89496\ttest-mlogloss:0.905693\n",
      "[100]\ttrain-mlogloss:0.881735\ttest-mlogloss:0.8937\n",
      "[110]\ttrain-mlogloss:0.870172\ttest-mlogloss:0.883417\n",
      "[120]\ttrain-mlogloss:0.859086\ttest-mlogloss:0.87356\n",
      "[130]\ttrain-mlogloss:0.849342\ttest-mlogloss:0.865023\n",
      "[140]\ttrain-mlogloss:0.83985\ttest-mlogloss:0.85676\n",
      "[150]\ttrain-mlogloss:0.83125\ttest-mlogloss:0.849459\n",
      "[160]\ttrain-mlogloss:0.823214\ttest-mlogloss:0.84258\n",
      "[170]\ttrain-mlogloss:0.81573\ttest-mlogloss:0.83635\n",
      "[180]\ttrain-mlogloss:0.808621\ttest-mlogloss:0.830513\n",
      "[190]\ttrain-mlogloss:0.801954\ttest-mlogloss:0.825207\n",
      "[200]\ttrain-mlogloss:0.795753\ttest-mlogloss:0.820301\n",
      "[210]\ttrain-mlogloss:0.789956\ttest-mlogloss:0.815778\n",
      "[220]\ttrain-mlogloss:0.784383\ttest-mlogloss:0.811631\n",
      "[230]\ttrain-mlogloss:0.779\ttest-mlogloss:0.807824\n",
      "[240]\ttrain-mlogloss:0.77382\ttest-mlogloss:0.804054\n",
      "[250]\ttrain-mlogloss:0.769264\ttest-mlogloss:0.8009\n",
      "[260]\ttrain-mlogloss:0.764782\ttest-mlogloss:0.797839\n",
      "[270]\ttrain-mlogloss:0.760401\ttest-mlogloss:0.79485\n",
      "[280]\ttrain-mlogloss:0.756501\ttest-mlogloss:0.792235\n",
      "[290]\ttrain-mlogloss:0.752724\ttest-mlogloss:0.789763\n",
      "[300]\ttrain-mlogloss:0.748775\ttest-mlogloss:0.787148\n",
      "[310]\ttrain-mlogloss:0.745189\ttest-mlogloss:0.784931\n",
      "[320]\ttrain-mlogloss:0.741745\ttest-mlogloss:0.78284\n",
      "[330]\ttrain-mlogloss:0.738495\ttest-mlogloss:0.780801\n",
      "[340]\ttrain-mlogloss:0.73535\ttest-mlogloss:0.779066\n",
      "[350]\ttrain-mlogloss:0.732273\ttest-mlogloss:0.777273\n",
      "[360]\ttrain-mlogloss:0.729368\ttest-mlogloss:0.775654\n",
      "[370]\ttrain-mlogloss:0.726514\ttest-mlogloss:0.774079\n",
      "[380]\ttrain-mlogloss:0.723879\ttest-mlogloss:0.772609\n",
      "[390]\ttrain-mlogloss:0.721284\ttest-mlogloss:0.771132\n",
      "[400]\ttrain-mlogloss:0.718766\ttest-mlogloss:0.769911\n",
      "[410]\ttrain-mlogloss:0.716199\ttest-mlogloss:0.76864\n",
      "[420]\ttrain-mlogloss:0.713849\ttest-mlogloss:0.767496\n",
      "[430]\ttrain-mlogloss:0.711441\ttest-mlogloss:0.766365\n",
      "[440]\ttrain-mlogloss:0.70911\ttest-mlogloss:0.765208\n",
      "[450]\ttrain-mlogloss:0.706843\ttest-mlogloss:0.764165\n",
      "[460]\ttrain-mlogloss:0.704763\ttest-mlogloss:0.763246\n",
      "[470]\ttrain-mlogloss:0.702677\ttest-mlogloss:0.762429\n",
      "[480]\ttrain-mlogloss:0.700769\ttest-mlogloss:0.761524\n",
      "[490]\ttrain-mlogloss:0.698603\ttest-mlogloss:0.760676\n",
      "[500]\ttrain-mlogloss:0.696745\ttest-mlogloss:0.75993\n",
      "[510]\ttrain-mlogloss:0.694798\ttest-mlogloss:0.759269\n",
      "[520]\ttrain-mlogloss:0.69295\ttest-mlogloss:0.758558\n",
      "[530]\ttrain-mlogloss:0.690983\ttest-mlogloss:0.757894\n",
      "[540]\ttrain-mlogloss:0.689241\ttest-mlogloss:0.757291\n",
      "[550]\ttrain-mlogloss:0.687512\ttest-mlogloss:0.756654\n",
      "[560]\ttrain-mlogloss:0.685679\ttest-mlogloss:0.756045\n",
      "[570]\ttrain-mlogloss:0.684101\ttest-mlogloss:0.75553\n",
      "[580]\ttrain-mlogloss:0.682451\ttest-mlogloss:0.755009\n",
      "[590]\ttrain-mlogloss:0.680722\ttest-mlogloss:0.754439\n",
      "[600]\ttrain-mlogloss:0.679106\ttest-mlogloss:0.753917\n",
      "[610]\ttrain-mlogloss:0.677494\ttest-mlogloss:0.753429\n",
      "[620]\ttrain-mlogloss:0.675908\ttest-mlogloss:0.75296\n",
      "[630]\ttrain-mlogloss:0.674462\ttest-mlogloss:0.75255\n",
      "[640]\ttrain-mlogloss:0.673035\ttest-mlogloss:0.752139\n",
      "[650]\ttrain-mlogloss:0.671545\ttest-mlogloss:0.751728\n",
      "[660]\ttrain-mlogloss:0.670156\ttest-mlogloss:0.751332\n",
      "[670]\ttrain-mlogloss:0.668748\ttest-mlogloss:0.751002\n",
      "[680]\ttrain-mlogloss:0.667379\ttest-mlogloss:0.750713\n",
      "[690]\ttrain-mlogloss:0.665893\ttest-mlogloss:0.750341\n",
      "[700]\ttrain-mlogloss:0.664472\ttest-mlogloss:0.750087\n",
      "[710]\ttrain-mlogloss:0.663065\ttest-mlogloss:0.74979\n",
      "[720]\ttrain-mlogloss:0.661753\ttest-mlogloss:0.749575\n",
      "[730]\ttrain-mlogloss:0.660363\ttest-mlogloss:0.749258\n",
      "[740]\ttrain-mlogloss:0.659088\ttest-mlogloss:0.748981\n",
      "[750]\ttrain-mlogloss:0.657718\ttest-mlogloss:0.74871\n",
      "[760]\ttrain-mlogloss:0.65644\ttest-mlogloss:0.748399\n",
      "[770]\ttrain-mlogloss:0.655086\ttest-mlogloss:0.74824\n",
      "[780]\ttrain-mlogloss:0.653776\ttest-mlogloss:0.748035\n",
      "[790]\ttrain-mlogloss:0.6524\ttest-mlogloss:0.747767\n",
      "[800]\ttrain-mlogloss:0.651274\ttest-mlogloss:0.747569\n",
      "[810]\ttrain-mlogloss:0.649901\ttest-mlogloss:0.747414\n",
      "[820]\ttrain-mlogloss:0.648781\ttest-mlogloss:0.747136\n",
      "[830]\ttrain-mlogloss:0.647572\ttest-mlogloss:0.74694\n",
      "[840]\ttrain-mlogloss:0.646407\ttest-mlogloss:0.74676\n",
      "[850]\ttrain-mlogloss:0.645316\ttest-mlogloss:0.746609\n",
      "[860]\ttrain-mlogloss:0.644113\ttest-mlogloss:0.74642\n",
      "[870]\ttrain-mlogloss:0.642876\ttest-mlogloss:0.746171\n",
      "[880]\ttrain-mlogloss:0.6417\ttest-mlogloss:0.745856\n",
      "[890]\ttrain-mlogloss:0.640617\ttest-mlogloss:0.745779\n",
      "[900]\ttrain-mlogloss:0.63939\ttest-mlogloss:0.745588\n",
      "[910]\ttrain-mlogloss:0.638211\ttest-mlogloss:0.745471\n",
      "[920]\ttrain-mlogloss:0.637077\ttest-mlogloss:0.745364\n",
      "[930]\ttrain-mlogloss:0.635941\ttest-mlogloss:0.745197\n",
      "[940]\ttrain-mlogloss:0.634871\ttest-mlogloss:0.745033\n",
      "[950]\ttrain-mlogloss:0.633859\ttest-mlogloss:0.744922\n",
      "[960]\ttrain-mlogloss:0.632741\ttest-mlogloss:0.744785\n",
      "[970]\ttrain-mlogloss:0.631683\ttest-mlogloss:0.744708\n",
      "[980]\ttrain-mlogloss:0.630558\ttest-mlogloss:0.7446\n",
      "[990]\ttrain-mlogloss:0.629383\ttest-mlogloss:0.744457\n",
      "[1000]\ttrain-mlogloss:0.628326\ttest-mlogloss:0.74438\n",
      "[1010]\ttrain-mlogloss:0.6272\ttest-mlogloss:0.744316\n",
      "[1020]\ttrain-mlogloss:0.626146\ttest-mlogloss:0.744194\n",
      "[1030]\ttrain-mlogloss:0.625068\ttest-mlogloss:0.743995\n",
      "[1040]\ttrain-mlogloss:0.624102\ttest-mlogloss:0.743911\n",
      "[1050]\ttrain-mlogloss:0.623033\ttest-mlogloss:0.743775\n",
      "[1060]\ttrain-mlogloss:0.621997\ttest-mlogloss:0.743639\n",
      "[1070]\ttrain-mlogloss:0.621007\ttest-mlogloss:0.743548\n",
      "[1080]\ttrain-mlogloss:0.619927\ttest-mlogloss:0.743437\n",
      "[1090]\ttrain-mlogloss:0.618892\ttest-mlogloss:0.743351\n",
      "[1100]\ttrain-mlogloss:0.617827\ttest-mlogloss:0.743256\n",
      "[1110]\ttrain-mlogloss:0.616776\ttest-mlogloss:0.743197\n",
      "[1120]\ttrain-mlogloss:0.615686\ttest-mlogloss:0.743072\n",
      "[1130]\ttrain-mlogloss:0.614603\ttest-mlogloss:0.743011\n",
      "[1140]\ttrain-mlogloss:0.613725\ttest-mlogloss:0.742971\n",
      "[1150]\ttrain-mlogloss:0.612682\ttest-mlogloss:0.742956\n",
      "[1160]\ttrain-mlogloss:0.611667\ttest-mlogloss:0.742959\n",
      "[1170]\ttrain-mlogloss:0.610731\ttest-mlogloss:0.742885\n",
      "[1180]\ttrain-mlogloss:0.609747\ttest-mlogloss:0.742794\n",
      "[1190]\ttrain-mlogloss:0.608721\ttest-mlogloss:0.742722\n",
      "[1200]\ttrain-mlogloss:0.607749\ttest-mlogloss:0.742608\n",
      "[1210]\ttrain-mlogloss:0.606798\ttest-mlogloss:0.742558\n",
      "[1220]\ttrain-mlogloss:0.60572\ttest-mlogloss:0.742543\n",
      "[1230]\ttrain-mlogloss:0.604757\ttest-mlogloss:0.742484\n",
      "[1240]\ttrain-mlogloss:0.603665\ttest-mlogloss:0.742401\n",
      "[1250]\ttrain-mlogloss:0.602657\ttest-mlogloss:0.742379\n",
      "[1260]\ttrain-mlogloss:0.601714\ttest-mlogloss:0.742322\n",
      "[1270]\ttrain-mlogloss:0.600776\ttest-mlogloss:0.742309\n",
      "[1280]\ttrain-mlogloss:0.599905\ttest-mlogloss:0.742271\n",
      "[1290]\ttrain-mlogloss:0.599016\ttest-mlogloss:0.742267\n",
      "[1300]\ttrain-mlogloss:0.59807\ttest-mlogloss:0.742247\n",
      "[1310]\ttrain-mlogloss:0.597133\ttest-mlogloss:0.742235\n",
      "[1320]\ttrain-mlogloss:0.596149\ttest-mlogloss:0.742228\n",
      "[1330]\ttrain-mlogloss:0.59518\ttest-mlogloss:0.742232\n",
      "[1340]\ttrain-mlogloss:0.594119\ttest-mlogloss:0.742173\n",
      "[1350]\ttrain-mlogloss:0.593162\ttest-mlogloss:0.742085\n",
      "[1360]\ttrain-mlogloss:0.592064\ttest-mlogloss:0.742076\n",
      "[1370]\ttrain-mlogloss:0.591124\ttest-mlogloss:0.742079\n",
      "[1380]\ttrain-mlogloss:0.59012\ttest-mlogloss:0.742062\n",
      "Stopping. Best iteration:\n",
      "[1353]\ttrain-mlogloss:0.592817\ttest-mlogloss:0.742039\n",
      "\n",
      "[0]\ttrain-mlogloss:1.09531\ttest-mlogloss:1.09546\n",
      "Multiple eval metrics have been passed: 'test-mlogloss' will be used for early stopping.\n",
      "\n",
      "Will train until test-mlogloss hasn't improved in 30 rounds.\n",
      "[10]\ttrain-mlogloss:1.06045\ttest-mlogloss:1.06231\n",
      "[20]\ttrain-mlogloss:1.03058\ttest-mlogloss:1.03389\n",
      "[30]\ttrain-mlogloss:1.00445\ttest-mlogloss:1.00917\n",
      "[40]\ttrain-mlogloss:0.980486\ttest-mlogloss:0.986624\n",
      "[50]\ttrain-mlogloss:0.960075\ttest-mlogloss:0.967555\n",
      "[60]\ttrain-mlogloss:0.941375\ttest-mlogloss:0.950144\n",
      "[70]\ttrain-mlogloss:0.924315\ttest-mlogloss:0.934367\n",
      "[80]\ttrain-mlogloss:0.908808\ttest-mlogloss:0.920107\n",
      "[90]\ttrain-mlogloss:0.894999\ttest-mlogloss:0.907714\n",
      "[100]\ttrain-mlogloss:0.882066\ttest-mlogloss:0.89613\n",
      "[110]\ttrain-mlogloss:0.870289\ttest-mlogloss:0.885638\n",
      "[120]\ttrain-mlogloss:0.859726\ttest-mlogloss:0.876267\n",
      "[130]\ttrain-mlogloss:0.849788\ttest-mlogloss:0.867601\n",
      "[140]\ttrain-mlogloss:0.84045\ttest-mlogloss:0.859602\n",
      "[150]\ttrain-mlogloss:0.831687\ttest-mlogloss:0.852138\n",
      "[160]\ttrain-mlogloss:0.823704\ttest-mlogloss:0.845482\n",
      "[170]\ttrain-mlogloss:0.816192\ttest-mlogloss:0.839275\n",
      "[180]\ttrain-mlogloss:0.809361\ttest-mlogloss:0.833648\n",
      "[190]\ttrain-mlogloss:0.802817\ttest-mlogloss:0.828438\n",
      "[200]\ttrain-mlogloss:0.796381\ttest-mlogloss:0.823516\n",
      "[210]\ttrain-mlogloss:0.790651\ttest-mlogloss:0.819259\n",
      "[220]\ttrain-mlogloss:0.784954\ttest-mlogloss:0.814998\n",
      "[230]\ttrain-mlogloss:0.779607\ttest-mlogloss:0.810978\n",
      "[240]\ttrain-mlogloss:0.774864\ttest-mlogloss:0.807555\n",
      "[250]\ttrain-mlogloss:0.770251\ttest-mlogloss:0.804311\n",
      "[260]\ttrain-mlogloss:0.765697\ttest-mlogloss:0.801127\n",
      "[270]\ttrain-mlogloss:0.761447\ttest-mlogloss:0.798297\n",
      "[280]\ttrain-mlogloss:0.75737\ttest-mlogloss:0.795594\n",
      "[290]\ttrain-mlogloss:0.753556\ttest-mlogloss:0.793067\n",
      "[300]\ttrain-mlogloss:0.749802\ttest-mlogloss:0.790587\n",
      "[310]\ttrain-mlogloss:0.746288\ttest-mlogloss:0.788271\n",
      "[320]\ttrain-mlogloss:0.743027\ttest-mlogloss:0.786275\n",
      "[330]\ttrain-mlogloss:0.739901\ttest-mlogloss:0.78434\n",
      "[340]\ttrain-mlogloss:0.73676\ttest-mlogloss:0.782323\n",
      "[350]\ttrain-mlogloss:0.73366\ttest-mlogloss:0.780533\n",
      "[360]\ttrain-mlogloss:0.730489\ttest-mlogloss:0.778766\n",
      "[370]\ttrain-mlogloss:0.727738\ttest-mlogloss:0.777286\n",
      "[380]\ttrain-mlogloss:0.725082\ttest-mlogloss:0.775785\n",
      "[390]\ttrain-mlogloss:0.722359\ttest-mlogloss:0.774216\n",
      "[400]\ttrain-mlogloss:0.719799\ttest-mlogloss:0.772932\n",
      "[410]\ttrain-mlogloss:0.717353\ttest-mlogloss:0.771702\n",
      "[420]\ttrain-mlogloss:0.715096\ttest-mlogloss:0.770656\n",
      "[430]\ttrain-mlogloss:0.712779\ttest-mlogloss:0.769588\n",
      "[440]\ttrain-mlogloss:0.710555\ttest-mlogloss:0.768467\n",
      "[450]\ttrain-mlogloss:0.70834\ttest-mlogloss:0.767488\n",
      "[460]\ttrain-mlogloss:0.706219\ttest-mlogloss:0.766536\n",
      "[470]\ttrain-mlogloss:0.704075\ttest-mlogloss:0.765548\n",
      "[480]\ttrain-mlogloss:0.701999\ttest-mlogloss:0.764629\n",
      "[490]\ttrain-mlogloss:0.700012\ttest-mlogloss:0.763814\n",
      "[500]\ttrain-mlogloss:0.697965\ttest-mlogloss:0.763023\n",
      "[510]\ttrain-mlogloss:0.696039\ttest-mlogloss:0.762279\n",
      "[520]\ttrain-mlogloss:0.694096\ttest-mlogloss:0.761585\n",
      "[530]\ttrain-mlogloss:0.692245\ttest-mlogloss:0.760878\n",
      "[540]\ttrain-mlogloss:0.690421\ttest-mlogloss:0.760281\n",
      "[550]\ttrain-mlogloss:0.688593\ttest-mlogloss:0.759642\n",
      "[560]\ttrain-mlogloss:0.686778\ttest-mlogloss:0.758999\n",
      "[570]\ttrain-mlogloss:0.685204\ttest-mlogloss:0.758528\n",
      "[580]\ttrain-mlogloss:0.68358\ttest-mlogloss:0.758003\n",
      "[590]\ttrain-mlogloss:0.681962\ttest-mlogloss:0.75754\n",
      "[600]\ttrain-mlogloss:0.680318\ttest-mlogloss:0.757045\n",
      "[610]\ttrain-mlogloss:0.6787\ttest-mlogloss:0.756599\n",
      "[620]\ttrain-mlogloss:0.677191\ttest-mlogloss:0.756151\n",
      "[630]\ttrain-mlogloss:0.675615\ttest-mlogloss:0.75568\n",
      "[640]\ttrain-mlogloss:0.674084\ttest-mlogloss:0.755264\n",
      "[650]\ttrain-mlogloss:0.672455\ttest-mlogloss:0.754749\n",
      "[660]\ttrain-mlogloss:0.670999\ttest-mlogloss:0.754359\n",
      "[670]\ttrain-mlogloss:0.669475\ttest-mlogloss:0.753891\n",
      "[680]\ttrain-mlogloss:0.668029\ttest-mlogloss:0.753459\n",
      "[690]\ttrain-mlogloss:0.666694\ttest-mlogloss:0.753123\n",
      "[700]\ttrain-mlogloss:0.665243\ttest-mlogloss:0.752776\n",
      "[710]\ttrain-mlogloss:0.663945\ttest-mlogloss:0.752534\n",
      "[720]\ttrain-mlogloss:0.662574\ttest-mlogloss:0.752263\n",
      "[730]\ttrain-mlogloss:0.661275\ttest-mlogloss:0.752123\n",
      "[740]\ttrain-mlogloss:0.659943\ttest-mlogloss:0.751867\n",
      "[750]\ttrain-mlogloss:0.658725\ttest-mlogloss:0.751628\n",
      "[760]\ttrain-mlogloss:0.657412\ttest-mlogloss:0.75129\n",
      "[770]\ttrain-mlogloss:0.656084\ttest-mlogloss:0.750984\n",
      "[780]\ttrain-mlogloss:0.654769\ttest-mlogloss:0.750724\n",
      "[790]\ttrain-mlogloss:0.653489\ttest-mlogloss:0.750469\n",
      "[800]\ttrain-mlogloss:0.652251\ttest-mlogloss:0.75028\n",
      "[810]\ttrain-mlogloss:0.650912\ttest-mlogloss:0.750075\n",
      "[820]\ttrain-mlogloss:0.64975\ttest-mlogloss:0.749837\n",
      "[830]\ttrain-mlogloss:0.648542\ttest-mlogloss:0.74966\n",
      "[840]\ttrain-mlogloss:0.647335\ttest-mlogloss:0.749474\n",
      "[850]\ttrain-mlogloss:0.646128\ttest-mlogloss:0.749298\n",
      "[860]\ttrain-mlogloss:0.645039\ttest-mlogloss:0.749139\n",
      "[870]\ttrain-mlogloss:0.643851\ttest-mlogloss:0.748951\n",
      "[880]\ttrain-mlogloss:0.642622\ttest-mlogloss:0.748789\n",
      "[890]\ttrain-mlogloss:0.641527\ttest-mlogloss:0.748613\n",
      "[900]\ttrain-mlogloss:0.640384\ttest-mlogloss:0.748478\n",
      "[910]\ttrain-mlogloss:0.639183\ttest-mlogloss:0.748302\n",
      "[920]\ttrain-mlogloss:0.638031\ttest-mlogloss:0.748148\n",
      "[930]\ttrain-mlogloss:0.636908\ttest-mlogloss:0.748013\n",
      "[940]\ttrain-mlogloss:0.635961\ttest-mlogloss:0.747886\n",
      "[950]\ttrain-mlogloss:0.634876\ttest-mlogloss:0.747723\n",
      "[960]\ttrain-mlogloss:0.633771\ttest-mlogloss:0.747576\n",
      "[970]\ttrain-mlogloss:0.632726\ttest-mlogloss:0.747412\n",
      "[980]\ttrain-mlogloss:0.631738\ttest-mlogloss:0.747241\n",
      "[990]\ttrain-mlogloss:0.630632\ttest-mlogloss:0.747166\n",
      "[1000]\ttrain-mlogloss:0.629596\ttest-mlogloss:0.747094\n",
      "[1010]\ttrain-mlogloss:0.628537\ttest-mlogloss:0.747006\n",
      "[1020]\ttrain-mlogloss:0.627434\ttest-mlogloss:0.746868\n",
      "[1030]\ttrain-mlogloss:0.626383\ttest-mlogloss:0.746738\n",
      "[1040]\ttrain-mlogloss:0.625253\ttest-mlogloss:0.746584\n",
      "[1050]\ttrain-mlogloss:0.624056\ttest-mlogloss:0.746518\n",
      "[1060]\ttrain-mlogloss:0.623196\ttest-mlogloss:0.746513\n",
      "[1070]\ttrain-mlogloss:0.622128\ttest-mlogloss:0.746441\n",
      "[1080]\ttrain-mlogloss:0.621215\ttest-mlogloss:0.746327\n",
      "[1090]\ttrain-mlogloss:0.620264\ttest-mlogloss:0.746232\n",
      "[1100]\ttrain-mlogloss:0.619228\ttest-mlogloss:0.746184\n",
      "[1110]\ttrain-mlogloss:0.618381\ttest-mlogloss:0.746176\n",
      "[1120]\ttrain-mlogloss:0.617386\ttest-mlogloss:0.746114\n",
      "[1130]\ttrain-mlogloss:0.616357\ttest-mlogloss:0.74612\n",
      "[1140]\ttrain-mlogloss:0.615259\ttest-mlogloss:0.746034\n",
      "[1150]\ttrain-mlogloss:0.614334\ttest-mlogloss:0.745949\n",
      "[1160]\ttrain-mlogloss:0.613377\ttest-mlogloss:0.745872\n",
      "[1170]\ttrain-mlogloss:0.612305\ttest-mlogloss:0.745849\n",
      "[1180]\ttrain-mlogloss:0.611307\ttest-mlogloss:0.745803\n",
      "[1190]\ttrain-mlogloss:0.610276\ttest-mlogloss:0.745729\n",
      "[1200]\ttrain-mlogloss:0.60937\ttest-mlogloss:0.745635\n",
      "[1210]\ttrain-mlogloss:0.608288\ttest-mlogloss:0.745581\n",
      "[1220]\ttrain-mlogloss:0.607302\ttest-mlogloss:0.745547\n",
      "[1230]\ttrain-mlogloss:0.606333\ttest-mlogloss:0.745411\n",
      "[1240]\ttrain-mlogloss:0.605333\ttest-mlogloss:0.745373\n",
      "[1250]\ttrain-mlogloss:0.604367\ttest-mlogloss:0.745365\n",
      "[1260]\ttrain-mlogloss:0.603394\ttest-mlogloss:0.745359\n",
      "[1270]\ttrain-mlogloss:0.602439\ttest-mlogloss:0.745315\n",
      "[1280]\ttrain-mlogloss:0.601503\ttest-mlogloss:0.74528\n",
      "[1290]\ttrain-mlogloss:0.600481\ttest-mlogloss:0.745279\n",
      "[1300]\ttrain-mlogloss:0.599544\ttest-mlogloss:0.745246\n",
      "[1310]\ttrain-mlogloss:0.598483\ttest-mlogloss:0.745169\n",
      "[1320]\ttrain-mlogloss:0.597536\ttest-mlogloss:0.745131\n",
      "[1330]\ttrain-mlogloss:0.596551\ttest-mlogloss:0.745111\n",
      "[1340]\ttrain-mlogloss:0.595654\ttest-mlogloss:0.745051\n",
      "[1350]\ttrain-mlogloss:0.594675\ttest-mlogloss:0.745028\n",
      "[1360]\ttrain-mlogloss:0.59377\ttest-mlogloss:0.744982\n",
      "[1370]\ttrain-mlogloss:0.592797\ttest-mlogloss:0.744968\n",
      "[1380]\ttrain-mlogloss:0.591991\ttest-mlogloss:0.744933\n",
      "[1390]\ttrain-mlogloss:0.591073\ttest-mlogloss:0.744952\n",
      "[1400]\ttrain-mlogloss:0.590158\ttest-mlogloss:0.744928\n",
      "[1410]\ttrain-mlogloss:0.589256\ttest-mlogloss:0.744882\n",
      "[1420]\ttrain-mlogloss:0.588358\ttest-mlogloss:0.744878\n",
      "[1430]\ttrain-mlogloss:0.587479\ttest-mlogloss:0.744812\n",
      "[1440]\ttrain-mlogloss:0.586572\ttest-mlogloss:0.744738\n",
      "[1450]\ttrain-mlogloss:0.585708\ttest-mlogloss:0.744711\n",
      "[1460]\ttrain-mlogloss:0.584797\ttest-mlogloss:0.744717\n",
      "[1470]\ttrain-mlogloss:0.583967\ttest-mlogloss:0.74464\n",
      "[1480]\ttrain-mlogloss:0.583046\ttest-mlogloss:0.744603\n",
      "[1490]\ttrain-mlogloss:0.582023\ttest-mlogloss:0.744573\n",
      "[1500]\ttrain-mlogloss:0.581165\ttest-mlogloss:0.744552\n",
      "[1510]\ttrain-mlogloss:0.580259\ttest-mlogloss:0.744532\n",
      "[1520]\ttrain-mlogloss:0.579377\ttest-mlogloss:0.744526\n",
      "[1530]\ttrain-mlogloss:0.578472\ttest-mlogloss:0.744564\n",
      "[1540]\ttrain-mlogloss:0.577605\ttest-mlogloss:0.744521\n",
      "Stopping. Best iteration:\n",
      "[1511]\ttrain-mlogloss:0.580145\ttest-mlogloss:0.744505\n",
      "\n",
      "[0]\ttrain-mlogloss:1.095\ttest-mlogloss:1.09507\n",
      "Multiple eval metrics have been passed: 'test-mlogloss' will be used for early stopping.\n",
      "\n",
      "Will train until test-mlogloss hasn't improved in 30 rounds.\n",
      "[10]\ttrain-mlogloss:1.06173\ttest-mlogloss:1.06241\n",
      "[20]\ttrain-mlogloss:1.03306\ttest-mlogloss:1.03437\n",
      "[30]\ttrain-mlogloss:1.00667\ttest-mlogloss:1.00864\n",
      "[40]\ttrain-mlogloss:0.98299\ttest-mlogloss:0.985771\n",
      "[50]\ttrain-mlogloss:0.962505\ttest-mlogloss:0.966054\n",
      "[60]\ttrain-mlogloss:0.943652\ttest-mlogloss:0.94796\n",
      "[70]\ttrain-mlogloss:0.926778\ttest-mlogloss:0.93196\n",
      "[80]\ttrain-mlogloss:0.911391\ttest-mlogloss:0.917363\n",
      "[90]\ttrain-mlogloss:0.897026\ttest-mlogloss:0.90394\n",
      "[100]\ttrain-mlogloss:0.884471\ttest-mlogloss:0.892284\n",
      "[110]\ttrain-mlogloss:0.872685\ttest-mlogloss:0.881358\n",
      "[120]\ttrain-mlogloss:0.861735\ttest-mlogloss:0.871365\n",
      "[130]\ttrain-mlogloss:0.851622\ttest-mlogloss:0.862238\n",
      "[140]\ttrain-mlogloss:0.842261\ttest-mlogloss:0.853856\n",
      "[150]\ttrain-mlogloss:0.833338\ttest-mlogloss:0.845863\n",
      "[160]\ttrain-mlogloss:0.825225\ttest-mlogloss:0.838888\n",
      "[170]\ttrain-mlogloss:0.817914\ttest-mlogloss:0.832657\n",
      "[180]\ttrain-mlogloss:0.810987\ttest-mlogloss:0.826731\n",
      "[190]\ttrain-mlogloss:0.80457\ttest-mlogloss:0.82132\n",
      "[200]\ttrain-mlogloss:0.798493\ttest-mlogloss:0.816298\n",
      "[210]\ttrain-mlogloss:0.792499\ttest-mlogloss:0.811455\n",
      "[220]\ttrain-mlogloss:0.787072\ttest-mlogloss:0.807221\n",
      "[230]\ttrain-mlogloss:0.781694\ttest-mlogloss:0.803101\n",
      "[240]\ttrain-mlogloss:0.776914\ttest-mlogloss:0.799447\n",
      "[250]\ttrain-mlogloss:0.772307\ttest-mlogloss:0.796135\n",
      "[260]\ttrain-mlogloss:0.767841\ttest-mlogloss:0.792903\n",
      "[270]\ttrain-mlogloss:0.763561\ttest-mlogloss:0.789902\n",
      "[280]\ttrain-mlogloss:0.759452\ttest-mlogloss:0.786986\n",
      "[290]\ttrain-mlogloss:0.755581\ttest-mlogloss:0.784275\n",
      "[300]\ttrain-mlogloss:0.751913\ttest-mlogloss:0.781847\n",
      "[310]\ttrain-mlogloss:0.748527\ttest-mlogloss:0.779686\n",
      "[320]\ttrain-mlogloss:0.745329\ttest-mlogloss:0.777557\n",
      "[330]\ttrain-mlogloss:0.742043\ttest-mlogloss:0.775568\n",
      "[340]\ttrain-mlogloss:0.738949\ttest-mlogloss:0.773721\n",
      "[350]\ttrain-mlogloss:0.735773\ttest-mlogloss:0.771764\n",
      "[360]\ttrain-mlogloss:0.732799\ttest-mlogloss:0.770149\n",
      "[370]\ttrain-mlogloss:0.730007\ttest-mlogloss:0.768676\n",
      "[380]\ttrain-mlogloss:0.72726\ttest-mlogloss:0.767145\n",
      "[390]\ttrain-mlogloss:0.724584\ttest-mlogloss:0.765688\n",
      "[400]\ttrain-mlogloss:0.722064\ttest-mlogloss:0.764244\n",
      "[410]\ttrain-mlogloss:0.719788\ttest-mlogloss:0.762944\n",
      "[420]\ttrain-mlogloss:0.717453\ttest-mlogloss:0.761792\n",
      "[430]\ttrain-mlogloss:0.715226\ttest-mlogloss:0.760639\n",
      "[440]\ttrain-mlogloss:0.712861\ttest-mlogloss:0.759464\n",
      "[450]\ttrain-mlogloss:0.710723\ttest-mlogloss:0.758579\n",
      "[460]\ttrain-mlogloss:0.708589\ttest-mlogloss:0.757476\n",
      "[470]\ttrain-mlogloss:0.706445\ttest-mlogloss:0.756621\n",
      "[480]\ttrain-mlogloss:0.704557\ttest-mlogloss:0.755719\n",
      "[490]\ttrain-mlogloss:0.702477\ttest-mlogloss:0.754863\n",
      "[500]\ttrain-mlogloss:0.700564\ttest-mlogloss:0.754007\n",
      "[510]\ttrain-mlogloss:0.698638\ttest-mlogloss:0.753217\n",
      "[520]\ttrain-mlogloss:0.696767\ttest-mlogloss:0.752478\n",
      "[530]\ttrain-mlogloss:0.694885\ttest-mlogloss:0.751799\n",
      "[540]\ttrain-mlogloss:0.693134\ttest-mlogloss:0.751146\n",
      "[550]\ttrain-mlogloss:0.691444\ttest-mlogloss:0.750556\n",
      "[560]\ttrain-mlogloss:0.689659\ttest-mlogloss:0.750029\n",
      "[570]\ttrain-mlogloss:0.687997\ttest-mlogloss:0.74939\n",
      "[580]\ttrain-mlogloss:0.686422\ttest-mlogloss:0.748876\n",
      "[590]\ttrain-mlogloss:0.68477\ttest-mlogloss:0.748247\n",
      "[600]\ttrain-mlogloss:0.683164\ttest-mlogloss:0.747744\n",
      "[610]\ttrain-mlogloss:0.681681\ttest-mlogloss:0.747315\n",
      "[620]\ttrain-mlogloss:0.680097\ttest-mlogloss:0.746908\n",
      "[630]\ttrain-mlogloss:0.678684\ttest-mlogloss:0.746434\n",
      "[640]\ttrain-mlogloss:0.677183\ttest-mlogloss:0.745955\n",
      "[650]\ttrain-mlogloss:0.675653\ttest-mlogloss:0.745493\n",
      "[660]\ttrain-mlogloss:0.674102\ttest-mlogloss:0.745081\n",
      "[670]\ttrain-mlogloss:0.672593\ttest-mlogloss:0.744564\n",
      "[680]\ttrain-mlogloss:0.671223\ttest-mlogloss:0.744281\n",
      "[690]\ttrain-mlogloss:0.669851\ttest-mlogloss:0.743922\n",
      "[700]\ttrain-mlogloss:0.668356\ttest-mlogloss:0.743569\n",
      "[710]\ttrain-mlogloss:0.667004\ttest-mlogloss:0.743304\n",
      "[720]\ttrain-mlogloss:0.665634\ttest-mlogloss:0.743036\n",
      "[730]\ttrain-mlogloss:0.664279\ttest-mlogloss:0.742779\n",
      "[740]\ttrain-mlogloss:0.662851\ttest-mlogloss:0.742562\n",
      "[750]\ttrain-mlogloss:0.661459\ttest-mlogloss:0.742354\n",
      "[760]\ttrain-mlogloss:0.660093\ttest-mlogloss:0.742052\n",
      "[770]\ttrain-mlogloss:0.658767\ttest-mlogloss:0.741776\n",
      "[780]\ttrain-mlogloss:0.657553\ttest-mlogloss:0.741505\n",
      "[790]\ttrain-mlogloss:0.656378\ttest-mlogloss:0.741235\n",
      "[800]\ttrain-mlogloss:0.655185\ttest-mlogloss:0.741021\n",
      "[810]\ttrain-mlogloss:0.653919\ttest-mlogloss:0.740701\n",
      "[820]\ttrain-mlogloss:0.652623\ttest-mlogloss:0.740487\n",
      "[830]\ttrain-mlogloss:0.651324\ttest-mlogloss:0.740275\n",
      "[840]\ttrain-mlogloss:0.650089\ttest-mlogloss:0.74009\n",
      "[850]\ttrain-mlogloss:0.649036\ttest-mlogloss:0.739931\n",
      "[860]\ttrain-mlogloss:0.647951\ttest-mlogloss:0.739756\n",
      "[870]\ttrain-mlogloss:0.646752\ttest-mlogloss:0.739637\n",
      "[880]\ttrain-mlogloss:0.645612\ttest-mlogloss:0.739452\n",
      "[890]\ttrain-mlogloss:0.644345\ttest-mlogloss:0.739271\n",
      "[900]\ttrain-mlogloss:0.643231\ttest-mlogloss:0.739137\n",
      "[910]\ttrain-mlogloss:0.642198\ttest-mlogloss:0.739033\n",
      "[920]\ttrain-mlogloss:0.641108\ttest-mlogloss:0.738913\n",
      "[930]\ttrain-mlogloss:0.640021\ttest-mlogloss:0.738729\n",
      "[940]\ttrain-mlogloss:0.638817\ttest-mlogloss:0.738532\n",
      "[950]\ttrain-mlogloss:0.637712\ttest-mlogloss:0.738304\n",
      "[960]\ttrain-mlogloss:0.636588\ttest-mlogloss:0.738195\n",
      "[970]\ttrain-mlogloss:0.635437\ttest-mlogloss:0.738073\n",
      "[980]\ttrain-mlogloss:0.634401\ttest-mlogloss:0.737973\n",
      "[990]\ttrain-mlogloss:0.633331\ttest-mlogloss:0.737829\n",
      "[1000]\ttrain-mlogloss:0.632249\ttest-mlogloss:0.737654\n",
      "[1010]\ttrain-mlogloss:0.631173\ttest-mlogloss:0.737563\n",
      "[1020]\ttrain-mlogloss:0.63006\ttest-mlogloss:0.737458\n",
      "[1030]\ttrain-mlogloss:0.628991\ttest-mlogloss:0.73736\n",
      "[1040]\ttrain-mlogloss:0.627958\ttest-mlogloss:0.737287\n",
      "[1050]\ttrain-mlogloss:0.626973\ttest-mlogloss:0.737285\n",
      "[1060]\ttrain-mlogloss:0.625911\ttest-mlogloss:0.737175\n",
      "[1070]\ttrain-mlogloss:0.624866\ttest-mlogloss:0.737103\n",
      "[1080]\ttrain-mlogloss:0.623767\ttest-mlogloss:0.73696\n",
      "[1090]\ttrain-mlogloss:0.622756\ttest-mlogloss:0.736848\n",
      "[1100]\ttrain-mlogloss:0.621789\ttest-mlogloss:0.736819\n",
      "[1110]\ttrain-mlogloss:0.620728\ttest-mlogloss:0.736744\n",
      "[1120]\ttrain-mlogloss:0.619674\ttest-mlogloss:0.736664\n",
      "[1130]\ttrain-mlogloss:0.618645\ttest-mlogloss:0.736632\n",
      "[1140]\ttrain-mlogloss:0.617546\ttest-mlogloss:0.736603\n",
      "[1150]\ttrain-mlogloss:0.616527\ttest-mlogloss:0.736561\n",
      "[1160]\ttrain-mlogloss:0.615454\ttest-mlogloss:0.736485\n",
      "[1170]\ttrain-mlogloss:0.614377\ttest-mlogloss:0.736451\n",
      "[1180]\ttrain-mlogloss:0.613415\ttest-mlogloss:0.736365\n",
      "[1190]\ttrain-mlogloss:0.612391\ttest-mlogloss:0.736323\n",
      "[1200]\ttrain-mlogloss:0.611357\ttest-mlogloss:0.736243\n",
      "[1210]\ttrain-mlogloss:0.610351\ttest-mlogloss:0.736134\n",
      "[1220]\ttrain-mlogloss:0.609333\ttest-mlogloss:0.736097\n",
      "[1230]\ttrain-mlogloss:0.608266\ttest-mlogloss:0.736046\n",
      "[1240]\ttrain-mlogloss:0.607286\ttest-mlogloss:0.736047\n",
      "[1250]\ttrain-mlogloss:0.606285\ttest-mlogloss:0.735972\n",
      "[1260]\ttrain-mlogloss:0.605375\ttest-mlogloss:0.735961\n",
      "[1270]\ttrain-mlogloss:0.604362\ttest-mlogloss:0.735926\n",
      "[1280]\ttrain-mlogloss:0.603306\ttest-mlogloss:0.735966\n",
      "[1290]\ttrain-mlogloss:0.602335\ttest-mlogloss:0.735892\n",
      "[1300]\ttrain-mlogloss:0.601419\ttest-mlogloss:0.735865\n",
      "[1310]\ttrain-mlogloss:0.600473\ttest-mlogloss:0.735764\n",
      "[1320]\ttrain-mlogloss:0.599395\ttest-mlogloss:0.735663\n",
      "[1330]\ttrain-mlogloss:0.598406\ttest-mlogloss:0.735647\n",
      "[1340]\ttrain-mlogloss:0.597473\ttest-mlogloss:0.735569\n",
      "[1350]\ttrain-mlogloss:0.596586\ttest-mlogloss:0.735518\n",
      "[1360]\ttrain-mlogloss:0.595549\ttest-mlogloss:0.735416\n",
      "[1370]\ttrain-mlogloss:0.594527\ttest-mlogloss:0.735402\n",
      "[1380]\ttrain-mlogloss:0.593571\ttest-mlogloss:0.735385\n",
      "[1390]\ttrain-mlogloss:0.592712\ttest-mlogloss:0.735353\n",
      "[1400]\ttrain-mlogloss:0.59179\ttest-mlogloss:0.735312\n",
      "[1410]\ttrain-mlogloss:0.590889\ttest-mlogloss:0.735324\n",
      "[1420]\ttrain-mlogloss:0.589905\ttest-mlogloss:0.735288\n",
      "[1430]\ttrain-mlogloss:0.588932\ttest-mlogloss:0.735246\n",
      "[1440]\ttrain-mlogloss:0.588061\ttest-mlogloss:0.735238\n",
      "[1450]\ttrain-mlogloss:0.587085\ttest-mlogloss:0.735264\n",
      "[1460]\ttrain-mlogloss:0.586175\ttest-mlogloss:0.735207\n",
      "[1470]\ttrain-mlogloss:0.585356\ttest-mlogloss:0.735209\n",
      "[1480]\ttrain-mlogloss:0.584454\ttest-mlogloss:0.735228\n",
      "[1490]\ttrain-mlogloss:0.583609\ttest-mlogloss:0.735159\n",
      "[1500]\ttrain-mlogloss:0.582678\ttest-mlogloss:0.735161\n",
      "[1510]\ttrain-mlogloss:0.581808\ttest-mlogloss:0.73516\n",
      "[1520]\ttrain-mlogloss:0.580806\ttest-mlogloss:0.735145\n",
      "[1530]\ttrain-mlogloss:0.579873\ttest-mlogloss:0.735147\n",
      "[1540]\ttrain-mlogloss:0.578927\ttest-mlogloss:0.735115\n",
      "[1550]\ttrain-mlogloss:0.578036\ttest-mlogloss:0.735112\n",
      "[1560]\ttrain-mlogloss:0.577139\ttest-mlogloss:0.735183\n",
      "[1570]\ttrain-mlogloss:0.576242\ttest-mlogloss:0.735196\n",
      "Stopping. Best iteration:\n",
      "[1547]\ttrain-mlogloss:0.578282\ttest-mlogloss:0.735086\n",
      "\n",
      "[0]\ttrain-mlogloss:1.09502\ttest-mlogloss:1.09508\n",
      "Multiple eval metrics have been passed: 'test-mlogloss' will be used for early stopping.\n",
      "\n",
      "Will train until test-mlogloss hasn't improved in 30 rounds.\n",
      "[10]\ttrain-mlogloss:1.06102\ttest-mlogloss:1.06211\n",
      "[20]\ttrain-mlogloss:1.03071\ttest-mlogloss:1.03293\n",
      "[30]\ttrain-mlogloss:1.00469\ttest-mlogloss:1.00794\n",
      "[40]\ttrain-mlogloss:0.981059\ttest-mlogloss:0.985489\n",
      "[50]\ttrain-mlogloss:0.960648\ttest-mlogloss:0.966214\n",
      "[60]\ttrain-mlogloss:0.941484\ttest-mlogloss:0.948028\n",
      "[70]\ttrain-mlogloss:0.924643\ttest-mlogloss:0.932396\n",
      "[80]\ttrain-mlogloss:0.909096\ttest-mlogloss:0.917984\n",
      "[90]\ttrain-mlogloss:0.895187\ttest-mlogloss:0.905181\n",
      "[100]\ttrain-mlogloss:0.882167\ttest-mlogloss:0.893381\n",
      "[110]\ttrain-mlogloss:0.870577\ttest-mlogloss:0.883087\n",
      "[120]\ttrain-mlogloss:0.859924\ttest-mlogloss:0.873622\n",
      "[130]\ttrain-mlogloss:0.849927\ttest-mlogloss:0.864887\n",
      "[140]\ttrain-mlogloss:0.840473\ttest-mlogloss:0.856688\n",
      "[150]\ttrain-mlogloss:0.831786\ttest-mlogloss:0.849339\n",
      "[160]\ttrain-mlogloss:0.823732\ttest-mlogloss:0.84257\n",
      "[170]\ttrain-mlogloss:0.81629\ttest-mlogloss:0.836338\n",
      "[180]\ttrain-mlogloss:0.809156\ttest-mlogloss:0.830493\n",
      "[190]\ttrain-mlogloss:0.80242\ttest-mlogloss:0.825195\n",
      "[200]\ttrain-mlogloss:0.796202\ttest-mlogloss:0.820433\n",
      "[210]\ttrain-mlogloss:0.790418\ttest-mlogloss:0.816044\n",
      "[220]\ttrain-mlogloss:0.785006\ttest-mlogloss:0.811893\n",
      "[230]\ttrain-mlogloss:0.779664\ttest-mlogloss:0.808024\n",
      "[240]\ttrain-mlogloss:0.774548\ttest-mlogloss:0.804435\n",
      "[250]\ttrain-mlogloss:0.769937\ttest-mlogloss:0.801151\n",
      "[260]\ttrain-mlogloss:0.76544\ttest-mlogloss:0.798073\n",
      "[270]\ttrain-mlogloss:0.761148\ttest-mlogloss:0.795191\n",
      "[280]\ttrain-mlogloss:0.756852\ttest-mlogloss:0.792399\n",
      "[290]\ttrain-mlogloss:0.753125\ttest-mlogloss:0.790033\n",
      "[300]\ttrain-mlogloss:0.749381\ttest-mlogloss:0.787744\n",
      "[310]\ttrain-mlogloss:0.745689\ttest-mlogloss:0.785495\n",
      "[320]\ttrain-mlogloss:0.74217\ttest-mlogloss:0.783319\n",
      "[330]\ttrain-mlogloss:0.738741\ttest-mlogloss:0.78129\n",
      "[340]\ttrain-mlogloss:0.735586\ttest-mlogloss:0.77943\n",
      "[350]\ttrain-mlogloss:0.732579\ttest-mlogloss:0.777757\n",
      "[360]\ttrain-mlogloss:0.729622\ttest-mlogloss:0.776192\n",
      "[370]\ttrain-mlogloss:0.726835\ttest-mlogloss:0.774664\n",
      "[380]\ttrain-mlogloss:0.724075\ttest-mlogloss:0.773139\n",
      "[390]\ttrain-mlogloss:0.721538\ttest-mlogloss:0.771771\n",
      "[400]\ttrain-mlogloss:0.719096\ttest-mlogloss:0.77052\n",
      "[410]\ttrain-mlogloss:0.716669\ttest-mlogloss:0.769287\n",
      "[420]\ttrain-mlogloss:0.714284\ttest-mlogloss:0.768117\n",
      "[430]\ttrain-mlogloss:0.711839\ttest-mlogloss:0.766929\n",
      "[440]\ttrain-mlogloss:0.709626\ttest-mlogloss:0.765862\n",
      "[450]\ttrain-mlogloss:0.707485\ttest-mlogloss:0.764796\n",
      "[460]\ttrain-mlogloss:0.705219\ttest-mlogloss:0.763807\n",
      "[470]\ttrain-mlogloss:0.703149\ttest-mlogloss:0.762947\n",
      "[480]\ttrain-mlogloss:0.70117\ttest-mlogloss:0.762085\n",
      "[490]\ttrain-mlogloss:0.699252\ttest-mlogloss:0.761333\n",
      "[500]\ttrain-mlogloss:0.69739\ttest-mlogloss:0.760634\n",
      "[510]\ttrain-mlogloss:0.695484\ttest-mlogloss:0.75986\n",
      "[520]\ttrain-mlogloss:0.693579\ttest-mlogloss:0.759122\n",
      "[530]\ttrain-mlogloss:0.691608\ttest-mlogloss:0.758362\n",
      "[540]\ttrain-mlogloss:0.689833\ttest-mlogloss:0.757709\n",
      "[550]\ttrain-mlogloss:0.688193\ttest-mlogloss:0.757169\n",
      "[560]\ttrain-mlogloss:0.686434\ttest-mlogloss:0.756568\n",
      "[570]\ttrain-mlogloss:0.684718\ttest-mlogloss:0.756009\n",
      "[580]\ttrain-mlogloss:0.683085\ttest-mlogloss:0.755445\n",
      "[590]\ttrain-mlogloss:0.681454\ttest-mlogloss:0.754913\n",
      "[600]\ttrain-mlogloss:0.679895\ttest-mlogloss:0.754477\n",
      "[610]\ttrain-mlogloss:0.678344\ttest-mlogloss:0.753997\n",
      "[620]\ttrain-mlogloss:0.676748\ttest-mlogloss:0.753552\n",
      "[630]\ttrain-mlogloss:0.67524\ttest-mlogloss:0.753166\n",
      "[640]\ttrain-mlogloss:0.673732\ttest-mlogloss:0.752751\n",
      "[650]\ttrain-mlogloss:0.672339\ttest-mlogloss:0.75228\n",
      "[660]\ttrain-mlogloss:0.670803\ttest-mlogloss:0.751923\n",
      "[670]\ttrain-mlogloss:0.669297\ttest-mlogloss:0.751568\n",
      "[680]\ttrain-mlogloss:0.66782\ttest-mlogloss:0.751205\n",
      "[690]\ttrain-mlogloss:0.666403\ttest-mlogloss:0.750864\n",
      "[700]\ttrain-mlogloss:0.665084\ttest-mlogloss:0.75056\n",
      "[710]\ttrain-mlogloss:0.663663\ttest-mlogloss:0.750294\n",
      "[720]\ttrain-mlogloss:0.66212\ttest-mlogloss:0.74993\n",
      "[730]\ttrain-mlogloss:0.660796\ttest-mlogloss:0.749678\n",
      "[740]\ttrain-mlogloss:0.659405\ttest-mlogloss:0.749358\n",
      "[750]\ttrain-mlogloss:0.658119\ttest-mlogloss:0.749159\n",
      "[760]\ttrain-mlogloss:0.656733\ttest-mlogloss:0.748862\n",
      "[770]\ttrain-mlogloss:0.655487\ttest-mlogloss:0.748647\n",
      "[780]\ttrain-mlogloss:0.654214\ttest-mlogloss:0.748442\n",
      "[790]\ttrain-mlogloss:0.652973\ttest-mlogloss:0.748193\n",
      "[800]\ttrain-mlogloss:0.651651\ttest-mlogloss:0.747933\n",
      "[810]\ttrain-mlogloss:0.650409\ttest-mlogloss:0.747694\n",
      "[820]\ttrain-mlogloss:0.649241\ttest-mlogloss:0.747499\n",
      "[830]\ttrain-mlogloss:0.648158\ttest-mlogloss:0.747342\n",
      "[840]\ttrain-mlogloss:0.646896\ttest-mlogloss:0.747072\n",
      "[850]\ttrain-mlogloss:0.645711\ttest-mlogloss:0.74683\n",
      "[860]\ttrain-mlogloss:0.644522\ttest-mlogloss:0.746685\n",
      "[870]\ttrain-mlogloss:0.643339\ttest-mlogloss:0.746549\n",
      "[880]\ttrain-mlogloss:0.64214\ttest-mlogloss:0.746336\n",
      "[890]\ttrain-mlogloss:0.640891\ttest-mlogloss:0.746158\n",
      "[900]\ttrain-mlogloss:0.639706\ttest-mlogloss:0.746009\n",
      "[910]\ttrain-mlogloss:0.638621\ttest-mlogloss:0.745833\n",
      "[920]\ttrain-mlogloss:0.637451\ttest-mlogloss:0.745734\n",
      "[930]\ttrain-mlogloss:0.636379\ttest-mlogloss:0.745628\n",
      "[940]\ttrain-mlogloss:0.635152\ttest-mlogloss:0.745438\n",
      "[950]\ttrain-mlogloss:0.634034\ttest-mlogloss:0.745302\n",
      "[960]\ttrain-mlogloss:0.632873\ttest-mlogloss:0.745246\n",
      "[970]\ttrain-mlogloss:0.631688\ttest-mlogloss:0.745078\n",
      "[980]\ttrain-mlogloss:0.630595\ttest-mlogloss:0.744885\n",
      "[990]\ttrain-mlogloss:0.62954\ttest-mlogloss:0.744786\n",
      "[1000]\ttrain-mlogloss:0.628479\ttest-mlogloss:0.744615\n",
      "[1010]\ttrain-mlogloss:0.627431\ttest-mlogloss:0.744529\n",
      "[1020]\ttrain-mlogloss:0.62632\ttest-mlogloss:0.744452\n",
      "[1030]\ttrain-mlogloss:0.625209\ttest-mlogloss:0.744307\n",
      "[1040]\ttrain-mlogloss:0.62413\ttest-mlogloss:0.744133\n",
      "[1050]\ttrain-mlogloss:0.623102\ttest-mlogloss:0.744014\n",
      "[1060]\ttrain-mlogloss:0.622045\ttest-mlogloss:0.743872\n",
      "[1070]\ttrain-mlogloss:0.620981\ttest-mlogloss:0.743793\n",
      "[1080]\ttrain-mlogloss:0.620038\ttest-mlogloss:0.743752\n",
      "[1090]\ttrain-mlogloss:0.618971\ttest-mlogloss:0.743702\n",
      "[1100]\ttrain-mlogloss:0.617943\ttest-mlogloss:0.743631\n",
      "[1110]\ttrain-mlogloss:0.616932\ttest-mlogloss:0.743596\n",
      "[1120]\ttrain-mlogloss:0.615844\ttest-mlogloss:0.743512\n",
      "[1130]\ttrain-mlogloss:0.614832\ttest-mlogloss:0.743443\n",
      "[1140]\ttrain-mlogloss:0.613787\ttest-mlogloss:0.743409\n",
      "[1150]\ttrain-mlogloss:0.612783\ttest-mlogloss:0.74333\n",
      "[1160]\ttrain-mlogloss:0.611759\ttest-mlogloss:0.743342\n",
      "[1170]\ttrain-mlogloss:0.610733\ttest-mlogloss:0.743268\n",
      "[1180]\ttrain-mlogloss:0.609648\ttest-mlogloss:0.743225\n",
      "[1190]\ttrain-mlogloss:0.608613\ttest-mlogloss:0.743198\n",
      "[1200]\ttrain-mlogloss:0.607683\ttest-mlogloss:0.743209\n",
      "[1210]\ttrain-mlogloss:0.606693\ttest-mlogloss:0.743191\n",
      "[1220]\ttrain-mlogloss:0.605608\ttest-mlogloss:0.743184\n",
      "[1230]\ttrain-mlogloss:0.604569\ttest-mlogloss:0.743196\n",
      "[1240]\ttrain-mlogloss:0.603637\ttest-mlogloss:0.743196\n",
      "[1250]\ttrain-mlogloss:0.602644\ttest-mlogloss:0.743113\n",
      "[1260]\ttrain-mlogloss:0.601649\ttest-mlogloss:0.743049\n",
      "[1270]\ttrain-mlogloss:0.600692\ttest-mlogloss:0.742959\n",
      "[1280]\ttrain-mlogloss:0.599878\ttest-mlogloss:0.742955\n",
      "[1290]\ttrain-mlogloss:0.598933\ttest-mlogloss:0.742954\n",
      "[1300]\ttrain-mlogloss:0.59793\ttest-mlogloss:0.742965\n",
      "[1310]\ttrain-mlogloss:0.597023\ttest-mlogloss:0.742922\n",
      "[1320]\ttrain-mlogloss:0.596092\ttest-mlogloss:0.742895\n",
      "[1330]\ttrain-mlogloss:0.595171\ttest-mlogloss:0.742843\n",
      "[1340]\ttrain-mlogloss:0.594261\ttest-mlogloss:0.742816\n",
      "[1350]\ttrain-mlogloss:0.593287\ttest-mlogloss:0.742785\n",
      "[1360]\ttrain-mlogloss:0.592231\ttest-mlogloss:0.742755\n",
      "[1370]\ttrain-mlogloss:0.591236\ttest-mlogloss:0.742659\n",
      "[1380]\ttrain-mlogloss:0.590207\ttest-mlogloss:0.742621\n",
      "[1390]\ttrain-mlogloss:0.589189\ttest-mlogloss:0.742569\n",
      "[1400]\ttrain-mlogloss:0.588228\ttest-mlogloss:0.742545\n",
      "[1410]\ttrain-mlogloss:0.587289\ttest-mlogloss:0.742548\n",
      "[1420]\ttrain-mlogloss:0.586405\ttest-mlogloss:0.742512\n",
      "[1430]\ttrain-mlogloss:0.58548\ttest-mlogloss:0.742444\n",
      "[1440]\ttrain-mlogloss:0.584621\ttest-mlogloss:0.742406\n",
      "[1450]\ttrain-mlogloss:0.583676\ttest-mlogloss:0.742395\n",
      "[1460]\ttrain-mlogloss:0.582708\ttest-mlogloss:0.74239\n",
      "[1470]\ttrain-mlogloss:0.581858\ttest-mlogloss:0.742371\n",
      "[1480]\ttrain-mlogloss:0.580926\ttest-mlogloss:0.742328\n",
      "[1490]\ttrain-mlogloss:0.579982\ttest-mlogloss:0.742313\n",
      "[1500]\ttrain-mlogloss:0.579086\ttest-mlogloss:0.742356\n",
      "[1510]\ttrain-mlogloss:0.57814\ttest-mlogloss:0.742327\n",
      "[1520]\ttrain-mlogloss:0.577239\ttest-mlogloss:0.742356\n",
      "Stopping. Best iteration:\n",
      "[1493]\ttrain-mlogloss:0.579742\ttest-mlogloss:0.742288\n",
      "\n"
     ]
    }
   ],
   "source": [
    "# setup parameters for xgboost\n",
    "param = {}\n",
    "# use softmax multi-class classification\n",
    "param['objective'] = 'multi:softprob'\n",
    "# scale weight of positive examples\n",
    "param['eta'] = 0.01\n",
    "param['max_depth'] = 6\n",
    "param['silent'] = 1\n",
    "param['nthread'] = 4\n",
    "param['num_class'] = 3\n",
    "param['subsample'] = 0.7\n",
    "param['colsample_bytree'] = 0.7\n",
    "param['eval_metric'] = 'mlogloss'\n",
    "\n",
    "bst = {}\n",
    "pred = {}\n",
    "for f in range(5):\n",
    "    \n",
    "    watchlist = [ (xg_train[f],'train'), (xg_test[f], 'test') ]\n",
    "    num_round = 2500\n",
    "    bst[f] = xgb.train(param, xg_train[f], num_round, watchlist , verbose_eval = 10, early_stopping_rounds=30)\n",
    "    # get prediction\n",
    "#    pred[f] = bst.predict( xg_test[f] )\n",
    "    "
   ]
  },
  {
   "cell_type": "code",
   "execution_count": 62,
   "metadata": {
    "collapsed": false
   },
   "outputs": [],
   "source": [
    "prev_train = train_data.copy()"
   ]
  },
  {
   "cell_type": "code",
   "execution_count": 63,
   "metadata": {
    "collapsed": false
   },
   "outputs": [
    {
     "name": "stdout",
     "output_type": "stream",
     "text": [
      "-----------\n",
      "0.744834164117\n",
      "(29899,)\n",
      "(29899, 3)\n",
      "-----------\n",
      "(29899, 3)\n",
      "(29899, 290)\n"
     ]
    },
    {
     "data": {
      "text/plain": [
       "0.7448341641169578"
      ]
     },
     "execution_count": 63,
     "metadata": {},
     "output_type": "execute_result"
    }
   ],
   "source": [
    "from sklearn.metrics import log_loss\n",
    "import sklearn\n",
    "\n",
    "xgb_cv_pred = {}\n",
    "train_data = prev_train.copy()\n",
    "df_preds = []\n",
    "for f in range(5):\n",
    "    xgb_cv_pred[f] = bst[f].predict(xg_test[f], ntree_limit=bst[f].best_ntree_limit)\n",
    "    # Append all DataFrames\n",
    "    df_preds.append(pd.DataFrame(xgb_cv_pred[f]))\n",
    "    df_preds[-1].columns = ['gp_all0', 'gp_all1', 'gp_mixed']\n",
    "    df_preds[-1]['people_group_1'] = train_data.iloc[test_indexes[f]].people_group_1.values\n",
    "    \n",
    "\n",
    "df_preds_all = pd.concat(df_preds)\n",
    "\n",
    "print (\"-----------\")\n",
    "y_tots = []\n",
    "y_prids = []\n",
    "for l in range(5):\n",
    "    y_tots.append(y_test[l])\n",
    "    y_prids.append(xgb_cv_pred[l])\n",
    "\n",
    "y_tots = np.concatenate(y_tots)\n",
    "y_prids = np.concatenate(y_prids)\n",
    "\n",
    "print (log_loss(y_tots,y_prids))\n",
    "print (y_tots.shape)\n",
    "print (y_prids.shape)\n",
    "print (\"-----------\")\n",
    "train_preds = np.array(df_preds_all.sort_values('people_group_1').drop('people_group_1', axis=1))\n",
    "train_data.sort_values('people_group_1',inplace=True)\n",
    "print (train_preds.shape)\n",
    "print (train_data.shape)\n",
    "\n",
    "log_loss(train_data.otype.values, train_preds)"
   ]
  },
  {
   "cell_type": "code",
   "execution_count": 64,
   "metadata": {
    "collapsed": false
   },
   "outputs": [
    {
     "data": {
      "text/html": [
       "<div>\n",
       "<table border=\"1\" class=\"dataframe\">\n",
       "  <thead>\n",
       "    <tr style=\"text-align: right;\">\n",
       "      <th></th>\n",
       "      <th>gp_all0</th>\n",
       "      <th>gp_all1</th>\n",
       "      <th>gp_mixed</th>\n",
       "      <th>people_group_1</th>\n",
       "    </tr>\n",
       "  </thead>\n",
       "  <tbody>\n",
       "    <tr>\n",
       "      <th>0</th>\n",
       "      <td>0.091817</td>\n",
       "      <td>0.730599</td>\n",
       "      <td>0.177584</td>\n",
       "      <td>20178</td>\n",
       "    </tr>\n",
       "    <tr>\n",
       "      <th>1</th>\n",
       "      <td>0.239224</td>\n",
       "      <td>0.428571</td>\n",
       "      <td>0.332205</td>\n",
       "      <td>38568</td>\n",
       "    </tr>\n",
       "    <tr>\n",
       "      <th>2</th>\n",
       "      <td>0.683939</td>\n",
       "      <td>0.141923</td>\n",
       "      <td>0.174138</td>\n",
       "      <td>17737</td>\n",
       "    </tr>\n",
       "    <tr>\n",
       "      <th>3</th>\n",
       "      <td>0.107887</td>\n",
       "      <td>0.643951</td>\n",
       "      <td>0.248162</td>\n",
       "      <td>4482</td>\n",
       "    </tr>\n",
       "    <tr>\n",
       "      <th>4</th>\n",
       "      <td>0.007070</td>\n",
       "      <td>0.857817</td>\n",
       "      <td>0.135113</td>\n",
       "      <td>1265</td>\n",
       "    </tr>\n",
       "  </tbody>\n",
       "</table>\n",
       "</div>"
      ],
      "text/plain": [
       "    gp_all0   gp_all1  gp_mixed  people_group_1\n",
       "0  0.091817  0.730599  0.177584           20178\n",
       "1  0.239224  0.428571  0.332205           38568\n",
       "2  0.683939  0.141923  0.174138           17737\n",
       "3  0.107887  0.643951  0.248162            4482\n",
       "4  0.007070  0.857817  0.135113            1265"
      ]
     },
     "execution_count": 64,
     "metadata": {},
     "output_type": "execute_result"
    }
   ],
   "source": [
    "df_preds_all[:5]"
   ]
  },
  {
   "cell_type": "code",
   "execution_count": 65,
   "metadata": {
    "collapsed": true
   },
   "outputs": [],
   "source": [
    "xg_test_r = xgb.DMatrix(test_data.drop('outcome',axis=1))"
   ]
  },
  {
   "cell_type": "code",
   "execution_count": 66,
   "metadata": {
    "collapsed": false
   },
   "outputs": [],
   "source": [
    "# Get for test\n",
    "test_preds = []\n",
    "for f in range(5):\n",
    "    test_preds.append(bst[f].predict(xg_test_r, ntree_limit = bst[f].best_ntree_limit))\n",
    "    \n",
    "preds_comb = np.mean([test_preds[j] for j in range(1,5)], axis = 0)\n",
    "\n",
    "df_test_preds = pd.DataFrame(preds_comb)\n",
    "df_test_preds.columns = ['gp_all0', 'gp_all1', 'gp_mixed']"
   ]
  },
  {
   "cell_type": "code",
   "execution_count": 67,
   "metadata": {
    "collapsed": true
   },
   "outputs": [],
   "source": [
    "test_data['gp_all0'] = 0\n",
    "test_data['gp_all1'] = 0\n",
    "test_data['gp_mixed'] = 0"
   ]
  },
  {
   "cell_type": "code",
   "execution_count": 68,
   "metadata": {
    "collapsed": false
   },
   "outputs": [],
   "source": [
    "test_data[['gp_all0', 'gp_all1', 'gp_mixed']] = df_test_preds.as_matrix()"
   ]
  },
  {
   "cell_type": "code",
   "execution_count": 69,
   "metadata": {
    "collapsed": false
   },
   "outputs": [
    {
     "name": "stdout",
     "output_type": "stream",
     "text": [
      "((29899, 290), (29899, 4), (4325, 292))\n"
     ]
    }
   ],
   "source": [
    "print (train_data.shape,df_preds_all.shape, test_data.shape)"
   ]
  },
  {
   "cell_type": "code",
   "execution_count": 70,
   "metadata": {
    "collapsed": false
   },
   "outputs": [],
   "source": [
    "train_data = pd.merge(train_data,df_preds_all,on='people_group_1',how='left')"
   ]
  },
  {
   "cell_type": "code",
   "execution_count": 71,
   "metadata": {
    "collapsed": false
   },
   "outputs": [],
   "source": [
    "final_df = pd.concat([test_data,train_data.drop('otype',axis=1)])"
   ]
  },
  {
   "cell_type": "code",
   "execution_count": 72,
   "metadata": {
    "collapsed": false
   },
   "outputs": [
    {
     "data": {
      "text/plain": [
       "(34224, 292)"
      ]
     },
     "execution_count": 72,
     "metadata": {},
     "output_type": "execute_result"
    }
   ],
   "source": [
    "final_df.shape"
   ]
  },
  {
   "cell_type": "code",
   "execution_count": 73,
   "metadata": {
    "collapsed": false
   },
   "outputs": [],
   "source": [
    "new_df = pd.concat([train_data_df,test_data_df])"
   ]
  },
  {
   "cell_type": "code",
   "execution_count": 74,
   "metadata": {
    "collapsed": false
   },
   "outputs": [
    {
     "data": {
      "text/plain": [
       "(1896853, 81)"
      ]
     },
     "execution_count": 74,
     "metadata": {},
     "output_type": "execute_result"
    }
   ],
   "source": [
    "new_df.shape"
   ]
  },
  {
   "cell_type": "code",
   "execution_count": 75,
   "metadata": {
    "collapsed": false
   },
   "outputs": [],
   "source": [
    "final_df_1 = pd.merge(new_df,final_df[['people_group_1','gp_all0', 'gp_all1', 'gp_mixed']],on='people_group_1',how='left')"
   ]
  },
  {
   "cell_type": "code",
   "execution_count": 76,
   "metadata": {
    "collapsed": false
   },
   "outputs": [
    {
     "name": "stdout",
     "output_type": "stream",
     "text": [
      "(1563770, 84) (333083, 84)\n"
     ]
    }
   ],
   "source": [
    "final_train_data_df = final_df_1[~final_df_1['outcome'].isnull()]\n",
    "final_test_data_df = final_df_1[final_df_1['outcome'].isnull()]\n",
    "\n",
    "print final_train_data_df.shape, final_test_data_df.shape"
   ]
  },
  {
   "cell_type": "code",
   "execution_count": 77,
   "metadata": {
    "collapsed": false
   },
   "outputs": [
    {
     "name": "stdout",
     "output_type": "stream",
     "text": [
      "(1398166, 81) (498687, 81)\n"
     ]
    }
   ],
   "source": [
    "print train_data_df.shape, test_data_df.shape"
   ]
  },
  {
   "cell_type": "code",
   "execution_count": 78,
   "metadata": {
    "collapsed": true
   },
   "outputs": [],
   "source": [
    "final_test_data_df.to_pickle(SAVE_AS_DIR+'/test2_otype.pkl')\n",
    "final_train_data_df.to_pickle(SAVE_AS_DIR+'/train2_otype.pkl')"
   ]
  },
  {
   "cell_type": "code",
   "execution_count": null,
   "metadata": {
    "collapsed": true
   },
   "outputs": [],
   "source": [
    "############################################### END ################################################################################################"
   ]
  },
  {
   "cell_type": "code",
   "execution_count": null,
   "metadata": {
    "collapsed": true
   },
   "outputs": [],
   "source": []
  }
 ],
 "metadata": {
  "anaconda-cloud": {},
  "kernelspec": {
   "display_name": "Python [default]",
   "language": "python",
   "name": "python2"
  },
  "language_info": {
   "codemirror_mode": {
    "name": "ipython",
    "version": 2
   },
   "file_extension": ".py",
   "mimetype": "text/x-python",
   "name": "python",
   "nbconvert_exporter": "python",
   "pygments_lexer": "ipython2",
   "version": "2.7.12"
  }
 },
 "nbformat": 4,
 "nbformat_minor": 2
}
